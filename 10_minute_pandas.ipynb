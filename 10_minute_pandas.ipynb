{
 "cells": [
  {
   "cell_type": "code",
   "execution_count": 355,
   "metadata": {},
   "outputs": [],
   "source": [
    "import numpy as np\n",
    "import pandas as pd\n",
    "import matplotlib.pyplot as plt\n"
   ]
  },
  {
   "cell_type": "code",
   "execution_count": 356,
   "metadata": {},
   "outputs": [
    {
     "data": {
      "text/plain": [
       "0    1.0\n",
       "1    3.0\n",
       "2    5.0\n",
       "3    NaN\n",
       "4    6.0\n",
       "5    8.0\n",
       "dtype: float64"
      ]
     },
     "execution_count": 356,
     "metadata": {},
     "output_type": "execute_result"
    }
   ],
   "source": [
    "s = pd.Series([1, 3, 5, np.nan, 6, 8])\n",
    "s\n"
   ]
  },
  {
   "cell_type": "code",
   "execution_count": 357,
   "metadata": {},
   "outputs": [
    {
     "data": {
      "text/plain": [
       "DatetimeIndex(['2013-01-01', '2013-01-02', '2013-01-03', '2013-01-04',\n",
       "               '2013-01-05', '2013-01-06'],\n",
       "              dtype='datetime64[ns]', freq='D')"
      ]
     },
     "execution_count": 357,
     "metadata": {},
     "output_type": "execute_result"
    }
   ],
   "source": [
    "dates = pd.date_range('20130101', periods=6)\n",
    "dates\n"
   ]
  },
  {
   "cell_type": "code",
   "execution_count": 358,
   "metadata": {},
   "outputs": [
    {
     "data": {
      "text/html": [
       "<div>\n",
       "<style scoped>\n",
       "    .dataframe tbody tr th:only-of-type {\n",
       "        vertical-align: middle;\n",
       "    }\n",
       "\n",
       "    .dataframe tbody tr th {\n",
       "        vertical-align: top;\n",
       "    }\n",
       "\n",
       "    .dataframe thead th {\n",
       "        text-align: right;\n",
       "    }\n",
       "</style>\n",
       "<table border=\"1\" class=\"dataframe\">\n",
       "  <thead>\n",
       "    <tr style=\"text-align: right;\">\n",
       "      <th></th>\n",
       "      <th>A</th>\n",
       "      <th>B</th>\n",
       "      <th>C</th>\n",
       "      <th>D</th>\n",
       "    </tr>\n",
       "  </thead>\n",
       "  <tbody>\n",
       "    <tr>\n",
       "      <th>2013-01-01</th>\n",
       "      <td>0.004610</td>\n",
       "      <td>-0.082374</td>\n",
       "      <td>-1.641580</td>\n",
       "      <td>0.242034</td>\n",
       "    </tr>\n",
       "    <tr>\n",
       "      <th>2013-01-02</th>\n",
       "      <td>0.115644</td>\n",
       "      <td>-0.266280</td>\n",
       "      <td>1.035327</td>\n",
       "      <td>-1.383326</td>\n",
       "    </tr>\n",
       "    <tr>\n",
       "      <th>2013-01-03</th>\n",
       "      <td>-1.125347</td>\n",
       "      <td>0.323424</td>\n",
       "      <td>-0.638049</td>\n",
       "      <td>0.762301</td>\n",
       "    </tr>\n",
       "    <tr>\n",
       "      <th>2013-01-04</th>\n",
       "      <td>-0.876992</td>\n",
       "      <td>0.161976</td>\n",
       "      <td>0.953200</td>\n",
       "      <td>-0.344498</td>\n",
       "    </tr>\n",
       "    <tr>\n",
       "      <th>2013-01-05</th>\n",
       "      <td>0.632931</td>\n",
       "      <td>0.925766</td>\n",
       "      <td>-0.151015</td>\n",
       "      <td>0.454365</td>\n",
       "    </tr>\n",
       "    <tr>\n",
       "      <th>2013-01-06</th>\n",
       "      <td>-2.537890</td>\n",
       "      <td>0.341461</td>\n",
       "      <td>0.049185</td>\n",
       "      <td>1.794655</td>\n",
       "    </tr>\n",
       "  </tbody>\n",
       "</table>\n",
       "</div>"
      ],
      "text/plain": [
       "                   A         B         C         D\n",
       "2013-01-01  0.004610 -0.082374 -1.641580  0.242034\n",
       "2013-01-02  0.115644 -0.266280  1.035327 -1.383326\n",
       "2013-01-03 -1.125347  0.323424 -0.638049  0.762301\n",
       "2013-01-04 -0.876992  0.161976  0.953200 -0.344498\n",
       "2013-01-05  0.632931  0.925766 -0.151015  0.454365\n",
       "2013-01-06 -2.537890  0.341461  0.049185  1.794655"
      ]
     },
     "execution_count": 358,
     "metadata": {},
     "output_type": "execute_result"
    }
   ],
   "source": [
    "df = pd.DataFrame(np.random.randn(6, 4), index=dates, columns=list('ABCD'))\n",
    "df\n"
   ]
  },
  {
   "cell_type": "code",
   "execution_count": 359,
   "metadata": {},
   "outputs": [
    {
     "data": {
      "text/html": [
       "<div>\n",
       "<style scoped>\n",
       "    .dataframe tbody tr th:only-of-type {\n",
       "        vertical-align: middle;\n",
       "    }\n",
       "\n",
       "    .dataframe tbody tr th {\n",
       "        vertical-align: top;\n",
       "    }\n",
       "\n",
       "    .dataframe thead th {\n",
       "        text-align: right;\n",
       "    }\n",
       "</style>\n",
       "<table border=\"1\" class=\"dataframe\">\n",
       "  <thead>\n",
       "    <tr style=\"text-align: right;\">\n",
       "      <th></th>\n",
       "      <th>A</th>\n",
       "      <th>B</th>\n",
       "      <th>C</th>\n",
       "      <th>D</th>\n",
       "      <th>E</th>\n",
       "      <th>F</th>\n",
       "    </tr>\n",
       "  </thead>\n",
       "  <tbody>\n",
       "    <tr>\n",
       "      <th>0</th>\n",
       "      <td>1.0</td>\n",
       "      <td>2013-01-02</td>\n",
       "      <td>1.0</td>\n",
       "      <td>3</td>\n",
       "      <td>test</td>\n",
       "      <td>foo</td>\n",
       "    </tr>\n",
       "    <tr>\n",
       "      <th>1</th>\n",
       "      <td>1.0</td>\n",
       "      <td>2013-01-02</td>\n",
       "      <td>1.0</td>\n",
       "      <td>3</td>\n",
       "      <td>train</td>\n",
       "      <td>foo</td>\n",
       "    </tr>\n",
       "    <tr>\n",
       "      <th>2</th>\n",
       "      <td>1.0</td>\n",
       "      <td>2013-01-02</td>\n",
       "      <td>1.0</td>\n",
       "      <td>3</td>\n",
       "      <td>test</td>\n",
       "      <td>foo</td>\n",
       "    </tr>\n",
       "    <tr>\n",
       "      <th>3</th>\n",
       "      <td>1.0</td>\n",
       "      <td>2013-01-02</td>\n",
       "      <td>1.0</td>\n",
       "      <td>3</td>\n",
       "      <td>train</td>\n",
       "      <td>foo</td>\n",
       "    </tr>\n",
       "  </tbody>\n",
       "</table>\n",
       "</div>"
      ],
      "text/plain": [
       "     A          B    C  D      E    F\n",
       "0  1.0 2013-01-02  1.0  3   test  foo\n",
       "1  1.0 2013-01-02  1.0  3  train  foo\n",
       "2  1.0 2013-01-02  1.0  3   test  foo\n",
       "3  1.0 2013-01-02  1.0  3  train  foo"
      ]
     },
     "execution_count": 359,
     "metadata": {},
     "output_type": "execute_result"
    }
   ],
   "source": [
    "df2 = pd.DataFrame(\n",
    "    {\n",
    "        'A': 1.0,\n",
    "        'B': pd.Timestamp('20130102'),\n",
    "        'C': pd.Series(1, index=list(range(4)), dtype='float32'),\n",
    "        'D': np.array([3] * 4, dtype='int32'),\n",
    "        'E': pd.Categorical(['test', 'train', 'test', 'train']),\n",
    "        'F': 'foo',\n",
    "    }\n",
    ")\n",
    "\n",
    "df2\n"
   ]
  },
  {
   "cell_type": "code",
   "execution_count": 360,
   "metadata": {},
   "outputs": [
    {
     "data": {
      "text/plain": [
       "A           float64\n",
       "B    datetime64[ns]\n",
       "C           float32\n",
       "D             int32\n",
       "E          category\n",
       "F            object\n",
       "dtype: object"
      ]
     },
     "execution_count": 360,
     "metadata": {},
     "output_type": "execute_result"
    }
   ],
   "source": [
    "df2.dtypes\n"
   ]
  },
  {
   "cell_type": "code",
   "execution_count": 361,
   "metadata": {},
   "outputs": [
    {
     "data": {
      "text/plain": [
       "['A',\n",
       " 'B',\n",
       " 'C',\n",
       " 'D',\n",
       " 'E',\n",
       " 'F',\n",
       " 'T',\n",
       " '_AXIS_LEN',\n",
       " '_AXIS_ORDERS',\n",
       " '_AXIS_TO_AXIS_NUMBER',\n",
       " '_HANDLED_TYPES',\n",
       " '__abs__',\n",
       " '__add__',\n",
       " '__and__',\n",
       " '__annotations__',\n",
       " '__array__',\n",
       " '__array_priority__',\n",
       " '__array_ufunc__',\n",
       " '__array_wrap__',\n",
       " '__bool__',\n",
       " '__class__',\n",
       " '__contains__',\n",
       " '__copy__',\n",
       " '__deepcopy__',\n",
       " '__delattr__',\n",
       " '__delitem__',\n",
       " '__dict__',\n",
       " '__dir__',\n",
       " '__divmod__',\n",
       " '__doc__',\n",
       " '__eq__',\n",
       " '__finalize__',\n",
       " '__floordiv__',\n",
       " '__format__',\n",
       " '__ge__',\n",
       " '__getattr__',\n",
       " '__getattribute__',\n",
       " '__getitem__',\n",
       " '__getstate__',\n",
       " '__gt__',\n",
       " '__hash__',\n",
       " '__iadd__',\n",
       " '__iand__',\n",
       " '__ifloordiv__',\n",
       " '__imod__',\n",
       " '__imul__',\n",
       " '__init__',\n",
       " '__init_subclass__',\n",
       " '__invert__',\n",
       " '__ior__',\n",
       " '__ipow__',\n",
       " '__isub__',\n",
       " '__iter__',\n",
       " '__itruediv__',\n",
       " '__ixor__',\n",
       " '__le__',\n",
       " '__len__',\n",
       " '__lt__',\n",
       " '__matmul__',\n",
       " '__mod__',\n",
       " '__module__',\n",
       " '__mul__',\n",
       " '__ne__',\n",
       " '__neg__',\n",
       " '__new__',\n",
       " '__nonzero__',\n",
       " '__or__',\n",
       " '__pos__',\n",
       " '__pow__',\n",
       " '__radd__',\n",
       " '__rand__',\n",
       " '__rdivmod__',\n",
       " '__reduce__',\n",
       " '__reduce_ex__',\n",
       " '__repr__',\n",
       " '__rfloordiv__',\n",
       " '__rmatmul__',\n",
       " '__rmod__',\n",
       " '__rmul__',\n",
       " '__ror__',\n",
       " '__round__',\n",
       " '__rpow__',\n",
       " '__rsub__',\n",
       " '__rtruediv__',\n",
       " '__rxor__',\n",
       " '__setattr__',\n",
       " '__setitem__',\n",
       " '__setstate__',\n",
       " '__sizeof__',\n",
       " '__str__',\n",
       " '__sub__',\n",
       " '__subclasshook__',\n",
       " '__truediv__',\n",
       " '__weakref__',\n",
       " '__xor__',\n",
       " '_accessors',\n",
       " '_accum_func',\n",
       " '_add_numeric_operations',\n",
       " '_agg_by_level',\n",
       " '_agg_examples_doc',\n",
       " '_agg_summary_and_see_also_doc',\n",
       " '_align_frame',\n",
       " '_align_series',\n",
       " '_append',\n",
       " '_arith_method',\n",
       " '_as_manager',\n",
       " '_attrs',\n",
       " '_box_col_values',\n",
       " '_can_fast_transpose',\n",
       " '_check_inplace_and_allows_duplicate_labels',\n",
       " '_check_inplace_setting',\n",
       " '_check_is_chained_assignment_possible',\n",
       " '_check_label_or_level_ambiguity',\n",
       " '_check_setitem_copy',\n",
       " '_clear_item_cache',\n",
       " '_clip_with_one_bound',\n",
       " '_clip_with_scalar',\n",
       " '_cmp_method',\n",
       " '_combine_frame',\n",
       " '_consolidate',\n",
       " '_consolidate_inplace',\n",
       " '_construct_axes_dict',\n",
       " '_construct_axes_from_arguments',\n",
       " '_construct_result',\n",
       " '_constructor',\n",
       " '_constructor_sliced',\n",
       " '_convert',\n",
       " '_count_level',\n",
       " '_data',\n",
       " '_dir_additions',\n",
       " '_dir_deletions',\n",
       " '_dispatch_frame_op',\n",
       " '_drop_axis',\n",
       " '_drop_labels_or_levels',\n",
       " '_ensure_valid_index',\n",
       " '_find_valid_index',\n",
       " '_flags',\n",
       " '_from_arrays',\n",
       " '_from_mgr',\n",
       " '_get_agg_axis',\n",
       " '_get_axis',\n",
       " '_get_axis_name',\n",
       " '_get_axis_number',\n",
       " '_get_axis_resolvers',\n",
       " '_get_block_manager_axis',\n",
       " '_get_bool_data',\n",
       " '_get_cleaned_column_resolvers',\n",
       " '_get_column_array',\n",
       " '_get_index_resolvers',\n",
       " '_get_item_cache',\n",
       " '_get_label_or_level_values',\n",
       " '_get_numeric_data',\n",
       " '_get_value',\n",
       " '_getitem_bool_array',\n",
       " '_getitem_multilevel',\n",
       " '_gotitem',\n",
       " '_hidden_attrs',\n",
       " '_indexed_same',\n",
       " '_info_axis',\n",
       " '_info_axis_name',\n",
       " '_info_axis_number',\n",
       " '_info_repr',\n",
       " '_init_mgr',\n",
       " '_inplace_method',\n",
       " '_internal_names',\n",
       " '_internal_names_set',\n",
       " '_is_copy',\n",
       " '_is_homogeneous_type',\n",
       " '_is_label_or_level_reference',\n",
       " '_is_label_reference',\n",
       " '_is_level_reference',\n",
       " '_is_mixed_type',\n",
       " '_is_view',\n",
       " '_iset_item',\n",
       " '_iset_item_mgr',\n",
       " '_iset_not_inplace',\n",
       " '_item_cache',\n",
       " '_iter_column_arrays',\n",
       " '_ixs',\n",
       " '_join_compat',\n",
       " '_logical_func',\n",
       " '_logical_method',\n",
       " '_maybe_cache_changed',\n",
       " '_maybe_update_cacher',\n",
       " '_metadata',\n",
       " '_mgr',\n",
       " '_min_count_stat_function',\n",
       " '_needs_reindex_multi',\n",
       " '_protect_consolidate',\n",
       " '_reduce',\n",
       " '_reduce_axis1',\n",
       " '_reindex_axes',\n",
       " '_reindex_columns',\n",
       " '_reindex_index',\n",
       " '_reindex_multi',\n",
       " '_reindex_with_indexers',\n",
       " '_rename',\n",
       " '_replace_columnwise',\n",
       " '_repr_data_resource_',\n",
       " '_repr_fits_horizontal_',\n",
       " '_repr_fits_vertical_',\n",
       " '_repr_html_',\n",
       " '_repr_latex_',\n",
       " '_reset_cache',\n",
       " '_reset_cacher',\n",
       " '_sanitize_column',\n",
       " '_series',\n",
       " '_set_axis',\n",
       " '_set_axis_name',\n",
       " '_set_axis_nocheck',\n",
       " '_set_is_copy',\n",
       " '_set_item',\n",
       " '_set_item_frame_value',\n",
       " '_set_item_mgr',\n",
       " '_set_value',\n",
       " '_setitem_array',\n",
       " '_setitem_frame',\n",
       " '_setitem_slice',\n",
       " '_slice',\n",
       " '_stat_axis',\n",
       " '_stat_axis_name',\n",
       " '_stat_axis_number',\n",
       " '_stat_function',\n",
       " '_stat_function_ddof',\n",
       " '_take_with_is_copy',\n",
       " '_to_dict_of_blocks',\n",
       " '_typ',\n",
       " '_update_inplace',\n",
       " '_validate_dtype',\n",
       " '_values',\n",
       " '_where',\n",
       " 'abs',\n",
       " 'add',\n",
       " 'add_prefix',\n",
       " 'add_suffix',\n",
       " 'agg',\n",
       " 'aggregate',\n",
       " 'align',\n",
       " 'all',\n",
       " 'any',\n",
       " 'append',\n",
       " 'apply',\n",
       " 'applymap',\n",
       " 'asfreq',\n",
       " 'asof',\n",
       " 'assign',\n",
       " 'astype',\n",
       " 'at',\n",
       " 'at_time',\n",
       " 'attrs',\n",
       " 'axes',\n",
       " 'backfill',\n",
       " 'between_time',\n",
       " 'bfill',\n",
       " 'bool',\n",
       " 'boxplot',\n",
       " 'clip',\n",
       " 'columns',\n",
       " 'combine',\n",
       " 'combine_first',\n",
       " 'compare',\n",
       " 'convert_dtypes',\n",
       " 'copy',\n",
       " 'corr',\n",
       " 'corrwith',\n",
       " 'count',\n",
       " 'cov',\n",
       " 'cummax',\n",
       " 'cummin',\n",
       " 'cumprod',\n",
       " 'cumsum',\n",
       " 'describe',\n",
       " 'diff',\n",
       " 'div',\n",
       " 'divide',\n",
       " 'dot',\n",
       " 'drop',\n",
       " 'drop_duplicates',\n",
       " 'droplevel',\n",
       " 'dropna',\n",
       " 'dtypes',\n",
       " 'duplicated',\n",
       " 'empty',\n",
       " 'eq',\n",
       " 'equals',\n",
       " 'eval',\n",
       " 'ewm',\n",
       " 'expanding',\n",
       " 'explode',\n",
       " 'ffill',\n",
       " 'fillna',\n",
       " 'filter',\n",
       " 'first',\n",
       " 'first_valid_index',\n",
       " 'flags',\n",
       " 'floordiv',\n",
       " 'from_dict',\n",
       " 'from_records',\n",
       " 'ge',\n",
       " 'get',\n",
       " 'groupby',\n",
       " 'gt',\n",
       " 'head',\n",
       " 'hist',\n",
       " 'iat',\n",
       " 'idxmax',\n",
       " 'idxmin',\n",
       " 'iloc',\n",
       " 'index',\n",
       " 'infer_objects',\n",
       " 'info',\n",
       " 'insert',\n",
       " 'interpolate',\n",
       " 'isin',\n",
       " 'isna',\n",
       " 'isnull',\n",
       " 'items',\n",
       " 'iteritems',\n",
       " 'iterrows',\n",
       " 'itertuples',\n",
       " 'join',\n",
       " 'keys',\n",
       " 'kurt',\n",
       " 'kurtosis',\n",
       " 'last',\n",
       " 'last_valid_index',\n",
       " 'le',\n",
       " 'loc',\n",
       " 'lookup',\n",
       " 'lt',\n",
       " 'mad',\n",
       " 'mask',\n",
       " 'max',\n",
       " 'mean',\n",
       " 'median',\n",
       " 'melt',\n",
       " 'memory_usage',\n",
       " 'merge',\n",
       " 'min',\n",
       " 'mod',\n",
       " 'mode',\n",
       " 'mul',\n",
       " 'multiply',\n",
       " 'ndim',\n",
       " 'ne',\n",
       " 'nlargest',\n",
       " 'notna',\n",
       " 'notnull',\n",
       " 'nsmallest',\n",
       " 'nunique',\n",
       " 'pad',\n",
       " 'pct_change',\n",
       " 'pipe',\n",
       " 'pivot',\n",
       " 'pivot_table',\n",
       " 'plot',\n",
       " 'pop',\n",
       " 'pow',\n",
       " 'prod',\n",
       " 'product',\n",
       " 'quantile',\n",
       " 'query',\n",
       " 'radd',\n",
       " 'rank',\n",
       " 'rdiv',\n",
       " 'reindex',\n",
       " 'reindex_like',\n",
       " 'rename',\n",
       " 'rename_axis',\n",
       " 'reorder_levels',\n",
       " 'replace',\n",
       " 'resample',\n",
       " 'reset_index',\n",
       " 'rfloordiv',\n",
       " 'rmod',\n",
       " 'rmul',\n",
       " 'rolling',\n",
       " 'round',\n",
       " 'rpow',\n",
       " 'rsub',\n",
       " 'rtruediv',\n",
       " 'sample',\n",
       " 'select_dtypes',\n",
       " 'sem',\n",
       " 'set_axis',\n",
       " 'set_flags',\n",
       " 'set_index',\n",
       " 'shape',\n",
       " 'shift',\n",
       " 'size',\n",
       " 'skew',\n",
       " 'slice_shift',\n",
       " 'sort_index',\n",
       " 'sort_values',\n",
       " 'squeeze',\n",
       " 'stack',\n",
       " 'std',\n",
       " 'style',\n",
       " 'sub',\n",
       " 'subtract',\n",
       " 'sum',\n",
       " 'swapaxes',\n",
       " 'swaplevel',\n",
       " 'tail',\n",
       " 'take',\n",
       " 'to_clipboard',\n",
       " 'to_csv',\n",
       " 'to_dict',\n",
       " 'to_excel',\n",
       " 'to_feather',\n",
       " 'to_gbq',\n",
       " 'to_hdf',\n",
       " 'to_html',\n",
       " 'to_json',\n",
       " 'to_latex',\n",
       " 'to_markdown',\n",
       " 'to_numpy',\n",
       " 'to_parquet',\n",
       " 'to_period',\n",
       " 'to_pickle',\n",
       " 'to_records',\n",
       " 'to_sql',\n",
       " 'to_stata',\n",
       " 'to_string',\n",
       " 'to_timestamp',\n",
       " 'to_xarray',\n",
       " 'to_xml',\n",
       " 'transform',\n",
       " 'transpose',\n",
       " 'truediv',\n",
       " 'truncate',\n",
       " 'tz_convert',\n",
       " 'tz_localize',\n",
       " 'unstack',\n",
       " 'update',\n",
       " 'value_counts',\n",
       " 'values',\n",
       " 'var',\n",
       " 'where',\n",
       " 'xs']"
      ]
     },
     "execution_count": 361,
     "metadata": {},
     "output_type": "execute_result"
    }
   ],
   "source": [
    "dir(df2)\n"
   ]
  },
  {
   "cell_type": "code",
   "execution_count": 362,
   "metadata": {},
   "outputs": [
    {
     "data": {
      "text/html": [
       "<div>\n",
       "<style scoped>\n",
       "    .dataframe tbody tr th:only-of-type {\n",
       "        vertical-align: middle;\n",
       "    }\n",
       "\n",
       "    .dataframe tbody tr th {\n",
       "        vertical-align: top;\n",
       "    }\n",
       "\n",
       "    .dataframe thead th {\n",
       "        text-align: right;\n",
       "    }\n",
       "</style>\n",
       "<table border=\"1\" class=\"dataframe\">\n",
       "  <thead>\n",
       "    <tr style=\"text-align: right;\">\n",
       "      <th></th>\n",
       "      <th>A</th>\n",
       "      <th>B</th>\n",
       "      <th>C</th>\n",
       "      <th>D</th>\n",
       "    </tr>\n",
       "  </thead>\n",
       "  <tbody>\n",
       "    <tr>\n",
       "      <th>2013-01-01</th>\n",
       "      <td>0.004610</td>\n",
       "      <td>-0.082374</td>\n",
       "      <td>-1.641580</td>\n",
       "      <td>0.242034</td>\n",
       "    </tr>\n",
       "    <tr>\n",
       "      <th>2013-01-02</th>\n",
       "      <td>0.115644</td>\n",
       "      <td>-0.266280</td>\n",
       "      <td>1.035327</td>\n",
       "      <td>-1.383326</td>\n",
       "    </tr>\n",
       "    <tr>\n",
       "      <th>2013-01-03</th>\n",
       "      <td>-1.125347</td>\n",
       "      <td>0.323424</td>\n",
       "      <td>-0.638049</td>\n",
       "      <td>0.762301</td>\n",
       "    </tr>\n",
       "    <tr>\n",
       "      <th>2013-01-04</th>\n",
       "      <td>-0.876992</td>\n",
       "      <td>0.161976</td>\n",
       "      <td>0.953200</td>\n",
       "      <td>-0.344498</td>\n",
       "    </tr>\n",
       "    <tr>\n",
       "      <th>2013-01-05</th>\n",
       "      <td>0.632931</td>\n",
       "      <td>0.925766</td>\n",
       "      <td>-0.151015</td>\n",
       "      <td>0.454365</td>\n",
       "    </tr>\n",
       "  </tbody>\n",
       "</table>\n",
       "</div>"
      ],
      "text/plain": [
       "                   A         B         C         D\n",
       "2013-01-01  0.004610 -0.082374 -1.641580  0.242034\n",
       "2013-01-02  0.115644 -0.266280  1.035327 -1.383326\n",
       "2013-01-03 -1.125347  0.323424 -0.638049  0.762301\n",
       "2013-01-04 -0.876992  0.161976  0.953200 -0.344498\n",
       "2013-01-05  0.632931  0.925766 -0.151015  0.454365"
      ]
     },
     "execution_count": 362,
     "metadata": {},
     "output_type": "execute_result"
    }
   ],
   "source": [
    "df.head()\n"
   ]
  },
  {
   "cell_type": "code",
   "execution_count": 363,
   "metadata": {},
   "outputs": [
    {
     "data": {
      "text/html": [
       "<div>\n",
       "<style scoped>\n",
       "    .dataframe tbody tr th:only-of-type {\n",
       "        vertical-align: middle;\n",
       "    }\n",
       "\n",
       "    .dataframe tbody tr th {\n",
       "        vertical-align: top;\n",
       "    }\n",
       "\n",
       "    .dataframe thead th {\n",
       "        text-align: right;\n",
       "    }\n",
       "</style>\n",
       "<table border=\"1\" class=\"dataframe\">\n",
       "  <thead>\n",
       "    <tr style=\"text-align: right;\">\n",
       "      <th></th>\n",
       "      <th>A</th>\n",
       "      <th>B</th>\n",
       "      <th>C</th>\n",
       "      <th>D</th>\n",
       "    </tr>\n",
       "  </thead>\n",
       "  <tbody>\n",
       "    <tr>\n",
       "      <th>2013-01-02</th>\n",
       "      <td>0.115644</td>\n",
       "      <td>-0.266280</td>\n",
       "      <td>1.035327</td>\n",
       "      <td>-1.383326</td>\n",
       "    </tr>\n",
       "    <tr>\n",
       "      <th>2013-01-03</th>\n",
       "      <td>-1.125347</td>\n",
       "      <td>0.323424</td>\n",
       "      <td>-0.638049</td>\n",
       "      <td>0.762301</td>\n",
       "    </tr>\n",
       "    <tr>\n",
       "      <th>2013-01-04</th>\n",
       "      <td>-0.876992</td>\n",
       "      <td>0.161976</td>\n",
       "      <td>0.953200</td>\n",
       "      <td>-0.344498</td>\n",
       "    </tr>\n",
       "    <tr>\n",
       "      <th>2013-01-05</th>\n",
       "      <td>0.632931</td>\n",
       "      <td>0.925766</td>\n",
       "      <td>-0.151015</td>\n",
       "      <td>0.454365</td>\n",
       "    </tr>\n",
       "    <tr>\n",
       "      <th>2013-01-06</th>\n",
       "      <td>-2.537890</td>\n",
       "      <td>0.341461</td>\n",
       "      <td>0.049185</td>\n",
       "      <td>1.794655</td>\n",
       "    </tr>\n",
       "  </tbody>\n",
       "</table>\n",
       "</div>"
      ],
      "text/plain": [
       "                   A         B         C         D\n",
       "2013-01-02  0.115644 -0.266280  1.035327 -1.383326\n",
       "2013-01-03 -1.125347  0.323424 -0.638049  0.762301\n",
       "2013-01-04 -0.876992  0.161976  0.953200 -0.344498\n",
       "2013-01-05  0.632931  0.925766 -0.151015  0.454365\n",
       "2013-01-06 -2.537890  0.341461  0.049185  1.794655"
      ]
     },
     "execution_count": 363,
     "metadata": {},
     "output_type": "execute_result"
    }
   ],
   "source": [
    "df.tail()\n"
   ]
  },
  {
   "cell_type": "code",
   "execution_count": 364,
   "metadata": {},
   "outputs": [
    {
     "data": {
      "text/html": [
       "<div>\n",
       "<style scoped>\n",
       "    .dataframe tbody tr th:only-of-type {\n",
       "        vertical-align: middle;\n",
       "    }\n",
       "\n",
       "    .dataframe tbody tr th {\n",
       "        vertical-align: top;\n",
       "    }\n",
       "\n",
       "    .dataframe thead th {\n",
       "        text-align: right;\n",
       "    }\n",
       "</style>\n",
       "<table border=\"1\" class=\"dataframe\">\n",
       "  <thead>\n",
       "    <tr style=\"text-align: right;\">\n",
       "      <th></th>\n",
       "      <th>A</th>\n",
       "      <th>B</th>\n",
       "      <th>C</th>\n",
       "      <th>D</th>\n",
       "    </tr>\n",
       "  </thead>\n",
       "  <tbody>\n",
       "    <tr>\n",
       "      <th>2013-01-04</th>\n",
       "      <td>-0.876992</td>\n",
       "      <td>0.161976</td>\n",
       "      <td>0.953200</td>\n",
       "      <td>-0.344498</td>\n",
       "    </tr>\n",
       "    <tr>\n",
       "      <th>2013-01-05</th>\n",
       "      <td>0.632931</td>\n",
       "      <td>0.925766</td>\n",
       "      <td>-0.151015</td>\n",
       "      <td>0.454365</td>\n",
       "    </tr>\n",
       "    <tr>\n",
       "      <th>2013-01-06</th>\n",
       "      <td>-2.537890</td>\n",
       "      <td>0.341461</td>\n",
       "      <td>0.049185</td>\n",
       "      <td>1.794655</td>\n",
       "    </tr>\n",
       "  </tbody>\n",
       "</table>\n",
       "</div>"
      ],
      "text/plain": [
       "                   A         B         C         D\n",
       "2013-01-04 -0.876992  0.161976  0.953200 -0.344498\n",
       "2013-01-05  0.632931  0.925766 -0.151015  0.454365\n",
       "2013-01-06 -2.537890  0.341461  0.049185  1.794655"
      ]
     },
     "execution_count": 364,
     "metadata": {},
     "output_type": "execute_result"
    }
   ],
   "source": [
    "df.tail(3)\n"
   ]
  },
  {
   "cell_type": "code",
   "execution_count": 365,
   "metadata": {},
   "outputs": [
    {
     "data": {
      "text/plain": [
       "DatetimeIndex(['2013-01-01', '2013-01-02', '2013-01-03', '2013-01-04',\n",
       "               '2013-01-05', '2013-01-06'],\n",
       "              dtype='datetime64[ns]', freq='D')"
      ]
     },
     "execution_count": 365,
     "metadata": {},
     "output_type": "execute_result"
    }
   ],
   "source": [
    "df.index\n"
   ]
  },
  {
   "cell_type": "code",
   "execution_count": 366,
   "metadata": {
    "notebookRunGroups": {
     "groupValue": ""
    }
   },
   "outputs": [
    {
     "data": {
      "text/plain": [
       "Index(['A', 'B', 'C', 'D'], dtype='object')"
      ]
     },
     "execution_count": 366,
     "metadata": {},
     "output_type": "execute_result"
    }
   ],
   "source": [
    "df.columns\n"
   ]
  },
  {
   "cell_type": "code",
   "execution_count": 367,
   "metadata": {},
   "outputs": [
    {
     "data": {
      "text/plain": [
       "array([[ 0.00460991, -0.08237367, -1.64157975,  0.24203392],\n",
       "       [ 0.11564388, -0.26628007,  1.03532726, -1.38332633],\n",
       "       [-1.12534746,  0.3234238 , -0.63804884,  0.76230079],\n",
       "       [-0.87699223,  0.16197645,  0.95319956, -0.34449771],\n",
       "       [ 0.63293058,  0.9257662 , -0.15101508,  0.45436531],\n",
       "       [-2.53789019,  0.34146149,  0.04918476,  1.79465506]])"
      ]
     },
     "execution_count": 367,
     "metadata": {},
     "output_type": "execute_result"
    }
   ],
   "source": [
    "df.values\n"
   ]
  },
  {
   "cell_type": "code",
   "execution_count": 368,
   "metadata": {},
   "outputs": [
    {
     "data": {
      "text/html": [
       "<div>\n",
       "<style scoped>\n",
       "    .dataframe tbody tr th:only-of-type {\n",
       "        vertical-align: middle;\n",
       "    }\n",
       "\n",
       "    .dataframe tbody tr th {\n",
       "        vertical-align: top;\n",
       "    }\n",
       "\n",
       "    .dataframe thead th {\n",
       "        text-align: right;\n",
       "    }\n",
       "</style>\n",
       "<table border=\"1\" class=\"dataframe\">\n",
       "  <thead>\n",
       "    <tr style=\"text-align: right;\">\n",
       "      <th></th>\n",
       "      <th>A</th>\n",
       "      <th>B</th>\n",
       "      <th>C</th>\n",
       "      <th>D</th>\n",
       "    </tr>\n",
       "  </thead>\n",
       "  <tbody>\n",
       "    <tr>\n",
       "      <th>count</th>\n",
       "      <td>6.000000</td>\n",
       "      <td>6.000000</td>\n",
       "      <td>6.000000</td>\n",
       "      <td>6.000000</td>\n",
       "    </tr>\n",
       "    <tr>\n",
       "      <th>mean</th>\n",
       "      <td>-0.631174</td>\n",
       "      <td>0.233996</td>\n",
       "      <td>-0.065489</td>\n",
       "      <td>0.254255</td>\n",
       "    </tr>\n",
       "    <tr>\n",
       "      <th>std</th>\n",
       "      <td>1.140186</td>\n",
       "      <td>0.413194</td>\n",
       "      <td>1.008154</td>\n",
       "      <td>1.068767</td>\n",
       "    </tr>\n",
       "    <tr>\n",
       "      <th>min</th>\n",
       "      <td>-2.537890</td>\n",
       "      <td>-0.266280</td>\n",
       "      <td>-1.641580</td>\n",
       "      <td>-1.383326</td>\n",
       "    </tr>\n",
       "    <tr>\n",
       "      <th>25%</th>\n",
       "      <td>-1.063259</td>\n",
       "      <td>-0.021286</td>\n",
       "      <td>-0.516290</td>\n",
       "      <td>-0.197865</td>\n",
       "    </tr>\n",
       "    <tr>\n",
       "      <th>50%</th>\n",
       "      <td>-0.436191</td>\n",
       "      <td>0.242700</td>\n",
       "      <td>-0.050915</td>\n",
       "      <td>0.348200</td>\n",
       "    </tr>\n",
       "    <tr>\n",
       "      <th>75%</th>\n",
       "      <td>0.087885</td>\n",
       "      <td>0.336952</td>\n",
       "      <td>0.727196</td>\n",
       "      <td>0.685317</td>\n",
       "    </tr>\n",
       "    <tr>\n",
       "      <th>max</th>\n",
       "      <td>0.632931</td>\n",
       "      <td>0.925766</td>\n",
       "      <td>1.035327</td>\n",
       "      <td>1.794655</td>\n",
       "    </tr>\n",
       "  </tbody>\n",
       "</table>\n",
       "</div>"
      ],
      "text/plain": [
       "              A         B         C         D\n",
       "count  6.000000  6.000000  6.000000  6.000000\n",
       "mean  -0.631174  0.233996 -0.065489  0.254255\n",
       "std    1.140186  0.413194  1.008154  1.068767\n",
       "min   -2.537890 -0.266280 -1.641580 -1.383326\n",
       "25%   -1.063259 -0.021286 -0.516290 -0.197865\n",
       "50%   -0.436191  0.242700 -0.050915  0.348200\n",
       "75%    0.087885  0.336952  0.727196  0.685317\n",
       "max    0.632931  0.925766  1.035327  1.794655"
      ]
     },
     "execution_count": 368,
     "metadata": {},
     "output_type": "execute_result"
    }
   ],
   "source": [
    "df.describe()\n"
   ]
  },
  {
   "cell_type": "code",
   "execution_count": 369,
   "metadata": {},
   "outputs": [
    {
     "data": {
      "text/html": [
       "<div>\n",
       "<style scoped>\n",
       "    .dataframe tbody tr th:only-of-type {\n",
       "        vertical-align: middle;\n",
       "    }\n",
       "\n",
       "    .dataframe tbody tr th {\n",
       "        vertical-align: top;\n",
       "    }\n",
       "\n",
       "    .dataframe thead th {\n",
       "        text-align: right;\n",
       "    }\n",
       "</style>\n",
       "<table border=\"1\" class=\"dataframe\">\n",
       "  <thead>\n",
       "    <tr style=\"text-align: right;\">\n",
       "      <th></th>\n",
       "      <th>2013-01-01</th>\n",
       "      <th>2013-01-02</th>\n",
       "      <th>2013-01-03</th>\n",
       "      <th>2013-01-04</th>\n",
       "      <th>2013-01-05</th>\n",
       "      <th>2013-01-06</th>\n",
       "    </tr>\n",
       "  </thead>\n",
       "  <tbody>\n",
       "    <tr>\n",
       "      <th>A</th>\n",
       "      <td>0.004610</td>\n",
       "      <td>0.115644</td>\n",
       "      <td>-1.125347</td>\n",
       "      <td>-0.876992</td>\n",
       "      <td>0.632931</td>\n",
       "      <td>-2.537890</td>\n",
       "    </tr>\n",
       "    <tr>\n",
       "      <th>B</th>\n",
       "      <td>-0.082374</td>\n",
       "      <td>-0.266280</td>\n",
       "      <td>0.323424</td>\n",
       "      <td>0.161976</td>\n",
       "      <td>0.925766</td>\n",
       "      <td>0.341461</td>\n",
       "    </tr>\n",
       "    <tr>\n",
       "      <th>C</th>\n",
       "      <td>-1.641580</td>\n",
       "      <td>1.035327</td>\n",
       "      <td>-0.638049</td>\n",
       "      <td>0.953200</td>\n",
       "      <td>-0.151015</td>\n",
       "      <td>0.049185</td>\n",
       "    </tr>\n",
       "    <tr>\n",
       "      <th>D</th>\n",
       "      <td>0.242034</td>\n",
       "      <td>-1.383326</td>\n",
       "      <td>0.762301</td>\n",
       "      <td>-0.344498</td>\n",
       "      <td>0.454365</td>\n",
       "      <td>1.794655</td>\n",
       "    </tr>\n",
       "  </tbody>\n",
       "</table>\n",
       "</div>"
      ],
      "text/plain": [
       "   2013-01-01  2013-01-02  2013-01-03  2013-01-04  2013-01-05  2013-01-06\n",
       "A    0.004610    0.115644   -1.125347   -0.876992    0.632931   -2.537890\n",
       "B   -0.082374   -0.266280    0.323424    0.161976    0.925766    0.341461\n",
       "C   -1.641580    1.035327   -0.638049    0.953200   -0.151015    0.049185\n",
       "D    0.242034   -1.383326    0.762301   -0.344498    0.454365    1.794655"
      ]
     },
     "execution_count": 369,
     "metadata": {},
     "output_type": "execute_result"
    }
   ],
   "source": [
    "df.T\n"
   ]
  },
  {
   "cell_type": "code",
   "execution_count": 370,
   "metadata": {},
   "outputs": [
    {
     "data": {
      "text/html": [
       "<div>\n",
       "<style scoped>\n",
       "    .dataframe tbody tr th:only-of-type {\n",
       "        vertical-align: middle;\n",
       "    }\n",
       "\n",
       "    .dataframe tbody tr th {\n",
       "        vertical-align: top;\n",
       "    }\n",
       "\n",
       "    .dataframe thead th {\n",
       "        text-align: right;\n",
       "    }\n",
       "</style>\n",
       "<table border=\"1\" class=\"dataframe\">\n",
       "  <thead>\n",
       "    <tr style=\"text-align: right;\">\n",
       "      <th></th>\n",
       "      <th>D</th>\n",
       "      <th>C</th>\n",
       "      <th>B</th>\n",
       "      <th>A</th>\n",
       "    </tr>\n",
       "  </thead>\n",
       "  <tbody>\n",
       "    <tr>\n",
       "      <th>2013-01-01</th>\n",
       "      <td>0.242034</td>\n",
       "      <td>-1.641580</td>\n",
       "      <td>-0.082374</td>\n",
       "      <td>0.004610</td>\n",
       "    </tr>\n",
       "    <tr>\n",
       "      <th>2013-01-02</th>\n",
       "      <td>-1.383326</td>\n",
       "      <td>1.035327</td>\n",
       "      <td>-0.266280</td>\n",
       "      <td>0.115644</td>\n",
       "    </tr>\n",
       "    <tr>\n",
       "      <th>2013-01-03</th>\n",
       "      <td>0.762301</td>\n",
       "      <td>-0.638049</td>\n",
       "      <td>0.323424</td>\n",
       "      <td>-1.125347</td>\n",
       "    </tr>\n",
       "    <tr>\n",
       "      <th>2013-01-04</th>\n",
       "      <td>-0.344498</td>\n",
       "      <td>0.953200</td>\n",
       "      <td>0.161976</td>\n",
       "      <td>-0.876992</td>\n",
       "    </tr>\n",
       "    <tr>\n",
       "      <th>2013-01-05</th>\n",
       "      <td>0.454365</td>\n",
       "      <td>-0.151015</td>\n",
       "      <td>0.925766</td>\n",
       "      <td>0.632931</td>\n",
       "    </tr>\n",
       "    <tr>\n",
       "      <th>2013-01-06</th>\n",
       "      <td>1.794655</td>\n",
       "      <td>0.049185</td>\n",
       "      <td>0.341461</td>\n",
       "      <td>-2.537890</td>\n",
       "    </tr>\n",
       "  </tbody>\n",
       "</table>\n",
       "</div>"
      ],
      "text/plain": [
       "                   D         C         B         A\n",
       "2013-01-01  0.242034 -1.641580 -0.082374  0.004610\n",
       "2013-01-02 -1.383326  1.035327 -0.266280  0.115644\n",
       "2013-01-03  0.762301 -0.638049  0.323424 -1.125347\n",
       "2013-01-04 -0.344498  0.953200  0.161976 -0.876992\n",
       "2013-01-05  0.454365 -0.151015  0.925766  0.632931\n",
       "2013-01-06  1.794655  0.049185  0.341461 -2.537890"
      ]
     },
     "execution_count": 370,
     "metadata": {},
     "output_type": "execute_result"
    }
   ],
   "source": [
    "df.sort_index(axis=1, ascending=False)\n"
   ]
  },
  {
   "cell_type": "code",
   "execution_count": 371,
   "metadata": {},
   "outputs": [
    {
     "data": {
      "text/html": [
       "<div>\n",
       "<style scoped>\n",
       "    .dataframe tbody tr th:only-of-type {\n",
       "        vertical-align: middle;\n",
       "    }\n",
       "\n",
       "    .dataframe tbody tr th {\n",
       "        vertical-align: top;\n",
       "    }\n",
       "\n",
       "    .dataframe thead th {\n",
       "        text-align: right;\n",
       "    }\n",
       "</style>\n",
       "<table border=\"1\" class=\"dataframe\">\n",
       "  <thead>\n",
       "    <tr style=\"text-align: right;\">\n",
       "      <th></th>\n",
       "      <th>A</th>\n",
       "      <th>B</th>\n",
       "      <th>C</th>\n",
       "      <th>D</th>\n",
       "    </tr>\n",
       "  </thead>\n",
       "  <tbody>\n",
       "    <tr>\n",
       "      <th>2013-01-01</th>\n",
       "      <td>0.004610</td>\n",
       "      <td>-0.082374</td>\n",
       "      <td>-1.641580</td>\n",
       "      <td>0.242034</td>\n",
       "    </tr>\n",
       "    <tr>\n",
       "      <th>2013-01-02</th>\n",
       "      <td>0.115644</td>\n",
       "      <td>-0.266280</td>\n",
       "      <td>1.035327</td>\n",
       "      <td>-1.383326</td>\n",
       "    </tr>\n",
       "    <tr>\n",
       "      <th>2013-01-03</th>\n",
       "      <td>-1.125347</td>\n",
       "      <td>0.323424</td>\n",
       "      <td>-0.638049</td>\n",
       "      <td>0.762301</td>\n",
       "    </tr>\n",
       "    <tr>\n",
       "      <th>2013-01-04</th>\n",
       "      <td>-0.876992</td>\n",
       "      <td>0.161976</td>\n",
       "      <td>0.953200</td>\n",
       "      <td>-0.344498</td>\n",
       "    </tr>\n",
       "    <tr>\n",
       "      <th>2013-01-05</th>\n",
       "      <td>0.632931</td>\n",
       "      <td>0.925766</td>\n",
       "      <td>-0.151015</td>\n",
       "      <td>0.454365</td>\n",
       "    </tr>\n",
       "    <tr>\n",
       "      <th>2013-01-06</th>\n",
       "      <td>-2.537890</td>\n",
       "      <td>0.341461</td>\n",
       "      <td>0.049185</td>\n",
       "      <td>1.794655</td>\n",
       "    </tr>\n",
       "  </tbody>\n",
       "</table>\n",
       "</div>"
      ],
      "text/plain": [
       "                   A         B         C         D\n",
       "2013-01-01  0.004610 -0.082374 -1.641580  0.242034\n",
       "2013-01-02  0.115644 -0.266280  1.035327 -1.383326\n",
       "2013-01-03 -1.125347  0.323424 -0.638049  0.762301\n",
       "2013-01-04 -0.876992  0.161976  0.953200 -0.344498\n",
       "2013-01-05  0.632931  0.925766 -0.151015  0.454365\n",
       "2013-01-06 -2.537890  0.341461  0.049185  1.794655"
      ]
     },
     "execution_count": 371,
     "metadata": {},
     "output_type": "execute_result"
    }
   ],
   "source": [
    "df.sort_index(axis=1)\n"
   ]
  },
  {
   "cell_type": "code",
   "execution_count": 372,
   "metadata": {},
   "outputs": [
    {
     "data": {
      "text/html": [
       "<div>\n",
       "<style scoped>\n",
       "    .dataframe tbody tr th:only-of-type {\n",
       "        vertical-align: middle;\n",
       "    }\n",
       "\n",
       "    .dataframe tbody tr th {\n",
       "        vertical-align: top;\n",
       "    }\n",
       "\n",
       "    .dataframe thead th {\n",
       "        text-align: right;\n",
       "    }\n",
       "</style>\n",
       "<table border=\"1\" class=\"dataframe\">\n",
       "  <thead>\n",
       "    <tr style=\"text-align: right;\">\n",
       "      <th></th>\n",
       "      <th>A</th>\n",
       "      <th>B</th>\n",
       "      <th>C</th>\n",
       "      <th>D</th>\n",
       "    </tr>\n",
       "  </thead>\n",
       "  <tbody>\n",
       "    <tr>\n",
       "      <th>2013-01-05</th>\n",
       "      <td>0.632931</td>\n",
       "      <td>0.925766</td>\n",
       "      <td>-0.151015</td>\n",
       "      <td>0.454365</td>\n",
       "    </tr>\n",
       "    <tr>\n",
       "      <th>2013-01-06</th>\n",
       "      <td>-2.537890</td>\n",
       "      <td>0.341461</td>\n",
       "      <td>0.049185</td>\n",
       "      <td>1.794655</td>\n",
       "    </tr>\n",
       "    <tr>\n",
       "      <th>2013-01-03</th>\n",
       "      <td>-1.125347</td>\n",
       "      <td>0.323424</td>\n",
       "      <td>-0.638049</td>\n",
       "      <td>0.762301</td>\n",
       "    </tr>\n",
       "    <tr>\n",
       "      <th>2013-01-04</th>\n",
       "      <td>-0.876992</td>\n",
       "      <td>0.161976</td>\n",
       "      <td>0.953200</td>\n",
       "      <td>-0.344498</td>\n",
       "    </tr>\n",
       "    <tr>\n",
       "      <th>2013-01-01</th>\n",
       "      <td>0.004610</td>\n",
       "      <td>-0.082374</td>\n",
       "      <td>-1.641580</td>\n",
       "      <td>0.242034</td>\n",
       "    </tr>\n",
       "    <tr>\n",
       "      <th>2013-01-02</th>\n",
       "      <td>0.115644</td>\n",
       "      <td>-0.266280</td>\n",
       "      <td>1.035327</td>\n",
       "      <td>-1.383326</td>\n",
       "    </tr>\n",
       "  </tbody>\n",
       "</table>\n",
       "</div>"
      ],
      "text/plain": [
       "                   A         B         C         D\n",
       "2013-01-05  0.632931  0.925766 -0.151015  0.454365\n",
       "2013-01-06 -2.537890  0.341461  0.049185  1.794655\n",
       "2013-01-03 -1.125347  0.323424 -0.638049  0.762301\n",
       "2013-01-04 -0.876992  0.161976  0.953200 -0.344498\n",
       "2013-01-01  0.004610 -0.082374 -1.641580  0.242034\n",
       "2013-01-02  0.115644 -0.266280  1.035327 -1.383326"
      ]
     },
     "execution_count": 372,
     "metadata": {},
     "output_type": "execute_result"
    }
   ],
   "source": [
    "df.sort_values(by='B', ascending=False)\n"
   ]
  },
  {
   "cell_type": "code",
   "execution_count": 373,
   "metadata": {},
   "outputs": [
    {
     "data": {
      "text/plain": [
       "2013-01-01    0.004610\n",
       "2013-01-02    0.115644\n",
       "2013-01-03   -1.125347\n",
       "2013-01-04   -0.876992\n",
       "2013-01-05    0.632931\n",
       "2013-01-06   -2.537890\n",
       "Freq: D, Name: A, dtype: float64"
      ]
     },
     "execution_count": 373,
     "metadata": {},
     "output_type": "execute_result"
    }
   ],
   "source": [
    "# 3. 데이터 선택하기 (Selection)\n",
    "df['A']\n"
   ]
  },
  {
   "cell_type": "code",
   "execution_count": 374,
   "metadata": {},
   "outputs": [
    {
     "data": {
      "text/plain": [
       "2013-01-01    0.004610\n",
       "2013-01-02    0.115644\n",
       "2013-01-03   -1.125347\n",
       "2013-01-04   -0.876992\n",
       "2013-01-05    0.632931\n",
       "2013-01-06   -2.537890\n",
       "Freq: D, Name: A, dtype: float64"
      ]
     },
     "execution_count": 374,
     "metadata": {},
     "output_type": "execute_result"
    }
   ],
   "source": [
    "df.A\n"
   ]
  },
  {
   "cell_type": "code",
   "execution_count": 375,
   "metadata": {},
   "outputs": [
    {
     "data": {
      "text/plain": [
       "pandas.core.series.Series"
      ]
     },
     "execution_count": 375,
     "metadata": {},
     "output_type": "execute_result"
    }
   ],
   "source": [
    "type(df['A'])\n"
   ]
  },
  {
   "cell_type": "code",
   "execution_count": 376,
   "metadata": {},
   "outputs": [
    {
     "data": {
      "text/html": [
       "<div>\n",
       "<style scoped>\n",
       "    .dataframe tbody tr th:only-of-type {\n",
       "        vertical-align: middle;\n",
       "    }\n",
       "\n",
       "    .dataframe tbody tr th {\n",
       "        vertical-align: top;\n",
       "    }\n",
       "\n",
       "    .dataframe thead th {\n",
       "        text-align: right;\n",
       "    }\n",
       "</style>\n",
       "<table border=\"1\" class=\"dataframe\">\n",
       "  <thead>\n",
       "    <tr style=\"text-align: right;\">\n",
       "      <th></th>\n",
       "      <th>A</th>\n",
       "      <th>B</th>\n",
       "      <th>C</th>\n",
       "      <th>D</th>\n",
       "    </tr>\n",
       "  </thead>\n",
       "  <tbody>\n",
       "    <tr>\n",
       "      <th>2013-01-01</th>\n",
       "      <td>0.004610</td>\n",
       "      <td>-0.082374</td>\n",
       "      <td>-1.641580</td>\n",
       "      <td>0.242034</td>\n",
       "    </tr>\n",
       "    <tr>\n",
       "      <th>2013-01-02</th>\n",
       "      <td>0.115644</td>\n",
       "      <td>-0.266280</td>\n",
       "      <td>1.035327</td>\n",
       "      <td>-1.383326</td>\n",
       "    </tr>\n",
       "    <tr>\n",
       "      <th>2013-01-03</th>\n",
       "      <td>-1.125347</td>\n",
       "      <td>0.323424</td>\n",
       "      <td>-0.638049</td>\n",
       "      <td>0.762301</td>\n",
       "    </tr>\n",
       "  </tbody>\n",
       "</table>\n",
       "</div>"
      ],
      "text/plain": [
       "                   A         B         C         D\n",
       "2013-01-01  0.004610 -0.082374 -1.641580  0.242034\n",
       "2013-01-02  0.115644 -0.266280  1.035327 -1.383326\n",
       "2013-01-03 -1.125347  0.323424 -0.638049  0.762301"
      ]
     },
     "execution_count": 376,
     "metadata": {},
     "output_type": "execute_result"
    }
   ],
   "source": [
    "df[0:3]\n"
   ]
  },
  {
   "cell_type": "code",
   "execution_count": 377,
   "metadata": {},
   "outputs": [
    {
     "data": {
      "text/html": [
       "<div>\n",
       "<style scoped>\n",
       "    .dataframe tbody tr th:only-of-type {\n",
       "        vertical-align: middle;\n",
       "    }\n",
       "\n",
       "    .dataframe tbody tr th {\n",
       "        vertical-align: top;\n",
       "    }\n",
       "\n",
       "    .dataframe thead th {\n",
       "        text-align: right;\n",
       "    }\n",
       "</style>\n",
       "<table border=\"1\" class=\"dataframe\">\n",
       "  <thead>\n",
       "    <tr style=\"text-align: right;\">\n",
       "      <th></th>\n",
       "      <th>A</th>\n",
       "      <th>B</th>\n",
       "      <th>C</th>\n",
       "      <th>D</th>\n",
       "    </tr>\n",
       "  </thead>\n",
       "  <tbody>\n",
       "    <tr>\n",
       "      <th>2013-01-02</th>\n",
       "      <td>0.115644</td>\n",
       "      <td>-0.266280</td>\n",
       "      <td>1.035327</td>\n",
       "      <td>-1.383326</td>\n",
       "    </tr>\n",
       "    <tr>\n",
       "      <th>2013-01-03</th>\n",
       "      <td>-1.125347</td>\n",
       "      <td>0.323424</td>\n",
       "      <td>-0.638049</td>\n",
       "      <td>0.762301</td>\n",
       "    </tr>\n",
       "    <tr>\n",
       "      <th>2013-01-04</th>\n",
       "      <td>-0.876992</td>\n",
       "      <td>0.161976</td>\n",
       "      <td>0.953200</td>\n",
       "      <td>-0.344498</td>\n",
       "    </tr>\n",
       "  </tbody>\n",
       "</table>\n",
       "</div>"
      ],
      "text/plain": [
       "                   A         B         C         D\n",
       "2013-01-02  0.115644 -0.266280  1.035327 -1.383326\n",
       "2013-01-03 -1.125347  0.323424 -0.638049  0.762301\n",
       "2013-01-04 -0.876992  0.161976  0.953200 -0.344498"
      ]
     },
     "execution_count": 377,
     "metadata": {},
     "output_type": "execute_result"
    }
   ],
   "source": [
    "df['20130102':'20130104']\n"
   ]
  },
  {
   "cell_type": "code",
   "execution_count": 378,
   "metadata": {},
   "outputs": [
    {
     "data": {
      "text/plain": [
       "A    0.004610\n",
       "B   -0.082374\n",
       "C   -1.641580\n",
       "D    0.242034\n",
       "Name: 2013-01-01 00:00:00, dtype: float64"
      ]
     },
     "execution_count": 378,
     "metadata": {},
     "output_type": "execute_result"
    }
   ],
   "source": [
    "df.loc[dates[0]]\n"
   ]
  },
  {
   "cell_type": "code",
   "execution_count": 379,
   "metadata": {},
   "outputs": [
    {
     "data": {
      "text/plain": [
       "A    0.115644\n",
       "B   -0.266280\n",
       "C    1.035327\n",
       "D   -1.383326\n",
       "Name: 2013-01-02 00:00:00, dtype: float64"
      ]
     },
     "execution_count": 379,
     "metadata": {},
     "output_type": "execute_result"
    }
   ],
   "source": [
    "df.loc[dates[1]]\n"
   ]
  },
  {
   "cell_type": "code",
   "execution_count": 380,
   "metadata": {},
   "outputs": [
    {
     "data": {
      "text/plain": [
       "A    0.004610\n",
       "B   -0.082374\n",
       "C   -1.641580\n",
       "D    0.242034\n",
       "Name: 2013-01-01 00:00:00, dtype: float64"
      ]
     },
     "execution_count": 380,
     "metadata": {},
     "output_type": "execute_result"
    }
   ],
   "source": [
    "df.loc['20130101']\n",
    "df.loc['2013-01-01']\n"
   ]
  },
  {
   "cell_type": "code",
   "execution_count": 381,
   "metadata": {},
   "outputs": [
    {
     "data": {
      "text/html": [
       "<div>\n",
       "<style scoped>\n",
       "    .dataframe tbody tr th:only-of-type {\n",
       "        vertical-align: middle;\n",
       "    }\n",
       "\n",
       "    .dataframe tbody tr th {\n",
       "        vertical-align: top;\n",
       "    }\n",
       "\n",
       "    .dataframe thead th {\n",
       "        text-align: right;\n",
       "    }\n",
       "</style>\n",
       "<table border=\"1\" class=\"dataframe\">\n",
       "  <thead>\n",
       "    <tr style=\"text-align: right;\">\n",
       "      <th></th>\n",
       "      <th>A</th>\n",
       "      <th>B</th>\n",
       "    </tr>\n",
       "  </thead>\n",
       "  <tbody>\n",
       "    <tr>\n",
       "      <th>2013-01-01</th>\n",
       "      <td>0.004610</td>\n",
       "      <td>-0.082374</td>\n",
       "    </tr>\n",
       "    <tr>\n",
       "      <th>2013-01-02</th>\n",
       "      <td>0.115644</td>\n",
       "      <td>-0.266280</td>\n",
       "    </tr>\n",
       "    <tr>\n",
       "      <th>2013-01-03</th>\n",
       "      <td>-1.125347</td>\n",
       "      <td>0.323424</td>\n",
       "    </tr>\n",
       "    <tr>\n",
       "      <th>2013-01-04</th>\n",
       "      <td>-0.876992</td>\n",
       "      <td>0.161976</td>\n",
       "    </tr>\n",
       "    <tr>\n",
       "      <th>2013-01-05</th>\n",
       "      <td>0.632931</td>\n",
       "      <td>0.925766</td>\n",
       "    </tr>\n",
       "    <tr>\n",
       "      <th>2013-01-06</th>\n",
       "      <td>-2.537890</td>\n",
       "      <td>0.341461</td>\n",
       "    </tr>\n",
       "  </tbody>\n",
       "</table>\n",
       "</div>"
      ],
      "text/plain": [
       "                   A         B\n",
       "2013-01-01  0.004610 -0.082374\n",
       "2013-01-02  0.115644 -0.266280\n",
       "2013-01-03 -1.125347  0.323424\n",
       "2013-01-04 -0.876992  0.161976\n",
       "2013-01-05  0.632931  0.925766\n",
       "2013-01-06 -2.537890  0.341461"
      ]
     },
     "execution_count": 381,
     "metadata": {},
     "output_type": "execute_result"
    }
   ],
   "source": [
    "df.loc[:, ['A', 'B']]\n",
    "\n"
   ]
  },
  {
   "cell_type": "code",
   "execution_count": 382,
   "metadata": {},
   "outputs": [
    {
     "data": {
      "text/html": [
       "<div>\n",
       "<style scoped>\n",
       "    .dataframe tbody tr th:only-of-type {\n",
       "        vertical-align: middle;\n",
       "    }\n",
       "\n",
       "    .dataframe tbody tr th {\n",
       "        vertical-align: top;\n",
       "    }\n",
       "\n",
       "    .dataframe thead th {\n",
       "        text-align: right;\n",
       "    }\n",
       "</style>\n",
       "<table border=\"1\" class=\"dataframe\">\n",
       "  <thead>\n",
       "    <tr style=\"text-align: right;\">\n",
       "      <th></th>\n",
       "      <th>A</th>\n",
       "      <th>B</th>\n",
       "    </tr>\n",
       "  </thead>\n",
       "  <tbody>\n",
       "    <tr>\n",
       "      <th>2013-01-02</th>\n",
       "      <td>0.115644</td>\n",
       "      <td>-0.266280</td>\n",
       "    </tr>\n",
       "    <tr>\n",
       "      <th>2013-01-03</th>\n",
       "      <td>-1.125347</td>\n",
       "      <td>0.323424</td>\n",
       "    </tr>\n",
       "    <tr>\n",
       "      <th>2013-01-04</th>\n",
       "      <td>-0.876992</td>\n",
       "      <td>0.161976</td>\n",
       "    </tr>\n",
       "  </tbody>\n",
       "</table>\n",
       "</div>"
      ],
      "text/plain": [
       "                   A         B\n",
       "2013-01-02  0.115644 -0.266280\n",
       "2013-01-03 -1.125347  0.323424\n",
       "2013-01-04 -0.876992  0.161976"
      ]
     },
     "execution_count": 382,
     "metadata": {},
     "output_type": "execute_result"
    }
   ],
   "source": [
    "df.loc['20130102':'20130104', ['A', 'B']]\n"
   ]
  },
  {
   "cell_type": "code",
   "execution_count": 383,
   "metadata": {},
   "outputs": [
    {
     "data": {
      "text/html": [
       "<div>\n",
       "<style scoped>\n",
       "    .dataframe tbody tr th:only-of-type {\n",
       "        vertical-align: middle;\n",
       "    }\n",
       "\n",
       "    .dataframe tbody tr th {\n",
       "        vertical-align: top;\n",
       "    }\n",
       "\n",
       "    .dataframe thead th {\n",
       "        text-align: right;\n",
       "    }\n",
       "</style>\n",
       "<table border=\"1\" class=\"dataframe\">\n",
       "  <thead>\n",
       "    <tr style=\"text-align: right;\">\n",
       "      <th></th>\n",
       "      <th>A</th>\n",
       "      <th>B</th>\n",
       "    </tr>\n",
       "  </thead>\n",
       "  <tbody>\n",
       "    <tr>\n",
       "      <th>2013-01-02</th>\n",
       "      <td>0.115644</td>\n",
       "      <td>-0.266280</td>\n",
       "    </tr>\n",
       "    <tr>\n",
       "      <th>2013-01-03</th>\n",
       "      <td>-1.125347</td>\n",
       "      <td>0.323424</td>\n",
       "    </tr>\n",
       "    <tr>\n",
       "      <th>2013-01-04</th>\n",
       "      <td>-0.876992</td>\n",
       "      <td>0.161976</td>\n",
       "    </tr>\n",
       "  </tbody>\n",
       "</table>\n",
       "</div>"
      ],
      "text/plain": [
       "                   A         B\n",
       "2013-01-02  0.115644 -0.266280\n",
       "2013-01-03 -1.125347  0.323424\n",
       "2013-01-04 -0.876992  0.161976"
      ]
     },
     "execution_count": 383,
     "metadata": {},
     "output_type": "execute_result"
    }
   ],
   "source": [
    "df.loc['20130102':'20130104', ['A', 'B']]\n"
   ]
  },
  {
   "cell_type": "code",
   "execution_count": 384,
   "metadata": {},
   "outputs": [
    {
     "data": {
      "text/plain": [
       "A    0.004610\n",
       "B   -0.082374\n",
       "Name: 2013-01-01 00:00:00, dtype: float64"
      ]
     },
     "execution_count": 384,
     "metadata": {},
     "output_type": "execute_result"
    }
   ],
   "source": [
    "df.loc[dates[0], ['A', 'B']]\n"
   ]
  },
  {
   "cell_type": "code",
   "execution_count": 385,
   "metadata": {},
   "outputs": [
    {
     "data": {
      "text/plain": [
       "0.0046099062260671515"
      ]
     },
     "execution_count": 385,
     "metadata": {},
     "output_type": "execute_result"
    }
   ],
   "source": [
    "df.loc[dates[0], 'A']\n"
   ]
  },
  {
   "cell_type": "code",
   "execution_count": 386,
   "metadata": {},
   "outputs": [
    {
     "data": {
      "text/plain": [
       "0.0046099062260671515"
      ]
     },
     "execution_count": 386,
     "metadata": {},
     "output_type": "execute_result"
    }
   ],
   "source": [
    "df.at[dates[0], 'A']\n"
   ]
  },
  {
   "cell_type": "code",
   "execution_count": 387,
   "metadata": {},
   "outputs": [
    {
     "data": {
      "text/plain": [
       "A   -0.876992\n",
       "B    0.161976\n",
       "C    0.953200\n",
       "D   -0.344498\n",
       "Name: 2013-01-04 00:00:00, dtype: float64"
      ]
     },
     "execution_count": 387,
     "metadata": {},
     "output_type": "execute_result"
    }
   ],
   "source": [
    "df.iloc[3]\n"
   ]
  },
  {
   "cell_type": "code",
   "execution_count": 388,
   "metadata": {},
   "outputs": [
    {
     "data": {
      "text/html": [
       "<div>\n",
       "<style scoped>\n",
       "    .dataframe tbody tr th:only-of-type {\n",
       "        vertical-align: middle;\n",
       "    }\n",
       "\n",
       "    .dataframe tbody tr th {\n",
       "        vertical-align: top;\n",
       "    }\n",
       "\n",
       "    .dataframe thead th {\n",
       "        text-align: right;\n",
       "    }\n",
       "</style>\n",
       "<table border=\"1\" class=\"dataframe\">\n",
       "  <thead>\n",
       "    <tr style=\"text-align: right;\">\n",
       "      <th></th>\n",
       "      <th>A</th>\n",
       "      <th>B</th>\n",
       "    </tr>\n",
       "  </thead>\n",
       "  <tbody>\n",
       "    <tr>\n",
       "      <th>2013-01-04</th>\n",
       "      <td>-0.876992</td>\n",
       "      <td>0.161976</td>\n",
       "    </tr>\n",
       "    <tr>\n",
       "      <th>2013-01-05</th>\n",
       "      <td>0.632931</td>\n",
       "      <td>0.925766</td>\n",
       "    </tr>\n",
       "  </tbody>\n",
       "</table>\n",
       "</div>"
      ],
      "text/plain": [
       "                   A         B\n",
       "2013-01-04 -0.876992  0.161976\n",
       "2013-01-05  0.632931  0.925766"
      ]
     },
     "execution_count": 388,
     "metadata": {},
     "output_type": "execute_result"
    }
   ],
   "source": [
    "df.iloc[3:5, 0:2]\n"
   ]
  },
  {
   "cell_type": "code",
   "execution_count": 389,
   "metadata": {},
   "outputs": [
    {
     "data": {
      "text/html": [
       "<div>\n",
       "<style scoped>\n",
       "    .dataframe tbody tr th:only-of-type {\n",
       "        vertical-align: middle;\n",
       "    }\n",
       "\n",
       "    .dataframe tbody tr th {\n",
       "        vertical-align: top;\n",
       "    }\n",
       "\n",
       "    .dataframe thead th {\n",
       "        text-align: right;\n",
       "    }\n",
       "</style>\n",
       "<table border=\"1\" class=\"dataframe\">\n",
       "  <thead>\n",
       "    <tr style=\"text-align: right;\">\n",
       "      <th></th>\n",
       "      <th>A</th>\n",
       "      <th>C</th>\n",
       "    </tr>\n",
       "  </thead>\n",
       "  <tbody>\n",
       "    <tr>\n",
       "      <th>2013-01-02</th>\n",
       "      <td>0.115644</td>\n",
       "      <td>1.035327</td>\n",
       "    </tr>\n",
       "    <tr>\n",
       "      <th>2013-01-03</th>\n",
       "      <td>-1.125347</td>\n",
       "      <td>-0.638049</td>\n",
       "    </tr>\n",
       "    <tr>\n",
       "      <th>2013-01-05</th>\n",
       "      <td>0.632931</td>\n",
       "      <td>-0.151015</td>\n",
       "    </tr>\n",
       "  </tbody>\n",
       "</table>\n",
       "</div>"
      ],
      "text/plain": [
       "                   A         C\n",
       "2013-01-02  0.115644  1.035327\n",
       "2013-01-03 -1.125347 -0.638049\n",
       "2013-01-05  0.632931 -0.151015"
      ]
     },
     "execution_count": 389,
     "metadata": {},
     "output_type": "execute_result"
    }
   ],
   "source": [
    "df.iloc[[1, 2, 4], [0, 2]]\n"
   ]
  },
  {
   "cell_type": "code",
   "execution_count": 390,
   "metadata": {},
   "outputs": [
    {
     "data": {
      "text/html": [
       "<div>\n",
       "<style scoped>\n",
       "    .dataframe tbody tr th:only-of-type {\n",
       "        vertical-align: middle;\n",
       "    }\n",
       "\n",
       "    .dataframe tbody tr th {\n",
       "        vertical-align: top;\n",
       "    }\n",
       "\n",
       "    .dataframe thead th {\n",
       "        text-align: right;\n",
       "    }\n",
       "</style>\n",
       "<table border=\"1\" class=\"dataframe\">\n",
       "  <thead>\n",
       "    <tr style=\"text-align: right;\">\n",
       "      <th></th>\n",
       "      <th>A</th>\n",
       "      <th>B</th>\n",
       "      <th>C</th>\n",
       "      <th>D</th>\n",
       "    </tr>\n",
       "  </thead>\n",
       "  <tbody>\n",
       "    <tr>\n",
       "      <th>2013-01-02</th>\n",
       "      <td>0.115644</td>\n",
       "      <td>-0.266280</td>\n",
       "      <td>1.035327</td>\n",
       "      <td>-1.383326</td>\n",
       "    </tr>\n",
       "    <tr>\n",
       "      <th>2013-01-03</th>\n",
       "      <td>-1.125347</td>\n",
       "      <td>0.323424</td>\n",
       "      <td>-0.638049</td>\n",
       "      <td>0.762301</td>\n",
       "    </tr>\n",
       "  </tbody>\n",
       "</table>\n",
       "</div>"
      ],
      "text/plain": [
       "                   A         B         C         D\n",
       "2013-01-02  0.115644 -0.266280  1.035327 -1.383326\n",
       "2013-01-03 -1.125347  0.323424 -0.638049  0.762301"
      ]
     },
     "execution_count": 390,
     "metadata": {},
     "output_type": "execute_result"
    }
   ],
   "source": [
    "df.iloc[1:3, :]\n"
   ]
  },
  {
   "cell_type": "code",
   "execution_count": 391,
   "metadata": {},
   "outputs": [
    {
     "data": {
      "text/html": [
       "<div>\n",
       "<style scoped>\n",
       "    .dataframe tbody tr th:only-of-type {\n",
       "        vertical-align: middle;\n",
       "    }\n",
       "\n",
       "    .dataframe tbody tr th {\n",
       "        vertical-align: top;\n",
       "    }\n",
       "\n",
       "    .dataframe thead th {\n",
       "        text-align: right;\n",
       "    }\n",
       "</style>\n",
       "<table border=\"1\" class=\"dataframe\">\n",
       "  <thead>\n",
       "    <tr style=\"text-align: right;\">\n",
       "      <th></th>\n",
       "      <th>B</th>\n",
       "      <th>C</th>\n",
       "    </tr>\n",
       "  </thead>\n",
       "  <tbody>\n",
       "    <tr>\n",
       "      <th>2013-01-01</th>\n",
       "      <td>-0.082374</td>\n",
       "      <td>-1.641580</td>\n",
       "    </tr>\n",
       "    <tr>\n",
       "      <th>2013-01-02</th>\n",
       "      <td>-0.266280</td>\n",
       "      <td>1.035327</td>\n",
       "    </tr>\n",
       "    <tr>\n",
       "      <th>2013-01-03</th>\n",
       "      <td>0.323424</td>\n",
       "      <td>-0.638049</td>\n",
       "    </tr>\n",
       "    <tr>\n",
       "      <th>2013-01-04</th>\n",
       "      <td>0.161976</td>\n",
       "      <td>0.953200</td>\n",
       "    </tr>\n",
       "    <tr>\n",
       "      <th>2013-01-05</th>\n",
       "      <td>0.925766</td>\n",
       "      <td>-0.151015</td>\n",
       "    </tr>\n",
       "    <tr>\n",
       "      <th>2013-01-06</th>\n",
       "      <td>0.341461</td>\n",
       "      <td>0.049185</td>\n",
       "    </tr>\n",
       "  </tbody>\n",
       "</table>\n",
       "</div>"
      ],
      "text/plain": [
       "                   B         C\n",
       "2013-01-01 -0.082374 -1.641580\n",
       "2013-01-02 -0.266280  1.035327\n",
       "2013-01-03  0.323424 -0.638049\n",
       "2013-01-04  0.161976  0.953200\n",
       "2013-01-05  0.925766 -0.151015\n",
       "2013-01-06  0.341461  0.049185"
      ]
     },
     "execution_count": 391,
     "metadata": {},
     "output_type": "execute_result"
    }
   ],
   "source": [
    "df.iloc[:, 1:3]\n"
   ]
  },
  {
   "cell_type": "code",
   "execution_count": 392,
   "metadata": {},
   "outputs": [
    {
     "data": {
      "text/plain": [
       "-0.26628007339498216"
      ]
     },
     "execution_count": 392,
     "metadata": {},
     "output_type": "execute_result"
    }
   ],
   "source": [
    "df.iloc[1, 1]\n"
   ]
  },
  {
   "cell_type": "code",
   "execution_count": 393,
   "metadata": {},
   "outputs": [
    {
     "data": {
      "text/plain": [
       "-0.26628007339498216"
      ]
     },
     "execution_count": 393,
     "metadata": {},
     "output_type": "execute_result"
    }
   ],
   "source": [
    "df.iat[1, 1]\n"
   ]
  },
  {
   "cell_type": "code",
   "execution_count": 394,
   "metadata": {},
   "outputs": [
    {
     "name": "stdout",
     "output_type": "stream",
     "text": [
      "                   A         B         C         D\n",
      "2013-01-01  0.004610 -0.082374 -1.641580  0.242034\n",
      "2013-01-02  0.115644 -0.266280  1.035327 -1.383326\n",
      "2013-01-05  0.632931  0.925766 -0.151015  0.454365 \n",
      "\n",
      "                   A         B         C         D\n",
      "2013-01-01  0.004610 -0.082374 -1.641580  0.242034\n",
      "2013-01-02  0.115644 -0.266280  1.035327 -1.383326\n",
      "2013-01-03 -1.125347  0.323424 -0.638049  0.762301\n",
      "2013-01-04 -0.876992  0.161976  0.953200 -0.344498\n",
      "2013-01-05  0.632931  0.925766 -0.151015  0.454365\n",
      "2013-01-06 -2.537890  0.341461  0.049185  1.794655\n"
     ]
    }
   ],
   "source": [
    "# 조건을 사용하여 선택하기\n",
    "print(df[df.A > 0], '\\n')\n",
    "print(df)\n"
   ]
  },
  {
   "cell_type": "code",
   "execution_count": 395,
   "metadata": {},
   "outputs": [
    {
     "data": {
      "text/html": [
       "<div>\n",
       "<style scoped>\n",
       "    .dataframe tbody tr th:only-of-type {\n",
       "        vertical-align: middle;\n",
       "    }\n",
       "\n",
       "    .dataframe tbody tr th {\n",
       "        vertical-align: top;\n",
       "    }\n",
       "\n",
       "    .dataframe thead th {\n",
       "        text-align: right;\n",
       "    }\n",
       "</style>\n",
       "<table border=\"1\" class=\"dataframe\">\n",
       "  <thead>\n",
       "    <tr style=\"text-align: right;\">\n",
       "      <th></th>\n",
       "      <th>A</th>\n",
       "      <th>B</th>\n",
       "      <th>C</th>\n",
       "      <th>D</th>\n",
       "    </tr>\n",
       "  </thead>\n",
       "  <tbody>\n",
       "    <tr>\n",
       "      <th>2013-01-01</th>\n",
       "      <td>0.004610</td>\n",
       "      <td>NaN</td>\n",
       "      <td>NaN</td>\n",
       "      <td>0.242034</td>\n",
       "    </tr>\n",
       "    <tr>\n",
       "      <th>2013-01-02</th>\n",
       "      <td>0.115644</td>\n",
       "      <td>NaN</td>\n",
       "      <td>1.035327</td>\n",
       "      <td>NaN</td>\n",
       "    </tr>\n",
       "    <tr>\n",
       "      <th>2013-01-03</th>\n",
       "      <td>NaN</td>\n",
       "      <td>0.323424</td>\n",
       "      <td>NaN</td>\n",
       "      <td>0.762301</td>\n",
       "    </tr>\n",
       "    <tr>\n",
       "      <th>2013-01-04</th>\n",
       "      <td>NaN</td>\n",
       "      <td>0.161976</td>\n",
       "      <td>0.953200</td>\n",
       "      <td>NaN</td>\n",
       "    </tr>\n",
       "    <tr>\n",
       "      <th>2013-01-05</th>\n",
       "      <td>0.632931</td>\n",
       "      <td>0.925766</td>\n",
       "      <td>NaN</td>\n",
       "      <td>0.454365</td>\n",
       "    </tr>\n",
       "    <tr>\n",
       "      <th>2013-01-06</th>\n",
       "      <td>NaN</td>\n",
       "      <td>0.341461</td>\n",
       "      <td>0.049185</td>\n",
       "      <td>1.794655</td>\n",
       "    </tr>\n",
       "  </tbody>\n",
       "</table>\n",
       "</div>"
      ],
      "text/plain": [
       "                   A         B         C         D\n",
       "2013-01-01  0.004610       NaN       NaN  0.242034\n",
       "2013-01-02  0.115644       NaN  1.035327       NaN\n",
       "2013-01-03       NaN  0.323424       NaN  0.762301\n",
       "2013-01-04       NaN  0.161976  0.953200       NaN\n",
       "2013-01-05  0.632931  0.925766       NaN  0.454365\n",
       "2013-01-06       NaN  0.341461  0.049185  1.794655"
      ]
     },
     "execution_count": 395,
     "metadata": {},
     "output_type": "execute_result"
    }
   ],
   "source": [
    "df[df > 0]\n"
   ]
  },
  {
   "cell_type": "code",
   "execution_count": 396,
   "metadata": {},
   "outputs": [],
   "source": [
    "df2 = df.copy()\n",
    "df2['E'] = ['one', 'one', 'two', 'three', 'four', 'three']\n"
   ]
  },
  {
   "cell_type": "code",
   "execution_count": 397,
   "metadata": {},
   "outputs": [
    {
     "data": {
      "text/html": [
       "<div>\n",
       "<style scoped>\n",
       "    .dataframe tbody tr th:only-of-type {\n",
       "        vertical-align: middle;\n",
       "    }\n",
       "\n",
       "    .dataframe tbody tr th {\n",
       "        vertical-align: top;\n",
       "    }\n",
       "\n",
       "    .dataframe thead th {\n",
       "        text-align: right;\n",
       "    }\n",
       "</style>\n",
       "<table border=\"1\" class=\"dataframe\">\n",
       "  <thead>\n",
       "    <tr style=\"text-align: right;\">\n",
       "      <th></th>\n",
       "      <th>A</th>\n",
       "      <th>B</th>\n",
       "      <th>C</th>\n",
       "      <th>D</th>\n",
       "      <th>E</th>\n",
       "    </tr>\n",
       "  </thead>\n",
       "  <tbody>\n",
       "    <tr>\n",
       "      <th>2013-01-01</th>\n",
       "      <td>0.004610</td>\n",
       "      <td>-0.082374</td>\n",
       "      <td>-1.641580</td>\n",
       "      <td>0.242034</td>\n",
       "      <td>one</td>\n",
       "    </tr>\n",
       "    <tr>\n",
       "      <th>2013-01-02</th>\n",
       "      <td>0.115644</td>\n",
       "      <td>-0.266280</td>\n",
       "      <td>1.035327</td>\n",
       "      <td>-1.383326</td>\n",
       "      <td>one</td>\n",
       "    </tr>\n",
       "    <tr>\n",
       "      <th>2013-01-03</th>\n",
       "      <td>-1.125347</td>\n",
       "      <td>0.323424</td>\n",
       "      <td>-0.638049</td>\n",
       "      <td>0.762301</td>\n",
       "      <td>two</td>\n",
       "    </tr>\n",
       "    <tr>\n",
       "      <th>2013-01-04</th>\n",
       "      <td>-0.876992</td>\n",
       "      <td>0.161976</td>\n",
       "      <td>0.953200</td>\n",
       "      <td>-0.344498</td>\n",
       "      <td>three</td>\n",
       "    </tr>\n",
       "    <tr>\n",
       "      <th>2013-01-05</th>\n",
       "      <td>0.632931</td>\n",
       "      <td>0.925766</td>\n",
       "      <td>-0.151015</td>\n",
       "      <td>0.454365</td>\n",
       "      <td>four</td>\n",
       "    </tr>\n",
       "    <tr>\n",
       "      <th>2013-01-06</th>\n",
       "      <td>-2.537890</td>\n",
       "      <td>0.341461</td>\n",
       "      <td>0.049185</td>\n",
       "      <td>1.794655</td>\n",
       "      <td>three</td>\n",
       "    </tr>\n",
       "  </tbody>\n",
       "</table>\n",
       "</div>"
      ],
      "text/plain": [
       "                   A         B         C         D      E\n",
       "2013-01-01  0.004610 -0.082374 -1.641580  0.242034    one\n",
       "2013-01-02  0.115644 -0.266280  1.035327 -1.383326    one\n",
       "2013-01-03 -1.125347  0.323424 -0.638049  0.762301    two\n",
       "2013-01-04 -0.876992  0.161976  0.953200 -0.344498  three\n",
       "2013-01-05  0.632931  0.925766 -0.151015  0.454365   four\n",
       "2013-01-06 -2.537890  0.341461  0.049185  1.794655  three"
      ]
     },
     "execution_count": 397,
     "metadata": {},
     "output_type": "execute_result"
    }
   ],
   "source": [
    "df2\n"
   ]
  },
  {
   "cell_type": "code",
   "execution_count": 398,
   "metadata": {},
   "outputs": [
    {
     "data": {
      "text/html": [
       "<div>\n",
       "<style scoped>\n",
       "    .dataframe tbody tr th:only-of-type {\n",
       "        vertical-align: middle;\n",
       "    }\n",
       "\n",
       "    .dataframe tbody tr th {\n",
       "        vertical-align: top;\n",
       "    }\n",
       "\n",
       "    .dataframe thead th {\n",
       "        text-align: right;\n",
       "    }\n",
       "</style>\n",
       "<table border=\"1\" class=\"dataframe\">\n",
       "  <thead>\n",
       "    <tr style=\"text-align: right;\">\n",
       "      <th></th>\n",
       "      <th>A</th>\n",
       "      <th>B</th>\n",
       "      <th>C</th>\n",
       "      <th>D</th>\n",
       "    </tr>\n",
       "  </thead>\n",
       "  <tbody>\n",
       "    <tr>\n",
       "      <th>2013-01-03</th>\n",
       "      <td>-1.125347</td>\n",
       "      <td>0.323424</td>\n",
       "      <td>-0.638049</td>\n",
       "      <td>0.762301</td>\n",
       "    </tr>\n",
       "    <tr>\n",
       "      <th>2013-01-05</th>\n",
       "      <td>0.632931</td>\n",
       "      <td>0.925766</td>\n",
       "      <td>-0.151015</td>\n",
       "      <td>0.454365</td>\n",
       "    </tr>\n",
       "  </tbody>\n",
       "</table>\n",
       "</div>"
      ],
      "text/plain": [
       "                   A         B         C         D\n",
       "2013-01-03 -1.125347  0.323424 -0.638049  0.762301\n",
       "2013-01-05  0.632931  0.925766 -0.151015  0.454365"
      ]
     },
     "execution_count": 398,
     "metadata": {},
     "output_type": "execute_result"
    }
   ],
   "source": [
    "df[df2['E'].isin(['two', 'four'])]\n"
   ]
  },
  {
   "cell_type": "markdown",
   "metadata": {},
   "source": [
    "### 데이터 변경하기"
   ]
  },
  {
   "cell_type": "code",
   "execution_count": 399,
   "metadata": {},
   "outputs": [],
   "source": [
    "s1 = pd.Series([1, 2, 3, 4, 5, 6], index=pd.date_range('20130102', periods=6))\n"
   ]
  },
  {
   "cell_type": "code",
   "execution_count": 400,
   "metadata": {},
   "outputs": [
    {
     "data": {
      "text/plain": [
       "2013-01-02    1\n",
       "2013-01-03    2\n",
       "2013-01-04    3\n",
       "2013-01-05    4\n",
       "2013-01-06    5\n",
       "2013-01-07    6\n",
       "Freq: D, dtype: int64"
      ]
     },
     "execution_count": 400,
     "metadata": {},
     "output_type": "execute_result"
    }
   ],
   "source": [
    "s1\n"
   ]
  },
  {
   "cell_type": "code",
   "execution_count": 401,
   "metadata": {},
   "outputs": [
    {
     "data": {
      "text/html": [
       "<div>\n",
       "<style scoped>\n",
       "    .dataframe tbody tr th:only-of-type {\n",
       "        vertical-align: middle;\n",
       "    }\n",
       "\n",
       "    .dataframe tbody tr th {\n",
       "        vertical-align: top;\n",
       "    }\n",
       "\n",
       "    .dataframe thead th {\n",
       "        text-align: right;\n",
       "    }\n",
       "</style>\n",
       "<table border=\"1\" class=\"dataframe\">\n",
       "  <thead>\n",
       "    <tr style=\"text-align: right;\">\n",
       "      <th></th>\n",
       "      <th>A</th>\n",
       "      <th>B</th>\n",
       "      <th>C</th>\n",
       "      <th>D</th>\n",
       "      <th>F</th>\n",
       "    </tr>\n",
       "  </thead>\n",
       "  <tbody>\n",
       "    <tr>\n",
       "      <th>2013-01-01</th>\n",
       "      <td>0.004610</td>\n",
       "      <td>-0.082374</td>\n",
       "      <td>-1.641580</td>\n",
       "      <td>0.242034</td>\n",
       "      <td>NaN</td>\n",
       "    </tr>\n",
       "    <tr>\n",
       "      <th>2013-01-02</th>\n",
       "      <td>0.115644</td>\n",
       "      <td>-0.266280</td>\n",
       "      <td>1.035327</td>\n",
       "      <td>-1.383326</td>\n",
       "      <td>1.0</td>\n",
       "    </tr>\n",
       "    <tr>\n",
       "      <th>2013-01-03</th>\n",
       "      <td>-1.125347</td>\n",
       "      <td>0.323424</td>\n",
       "      <td>-0.638049</td>\n",
       "      <td>0.762301</td>\n",
       "      <td>2.0</td>\n",
       "    </tr>\n",
       "    <tr>\n",
       "      <th>2013-01-04</th>\n",
       "      <td>-0.876992</td>\n",
       "      <td>0.161976</td>\n",
       "      <td>0.953200</td>\n",
       "      <td>-0.344498</td>\n",
       "      <td>3.0</td>\n",
       "    </tr>\n",
       "    <tr>\n",
       "      <th>2013-01-05</th>\n",
       "      <td>0.632931</td>\n",
       "      <td>0.925766</td>\n",
       "      <td>-0.151015</td>\n",
       "      <td>0.454365</td>\n",
       "      <td>4.0</td>\n",
       "    </tr>\n",
       "    <tr>\n",
       "      <th>2013-01-06</th>\n",
       "      <td>-2.537890</td>\n",
       "      <td>0.341461</td>\n",
       "      <td>0.049185</td>\n",
       "      <td>1.794655</td>\n",
       "      <td>5.0</td>\n",
       "    </tr>\n",
       "  </tbody>\n",
       "</table>\n",
       "</div>"
      ],
      "text/plain": [
       "                   A         B         C         D    F\n",
       "2013-01-01  0.004610 -0.082374 -1.641580  0.242034  NaN\n",
       "2013-01-02  0.115644 -0.266280  1.035327 -1.383326  1.0\n",
       "2013-01-03 -1.125347  0.323424 -0.638049  0.762301  2.0\n",
       "2013-01-04 -0.876992  0.161976  0.953200 -0.344498  3.0\n",
       "2013-01-05  0.632931  0.925766 -0.151015  0.454365  4.0\n",
       "2013-01-06 -2.537890  0.341461  0.049185  1.794655  5.0"
      ]
     },
     "execution_count": 401,
     "metadata": {},
     "output_type": "execute_result"
    }
   ],
   "source": [
    "df['F'] = s1\n",
    "df\n"
   ]
  },
  {
   "cell_type": "code",
   "execution_count": 402,
   "metadata": {},
   "outputs": [],
   "source": [
    "df.at[dates[0], 'A'] = 0\n"
   ]
  },
  {
   "cell_type": "code",
   "execution_count": 403,
   "metadata": {},
   "outputs": [],
   "source": [
    "df.iat[0, 1] = 0\n"
   ]
  },
  {
   "cell_type": "code",
   "execution_count": 404,
   "metadata": {},
   "outputs": [],
   "source": [
    "df.iat[0, 1] = 0\n"
   ]
  },
  {
   "cell_type": "code",
   "execution_count": 405,
   "metadata": {},
   "outputs": [
    {
     "data": {
      "text/html": [
       "<div>\n",
       "<style scoped>\n",
       "    .dataframe tbody tr th:only-of-type {\n",
       "        vertical-align: middle;\n",
       "    }\n",
       "\n",
       "    .dataframe tbody tr th {\n",
       "        vertical-align: top;\n",
       "    }\n",
       "\n",
       "    .dataframe thead th {\n",
       "        text-align: right;\n",
       "    }\n",
       "</style>\n",
       "<table border=\"1\" class=\"dataframe\">\n",
       "  <thead>\n",
       "    <tr style=\"text-align: right;\">\n",
       "      <th></th>\n",
       "      <th>A</th>\n",
       "      <th>B</th>\n",
       "      <th>C</th>\n",
       "      <th>D</th>\n",
       "      <th>F</th>\n",
       "    </tr>\n",
       "  </thead>\n",
       "  <tbody>\n",
       "    <tr>\n",
       "      <th>2013-01-01</th>\n",
       "      <td>0.000000</td>\n",
       "      <td>0.000000</td>\n",
       "      <td>-1.641580</td>\n",
       "      <td>0.242034</td>\n",
       "      <td>NaN</td>\n",
       "    </tr>\n",
       "    <tr>\n",
       "      <th>2013-01-02</th>\n",
       "      <td>0.115644</td>\n",
       "      <td>-0.266280</td>\n",
       "      <td>1.035327</td>\n",
       "      <td>-1.383326</td>\n",
       "      <td>1.0</td>\n",
       "    </tr>\n",
       "    <tr>\n",
       "      <th>2013-01-03</th>\n",
       "      <td>-1.125347</td>\n",
       "      <td>0.323424</td>\n",
       "      <td>-0.638049</td>\n",
       "      <td>0.762301</td>\n",
       "      <td>2.0</td>\n",
       "    </tr>\n",
       "    <tr>\n",
       "      <th>2013-01-04</th>\n",
       "      <td>-0.876992</td>\n",
       "      <td>0.161976</td>\n",
       "      <td>0.953200</td>\n",
       "      <td>-0.344498</td>\n",
       "      <td>3.0</td>\n",
       "    </tr>\n",
       "    <tr>\n",
       "      <th>2013-01-05</th>\n",
       "      <td>0.632931</td>\n",
       "      <td>0.925766</td>\n",
       "      <td>-0.151015</td>\n",
       "      <td>0.454365</td>\n",
       "      <td>4.0</td>\n",
       "    </tr>\n",
       "    <tr>\n",
       "      <th>2013-01-06</th>\n",
       "      <td>-2.537890</td>\n",
       "      <td>0.341461</td>\n",
       "      <td>0.049185</td>\n",
       "      <td>1.794655</td>\n",
       "      <td>5.0</td>\n",
       "    </tr>\n",
       "  </tbody>\n",
       "</table>\n",
       "</div>"
      ],
      "text/plain": [
       "                   A         B         C         D    F\n",
       "2013-01-01  0.000000  0.000000 -1.641580  0.242034  NaN\n",
       "2013-01-02  0.115644 -0.266280  1.035327 -1.383326  1.0\n",
       "2013-01-03 -1.125347  0.323424 -0.638049  0.762301  2.0\n",
       "2013-01-04 -0.876992  0.161976  0.953200 -0.344498  3.0\n",
       "2013-01-05  0.632931  0.925766 -0.151015  0.454365  4.0\n",
       "2013-01-06 -2.537890  0.341461  0.049185  1.794655  5.0"
      ]
     },
     "execution_count": 405,
     "metadata": {},
     "output_type": "execute_result"
    }
   ],
   "source": [
    "df\n"
   ]
  },
  {
   "cell_type": "code",
   "execution_count": 406,
   "metadata": {},
   "outputs": [],
   "source": [
    "df.loc[:, 'D'] = np.array([5] * len(df))\n"
   ]
  },
  {
   "cell_type": "code",
   "execution_count": 407,
   "metadata": {},
   "outputs": [
    {
     "data": {
      "text/html": [
       "<div>\n",
       "<style scoped>\n",
       "    .dataframe tbody tr th:only-of-type {\n",
       "        vertical-align: middle;\n",
       "    }\n",
       "\n",
       "    .dataframe tbody tr th {\n",
       "        vertical-align: top;\n",
       "    }\n",
       "\n",
       "    .dataframe thead th {\n",
       "        text-align: right;\n",
       "    }\n",
       "</style>\n",
       "<table border=\"1\" class=\"dataframe\">\n",
       "  <thead>\n",
       "    <tr style=\"text-align: right;\">\n",
       "      <th></th>\n",
       "      <th>A</th>\n",
       "      <th>B</th>\n",
       "      <th>C</th>\n",
       "      <th>D</th>\n",
       "      <th>F</th>\n",
       "    </tr>\n",
       "  </thead>\n",
       "  <tbody>\n",
       "    <tr>\n",
       "      <th>2013-01-01</th>\n",
       "      <td>0.000000</td>\n",
       "      <td>0.000000</td>\n",
       "      <td>-1.641580</td>\n",
       "      <td>5</td>\n",
       "      <td>NaN</td>\n",
       "    </tr>\n",
       "    <tr>\n",
       "      <th>2013-01-02</th>\n",
       "      <td>0.115644</td>\n",
       "      <td>-0.266280</td>\n",
       "      <td>1.035327</td>\n",
       "      <td>5</td>\n",
       "      <td>1.0</td>\n",
       "    </tr>\n",
       "    <tr>\n",
       "      <th>2013-01-03</th>\n",
       "      <td>-1.125347</td>\n",
       "      <td>0.323424</td>\n",
       "      <td>-0.638049</td>\n",
       "      <td>5</td>\n",
       "      <td>2.0</td>\n",
       "    </tr>\n",
       "    <tr>\n",
       "      <th>2013-01-04</th>\n",
       "      <td>-0.876992</td>\n",
       "      <td>0.161976</td>\n",
       "      <td>0.953200</td>\n",
       "      <td>5</td>\n",
       "      <td>3.0</td>\n",
       "    </tr>\n",
       "    <tr>\n",
       "      <th>2013-01-05</th>\n",
       "      <td>0.632931</td>\n",
       "      <td>0.925766</td>\n",
       "      <td>-0.151015</td>\n",
       "      <td>5</td>\n",
       "      <td>4.0</td>\n",
       "    </tr>\n",
       "    <tr>\n",
       "      <th>2013-01-06</th>\n",
       "      <td>-2.537890</td>\n",
       "      <td>0.341461</td>\n",
       "      <td>0.049185</td>\n",
       "      <td>5</td>\n",
       "      <td>5.0</td>\n",
       "    </tr>\n",
       "  </tbody>\n",
       "</table>\n",
       "</div>"
      ],
      "text/plain": [
       "                   A         B         C  D    F\n",
       "2013-01-01  0.000000  0.000000 -1.641580  5  NaN\n",
       "2013-01-02  0.115644 -0.266280  1.035327  5  1.0\n",
       "2013-01-03 -1.125347  0.323424 -0.638049  5  2.0\n",
       "2013-01-04 -0.876992  0.161976  0.953200  5  3.0\n",
       "2013-01-05  0.632931  0.925766 -0.151015  5  4.0\n",
       "2013-01-06 -2.537890  0.341461  0.049185  5  5.0"
      ]
     },
     "execution_count": 407,
     "metadata": {},
     "output_type": "execute_result"
    }
   ],
   "source": [
    "df\n"
   ]
  },
  {
   "cell_type": "code",
   "execution_count": 408,
   "metadata": {},
   "outputs": [],
   "source": [
    "df2 = df.copy()\n",
    "\n",
    "df2[df2 > 0] = -df2\n"
   ]
  },
  {
   "cell_type": "code",
   "execution_count": 409,
   "metadata": {},
   "outputs": [
    {
     "data": {
      "text/html": [
       "<div>\n",
       "<style scoped>\n",
       "    .dataframe tbody tr th:only-of-type {\n",
       "        vertical-align: middle;\n",
       "    }\n",
       "\n",
       "    .dataframe tbody tr th {\n",
       "        vertical-align: top;\n",
       "    }\n",
       "\n",
       "    .dataframe thead th {\n",
       "        text-align: right;\n",
       "    }\n",
       "</style>\n",
       "<table border=\"1\" class=\"dataframe\">\n",
       "  <thead>\n",
       "    <tr style=\"text-align: right;\">\n",
       "      <th></th>\n",
       "      <th>A</th>\n",
       "      <th>B</th>\n",
       "      <th>C</th>\n",
       "      <th>D</th>\n",
       "      <th>F</th>\n",
       "    </tr>\n",
       "  </thead>\n",
       "  <tbody>\n",
       "    <tr>\n",
       "      <th>2013-01-01</th>\n",
       "      <td>0.000000</td>\n",
       "      <td>0.000000</td>\n",
       "      <td>-1.641580</td>\n",
       "      <td>-5</td>\n",
       "      <td>NaN</td>\n",
       "    </tr>\n",
       "    <tr>\n",
       "      <th>2013-01-02</th>\n",
       "      <td>-0.115644</td>\n",
       "      <td>-0.266280</td>\n",
       "      <td>-1.035327</td>\n",
       "      <td>-5</td>\n",
       "      <td>-1.0</td>\n",
       "    </tr>\n",
       "    <tr>\n",
       "      <th>2013-01-03</th>\n",
       "      <td>-1.125347</td>\n",
       "      <td>-0.323424</td>\n",
       "      <td>-0.638049</td>\n",
       "      <td>-5</td>\n",
       "      <td>-2.0</td>\n",
       "    </tr>\n",
       "    <tr>\n",
       "      <th>2013-01-04</th>\n",
       "      <td>-0.876992</td>\n",
       "      <td>-0.161976</td>\n",
       "      <td>-0.953200</td>\n",
       "      <td>-5</td>\n",
       "      <td>-3.0</td>\n",
       "    </tr>\n",
       "    <tr>\n",
       "      <th>2013-01-05</th>\n",
       "      <td>-0.632931</td>\n",
       "      <td>-0.925766</td>\n",
       "      <td>-0.151015</td>\n",
       "      <td>-5</td>\n",
       "      <td>-4.0</td>\n",
       "    </tr>\n",
       "    <tr>\n",
       "      <th>2013-01-06</th>\n",
       "      <td>-2.537890</td>\n",
       "      <td>-0.341461</td>\n",
       "      <td>-0.049185</td>\n",
       "      <td>-5</td>\n",
       "      <td>-5.0</td>\n",
       "    </tr>\n",
       "  </tbody>\n",
       "</table>\n",
       "</div>"
      ],
      "text/plain": [
       "                   A         B         C  D    F\n",
       "2013-01-01  0.000000  0.000000 -1.641580 -5  NaN\n",
       "2013-01-02 -0.115644 -0.266280 -1.035327 -5 -1.0\n",
       "2013-01-03 -1.125347 -0.323424 -0.638049 -5 -2.0\n",
       "2013-01-04 -0.876992 -0.161976 -0.953200 -5 -3.0\n",
       "2013-01-05 -0.632931 -0.925766 -0.151015 -5 -4.0\n",
       "2013-01-06 -2.537890 -0.341461 -0.049185 -5 -5.0"
      ]
     },
     "execution_count": 409,
     "metadata": {},
     "output_type": "execute_result"
    }
   ],
   "source": [
    "df2\n"
   ]
  },
  {
   "cell_type": "markdown",
   "metadata": {},
   "source": [
    "### 4. 결측치"
   ]
  },
  {
   "cell_type": "code",
   "execution_count": 410,
   "metadata": {},
   "outputs": [
    {
     "data": {
      "text/html": [
       "<div>\n",
       "<style scoped>\n",
       "    .dataframe tbody tr th:only-of-type {\n",
       "        vertical-align: middle;\n",
       "    }\n",
       "\n",
       "    .dataframe tbody tr th {\n",
       "        vertical-align: top;\n",
       "    }\n",
       "\n",
       "    .dataframe thead th {\n",
       "        text-align: right;\n",
       "    }\n",
       "</style>\n",
       "<table border=\"1\" class=\"dataframe\">\n",
       "  <thead>\n",
       "    <tr style=\"text-align: right;\">\n",
       "      <th></th>\n",
       "      <th>A</th>\n",
       "      <th>B</th>\n",
       "      <th>C</th>\n",
       "      <th>D</th>\n",
       "      <th>F</th>\n",
       "      <th>E</th>\n",
       "    </tr>\n",
       "  </thead>\n",
       "  <tbody>\n",
       "    <tr>\n",
       "      <th>2013-01-01</th>\n",
       "      <td>0.000000</td>\n",
       "      <td>0.000000</td>\n",
       "      <td>-1.641580</td>\n",
       "      <td>5</td>\n",
       "      <td>NaN</td>\n",
       "      <td>1.0</td>\n",
       "    </tr>\n",
       "    <tr>\n",
       "      <th>2013-01-02</th>\n",
       "      <td>0.115644</td>\n",
       "      <td>-0.266280</td>\n",
       "      <td>1.035327</td>\n",
       "      <td>5</td>\n",
       "      <td>1.0</td>\n",
       "      <td>1.0</td>\n",
       "    </tr>\n",
       "    <tr>\n",
       "      <th>2013-01-03</th>\n",
       "      <td>-1.125347</td>\n",
       "      <td>0.323424</td>\n",
       "      <td>-0.638049</td>\n",
       "      <td>5</td>\n",
       "      <td>2.0</td>\n",
       "      <td>NaN</td>\n",
       "    </tr>\n",
       "    <tr>\n",
       "      <th>2013-01-04</th>\n",
       "      <td>-0.876992</td>\n",
       "      <td>0.161976</td>\n",
       "      <td>0.953200</td>\n",
       "      <td>5</td>\n",
       "      <td>3.0</td>\n",
       "      <td>NaN</td>\n",
       "    </tr>\n",
       "  </tbody>\n",
       "</table>\n",
       "</div>"
      ],
      "text/plain": [
       "                   A         B         C  D    F    E\n",
       "2013-01-01  0.000000  0.000000 -1.641580  5  NaN  1.0\n",
       "2013-01-02  0.115644 -0.266280  1.035327  5  1.0  1.0\n",
       "2013-01-03 -1.125347  0.323424 -0.638049  5  2.0  NaN\n",
       "2013-01-04 -0.876992  0.161976  0.953200  5  3.0  NaN"
      ]
     },
     "execution_count": 410,
     "metadata": {},
     "output_type": "execute_result"
    }
   ],
   "source": [
    "df1 = df.reindex(index=dates[0:4], columns=list(df.columns) + ['E'])\n",
    "df1.loc[dates[0] : dates[1], 'E'] = 1\n",
    "df1\n"
   ]
  },
  {
   "cell_type": "code",
   "execution_count": 411,
   "metadata": {},
   "outputs": [
    {
     "data": {
      "text/html": [
       "<div>\n",
       "<style scoped>\n",
       "    .dataframe tbody tr th:only-of-type {\n",
       "        vertical-align: middle;\n",
       "    }\n",
       "\n",
       "    .dataframe tbody tr th {\n",
       "        vertical-align: top;\n",
       "    }\n",
       "\n",
       "    .dataframe thead th {\n",
       "        text-align: right;\n",
       "    }\n",
       "</style>\n",
       "<table border=\"1\" class=\"dataframe\">\n",
       "  <thead>\n",
       "    <tr style=\"text-align: right;\">\n",
       "      <th></th>\n",
       "      <th>A</th>\n",
       "      <th>B</th>\n",
       "      <th>C</th>\n",
       "      <th>D</th>\n",
       "      <th>F</th>\n",
       "      <th>E</th>\n",
       "    </tr>\n",
       "  </thead>\n",
       "  <tbody>\n",
       "    <tr>\n",
       "      <th>2013-01-02</th>\n",
       "      <td>0.115644</td>\n",
       "      <td>-0.26628</td>\n",
       "      <td>1.035327</td>\n",
       "      <td>5</td>\n",
       "      <td>1.0</td>\n",
       "      <td>1.0</td>\n",
       "    </tr>\n",
       "  </tbody>\n",
       "</table>\n",
       "</div>"
      ],
      "text/plain": [
       "                   A        B         C  D    F    E\n",
       "2013-01-02  0.115644 -0.26628  1.035327  5  1.0  1.0"
      ]
     },
     "execution_count": 411,
     "metadata": {},
     "output_type": "execute_result"
    }
   ],
   "source": [
    "df1.dropna(how='any')\n"
   ]
  },
  {
   "cell_type": "code",
   "execution_count": 412,
   "metadata": {},
   "outputs": [
    {
     "data": {
      "text/html": [
       "<div>\n",
       "<style scoped>\n",
       "    .dataframe tbody tr th:only-of-type {\n",
       "        vertical-align: middle;\n",
       "    }\n",
       "\n",
       "    .dataframe tbody tr th {\n",
       "        vertical-align: top;\n",
       "    }\n",
       "\n",
       "    .dataframe thead th {\n",
       "        text-align: right;\n",
       "    }\n",
       "</style>\n",
       "<table border=\"1\" class=\"dataframe\">\n",
       "  <thead>\n",
       "    <tr style=\"text-align: right;\">\n",
       "      <th></th>\n",
       "      <th>A</th>\n",
       "      <th>B</th>\n",
       "      <th>C</th>\n",
       "      <th>D</th>\n",
       "      <th>F</th>\n",
       "      <th>E</th>\n",
       "    </tr>\n",
       "  </thead>\n",
       "  <tbody>\n",
       "    <tr>\n",
       "      <th>2013-01-01</th>\n",
       "      <td>0.000000</td>\n",
       "      <td>0.000000</td>\n",
       "      <td>-1.641580</td>\n",
       "      <td>5</td>\n",
       "      <td>5.0</td>\n",
       "      <td>1.0</td>\n",
       "    </tr>\n",
       "    <tr>\n",
       "      <th>2013-01-02</th>\n",
       "      <td>0.115644</td>\n",
       "      <td>-0.266280</td>\n",
       "      <td>1.035327</td>\n",
       "      <td>5</td>\n",
       "      <td>1.0</td>\n",
       "      <td>1.0</td>\n",
       "    </tr>\n",
       "    <tr>\n",
       "      <th>2013-01-03</th>\n",
       "      <td>-1.125347</td>\n",
       "      <td>0.323424</td>\n",
       "      <td>-0.638049</td>\n",
       "      <td>5</td>\n",
       "      <td>2.0</td>\n",
       "      <td>5.0</td>\n",
       "    </tr>\n",
       "    <tr>\n",
       "      <th>2013-01-04</th>\n",
       "      <td>-0.876992</td>\n",
       "      <td>0.161976</td>\n",
       "      <td>0.953200</td>\n",
       "      <td>5</td>\n",
       "      <td>3.0</td>\n",
       "      <td>5.0</td>\n",
       "    </tr>\n",
       "  </tbody>\n",
       "</table>\n",
       "</div>"
      ],
      "text/plain": [
       "                   A         B         C  D    F    E\n",
       "2013-01-01  0.000000  0.000000 -1.641580  5  5.0  1.0\n",
       "2013-01-02  0.115644 -0.266280  1.035327  5  1.0  1.0\n",
       "2013-01-03 -1.125347  0.323424 -0.638049  5  2.0  5.0\n",
       "2013-01-04 -0.876992  0.161976  0.953200  5  3.0  5.0"
      ]
     },
     "execution_count": 412,
     "metadata": {},
     "output_type": "execute_result"
    }
   ],
   "source": [
    "df1.fillna(value=5)\n"
   ]
  },
  {
   "cell_type": "code",
   "execution_count": 413,
   "metadata": {},
   "outputs": [
    {
     "data": {
      "text/html": [
       "<div>\n",
       "<style scoped>\n",
       "    .dataframe tbody tr th:only-of-type {\n",
       "        vertical-align: middle;\n",
       "    }\n",
       "\n",
       "    .dataframe tbody tr th {\n",
       "        vertical-align: top;\n",
       "    }\n",
       "\n",
       "    .dataframe thead th {\n",
       "        text-align: right;\n",
       "    }\n",
       "</style>\n",
       "<table border=\"1\" class=\"dataframe\">\n",
       "  <thead>\n",
       "    <tr style=\"text-align: right;\">\n",
       "      <th></th>\n",
       "      <th>A</th>\n",
       "      <th>B</th>\n",
       "      <th>C</th>\n",
       "      <th>D</th>\n",
       "      <th>F</th>\n",
       "      <th>E</th>\n",
       "    </tr>\n",
       "  </thead>\n",
       "  <tbody>\n",
       "    <tr>\n",
       "      <th>2013-01-01</th>\n",
       "      <td>False</td>\n",
       "      <td>False</td>\n",
       "      <td>False</td>\n",
       "      <td>False</td>\n",
       "      <td>True</td>\n",
       "      <td>False</td>\n",
       "    </tr>\n",
       "    <tr>\n",
       "      <th>2013-01-02</th>\n",
       "      <td>False</td>\n",
       "      <td>False</td>\n",
       "      <td>False</td>\n",
       "      <td>False</td>\n",
       "      <td>False</td>\n",
       "      <td>False</td>\n",
       "    </tr>\n",
       "    <tr>\n",
       "      <th>2013-01-03</th>\n",
       "      <td>False</td>\n",
       "      <td>False</td>\n",
       "      <td>False</td>\n",
       "      <td>False</td>\n",
       "      <td>False</td>\n",
       "      <td>True</td>\n",
       "    </tr>\n",
       "    <tr>\n",
       "      <th>2013-01-04</th>\n",
       "      <td>False</td>\n",
       "      <td>False</td>\n",
       "      <td>False</td>\n",
       "      <td>False</td>\n",
       "      <td>False</td>\n",
       "      <td>True</td>\n",
       "    </tr>\n",
       "  </tbody>\n",
       "</table>\n",
       "</div>"
      ],
      "text/plain": [
       "                A      B      C      D      F      E\n",
       "2013-01-01  False  False  False  False   True  False\n",
       "2013-01-02  False  False  False  False  False  False\n",
       "2013-01-03  False  False  False  False  False   True\n",
       "2013-01-04  False  False  False  False  False   True"
      ]
     },
     "execution_count": 413,
     "metadata": {},
     "output_type": "execute_result"
    }
   ],
   "source": [
    "pd.isna(df1)\n"
   ]
  },
  {
   "cell_type": "markdown",
   "metadata": {},
   "source": [
    "### 5. 연산 (Operations)"
   ]
  },
  {
   "cell_type": "markdown",
   "metadata": {},
   "source": [
    "#### 통계적 지표들 (Stats)"
   ]
  },
  {
   "cell_type": "code",
   "execution_count": 414,
   "metadata": {},
   "outputs": [
    {
     "data": {
      "text/plain": [
       "A   -0.631943\n",
       "B    0.247725\n",
       "C   -0.065489\n",
       "D    5.000000\n",
       "F    3.000000\n",
       "dtype: float64"
      ]
     },
     "execution_count": 414,
     "metadata": {},
     "output_type": "execute_result"
    }
   ],
   "source": [
    "df.mean()\n"
   ]
  },
  {
   "cell_type": "code",
   "execution_count": 415,
   "metadata": {},
   "outputs": [
    {
     "data": {
      "text/plain": [
       "2013-01-01    0.839605\n",
       "2013-01-02    1.376938\n",
       "2013-01-03    1.112006\n",
       "2013-01-04    1.647637\n",
       "2013-01-05    2.081536\n",
       "2013-01-06    1.570551\n",
       "Freq: D, dtype: float64"
      ]
     },
     "execution_count": 415,
     "metadata": {},
     "output_type": "execute_result"
    }
   ],
   "source": [
    "df.mean(1)\n"
   ]
  },
  {
   "cell_type": "code",
   "execution_count": 416,
   "metadata": {},
   "outputs": [
    {
     "data": {
      "text/plain": [
       "2013-01-01    NaN\n",
       "2013-01-02    NaN\n",
       "2013-01-03    1.0\n",
       "2013-01-04    3.0\n",
       "2013-01-05    5.0\n",
       "2013-01-06    NaN\n",
       "Freq: D, dtype: float64"
      ]
     },
     "execution_count": 416,
     "metadata": {},
     "output_type": "execute_result"
    }
   ],
   "source": [
    "s = pd.Series([1, 3, 5, np.nan, 6, 8], index=dates).shift(2)\n",
    "s\n"
   ]
  },
  {
   "cell_type": "markdown",
   "metadata": {},
   "source": [
    "#### 히스토그램 구하기 (Histogramming)"
   ]
  },
  {
   "cell_type": "code",
   "execution_count": 417,
   "metadata": {},
   "outputs": [
    {
     "data": {
      "text/plain": [
       "0    1\n",
       "1    5\n",
       "2    1\n",
       "3    6\n",
       "4    3\n",
       "5    1\n",
       "6    0\n",
       "7    2\n",
       "8    2\n",
       "9    4\n",
       "dtype: int32"
      ]
     },
     "execution_count": 417,
     "metadata": {},
     "output_type": "execute_result"
    }
   ],
   "source": [
    "s = pd.Series(np.random.randint(0, 7, size=10))\n",
    "s\n"
   ]
  },
  {
   "cell_type": "code",
   "execution_count": 418,
   "metadata": {},
   "outputs": [
    {
     "data": {
      "text/plain": [
       "1    3\n",
       "2    2\n",
       "5    1\n",
       "6    1\n",
       "3    1\n",
       "0    1\n",
       "4    1\n",
       "dtype: int64"
      ]
     },
     "execution_count": 418,
     "metadata": {},
     "output_type": "execute_result"
    }
   ],
   "source": [
    "s.value_counts()\n"
   ]
  },
  {
   "cell_type": "markdown",
   "metadata": {},
   "source": [
    "#### 문자열 관련 메소드들 (String methods)"
   ]
  },
  {
   "cell_type": "code",
   "execution_count": 419,
   "metadata": {},
   "outputs": [
    {
     "name": "stdout",
     "output_type": "stream",
     "text": [
      "<pandas.core.strings.accessor.StringMethods object at 0x0000016C4A6D50D0>\n",
      "0       a\n",
      "1       b\n",
      "2       c\n",
      "3    aaba\n",
      "4    baca\n",
      "5     NaN\n",
      "6    caba\n",
      "7     dog\n",
      "8     cat\n",
      "dtype: object\n"
     ]
    }
   ],
   "source": [
    "s = pd.Series(['A', 'B', 'C', 'Aaba', 'Baca', np.nan, 'CABA', 'dog', 'cat'])\n",
    "print(s.str)\n",
    "print(s.str.lower())\n"
   ]
  },
  {
   "cell_type": "markdown",
   "metadata": {},
   "source": [
    "### 6. 데이터 합치기 (Merge)"
   ]
  },
  {
   "cell_type": "code",
   "execution_count": 420,
   "metadata": {},
   "outputs": [
    {
     "data": {
      "text/html": [
       "<div>\n",
       "<style scoped>\n",
       "    .dataframe tbody tr th:only-of-type {\n",
       "        vertical-align: middle;\n",
       "    }\n",
       "\n",
       "    .dataframe tbody tr th {\n",
       "        vertical-align: top;\n",
       "    }\n",
       "\n",
       "    .dataframe thead th {\n",
       "        text-align: right;\n",
       "    }\n",
       "</style>\n",
       "<table border=\"1\" class=\"dataframe\">\n",
       "  <thead>\n",
       "    <tr style=\"text-align: right;\">\n",
       "      <th></th>\n",
       "      <th>0</th>\n",
       "      <th>1</th>\n",
       "      <th>2</th>\n",
       "      <th>3</th>\n",
       "    </tr>\n",
       "  </thead>\n",
       "  <tbody>\n",
       "    <tr>\n",
       "      <th>0</th>\n",
       "      <td>0.872454</td>\n",
       "      <td>-0.180033</td>\n",
       "      <td>-2.626108</td>\n",
       "      <td>0.180223</td>\n",
       "    </tr>\n",
       "    <tr>\n",
       "      <th>1</th>\n",
       "      <td>-0.567384</td>\n",
       "      <td>-1.880464</td>\n",
       "      <td>-1.276119</td>\n",
       "      <td>-1.039685</td>\n",
       "    </tr>\n",
       "    <tr>\n",
       "      <th>2</th>\n",
       "      <td>0.722383</td>\n",
       "      <td>0.203848</td>\n",
       "      <td>-1.189240</td>\n",
       "      <td>-0.660291</td>\n",
       "    </tr>\n",
       "    <tr>\n",
       "      <th>3</th>\n",
       "      <td>0.323432</td>\n",
       "      <td>-0.408570</td>\n",
       "      <td>-0.490635</td>\n",
       "      <td>-0.101630</td>\n",
       "    </tr>\n",
       "    <tr>\n",
       "      <th>4</th>\n",
       "      <td>-0.423435</td>\n",
       "      <td>-1.761391</td>\n",
       "      <td>2.662341</td>\n",
       "      <td>0.426607</td>\n",
       "    </tr>\n",
       "    <tr>\n",
       "      <th>5</th>\n",
       "      <td>-0.760750</td>\n",
       "      <td>0.755189</td>\n",
       "      <td>0.679502</td>\n",
       "      <td>-0.245888</td>\n",
       "    </tr>\n",
       "    <tr>\n",
       "      <th>6</th>\n",
       "      <td>0.553843</td>\n",
       "      <td>-0.203112</td>\n",
       "      <td>1.162033</td>\n",
       "      <td>0.718957</td>\n",
       "    </tr>\n",
       "    <tr>\n",
       "      <th>7</th>\n",
       "      <td>-0.379675</td>\n",
       "      <td>-1.571277</td>\n",
       "      <td>1.409716</td>\n",
       "      <td>-0.910098</td>\n",
       "    </tr>\n",
       "    <tr>\n",
       "      <th>8</th>\n",
       "      <td>1.818038</td>\n",
       "      <td>0.474642</td>\n",
       "      <td>0.117823</td>\n",
       "      <td>0.458066</td>\n",
       "    </tr>\n",
       "    <tr>\n",
       "      <th>9</th>\n",
       "      <td>0.037544</td>\n",
       "      <td>0.541595</td>\n",
       "      <td>-0.963733</td>\n",
       "      <td>0.541487</td>\n",
       "    </tr>\n",
       "  </tbody>\n",
       "</table>\n",
       "</div>"
      ],
      "text/plain": [
       "          0         1         2         3\n",
       "0  0.872454 -0.180033 -2.626108  0.180223\n",
       "1 -0.567384 -1.880464 -1.276119 -1.039685\n",
       "2  0.722383  0.203848 -1.189240 -0.660291\n",
       "3  0.323432 -0.408570 -0.490635 -0.101630\n",
       "4 -0.423435 -1.761391  2.662341  0.426607\n",
       "5 -0.760750  0.755189  0.679502 -0.245888\n",
       "6  0.553843 -0.203112  1.162033  0.718957\n",
       "7 -0.379675 -1.571277  1.409716 -0.910098\n",
       "8  1.818038  0.474642  0.117823  0.458066\n",
       "9  0.037544  0.541595 -0.963733  0.541487"
      ]
     },
     "execution_count": 420,
     "metadata": {},
     "output_type": "execute_result"
    }
   ],
   "source": [
    "df = pd.DataFrame(np.random.randn(10, 4))\n",
    "df\n"
   ]
  },
  {
   "cell_type": "code",
   "execution_count": 421,
   "metadata": {},
   "outputs": [
    {
     "data": {
      "text/html": [
       "<div>\n",
       "<style scoped>\n",
       "    .dataframe tbody tr th:only-of-type {\n",
       "        vertical-align: middle;\n",
       "    }\n",
       "\n",
       "    .dataframe tbody tr th {\n",
       "        vertical-align: top;\n",
       "    }\n",
       "\n",
       "    .dataframe thead th {\n",
       "        text-align: right;\n",
       "    }\n",
       "</style>\n",
       "<table border=\"1\" class=\"dataframe\">\n",
       "  <thead>\n",
       "    <tr style=\"text-align: right;\">\n",
       "      <th></th>\n",
       "      <th>0</th>\n",
       "      <th>1</th>\n",
       "      <th>2</th>\n",
       "      <th>3</th>\n",
       "    </tr>\n",
       "  </thead>\n",
       "  <tbody>\n",
       "    <tr>\n",
       "      <th>0</th>\n",
       "      <td>0.872454</td>\n",
       "      <td>-0.180033</td>\n",
       "      <td>-2.626108</td>\n",
       "      <td>0.180223</td>\n",
       "    </tr>\n",
       "    <tr>\n",
       "      <th>1</th>\n",
       "      <td>-0.567384</td>\n",
       "      <td>-1.880464</td>\n",
       "      <td>-1.276119</td>\n",
       "      <td>-1.039685</td>\n",
       "    </tr>\n",
       "    <tr>\n",
       "      <th>2</th>\n",
       "      <td>0.722383</td>\n",
       "      <td>0.203848</td>\n",
       "      <td>-1.189240</td>\n",
       "      <td>-0.660291</td>\n",
       "    </tr>\n",
       "    <tr>\n",
       "      <th>3</th>\n",
       "      <td>0.323432</td>\n",
       "      <td>-0.408570</td>\n",
       "      <td>-0.490635</td>\n",
       "      <td>-0.101630</td>\n",
       "    </tr>\n",
       "    <tr>\n",
       "      <th>4</th>\n",
       "      <td>-0.423435</td>\n",
       "      <td>-1.761391</td>\n",
       "      <td>2.662341</td>\n",
       "      <td>0.426607</td>\n",
       "    </tr>\n",
       "    <tr>\n",
       "      <th>5</th>\n",
       "      <td>-0.760750</td>\n",
       "      <td>0.755189</td>\n",
       "      <td>0.679502</td>\n",
       "      <td>-0.245888</td>\n",
       "    </tr>\n",
       "    <tr>\n",
       "      <th>6</th>\n",
       "      <td>0.553843</td>\n",
       "      <td>-0.203112</td>\n",
       "      <td>1.162033</td>\n",
       "      <td>0.718957</td>\n",
       "    </tr>\n",
       "    <tr>\n",
       "      <th>7</th>\n",
       "      <td>-0.379675</td>\n",
       "      <td>-1.571277</td>\n",
       "      <td>1.409716</td>\n",
       "      <td>-0.910098</td>\n",
       "    </tr>\n",
       "    <tr>\n",
       "      <th>8</th>\n",
       "      <td>1.818038</td>\n",
       "      <td>0.474642</td>\n",
       "      <td>0.117823</td>\n",
       "      <td>0.458066</td>\n",
       "    </tr>\n",
       "    <tr>\n",
       "      <th>9</th>\n",
       "      <td>0.037544</td>\n",
       "      <td>0.541595</td>\n",
       "      <td>-0.963733</td>\n",
       "      <td>0.541487</td>\n",
       "    </tr>\n",
       "  </tbody>\n",
       "</table>\n",
       "</div>"
      ],
      "text/plain": [
       "          0         1         2         3\n",
       "0  0.872454 -0.180033 -2.626108  0.180223\n",
       "1 -0.567384 -1.880464 -1.276119 -1.039685\n",
       "2  0.722383  0.203848 -1.189240 -0.660291\n",
       "3  0.323432 -0.408570 -0.490635 -0.101630\n",
       "4 -0.423435 -1.761391  2.662341  0.426607\n",
       "5 -0.760750  0.755189  0.679502 -0.245888\n",
       "6  0.553843 -0.203112  1.162033  0.718957\n",
       "7 -0.379675 -1.571277  1.409716 -0.910098\n",
       "8  1.818038  0.474642  0.117823  0.458066\n",
       "9  0.037544  0.541595 -0.963733  0.541487"
      ]
     },
     "execution_count": 421,
     "metadata": {},
     "output_type": "execute_result"
    }
   ],
   "source": [
    "pieces = [df[:3], df[3:7], df[7:]]\n",
    "pd.concat(pieces)\n"
   ]
  },
  {
   "cell_type": "code",
   "execution_count": 422,
   "metadata": {},
   "outputs": [
    {
     "name": "stdout",
     "output_type": "stream",
     "text": [
      "==>> left:     key  lval\n",
      "0  foo     1\n",
      "1  foo     2\n",
      "==>> right:     key  rval\n",
      "0  foo     4\n",
      "1  foo     5\n",
      "==>> merged:     key  lval  rval\n",
      "0  foo     1     4\n",
      "1  foo     1     5\n",
      "2  foo     2     4\n",
      "3  foo     2     5\n"
     ]
    }
   ],
   "source": [
    "left = pd.DataFrame({'key': ['foo', 'foo'], 'lval': [1, 2]})\n",
    "print(\"==>> left: \", left)\n",
    "right = pd.DataFrame({'key': ['foo', 'foo'], 'rval': [4, 5]})\n",
    "print(\"==>> right: \", right)\n",
    "merged = pd.merge(left, right, on='key')\n",
    "print(\"==>> merged: \", merged)\n",
    "\n"
   ]
  },
  {
   "cell_type": "code",
   "execution_count": 423,
   "metadata": {},
   "outputs": [
    {
     "name": "stdout",
     "output_type": "stream",
     "text": [
      "==>> left:     key  lval\n",
      "0  foo     1\n",
      "1  bar     2\n",
      "==>> right:     key  rval\n",
      "0  foo     4\n",
      "1  bar     5\n",
      "==>> merged:     key  lval  rval\n",
      "0  foo     1     4\n",
      "1  bar     2     5\n"
     ]
    }
   ],
   "source": [
    "left = pd.DataFrame({'key': ['foo', 'bar'], 'lval': [1, 2]})\n",
    "print(\"==>> left: \", left)\n",
    "right = pd.DataFrame({'key': ['foo', 'bar'], 'rval': [4, 5]})\n",
    "print(\"==>> right: \", right)\n",
    "\n",
    "merged = pd.merge(left, right, on='key')\n",
    "print(\"==>> merged: \", merged)\n",
    "\n"
   ]
  },
  {
   "cell_type": "code",
   "execution_count": 424,
   "metadata": {},
   "outputs": [
    {
     "name": "stdout",
     "output_type": "stream",
     "text": [
      "==>> df:            A         B         C         D\n",
      "0 -0.491167 -0.038563  1.905716  0.447938\n",
      "1  1.536628 -0.197816 -0.465404 -1.840675\n",
      "2  0.009874 -1.387124 -1.115531 -0.691317\n",
      "3  0.376206 -1.554699  1.081086  0.416556\n",
      "4 -1.988801  0.199333  0.516805 -0.973956\n",
      "5 -0.648965  1.740341  1.157986 -0.629679\n",
      "6 -0.771014  0.436333  0.037616  0.458729\n",
      "7 -0.489366  0.490880  1.410300 -0.625011\n"
     ]
    }
   ],
   "source": [
    "df = pd.DataFrame(np.random.randn(8, 4), columns=['A', 'B', 'C', 'D'])\n",
    "print(\"==>> df: \", df)\n"
   ]
  },
  {
   "cell_type": "code",
   "execution_count": 425,
   "metadata": {},
   "outputs": [
    {
     "name": "stdout",
     "output_type": "stream",
     "text": [
      "          A         B         C         D\n",
      "0 -0.491167 -0.038563  1.905716  0.447938\n",
      "1  1.536628 -0.197816 -0.465404 -1.840675\n",
      "2  0.009874 -1.387124 -1.115531 -0.691317\n",
      "3  0.376206 -1.554699  1.081086  0.416556\n",
      "4 -1.988801  0.199333  0.516805 -0.973956\n",
      "5 -0.648965  1.740341  1.157986 -0.629679\n",
      "6 -0.771014  0.436333  0.037616  0.458729\n",
      "7 -0.489366  0.490880  1.410300 -0.625011\n",
      "8  0.376206 -1.554699  1.081086  0.416556\n"
     ]
    },
    {
     "name": "stderr",
     "output_type": "stream",
     "text": [
      "C:\\Users\\sms20\\AppData\\Local\\Temp\\ipykernel_29492\\519667588.py:2: FutureWarning: The frame.append method is deprecated and will be removed from pandas in a future version. Use pandas.concat instead.\n",
      "  print(df.append(s, ignore_index=True))\n"
     ]
    }
   ],
   "source": [
    "s = df.iloc[3]\n",
    "print(df.append(s, ignore_index=True))\n"
   ]
  },
  {
   "cell_type": "markdown",
   "metadata": {},
   "source": [
    "### 7. 묶기 (Grouping)"
   ]
  },
  {
   "cell_type": "code",
   "execution_count": 426,
   "metadata": {},
   "outputs": [
    {
     "data": {
      "text/html": [
       "<div>\n",
       "<style scoped>\n",
       "    .dataframe tbody tr th:only-of-type {\n",
       "        vertical-align: middle;\n",
       "    }\n",
       "\n",
       "    .dataframe tbody tr th {\n",
       "        vertical-align: top;\n",
       "    }\n",
       "\n",
       "    .dataframe thead th {\n",
       "        text-align: right;\n",
       "    }\n",
       "</style>\n",
       "<table border=\"1\" class=\"dataframe\">\n",
       "  <thead>\n",
       "    <tr style=\"text-align: right;\">\n",
       "      <th></th>\n",
       "      <th>A</th>\n",
       "      <th>B</th>\n",
       "      <th>C</th>\n",
       "      <th>D</th>\n",
       "    </tr>\n",
       "  </thead>\n",
       "  <tbody>\n",
       "    <tr>\n",
       "      <th>0</th>\n",
       "      <td>foo</td>\n",
       "      <td>one</td>\n",
       "      <td>1.672649</td>\n",
       "      <td>0.178867</td>\n",
       "    </tr>\n",
       "    <tr>\n",
       "      <th>1</th>\n",
       "      <td>bar</td>\n",
       "      <td>one</td>\n",
       "      <td>-1.517461</td>\n",
       "      <td>0.596793</td>\n",
       "    </tr>\n",
       "    <tr>\n",
       "      <th>2</th>\n",
       "      <td>foo</td>\n",
       "      <td>two</td>\n",
       "      <td>-1.091292</td>\n",
       "      <td>-1.278382</td>\n",
       "    </tr>\n",
       "    <tr>\n",
       "      <th>3</th>\n",
       "      <td>bar</td>\n",
       "      <td>three</td>\n",
       "      <td>0.566065</td>\n",
       "      <td>0.019508</td>\n",
       "    </tr>\n",
       "    <tr>\n",
       "      <th>4</th>\n",
       "      <td>foo</td>\n",
       "      <td>two</td>\n",
       "      <td>0.167188</td>\n",
       "      <td>1.516955</td>\n",
       "    </tr>\n",
       "    <tr>\n",
       "      <th>5</th>\n",
       "      <td>bar</td>\n",
       "      <td>two</td>\n",
       "      <td>-0.375726</td>\n",
       "      <td>0.396092</td>\n",
       "    </tr>\n",
       "    <tr>\n",
       "      <th>6</th>\n",
       "      <td>foo</td>\n",
       "      <td>one</td>\n",
       "      <td>-2.407725</td>\n",
       "      <td>1.586750</td>\n",
       "    </tr>\n",
       "    <tr>\n",
       "      <th>7</th>\n",
       "      <td>foo</td>\n",
       "      <td>three</td>\n",
       "      <td>-1.376062</td>\n",
       "      <td>-0.165372</td>\n",
       "    </tr>\n",
       "  </tbody>\n",
       "</table>\n",
       "</div>"
      ],
      "text/plain": [
       "     A      B         C         D\n",
       "0  foo    one  1.672649  0.178867\n",
       "1  bar    one -1.517461  0.596793\n",
       "2  foo    two -1.091292 -1.278382\n",
       "3  bar  three  0.566065  0.019508\n",
       "4  foo    two  0.167188  1.516955\n",
       "5  bar    two -0.375726  0.396092\n",
       "6  foo    one -2.407725  1.586750\n",
       "7  foo  three -1.376062 -0.165372"
      ]
     },
     "execution_count": 426,
     "metadata": {},
     "output_type": "execute_result"
    }
   ],
   "source": [
    "df = pd.DataFrame(\n",
    "    {\n",
    "        'A': ['foo', 'bar', 'foo', 'bar', 'foo', 'bar', 'foo', 'foo'],\n",
    "        'B': ['one', 'one', 'two', 'three', 'two', 'two', 'one', 'three'],\n",
    "        'C': np.random.randn(8),\n",
    "        'D': np.random.randn(8),\n",
    "    }\n",
    ")\n",
    "df\n"
   ]
  },
  {
   "cell_type": "code",
   "execution_count": 427,
   "metadata": {},
   "outputs": [
    {
     "data": {
      "text/html": [
       "<div>\n",
       "<style scoped>\n",
       "    .dataframe tbody tr th:only-of-type {\n",
       "        vertical-align: middle;\n",
       "    }\n",
       "\n",
       "    .dataframe tbody tr th {\n",
       "        vertical-align: top;\n",
       "    }\n",
       "\n",
       "    .dataframe thead th {\n",
       "        text-align: right;\n",
       "    }\n",
       "</style>\n",
       "<table border=\"1\" class=\"dataframe\">\n",
       "  <thead>\n",
       "    <tr style=\"text-align: right;\">\n",
       "      <th></th>\n",
       "      <th>C</th>\n",
       "      <th>D</th>\n",
       "    </tr>\n",
       "    <tr>\n",
       "      <th>A</th>\n",
       "      <th></th>\n",
       "      <th></th>\n",
       "    </tr>\n",
       "  </thead>\n",
       "  <tbody>\n",
       "    <tr>\n",
       "      <th>bar</th>\n",
       "      <td>-1.327122</td>\n",
       "      <td>1.012393</td>\n",
       "    </tr>\n",
       "    <tr>\n",
       "      <th>foo</th>\n",
       "      <td>-3.035242</td>\n",
       "      <td>1.838818</td>\n",
       "    </tr>\n",
       "  </tbody>\n",
       "</table>\n",
       "</div>"
      ],
      "text/plain": [
       "            C         D\n",
       "A                      \n",
       "bar -1.327122  1.012393\n",
       "foo -3.035242  1.838818"
      ]
     },
     "execution_count": 427,
     "metadata": {},
     "output_type": "execute_result"
    }
   ],
   "source": [
    "df.groupby('A').sum()\n"
   ]
  },
  {
   "cell_type": "code",
   "execution_count": 428,
   "metadata": {},
   "outputs": [
    {
     "data": {
      "text/html": [
       "<div>\n",
       "<style scoped>\n",
       "    .dataframe tbody tr th:only-of-type {\n",
       "        vertical-align: middle;\n",
       "    }\n",
       "\n",
       "    .dataframe tbody tr th {\n",
       "        vertical-align: top;\n",
       "    }\n",
       "\n",
       "    .dataframe thead th {\n",
       "        text-align: right;\n",
       "    }\n",
       "</style>\n",
       "<table border=\"1\" class=\"dataframe\">\n",
       "  <thead>\n",
       "    <tr style=\"text-align: right;\">\n",
       "      <th></th>\n",
       "      <th>C</th>\n",
       "      <th>D</th>\n",
       "    </tr>\n",
       "    <tr>\n",
       "      <th>A</th>\n",
       "      <th></th>\n",
       "      <th></th>\n",
       "    </tr>\n",
       "  </thead>\n",
       "  <tbody>\n",
       "    <tr>\n",
       "      <th>bar</th>\n",
       "      <td>-0.442374</td>\n",
       "      <td>0.337464</td>\n",
       "    </tr>\n",
       "    <tr>\n",
       "      <th>foo</th>\n",
       "      <td>-0.607048</td>\n",
       "      <td>0.367764</td>\n",
       "    </tr>\n",
       "  </tbody>\n",
       "</table>\n",
       "</div>"
      ],
      "text/plain": [
       "            C         D\n",
       "A                      \n",
       "bar -0.442374  0.337464\n",
       "foo -0.607048  0.367764"
      ]
     },
     "execution_count": 428,
     "metadata": {},
     "output_type": "execute_result"
    }
   ],
   "source": [
    "df.groupby('A').mean()\n"
   ]
  },
  {
   "cell_type": "code",
   "execution_count": 429,
   "metadata": {},
   "outputs": [
    {
     "data": {
      "text/html": [
       "<div>\n",
       "<style scoped>\n",
       "    .dataframe tbody tr th:only-of-type {\n",
       "        vertical-align: middle;\n",
       "    }\n",
       "\n",
       "    .dataframe tbody tr th {\n",
       "        vertical-align: top;\n",
       "    }\n",
       "\n",
       "    .dataframe thead th {\n",
       "        text-align: right;\n",
       "    }\n",
       "</style>\n",
       "<table border=\"1\" class=\"dataframe\">\n",
       "  <thead>\n",
       "    <tr style=\"text-align: right;\">\n",
       "      <th></th>\n",
       "      <th></th>\n",
       "      <th>C</th>\n",
       "      <th>D</th>\n",
       "    </tr>\n",
       "    <tr>\n",
       "      <th>A</th>\n",
       "      <th>B</th>\n",
       "      <th></th>\n",
       "      <th></th>\n",
       "    </tr>\n",
       "  </thead>\n",
       "  <tbody>\n",
       "    <tr>\n",
       "      <th rowspan=\"3\" valign=\"top\">bar</th>\n",
       "      <th>one</th>\n",
       "      <td>-1.517461</td>\n",
       "      <td>0.596793</td>\n",
       "    </tr>\n",
       "    <tr>\n",
       "      <th>three</th>\n",
       "      <td>0.566065</td>\n",
       "      <td>0.019508</td>\n",
       "    </tr>\n",
       "    <tr>\n",
       "      <th>two</th>\n",
       "      <td>-0.375726</td>\n",
       "      <td>0.396092</td>\n",
       "    </tr>\n",
       "    <tr>\n",
       "      <th rowspan=\"3\" valign=\"top\">foo</th>\n",
       "      <th>one</th>\n",
       "      <td>-0.735076</td>\n",
       "      <td>1.765617</td>\n",
       "    </tr>\n",
       "    <tr>\n",
       "      <th>three</th>\n",
       "      <td>-1.376062</td>\n",
       "      <td>-0.165372</td>\n",
       "    </tr>\n",
       "    <tr>\n",
       "      <th>two</th>\n",
       "      <td>-0.924104</td>\n",
       "      <td>0.238573</td>\n",
       "    </tr>\n",
       "  </tbody>\n",
       "</table>\n",
       "</div>"
      ],
      "text/plain": [
       "                  C         D\n",
       "A   B                        \n",
       "bar one   -1.517461  0.596793\n",
       "    three  0.566065  0.019508\n",
       "    two   -0.375726  0.396092\n",
       "foo one   -0.735076  1.765617\n",
       "    three -1.376062 -0.165372\n",
       "    two   -0.924104  0.238573"
      ]
     },
     "execution_count": 429,
     "metadata": {},
     "output_type": "execute_result"
    }
   ],
   "source": [
    "df.groupby(['A', 'B']).sum()\n"
   ]
  },
  {
   "cell_type": "code",
   "execution_count": 430,
   "metadata": {},
   "outputs": [
    {
     "data": {
      "text/plain": [
       "[('bar', 'one'),\n",
       " ('bar', 'two'),\n",
       " ('baz', 'one'),\n",
       " ('baz', 'two'),\n",
       " ('foo', 'one'),\n",
       " ('foo', 'two'),\n",
       " ('qux', 'one'),\n",
       " ('qux', 'two')]"
      ]
     },
     "execution_count": 430,
     "metadata": {},
     "output_type": "execute_result"
    }
   ],
   "source": [
    "tuples = list(\n",
    "    zip(\n",
    "        *[\n",
    "            ['bar', 'bar', 'baz', 'baz', 'foo', 'foo', 'qux', 'qux'],\n",
    "            ['one', 'two', 'one', 'two', 'one', 'two', 'one', 'two'],\n",
    "        ]\n",
    "    )\n",
    ")\n",
    "tuples\n"
   ]
  },
  {
   "cell_type": "code",
   "execution_count": 431,
   "metadata": {},
   "outputs": [
    {
     "data": {
      "text/plain": [
       "MultiIndex([('bar', 'one'),\n",
       "            ('bar', 'two'),\n",
       "            ('baz', 'one'),\n",
       "            ('baz', 'two'),\n",
       "            ('foo', 'one'),\n",
       "            ('foo', 'two'),\n",
       "            ('qux', 'one'),\n",
       "            ('qux', 'two')],\n",
       "           names=['first', 'second'])"
      ]
     },
     "execution_count": 431,
     "metadata": {},
     "output_type": "execute_result"
    }
   ],
   "source": [
    "index = pd.MultiIndex.from_tuples(tuples, names=['first', 'second'])\n",
    "index\n",
    "# df = pd.DataFrame()\n",
    "\n"
   ]
  },
  {
   "cell_type": "code",
   "execution_count": 432,
   "metadata": {},
   "outputs": [
    {
     "data": {
      "text/html": [
       "<div>\n",
       "<style scoped>\n",
       "    .dataframe tbody tr th:only-of-type {\n",
       "        vertical-align: middle;\n",
       "    }\n",
       "\n",
       "    .dataframe tbody tr th {\n",
       "        vertical-align: top;\n",
       "    }\n",
       "\n",
       "    .dataframe thead th {\n",
       "        text-align: right;\n",
       "    }\n",
       "</style>\n",
       "<table border=\"1\" class=\"dataframe\">\n",
       "  <thead>\n",
       "    <tr style=\"text-align: right;\">\n",
       "      <th></th>\n",
       "      <th></th>\n",
       "      <th>A</th>\n",
       "      <th>B</th>\n",
       "    </tr>\n",
       "    <tr>\n",
       "      <th>first</th>\n",
       "      <th>second</th>\n",
       "      <th></th>\n",
       "      <th></th>\n",
       "    </tr>\n",
       "  </thead>\n",
       "  <tbody>\n",
       "    <tr>\n",
       "      <th rowspan=\"2\" valign=\"top\">bar</th>\n",
       "      <th>one</th>\n",
       "      <td>1.116837</td>\n",
       "      <td>-1.113004</td>\n",
       "    </tr>\n",
       "    <tr>\n",
       "      <th>two</th>\n",
       "      <td>1.476705</td>\n",
       "      <td>0.024161</td>\n",
       "    </tr>\n",
       "    <tr>\n",
       "      <th rowspan=\"2\" valign=\"top\">baz</th>\n",
       "      <th>one</th>\n",
       "      <td>2.092596</td>\n",
       "      <td>-0.065509</td>\n",
       "    </tr>\n",
       "    <tr>\n",
       "      <th>two</th>\n",
       "      <td>-2.861376</td>\n",
       "      <td>-1.143160</td>\n",
       "    </tr>\n",
       "    <tr>\n",
       "      <th rowspan=\"2\" valign=\"top\">foo</th>\n",
       "      <th>one</th>\n",
       "      <td>0.319202</td>\n",
       "      <td>-0.500247</td>\n",
       "    </tr>\n",
       "    <tr>\n",
       "      <th>two</th>\n",
       "      <td>-1.320555</td>\n",
       "      <td>-0.166747</td>\n",
       "    </tr>\n",
       "    <tr>\n",
       "      <th rowspan=\"2\" valign=\"top\">qux</th>\n",
       "      <th>one</th>\n",
       "      <td>0.406352</td>\n",
       "      <td>-0.520714</td>\n",
       "    </tr>\n",
       "    <tr>\n",
       "      <th>two</th>\n",
       "      <td>-0.448253</td>\n",
       "      <td>-0.630794</td>\n",
       "    </tr>\n",
       "  </tbody>\n",
       "</table>\n",
       "</div>"
      ],
      "text/plain": [
       "                     A         B\n",
       "first second                    \n",
       "bar   one     1.116837 -1.113004\n",
       "      two     1.476705  0.024161\n",
       "baz   one     2.092596 -0.065509\n",
       "      two    -2.861376 -1.143160\n",
       "foo   one     0.319202 -0.500247\n",
       "      two    -1.320555 -0.166747\n",
       "qux   one     0.406352 -0.520714\n",
       "      two    -0.448253 -0.630794"
      ]
     },
     "execution_count": 432,
     "metadata": {},
     "output_type": "execute_result"
    }
   ],
   "source": [
    "df = pd.DataFrame(np.random.randn(8, 2), index=index, columns=['A', 'B'])\n",
    "df\n"
   ]
  },
  {
   "cell_type": "code",
   "execution_count": 433,
   "metadata": {},
   "outputs": [
    {
     "data": {
      "text/html": [
       "<div>\n",
       "<style scoped>\n",
       "    .dataframe tbody tr th:only-of-type {\n",
       "        vertical-align: middle;\n",
       "    }\n",
       "\n",
       "    .dataframe tbody tr th {\n",
       "        vertical-align: top;\n",
       "    }\n",
       "\n",
       "    .dataframe thead th {\n",
       "        text-align: right;\n",
       "    }\n",
       "</style>\n",
       "<table border=\"1\" class=\"dataframe\">\n",
       "  <thead>\n",
       "    <tr style=\"text-align: right;\">\n",
       "      <th></th>\n",
       "      <th></th>\n",
       "      <th>A</th>\n",
       "      <th>B</th>\n",
       "    </tr>\n",
       "    <tr>\n",
       "      <th>first</th>\n",
       "      <th>second</th>\n",
       "      <th></th>\n",
       "      <th></th>\n",
       "    </tr>\n",
       "  </thead>\n",
       "  <tbody>\n",
       "    <tr>\n",
       "      <th rowspan=\"2\" valign=\"top\">bar</th>\n",
       "      <th>one</th>\n",
       "      <td>1.116837</td>\n",
       "      <td>-1.113004</td>\n",
       "    </tr>\n",
       "    <tr>\n",
       "      <th>two</th>\n",
       "      <td>1.476705</td>\n",
       "      <td>0.024161</td>\n",
       "    </tr>\n",
       "    <tr>\n",
       "      <th rowspan=\"2\" valign=\"top\">baz</th>\n",
       "      <th>one</th>\n",
       "      <td>2.092596</td>\n",
       "      <td>-0.065509</td>\n",
       "    </tr>\n",
       "    <tr>\n",
       "      <th>two</th>\n",
       "      <td>-2.861376</td>\n",
       "      <td>-1.143160</td>\n",
       "    </tr>\n",
       "  </tbody>\n",
       "</table>\n",
       "</div>"
      ],
      "text/plain": [
       "                     A         B\n",
       "first second                    \n",
       "bar   one     1.116837 -1.113004\n",
       "      two     1.476705  0.024161\n",
       "baz   one     2.092596 -0.065509\n",
       "      two    -2.861376 -1.143160"
      ]
     },
     "execution_count": 433,
     "metadata": {},
     "output_type": "execute_result"
    }
   ],
   "source": [
    "df2 = df[:4]\n",
    "df2\n"
   ]
  },
  {
   "cell_type": "code",
   "execution_count": 434,
   "metadata": {},
   "outputs": [
    {
     "data": {
      "text/plain": [
       "first  second   \n",
       "bar    one     A    1.116837\n",
       "               B   -1.113004\n",
       "       two     A    1.476705\n",
       "               B    0.024161\n",
       "baz    one     A    2.092596\n",
       "               B   -0.065509\n",
       "       two     A   -2.861376\n",
       "               B   -1.143160\n",
       "dtype: float64"
      ]
     },
     "execution_count": 434,
     "metadata": {},
     "output_type": "execute_result"
    }
   ],
   "source": [
    "stacked = df2.stack()\n",
    "stacked\n"
   ]
  },
  {
   "cell_type": "code",
   "execution_count": 435,
   "metadata": {},
   "outputs": [
    {
     "data": {
      "text/html": [
       "<div>\n",
       "<style scoped>\n",
       "    .dataframe tbody tr th:only-of-type {\n",
       "        vertical-align: middle;\n",
       "    }\n",
       "\n",
       "    .dataframe tbody tr th {\n",
       "        vertical-align: top;\n",
       "    }\n",
       "\n",
       "    .dataframe thead th {\n",
       "        text-align: right;\n",
       "    }\n",
       "</style>\n",
       "<table border=\"1\" class=\"dataframe\">\n",
       "  <thead>\n",
       "    <tr style=\"text-align: right;\">\n",
       "      <th></th>\n",
       "      <th></th>\n",
       "      <th>A</th>\n",
       "      <th>B</th>\n",
       "    </tr>\n",
       "    <tr>\n",
       "      <th>first</th>\n",
       "      <th>second</th>\n",
       "      <th></th>\n",
       "      <th></th>\n",
       "    </tr>\n",
       "  </thead>\n",
       "  <tbody>\n",
       "    <tr>\n",
       "      <th rowspan=\"2\" valign=\"top\">bar</th>\n",
       "      <th>one</th>\n",
       "      <td>1.116837</td>\n",
       "      <td>-1.113004</td>\n",
       "    </tr>\n",
       "    <tr>\n",
       "      <th>two</th>\n",
       "      <td>1.476705</td>\n",
       "      <td>0.024161</td>\n",
       "    </tr>\n",
       "    <tr>\n",
       "      <th rowspan=\"2\" valign=\"top\">baz</th>\n",
       "      <th>one</th>\n",
       "      <td>2.092596</td>\n",
       "      <td>-0.065509</td>\n",
       "    </tr>\n",
       "    <tr>\n",
       "      <th>two</th>\n",
       "      <td>-2.861376</td>\n",
       "      <td>-1.143160</td>\n",
       "    </tr>\n",
       "  </tbody>\n",
       "</table>\n",
       "</div>"
      ],
      "text/plain": [
       "                     A         B\n",
       "first second                    \n",
       "bar   one     1.116837 -1.113004\n",
       "      two     1.476705  0.024161\n",
       "baz   one     2.092596 -0.065509\n",
       "      two    -2.861376 -1.143160"
      ]
     },
     "execution_count": 435,
     "metadata": {},
     "output_type": "execute_result"
    }
   ],
   "source": [
    "stacked.unstack()\n"
   ]
  },
  {
   "cell_type": "code",
   "execution_count": 436,
   "metadata": {},
   "outputs": [
    {
     "data": {
      "text/html": [
       "<div>\n",
       "<style scoped>\n",
       "    .dataframe tbody tr th:only-of-type {\n",
       "        vertical-align: middle;\n",
       "    }\n",
       "\n",
       "    .dataframe tbody tr th {\n",
       "        vertical-align: top;\n",
       "    }\n",
       "\n",
       "    .dataframe thead th {\n",
       "        text-align: right;\n",
       "    }\n",
       "</style>\n",
       "<table border=\"1\" class=\"dataframe\">\n",
       "  <thead>\n",
       "    <tr style=\"text-align: right;\">\n",
       "      <th></th>\n",
       "      <th>first</th>\n",
       "      <th>bar</th>\n",
       "      <th>baz</th>\n",
       "    </tr>\n",
       "    <tr>\n",
       "      <th>second</th>\n",
       "      <th></th>\n",
       "      <th></th>\n",
       "      <th></th>\n",
       "    </tr>\n",
       "  </thead>\n",
       "  <tbody>\n",
       "    <tr>\n",
       "      <th rowspan=\"2\" valign=\"top\">one</th>\n",
       "      <th>A</th>\n",
       "      <td>1.116837</td>\n",
       "      <td>2.092596</td>\n",
       "    </tr>\n",
       "    <tr>\n",
       "      <th>B</th>\n",
       "      <td>-1.113004</td>\n",
       "      <td>-0.065509</td>\n",
       "    </tr>\n",
       "    <tr>\n",
       "      <th rowspan=\"2\" valign=\"top\">two</th>\n",
       "      <th>A</th>\n",
       "      <td>1.476705</td>\n",
       "      <td>-2.861376</td>\n",
       "    </tr>\n",
       "    <tr>\n",
       "      <th>B</th>\n",
       "      <td>0.024161</td>\n",
       "      <td>-1.143160</td>\n",
       "    </tr>\n",
       "  </tbody>\n",
       "</table>\n",
       "</div>"
      ],
      "text/plain": [
       "first          bar       baz\n",
       "second                      \n",
       "one    A  1.116837  2.092596\n",
       "       B -1.113004 -0.065509\n",
       "two    A  1.476705 -2.861376\n",
       "       B  0.024161 -1.143160"
      ]
     },
     "execution_count": 436,
     "metadata": {},
     "output_type": "execute_result"
    }
   ],
   "source": [
    "stacked.unstack(0)\n"
   ]
  },
  {
   "cell_type": "code",
   "execution_count": 437,
   "metadata": {},
   "outputs": [
    {
     "data": {
      "text/html": [
       "<div>\n",
       "<style scoped>\n",
       "    .dataframe tbody tr th:only-of-type {\n",
       "        vertical-align: middle;\n",
       "    }\n",
       "\n",
       "    .dataframe tbody tr th {\n",
       "        vertical-align: top;\n",
       "    }\n",
       "\n",
       "    .dataframe thead th {\n",
       "        text-align: right;\n",
       "    }\n",
       "</style>\n",
       "<table border=\"1\" class=\"dataframe\">\n",
       "  <thead>\n",
       "    <tr style=\"text-align: right;\">\n",
       "      <th></th>\n",
       "      <th>second</th>\n",
       "      <th>one</th>\n",
       "      <th>two</th>\n",
       "    </tr>\n",
       "    <tr>\n",
       "      <th>first</th>\n",
       "      <th></th>\n",
       "      <th></th>\n",
       "      <th></th>\n",
       "    </tr>\n",
       "  </thead>\n",
       "  <tbody>\n",
       "    <tr>\n",
       "      <th rowspan=\"2\" valign=\"top\">bar</th>\n",
       "      <th>A</th>\n",
       "      <td>1.116837</td>\n",
       "      <td>1.476705</td>\n",
       "    </tr>\n",
       "    <tr>\n",
       "      <th>B</th>\n",
       "      <td>-1.113004</td>\n",
       "      <td>0.024161</td>\n",
       "    </tr>\n",
       "    <tr>\n",
       "      <th rowspan=\"2\" valign=\"top\">baz</th>\n",
       "      <th>A</th>\n",
       "      <td>2.092596</td>\n",
       "      <td>-2.861376</td>\n",
       "    </tr>\n",
       "    <tr>\n",
       "      <th>B</th>\n",
       "      <td>-0.065509</td>\n",
       "      <td>-1.143160</td>\n",
       "    </tr>\n",
       "  </tbody>\n",
       "</table>\n",
       "</div>"
      ],
      "text/plain": [
       "second        one       two\n",
       "first                      \n",
       "bar   A  1.116837  1.476705\n",
       "      B -1.113004  0.024161\n",
       "baz   A  2.092596 -2.861376\n",
       "      B -0.065509 -1.143160"
      ]
     },
     "execution_count": 437,
     "metadata": {},
     "output_type": "execute_result"
    }
   ],
   "source": [
    "stacked.unstack(1)\n"
   ]
  },
  {
   "cell_type": "code",
   "execution_count": 438,
   "metadata": {},
   "outputs": [
    {
     "data": {
      "text/html": [
       "<div>\n",
       "<style scoped>\n",
       "    .dataframe tbody tr th:only-of-type {\n",
       "        vertical-align: middle;\n",
       "    }\n",
       "\n",
       "    .dataframe tbody tr th {\n",
       "        vertical-align: top;\n",
       "    }\n",
       "\n",
       "    .dataframe thead th {\n",
       "        text-align: right;\n",
       "    }\n",
       "</style>\n",
       "<table border=\"1\" class=\"dataframe\">\n",
       "  <thead>\n",
       "    <tr style=\"text-align: right;\">\n",
       "      <th></th>\n",
       "      <th>A</th>\n",
       "      <th>B</th>\n",
       "      <th>C</th>\n",
       "      <th>D</th>\n",
       "      <th>E</th>\n",
       "    </tr>\n",
       "  </thead>\n",
       "  <tbody>\n",
       "    <tr>\n",
       "      <th>0</th>\n",
       "      <td>one</td>\n",
       "      <td>A</td>\n",
       "      <td>foo</td>\n",
       "      <td>-0.879551</td>\n",
       "      <td>-0.120233</td>\n",
       "    </tr>\n",
       "    <tr>\n",
       "      <th>1</th>\n",
       "      <td>one</td>\n",
       "      <td>B</td>\n",
       "      <td>foo</td>\n",
       "      <td>0.908336</td>\n",
       "      <td>-0.583686</td>\n",
       "    </tr>\n",
       "    <tr>\n",
       "      <th>2</th>\n",
       "      <td>two</td>\n",
       "      <td>C</td>\n",
       "      <td>foo</td>\n",
       "      <td>0.478735</td>\n",
       "      <td>0.127431</td>\n",
       "    </tr>\n",
       "    <tr>\n",
       "      <th>3</th>\n",
       "      <td>three</td>\n",
       "      <td>A</td>\n",
       "      <td>bar</td>\n",
       "      <td>-0.984803</td>\n",
       "      <td>0.220405</td>\n",
       "    </tr>\n",
       "    <tr>\n",
       "      <th>4</th>\n",
       "      <td>one</td>\n",
       "      <td>B</td>\n",
       "      <td>bar</td>\n",
       "      <td>-1.100356</td>\n",
       "      <td>0.914235</td>\n",
       "    </tr>\n",
       "    <tr>\n",
       "      <th>5</th>\n",
       "      <td>one</td>\n",
       "      <td>C</td>\n",
       "      <td>bar</td>\n",
       "      <td>1.220160</td>\n",
       "      <td>1.225327</td>\n",
       "    </tr>\n",
       "    <tr>\n",
       "      <th>6</th>\n",
       "      <td>two</td>\n",
       "      <td>A</td>\n",
       "      <td>foo</td>\n",
       "      <td>-0.128733</td>\n",
       "      <td>1.611275</td>\n",
       "    </tr>\n",
       "    <tr>\n",
       "      <th>7</th>\n",
       "      <td>three</td>\n",
       "      <td>B</td>\n",
       "      <td>foo</td>\n",
       "      <td>0.164317</td>\n",
       "      <td>0.073127</td>\n",
       "    </tr>\n",
       "    <tr>\n",
       "      <th>8</th>\n",
       "      <td>one</td>\n",
       "      <td>C</td>\n",
       "      <td>foo</td>\n",
       "      <td>0.121741</td>\n",
       "      <td>0.252890</td>\n",
       "    </tr>\n",
       "    <tr>\n",
       "      <th>9</th>\n",
       "      <td>one</td>\n",
       "      <td>A</td>\n",
       "      <td>bar</td>\n",
       "      <td>-0.489643</td>\n",
       "      <td>0.559771</td>\n",
       "    </tr>\n",
       "    <tr>\n",
       "      <th>10</th>\n",
       "      <td>two</td>\n",
       "      <td>B</td>\n",
       "      <td>bar</td>\n",
       "      <td>-0.044160</td>\n",
       "      <td>1.773013</td>\n",
       "    </tr>\n",
       "    <tr>\n",
       "      <th>11</th>\n",
       "      <td>three</td>\n",
       "      <td>C</td>\n",
       "      <td>bar</td>\n",
       "      <td>0.196004</td>\n",
       "      <td>0.618719</td>\n",
       "    </tr>\n",
       "  </tbody>\n",
       "</table>\n",
       "</div>"
      ],
      "text/plain": [
       "        A  B    C         D         E\n",
       "0     one  A  foo -0.879551 -0.120233\n",
       "1     one  B  foo  0.908336 -0.583686\n",
       "2     two  C  foo  0.478735  0.127431\n",
       "3   three  A  bar -0.984803  0.220405\n",
       "4     one  B  bar -1.100356  0.914235\n",
       "5     one  C  bar  1.220160  1.225327\n",
       "6     two  A  foo -0.128733  1.611275\n",
       "7   three  B  foo  0.164317  0.073127\n",
       "8     one  C  foo  0.121741  0.252890\n",
       "9     one  A  bar -0.489643  0.559771\n",
       "10    two  B  bar -0.044160  1.773013\n",
       "11  three  C  bar  0.196004  0.618719"
      ]
     },
     "execution_count": 438,
     "metadata": {},
     "output_type": "execute_result"
    }
   ],
   "source": [
    "df = pd.DataFrame(\n",
    "    {\n",
    "        'A': ['one', 'one', 'two', 'three'] * 3,\n",
    "        'B': ['A', 'B', 'C'] * 4,\n",
    "        'C': ['foo', 'foo', 'foo', 'bar', 'bar', 'bar'] * 2,\n",
    "        'D': np.random.randn(12),\n",
    "        'E': np.random.randn(12),\n",
    "    }\n",
    ")\n",
    "df\n"
   ]
  },
  {
   "cell_type": "code",
   "execution_count": 439,
   "metadata": {},
   "outputs": [
    {
     "data": {
      "text/html": [
       "<div>\n",
       "<style scoped>\n",
       "    .dataframe tbody tr th:only-of-type {\n",
       "        vertical-align: middle;\n",
       "    }\n",
       "\n",
       "    .dataframe tbody tr th {\n",
       "        vertical-align: top;\n",
       "    }\n",
       "\n",
       "    .dataframe thead th {\n",
       "        text-align: right;\n",
       "    }\n",
       "</style>\n",
       "<table border=\"1\" class=\"dataframe\">\n",
       "  <thead>\n",
       "    <tr style=\"text-align: right;\">\n",
       "      <th></th>\n",
       "      <th>C</th>\n",
       "      <th>bar</th>\n",
       "      <th>foo</th>\n",
       "    </tr>\n",
       "    <tr>\n",
       "      <th>A</th>\n",
       "      <th>B</th>\n",
       "      <th></th>\n",
       "      <th></th>\n",
       "    </tr>\n",
       "  </thead>\n",
       "  <tbody>\n",
       "    <tr>\n",
       "      <th rowspan=\"3\" valign=\"top\">one</th>\n",
       "      <th>A</th>\n",
       "      <td>-0.489643</td>\n",
       "      <td>-0.879551</td>\n",
       "    </tr>\n",
       "    <tr>\n",
       "      <th>B</th>\n",
       "      <td>-1.100356</td>\n",
       "      <td>0.908336</td>\n",
       "    </tr>\n",
       "    <tr>\n",
       "      <th>C</th>\n",
       "      <td>1.220160</td>\n",
       "      <td>0.121741</td>\n",
       "    </tr>\n",
       "    <tr>\n",
       "      <th rowspan=\"3\" valign=\"top\">three</th>\n",
       "      <th>A</th>\n",
       "      <td>-0.984803</td>\n",
       "      <td>NaN</td>\n",
       "    </tr>\n",
       "    <tr>\n",
       "      <th>B</th>\n",
       "      <td>NaN</td>\n",
       "      <td>0.164317</td>\n",
       "    </tr>\n",
       "    <tr>\n",
       "      <th>C</th>\n",
       "      <td>0.196004</td>\n",
       "      <td>NaN</td>\n",
       "    </tr>\n",
       "    <tr>\n",
       "      <th rowspan=\"3\" valign=\"top\">two</th>\n",
       "      <th>A</th>\n",
       "      <td>NaN</td>\n",
       "      <td>-0.128733</td>\n",
       "    </tr>\n",
       "    <tr>\n",
       "      <th>B</th>\n",
       "      <td>-0.044160</td>\n",
       "      <td>NaN</td>\n",
       "    </tr>\n",
       "    <tr>\n",
       "      <th>C</th>\n",
       "      <td>NaN</td>\n",
       "      <td>0.478735</td>\n",
       "    </tr>\n",
       "  </tbody>\n",
       "</table>\n",
       "</div>"
      ],
      "text/plain": [
       "C             bar       foo\n",
       "A     B                    \n",
       "one   A -0.489643 -0.879551\n",
       "      B -1.100356  0.908336\n",
       "      C  1.220160  0.121741\n",
       "three A -0.984803       NaN\n",
       "      B       NaN  0.164317\n",
       "      C  0.196004       NaN\n",
       "two   A       NaN -0.128733\n",
       "      B -0.044160       NaN\n",
       "      C       NaN  0.478735"
      ]
     },
     "execution_count": 439,
     "metadata": {},
     "output_type": "execute_result"
    }
   ],
   "source": [
    "pd.pivot_table(df, values='D', index=['A', 'B'], columns=['C'])\n"
   ]
  },
  {
   "cell_type": "code",
   "execution_count": 440,
   "metadata": {},
   "outputs": [
    {
     "data": {
      "text/plain": [
       "DatetimeIndex(['2012-01-01 00:00:00', '2012-01-01 00:03:00',\n",
       "               '2012-01-01 00:06:00', '2012-01-01 00:09:00',\n",
       "               '2012-01-01 00:12:00', '2012-01-01 00:15:00',\n",
       "               '2012-01-01 00:18:00', '2012-01-01 00:21:00',\n",
       "               '2012-01-01 00:24:00', '2012-01-01 00:27:00',\n",
       "               ...\n",
       "               '2012-01-07 05:30:00', '2012-01-07 05:33:00',\n",
       "               '2012-01-07 05:36:00', '2012-01-07 05:39:00',\n",
       "               '2012-01-07 05:42:00', '2012-01-07 05:45:00',\n",
       "               '2012-01-07 05:48:00', '2012-01-07 05:51:00',\n",
       "               '2012-01-07 05:54:00', '2012-01-07 05:57:00'],\n",
       "              dtype='datetime64[ns]', length=3000, freq='3T')"
      ]
     },
     "execution_count": 440,
     "metadata": {},
     "output_type": "execute_result"
    }
   ],
   "source": [
    "rng = pd.date_range('1/1/2012', periods=3000, freq='3Min')\n",
    "rng\n"
   ]
  },
  {
   "cell_type": "code",
   "execution_count": 441,
   "metadata": {},
   "outputs": [
    {
     "data": {
      "text/plain": [
       "2012-01-01 00:00:00     61\n",
       "2012-01-01 00:03:00     99\n",
       "2012-01-01 00:06:00    237\n",
       "2012-01-01 00:09:00     15\n",
       "2012-01-01 00:12:00    453\n",
       "                      ... \n",
       "2012-01-07 05:45:00    396\n",
       "2012-01-07 05:48:00    489\n",
       "2012-01-07 05:51:00     92\n",
       "2012-01-07 05:54:00    490\n",
       "2012-01-07 05:57:00    393\n",
       "Freq: 3T, Length: 3000, dtype: int32"
      ]
     },
     "execution_count": 441,
     "metadata": {},
     "output_type": "execute_result"
    }
   ],
   "source": [
    "ts = pd.Series(np.random.randint(0, 500, len(rng)), index=rng)\n",
    "ts\n"
   ]
  },
  {
   "cell_type": "code",
   "execution_count": 442,
   "metadata": {},
   "outputs": [
    {
     "data": {
      "text/plain": [
       "2012-01-01 00:00:00     61\n",
       "2012-01-01 00:00:05      0\n",
       "2012-01-01 00:00:10      0\n",
       "2012-01-01 00:00:15      0\n",
       "2012-01-01 00:00:20      0\n",
       "                      ... \n",
       "2012-01-07 05:56:40      0\n",
       "2012-01-07 05:56:45      0\n",
       "2012-01-07 05:56:50      0\n",
       "2012-01-07 05:56:55      0\n",
       "2012-01-07 05:57:00    393\n",
       "Freq: 5S, Length: 107965, dtype: int32"
      ]
     },
     "execution_count": 442,
     "metadata": {},
     "output_type": "execute_result"
    }
   ],
   "source": [
    "ts.resample('5s').sum()\n"
   ]
  },
  {
   "cell_type": "code",
   "execution_count": 443,
   "metadata": {},
   "outputs": [
    {
     "data": {
      "text/plain": [
       "DatetimeIndex(['2012-03-06', '2012-03-07', '2012-03-08', '2012-03-09',\n",
       "               '2012-03-10'],\n",
       "              dtype='datetime64[ns]', freq='D')"
      ]
     },
     "execution_count": 443,
     "metadata": {},
     "output_type": "execute_result"
    }
   ],
   "source": [
    "rng = pd.date_range('3/6/2012 00:00', periods=5, freq='D')\n",
    "rng"
   ]
  },
  {
   "cell_type": "code",
   "execution_count": 444,
   "metadata": {},
   "outputs": [
    {
     "data": {
      "text/plain": [
       "2012-03-06    0.051550\n",
       "2012-03-07   -1.113258\n",
       "2012-03-08    0.006524\n",
       "2012-03-09   -1.108192\n",
       "2012-03-10   -0.660035\n",
       "Freq: D, dtype: float64"
      ]
     },
     "execution_count": 444,
     "metadata": {},
     "output_type": "execute_result"
    }
   ],
   "source": [
    "ts = pd.Series(np.random.randn(len(rng)), rng)\n",
    "ts"
   ]
  },
  {
   "cell_type": "code",
   "execution_count": 445,
   "metadata": {},
   "outputs": [
    {
     "data": {
      "text/plain": [
       "2012-03-06 00:00:00+00:00    0.051550\n",
       "2012-03-07 00:00:00+00:00   -1.113258\n",
       "2012-03-08 00:00:00+00:00    0.006524\n",
       "2012-03-09 00:00:00+00:00   -1.108192\n",
       "2012-03-10 00:00:00+00:00   -0.660035\n",
       "Freq: D, dtype: float64"
      ]
     },
     "execution_count": 445,
     "metadata": {},
     "output_type": "execute_result"
    }
   ],
   "source": [
    "ts_utc = ts.tz_localize('UTC')\n",
    "ts_utc"
   ]
  },
  {
   "cell_type": "code",
   "execution_count": 446,
   "metadata": {},
   "outputs": [
    {
     "data": {
      "text/plain": [
       "2012-03-05 19:00:00-05:00    0.051550\n",
       "2012-03-06 19:00:00-05:00   -1.113258\n",
       "2012-03-07 19:00:00-05:00    0.006524\n",
       "2012-03-08 19:00:00-05:00   -1.108192\n",
       "2012-03-09 19:00:00-05:00   -0.660035\n",
       "Freq: D, dtype: float64"
      ]
     },
     "execution_count": 446,
     "metadata": {},
     "output_type": "execute_result"
    }
   ],
   "source": [
    "ts_utc.tz_convert('US/Eastern')"
   ]
  },
  {
   "cell_type": "code",
   "execution_count": 447,
   "metadata": {},
   "outputs": [
    {
     "data": {
      "text/plain": [
       "2012-03-06 09:00:00+09:00    0.051550\n",
       "2012-03-07 09:00:00+09:00   -1.113258\n",
       "2012-03-08 09:00:00+09:00    0.006524\n",
       "2012-03-09 09:00:00+09:00   -1.108192\n",
       "2012-03-10 09:00:00+09:00   -0.660035\n",
       "Freq: D, dtype: float64"
      ]
     },
     "execution_count": 447,
     "metadata": {},
     "output_type": "execute_result"
    }
   ],
   "source": [
    "ts_utc.tz_convert('Asia/Seoul')"
   ]
  },
  {
   "cell_type": "code",
   "execution_count": 448,
   "metadata": {},
   "outputs": [
    {
     "data": {
      "text/plain": [
       "2012-01-31   -0.414559\n",
       "2012-02-29    1.142242\n",
       "2012-03-31    0.388735\n",
       "2012-04-30    1.856193\n",
       "2012-05-31    0.072588\n",
       "Freq: M, dtype: float64"
      ]
     },
     "execution_count": 448,
     "metadata": {},
     "output_type": "execute_result"
    }
   ],
   "source": [
    "rng = pd.date_range('1/1/2012', periods=5, freq='M')\n",
    "ts = pd.Series(np.random.randn(len(rng)), index=rng)\n",
    "ts"
   ]
  },
  {
   "cell_type": "code",
   "execution_count": 449,
   "metadata": {},
   "outputs": [
    {
     "data": {
      "text/plain": [
       "2012-01   -0.414559\n",
       "2012-02    1.142242\n",
       "2012-03    0.388735\n",
       "2012-04    1.856193\n",
       "2012-05    0.072588\n",
       "Freq: M, dtype: float64"
      ]
     },
     "execution_count": 449,
     "metadata": {},
     "output_type": "execute_result"
    }
   ],
   "source": [
    "ps = ts.to_period()\n",
    "ps"
   ]
  },
  {
   "cell_type": "code",
   "execution_count": 450,
   "metadata": {},
   "outputs": [
    {
     "data": {
      "text/plain": [
       "2012-01-01   -0.414559\n",
       "2012-02-01    1.142242\n",
       "2012-03-01    0.388735\n",
       "2012-04-01    1.856193\n",
       "2012-05-01    0.072588\n",
       "Freq: MS, dtype: float64"
      ]
     },
     "execution_count": 450,
     "metadata": {},
     "output_type": "execute_result"
    }
   ],
   "source": [
    "ps.to_timestamp()"
   ]
  },
  {
   "cell_type": "code",
   "execution_count": 451,
   "metadata": {},
   "outputs": [
    {
     "data": {
      "text/plain": [
       "1990Q1    0.551833\n",
       "1990Q2    0.448295\n",
       "1990Q3   -0.464438\n",
       "1990Q4    1.697797\n",
       "1991Q1   -0.887989\n",
       "1991Q2   -1.825065\n",
       "1991Q3    1.463763\n",
       "1991Q4   -0.510717\n",
       "1992Q1   -1.136029\n",
       "1992Q2    0.195077\n",
       "1992Q3   -0.340772\n",
       "1992Q4    0.613041\n",
       "1993Q1   -0.935187\n",
       "1993Q2   -1.758102\n",
       "1993Q3   -0.209185\n",
       "1993Q4    1.568453\n",
       "1994Q1   -0.279712\n",
       "1994Q2   -0.094314\n",
       "1994Q3   -0.968338\n",
       "1994Q4    0.620198\n",
       "1995Q1    0.000735\n",
       "1995Q2    0.930630\n",
       "1995Q3    0.976665\n",
       "1995Q4    1.286960\n",
       "1996Q1    2.171202\n",
       "1996Q2   -0.143931\n",
       "1996Q3   -1.277840\n",
       "1996Q4    0.310878\n",
       "1997Q1   -1.150700\n",
       "1997Q2   -0.109132\n",
       "1997Q3    2.030325\n",
       "1997Q4    0.266286\n",
       "1998Q1    0.837743\n",
       "1998Q2   -1.456723\n",
       "1998Q3   -0.333034\n",
       "1998Q4    1.426464\n",
       "1999Q1   -0.629933\n",
       "1999Q2    1.188859\n",
       "1999Q3   -0.179697\n",
       "1999Q4   -0.300551\n",
       "2000Q1    0.405503\n",
       "2000Q2    1.730045\n",
       "2000Q3    1.492271\n",
       "2000Q4   -0.251283\n",
       "Freq: Q-NOV, dtype: float64"
      ]
     },
     "execution_count": 451,
     "metadata": {},
     "output_type": "execute_result"
    }
   ],
   "source": [
    "prng = pd.period_range('1990Q1', '2000Q4', freq='Q-NOV')\n",
    "ts = pd.Series(np.random.randn(len(prng)), prng)\n",
    "\n",
    "ts"
   ]
  },
  {
   "cell_type": "code",
   "execution_count": 452,
   "metadata": {},
   "outputs": [
    {
     "data": {
      "text/plain": [
       "1990-03-01 09:00    0.551833\n",
       "1990-06-01 09:00    0.448295\n",
       "1990-09-01 09:00   -0.464438\n",
       "1990-12-01 09:00    1.697797\n",
       "1991-03-01 09:00   -0.887989\n",
       "1991-06-01 09:00   -1.825065\n",
       "1991-09-01 09:00    1.463763\n",
       "1991-12-01 09:00   -0.510717\n",
       "1992-03-01 09:00   -1.136029\n",
       "1992-06-01 09:00    0.195077\n",
       "1992-09-01 09:00   -0.340772\n",
       "1992-12-01 09:00    0.613041\n",
       "1993-03-01 09:00   -0.935187\n",
       "1993-06-01 09:00   -1.758102\n",
       "1993-09-01 09:00   -0.209185\n",
       "1993-12-01 09:00    1.568453\n",
       "1994-03-01 09:00   -0.279712\n",
       "1994-06-01 09:00   -0.094314\n",
       "1994-09-01 09:00   -0.968338\n",
       "1994-12-01 09:00    0.620198\n",
       "1995-03-01 09:00    0.000735\n",
       "1995-06-01 09:00    0.930630\n",
       "1995-09-01 09:00    0.976665\n",
       "1995-12-01 09:00    1.286960\n",
       "1996-03-01 09:00    2.171202\n",
       "1996-06-01 09:00   -0.143931\n",
       "1996-09-01 09:00   -1.277840\n",
       "1996-12-01 09:00    0.310878\n",
       "1997-03-01 09:00   -1.150700\n",
       "1997-06-01 09:00   -0.109132\n",
       "1997-09-01 09:00    2.030325\n",
       "1997-12-01 09:00    0.266286\n",
       "1998-03-01 09:00    0.837743\n",
       "1998-06-01 09:00   -1.456723\n",
       "1998-09-01 09:00   -0.333034\n",
       "1998-12-01 09:00    1.426464\n",
       "1999-03-01 09:00   -0.629933\n",
       "1999-06-01 09:00    1.188859\n",
       "1999-09-01 09:00   -0.179697\n",
       "1999-12-01 09:00   -0.300551\n",
       "2000-03-01 09:00    0.405503\n",
       "2000-06-01 09:00    1.730045\n",
       "2000-09-01 09:00    1.492271\n",
       "2000-12-01 09:00   -0.251283\n",
       "Freq: H, dtype: float64"
      ]
     },
     "execution_count": 452,
     "metadata": {},
     "output_type": "execute_result"
    }
   ],
   "source": [
    "ts.index = (prng.asfreq('M', 'e') + 1).asfreq('H', 's') + 9\n",
    "ts"
   ]
  },
  {
   "cell_type": "code",
   "execution_count": 453,
   "metadata": {},
   "outputs": [],
   "source": [
    "df = pd.DataFrame({\"id\": [1, 2, 3, 4, 5, 6],\n",
    "                   'raw_grade': ['a', 'b', 'b', 'a', 'a', 'e']})"
   ]
  },
  {
   "cell_type": "code",
   "execution_count": 454,
   "metadata": {},
   "outputs": [
    {
     "data": {
      "text/plain": [
       "0    a\n",
       "1    b\n",
       "2    b\n",
       "3    a\n",
       "4    a\n",
       "5    e\n",
       "Name: grade, dtype: category\n",
       "Categories (3, object): ['a', 'b', 'e']"
      ]
     },
     "execution_count": 454,
     "metadata": {},
     "output_type": "execute_result"
    }
   ],
   "source": [
    "df['grade'] = df['raw_grade'].astype(\"category\")\n",
    "\n",
    "df['grade']"
   ]
  },
  {
   "cell_type": "code",
   "execution_count": 455,
   "metadata": {},
   "outputs": [
    {
     "data": {
      "text/plain": [
       "0    a\n",
       "1    b\n",
       "2    b\n",
       "3    a\n",
       "4    a\n",
       "5    e\n",
       "Name: grade, dtype: category\n",
       "Categories (3, object): ['a', 'b', 'e']"
      ]
     },
     "execution_count": 455,
     "metadata": {},
     "output_type": "execute_result"
    }
   ],
   "source": [
    "df['grade']"
   ]
  },
  {
   "cell_type": "code",
   "execution_count": 456,
   "metadata": {},
   "outputs": [
    {
     "data": {
      "text/html": [
       "<div>\n",
       "<style scoped>\n",
       "    .dataframe tbody tr th:only-of-type {\n",
       "        vertical-align: middle;\n",
       "    }\n",
       "\n",
       "    .dataframe tbody tr th {\n",
       "        vertical-align: top;\n",
       "    }\n",
       "\n",
       "    .dataframe thead th {\n",
       "        text-align: right;\n",
       "    }\n",
       "</style>\n",
       "<table border=\"1\" class=\"dataframe\">\n",
       "  <thead>\n",
       "    <tr style=\"text-align: right;\">\n",
       "      <th></th>\n",
       "      <th>id</th>\n",
       "      <th>raw_grade</th>\n",
       "      <th>grade</th>\n",
       "    </tr>\n",
       "  </thead>\n",
       "  <tbody>\n",
       "    <tr>\n",
       "      <th>0</th>\n",
       "      <td>1</td>\n",
       "      <td>a</td>\n",
       "      <td>very good</td>\n",
       "    </tr>\n",
       "    <tr>\n",
       "      <th>1</th>\n",
       "      <td>2</td>\n",
       "      <td>b</td>\n",
       "      <td>good</td>\n",
       "    </tr>\n",
       "    <tr>\n",
       "      <th>2</th>\n",
       "      <td>3</td>\n",
       "      <td>b</td>\n",
       "      <td>good</td>\n",
       "    </tr>\n",
       "    <tr>\n",
       "      <th>3</th>\n",
       "      <td>4</td>\n",
       "      <td>a</td>\n",
       "      <td>very good</td>\n",
       "    </tr>\n",
       "    <tr>\n",
       "      <th>4</th>\n",
       "      <td>5</td>\n",
       "      <td>a</td>\n",
       "      <td>very good</td>\n",
       "    </tr>\n",
       "    <tr>\n",
       "      <th>5</th>\n",
       "      <td>6</td>\n",
       "      <td>e</td>\n",
       "      <td>very bad</td>\n",
       "    </tr>\n",
       "  </tbody>\n",
       "</table>\n",
       "</div>"
      ],
      "text/plain": [
       "   id raw_grade      grade\n",
       "0   1         a  very good\n",
       "1   2         b       good\n",
       "2   3         b       good\n",
       "3   4         a  very good\n",
       "4   5         a  very good\n",
       "5   6         e   very bad"
      ]
     },
     "execution_count": 456,
     "metadata": {},
     "output_type": "execute_result"
    }
   ],
   "source": [
    "df['grade'].cat.categories = ['very good', 'good', 'very bad']\n",
    "df"
   ]
  },
  {
   "cell_type": "code",
   "execution_count": 457,
   "metadata": {},
   "outputs": [
    {
     "data": {
      "text/plain": [
       "0    very good\n",
       "1         good\n",
       "2         good\n",
       "3    very good\n",
       "4    very good\n",
       "5     very bad\n",
       "Name: grade, dtype: category\n",
       "Categories (5, object): ['very bad', 'bad', 'medium', 'good', 'very good']"
      ]
     },
     "execution_count": 457,
     "metadata": {},
     "output_type": "execute_result"
    }
   ],
   "source": [
    "df['grade'] = df['grade'].cat.set_categories(['very bad', 'bad', 'medium', 'good', 'very good'])\n",
    "\n",
    "df['grade']"
   ]
  },
  {
   "cell_type": "code",
   "execution_count": 458,
   "metadata": {},
   "outputs": [
    {
     "data": {
      "text/html": [
       "<div>\n",
       "<style scoped>\n",
       "    .dataframe tbody tr th:only-of-type {\n",
       "        vertical-align: middle;\n",
       "    }\n",
       "\n",
       "    .dataframe tbody tr th {\n",
       "        vertical-align: top;\n",
       "    }\n",
       "\n",
       "    .dataframe thead th {\n",
       "        text-align: right;\n",
       "    }\n",
       "</style>\n",
       "<table border=\"1\" class=\"dataframe\">\n",
       "  <thead>\n",
       "    <tr style=\"text-align: right;\">\n",
       "      <th></th>\n",
       "      <th>id</th>\n",
       "      <th>raw_grade</th>\n",
       "      <th>grade</th>\n",
       "    </tr>\n",
       "  </thead>\n",
       "  <tbody>\n",
       "    <tr>\n",
       "      <th>5</th>\n",
       "      <td>6</td>\n",
       "      <td>e</td>\n",
       "      <td>very bad</td>\n",
       "    </tr>\n",
       "    <tr>\n",
       "      <th>1</th>\n",
       "      <td>2</td>\n",
       "      <td>b</td>\n",
       "      <td>good</td>\n",
       "    </tr>\n",
       "    <tr>\n",
       "      <th>2</th>\n",
       "      <td>3</td>\n",
       "      <td>b</td>\n",
       "      <td>good</td>\n",
       "    </tr>\n",
       "    <tr>\n",
       "      <th>0</th>\n",
       "      <td>1</td>\n",
       "      <td>a</td>\n",
       "      <td>very good</td>\n",
       "    </tr>\n",
       "    <tr>\n",
       "      <th>3</th>\n",
       "      <td>4</td>\n",
       "      <td>a</td>\n",
       "      <td>very good</td>\n",
       "    </tr>\n",
       "    <tr>\n",
       "      <th>4</th>\n",
       "      <td>5</td>\n",
       "      <td>a</td>\n",
       "      <td>very good</td>\n",
       "    </tr>\n",
       "  </tbody>\n",
       "</table>\n",
       "</div>"
      ],
      "text/plain": [
       "   id raw_grade      grade\n",
       "5   6         e   very bad\n",
       "1   2         b       good\n",
       "2   3         b       good\n",
       "0   1         a  very good\n",
       "3   4         a  very good\n",
       "4   5         a  very good"
      ]
     },
     "execution_count": 458,
     "metadata": {},
     "output_type": "execute_result"
    }
   ],
   "source": [
    "df.sort_values(by='grade')"
   ]
  },
  {
   "cell_type": "code",
   "execution_count": 459,
   "metadata": {},
   "outputs": [
    {
     "data": {
      "text/plain": [
       "grade\n",
       "very bad     1\n",
       "bad          0\n",
       "medium       0\n",
       "good         2\n",
       "very good    3\n",
       "dtype: int64"
      ]
     },
     "execution_count": 459,
     "metadata": {},
     "output_type": "execute_result"
    }
   ],
   "source": [
    "df.groupby('grade').size()"
   ]
  },
  {
   "cell_type": "markdown",
   "metadata": {},
   "source": [
    "### 11. 그래프로 표현하기 (Plotting)"
   ]
  },
  {
   "cell_type": "code",
   "execution_count": 467,
   "metadata": {},
   "outputs": [
    {
     "name": "stdout",
     "output_type": "stream",
     "text": [
      "DatetimeIndex(['2000-01-01', '2000-01-02', '2000-01-03', '2000-01-04',\n",
      "               '2000-01-05', '2000-01-06', '2000-01-07', '2000-01-08',\n",
      "               '2000-01-09', '2000-01-10',\n",
      "               ...\n",
      "               '2002-09-17', '2002-09-18', '2002-09-19', '2002-09-20',\n",
      "               '2002-09-21', '2002-09-22', '2002-09-23', '2002-09-24',\n",
      "               '2002-09-25', '2002-09-26'],\n",
      "              dtype='datetime64[ns]', length=1000, freq='D')\n"
     ]
    },
    {
     "data": {
      "text/plain": [
       "<AxesSubplot:>"
      ]
     },
     "execution_count": 467,
     "metadata": {},
     "output_type": "execute_result"
    },
    {
     "data": {
      "image/png": "[encoded data removed]",
      "image/svg+xml": "<?xml version=\"1.0\" encoding=\"utf-8\" standalone=\"no\"?>\n<!DOCTYPE svg PUBLIC \"-//W3C//DTD SVG 1.1//EN\"\n  \"http://www.w3.org/Graphics/SVG/1.1/DTD/svg11.dtd\">\n<svg xmlns:xlink=\"http://www.w3.org/1999/xlink\" width=\"377.304688pt\" height=\"259.715937pt\" viewBox=\"0 0 377.304688 259.715937\" xmlns=\"http://www.w3.org/2000/svg\" version=\"1.1\">\n <metadata>\n  <rdf:RDF xmlns:dc=\"http://purl.org/dc/elements/1.1/\" xmlns:cc=\"http://creativecommons.org/ns#\" xmlns:rdf=\"http://www.w3.org/1999/02/22-rdf-syntax-ns#\">\n   <cc:Work>\n    <dc:type rdf:resource=\"http://purl.org/dc/dcmitype/StillImage\"/>\n    <dc:date>2022-06-18T12:01:45.586155</dc:date>\n    <dc:format>image/svg+xml</dc:format>\n    <dc:creator>\n     <cc:Agent>\n      <dc:title>Matplotlib v3.5.1, https://matplotlib.org/</dc:title>\n     </cc:Agent>\n    </dc:creator>\n   </cc:Work>\n  </rdf:RDF>\n </metadata>\n <defs>\n  <style type=\"text/css\">*{stroke-linejoin: round; stroke-linecap: butt}</style>\n </defs>\n <g id=\"figure_1\">\n  <g id=\"patch_1\">\n   <path d=\"M 0 259.715937 \nL 377.304688 259.715937 \nL 377.304688 0 \nL 0 0 \nL 0 259.715937 \nz\n\" style=\"fill: none\"/>\n  </g>\n  <g id=\"axes_1\">\n   <g id=\"patch_2\">\n    <path d=\"M 35.304688 224.64 \nL 370.104688 224.64 \nL 370.104688 7.2 \nL 35.304688 7.2 \nz\n\" style=\"fill: #ffffff\"/>\n   </g>\n   <g id=\"matplotlib.axis_1\">\n    <g id=\"xtick_1\">\n     <g id=\"line2d_1\">\n      <defs>\n       <path id=\"m26d10e1175\" d=\"M 0 0 \nL 0 3.5 \n\" style=\"stroke: #000000; stroke-width: 0.8\"/>\n      </defs>\n      <g>\n       <use xlink:href=\"#m26d10e1175\" x=\"35.304688\" y=\"224.64\" style=\"stroke: #000000; stroke-width: 0.8\"/>\n      </g>\n     </g>\n     <g id=\"text_1\">\n      <!-- Jan -->\n      <g transform=\"translate(27.596875 239.238438)scale(0.1 -0.1)\">\n       <defs>\n        <path id=\"DejaVuSans-4a\" d=\"M 628 4666 \nL 1259 4666 \nL 1259 325 \nQ 1259 -519 939 -900 \nQ 619 -1281 -91 -1281 \nL -331 -1281 \nL -331 -750 \nL -134 -750 \nQ 284 -750 456 -515 \nQ 628 -281 628 325 \nL 628 4666 \nz\n\" transform=\"scale(0.015625)\"/>\n        <path id=\"DejaVuSans-61\" d=\"M 2194 1759 \nQ 1497 1759 1228 1600 \nQ 959 1441 959 1056 \nQ 959 750 1161 570 \nQ 1363 391 1709 391 \nQ 2188 391 2477 730 \nQ 2766 1069 2766 1631 \nL 2766 1759 \nL 2194 1759 \nz\nM 3341 1997 \nL 3341 0 \nL 2766 0 \nL 2766 531 \nQ 2569 213 2275 61 \nQ 1981 -91 1556 -91 \nQ 1019 -91 701 211 \nQ 384 513 384 1019 \nQ 384 1609 779 1909 \nQ 1175 2209 1959 2209 \nL 2766 2209 \nL 2766 2266 \nQ 2766 2663 2505 2880 \nQ 2244 3097 1772 3097 \nQ 1472 3097 1187 3025 \nQ 903 2953 641 2809 \nL 641 3341 \nQ 956 3463 1253 3523 \nQ 1550 3584 1831 3584 \nQ 2591 3584 2966 3190 \nQ 3341 2797 3341 1997 \nz\n\" transform=\"scale(0.015625)\"/>\n        <path id=\"DejaVuSans-6e\" d=\"M 3513 2113 \nL 3513 0 \nL 2938 0 \nL 2938 2094 \nQ 2938 2591 2744 2837 \nQ 2550 3084 2163 3084 \nQ 1697 3084 1428 2787 \nQ 1159 2491 1159 1978 \nL 1159 0 \nL 581 0 \nL 581 3500 \nL 1159 3500 \nL 1159 2956 \nQ 1366 3272 1645 3428 \nQ 1925 3584 2291 3584 \nQ 2894 3584 3203 3211 \nQ 3513 2838 3513 2113 \nz\n\" transform=\"scale(0.015625)\"/>\n       </defs>\n       <use xlink:href=\"#DejaVuSans-4a\"/>\n       <use xlink:href=\"#DejaVuSans-61\" x=\"29.492188\"/>\n       <use xlink:href=\"#DejaVuSans-6e\" x=\"90.771484\"/>\n      </g>\n      <!-- 2000 -->\n      <g transform=\"translate(22.579687 250.43625)scale(0.1 -0.1)\">\n       <defs>\n        <path id=\"DejaVuSans-32\" d=\"M 1228 531 \nL 3431 531 \nL 3431 0 \nL 469 0 \nL 469 531 \nQ 828 903 1448 1529 \nQ 2069 2156 2228 2338 \nQ 2531 2678 2651 2914 \nQ 2772 3150 2772 3378 \nQ 2772 3750 2511 3984 \nQ 2250 4219 1831 4219 \nQ 1534 4219 1204 4116 \nQ 875 4013 500 3803 \nL 500 4441 \nQ 881 4594 1212 4672 \nQ 1544 4750 1819 4750 \nQ 2544 4750 2975 4387 \nQ 3406 4025 3406 3419 \nQ 3406 3131 3298 2873 \nQ 3191 2616 2906 2266 \nQ 2828 2175 2409 1742 \nQ 1991 1309 1228 531 \nz\n\" transform=\"scale(0.015625)\"/>\n        <path id=\"DejaVuSans-30\" d=\"M 2034 4250 \nQ 1547 4250 1301 3770 \nQ 1056 3291 1056 2328 \nQ 1056 1369 1301 889 \nQ 1547 409 2034 409 \nQ 2525 409 2770 889 \nQ 3016 1369 3016 2328 \nQ 3016 3291 2770 3770 \nQ 2525 4250 2034 4250 \nz\nM 2034 4750 \nQ 2819 4750 3233 4129 \nQ 3647 3509 3647 2328 \nQ 3647 1150 3233 529 \nQ 2819 -91 2034 -91 \nQ 1250 -91 836 529 \nQ 422 1150 422 2328 \nQ 422 3509 836 4129 \nQ 1250 4750 2034 4750 \nz\n\" transform=\"scale(0.015625)\"/>\n       </defs>\n       <use xlink:href=\"#DejaVuSans-32\"/>\n       <use xlink:href=\"#DejaVuSans-30\" x=\"63.623047\"/>\n       <use xlink:href=\"#DejaVuSans-30\" x=\"127.246094\"/>\n       <use xlink:href=\"#DejaVuSans-30\" x=\"190.869141\"/>\n      </g>\n     </g>\n    </g>\n    <g id=\"xtick_2\">\n     <g id=\"line2d_2\">\n      <g>\n       <use xlink:href=\"#m26d10e1175\" x=\"157.964147\" y=\"224.64\" style=\"stroke: #000000; stroke-width: 0.8\"/>\n      </g>\n     </g>\n     <g id=\"text_2\">\n      <!-- Jan -->\n      <g transform=\"translate(150.256334 239.238438)scale(0.1 -0.1)\">\n       <use xlink:href=\"#DejaVuSans-4a\"/>\n       <use xlink:href=\"#DejaVuSans-61\" x=\"29.492188\"/>\n       <use xlink:href=\"#DejaVuSans-6e\" x=\"90.771484\"/>\n      </g>\n      <!-- 2001 -->\n      <g transform=\"translate(145.239147 250.43625)scale(0.1 -0.1)\">\n       <defs>\n        <path id=\"DejaVuSans-31\" d=\"M 794 531 \nL 1825 531 \nL 1825 4091 \nL 703 3866 \nL 703 4441 \nL 1819 4666 \nL 2450 4666 \nL 2450 531 \nL 3481 531 \nL 3481 0 \nL 794 0 \nL 794 531 \nz\n\" transform=\"scale(0.015625)\"/>\n       </defs>\n       <use xlink:href=\"#DejaVuSans-32\"/>\n       <use xlink:href=\"#DejaVuSans-30\" x=\"63.623047\"/>\n       <use xlink:href=\"#DejaVuSans-30\" x=\"127.246094\"/>\n       <use xlink:href=\"#DejaVuSans-31\" x=\"190.869141\"/>\n      </g>\n     </g>\n    </g>\n    <g id=\"xtick_3\">\n     <g id=\"line2d_3\">\n      <g>\n       <use xlink:href=\"#m26d10e1175\" x=\"280.288471\" y=\"224.64\" style=\"stroke: #000000; stroke-width: 0.8\"/>\n      </g>\n     </g>\n     <g id=\"text_3\">\n      <!-- Jan -->\n      <g transform=\"translate(272.580659 239.238438)scale(0.1 -0.1)\">\n       <use xlink:href=\"#DejaVuSans-4a\"/>\n       <use xlink:href=\"#DejaVuSans-61\" x=\"29.492188\"/>\n       <use xlink:href=\"#DejaVuSans-6e\" x=\"90.771484\"/>\n      </g>\n      <!-- 2002 -->\n      <g transform=\"translate(267.563471 250.43625)scale(0.1 -0.1)\">\n       <use xlink:href=\"#DejaVuSans-32\"/>\n       <use xlink:href=\"#DejaVuSans-30\" x=\"63.623047\"/>\n       <use xlink:href=\"#DejaVuSans-30\" x=\"127.246094\"/>\n       <use xlink:href=\"#DejaVuSans-32\" x=\"190.869141\"/>\n      </g>\n     </g>\n    </g>\n    <g id=\"xtick_4\">\n     <g id=\"line2d_4\">\n      <g>\n       <use xlink:href=\"#m26d10e1175\" x=\"370.104688\" y=\"224.64\" style=\"stroke: #000000; stroke-width: 0.8\"/>\n      </g>\n     </g>\n    </g>\n    <g id=\"xtick_5\">\n     <g id=\"line2d_5\">\n      <defs>\n       <path id=\"m8d8fe993f1\" d=\"M 0 0 \nL 0 2 \n\" style=\"stroke: #000000; stroke-width: 0.6\"/>\n      </defs>\n      <g>\n       <use xlink:href=\"#m8d8fe993f1\" x=\"45.693877\" y=\"224.64\" style=\"stroke: #000000; stroke-width: 0.6\"/>\n      </g>\n     </g>\n    </g>\n    <g id=\"xtick_6\">\n     <g id=\"line2d_6\">\n      <g>\n       <use xlink:href=\"#m8d8fe993f1\" x=\"55.412796\" y=\"224.64\" style=\"stroke: #000000; stroke-width: 0.6\"/>\n      </g>\n     </g>\n    </g>\n    <g id=\"xtick_7\">\n     <g id=\"line2d_7\">\n      <g>\n       <use xlink:href=\"#m8d8fe993f1\" x=\"65.801985\" y=\"224.64\" style=\"stroke: #000000; stroke-width: 0.6\"/>\n      </g>\n     </g>\n    </g>\n    <g id=\"xtick_8\">\n     <g id=\"line2d_8\">\n      <g>\n       <use xlink:href=\"#m8d8fe993f1\" x=\"75.856039\" y=\"224.64\" style=\"stroke: #000000; stroke-width: 0.6\"/>\n      </g>\n     </g>\n    </g>\n    <g id=\"xtick_9\">\n     <g id=\"line2d_9\">\n      <g>\n       <use xlink:href=\"#m8d8fe993f1\" x=\"86.245228\" y=\"224.64\" style=\"stroke: #000000; stroke-width: 0.6\"/>\n      </g>\n     </g>\n    </g>\n    <g id=\"xtick_10\">\n     <g id=\"line2d_10\">\n      <g>\n       <use xlink:href=\"#m8d8fe993f1\" x=\"96.299282\" y=\"224.64\" style=\"stroke: #000000; stroke-width: 0.6\"/>\n      </g>\n     </g>\n     <g id=\"text_4\">\n      <!-- Jul -->\n      <g transform=\"translate(90.26647 237.638438)scale(0.1 -0.1)\">\n       <defs>\n        <path id=\"DejaVuSans-75\" d=\"M 544 1381 \nL 544 3500 \nL 1119 3500 \nL 1119 1403 \nQ 1119 906 1312 657 \nQ 1506 409 1894 409 \nQ 2359 409 2629 706 \nQ 2900 1003 2900 1516 \nL 2900 3500 \nL 3475 3500 \nL 3475 0 \nL 2900 0 \nL 2900 538 \nQ 2691 219 2414 64 \nQ 2138 -91 1772 -91 \nQ 1169 -91 856 284 \nQ 544 659 544 1381 \nz\nM 1991 3584 \nL 1991 3584 \nz\n\" transform=\"scale(0.015625)\"/>\n        <path id=\"DejaVuSans-6c\" d=\"M 603 4863 \nL 1178 4863 \nL 1178 0 \nL 603 0 \nL 603 4863 \nz\n\" transform=\"scale(0.015625)\"/>\n       </defs>\n       <use xlink:href=\"#DejaVuSans-4a\"/>\n       <use xlink:href=\"#DejaVuSans-75\" x=\"29.492188\"/>\n       <use xlink:href=\"#DejaVuSans-6c\" x=\"92.871094\"/>\n      </g>\n     </g>\n    </g>\n    <g id=\"xtick_11\">\n     <g id=\"line2d_11\">\n      <g>\n       <use xlink:href=\"#m8d8fe993f1\" x=\"106.688471\" y=\"224.64\" style=\"stroke: #000000; stroke-width: 0.6\"/>\n      </g>\n     </g>\n    </g>\n    <g id=\"xtick_12\">\n     <g id=\"line2d_12\">\n      <g>\n       <use xlink:href=\"#m8d8fe993f1\" x=\"117.07766\" y=\"224.64\" style=\"stroke: #000000; stroke-width: 0.6\"/>\n      </g>\n     </g>\n    </g>\n    <g id=\"xtick_13\">\n     <g id=\"line2d_13\">\n      <g>\n       <use xlink:href=\"#m8d8fe993f1\" x=\"127.131715\" y=\"224.64\" style=\"stroke: #000000; stroke-width: 0.6\"/>\n      </g>\n     </g>\n    </g>\n    <g id=\"xtick_14\">\n     <g id=\"line2d_14\">\n      <g>\n       <use xlink:href=\"#m8d8fe993f1\" x=\"137.520904\" y=\"224.64\" style=\"stroke: #000000; stroke-width: 0.6\"/>\n      </g>\n     </g>\n    </g>\n    <g id=\"xtick_15\">\n     <g id=\"line2d_15\">\n      <g>\n       <use xlink:href=\"#m8d8fe993f1\" x=\"147.574958\" y=\"224.64\" style=\"stroke: #000000; stroke-width: 0.6\"/>\n      </g>\n     </g>\n    </g>\n    <g id=\"xtick_16\">\n     <g id=\"line2d_16\">\n      <g>\n       <use xlink:href=\"#m8d8fe993f1\" x=\"168.353336\" y=\"224.64\" style=\"stroke: #000000; stroke-width: 0.6\"/>\n      </g>\n     </g>\n    </g>\n    <g id=\"xtick_17\">\n     <g id=\"line2d_17\">\n      <g>\n       <use xlink:href=\"#m8d8fe993f1\" x=\"177.73712\" y=\"224.64\" style=\"stroke: #000000; stroke-width: 0.6\"/>\n      </g>\n     </g>\n    </g>\n    <g id=\"xtick_18\">\n     <g id=\"line2d_18\">\n      <g>\n       <use xlink:href=\"#m8d8fe993f1\" x=\"188.126309\" y=\"224.64\" style=\"stroke: #000000; stroke-width: 0.6\"/>\n      </g>\n     </g>\n    </g>\n    <g id=\"xtick_19\">\n     <g id=\"line2d_19\">\n      <g>\n       <use xlink:href=\"#m8d8fe993f1\" x=\"198.180363\" y=\"224.64\" style=\"stroke: #000000; stroke-width: 0.6\"/>\n      </g>\n     </g>\n    </g>\n    <g id=\"xtick_20\">\n     <g id=\"line2d_20\">\n      <g>\n       <use xlink:href=\"#m8d8fe993f1\" x=\"208.569552\" y=\"224.64\" style=\"stroke: #000000; stroke-width: 0.6\"/>\n      </g>\n     </g>\n    </g>\n    <g id=\"xtick_21\">\n     <g id=\"line2d_21\">\n      <g>\n       <use xlink:href=\"#m8d8fe993f1\" x=\"218.623606\" y=\"224.64\" style=\"stroke: #000000; stroke-width: 0.6\"/>\n      </g>\n     </g>\n     <g id=\"text_5\">\n      <!-- Jul -->\n      <g transform=\"translate(212.590794 237.638438)scale(0.1 -0.1)\">\n       <use xlink:href=\"#DejaVuSans-4a\"/>\n       <use xlink:href=\"#DejaVuSans-75\" x=\"29.492188\"/>\n       <use xlink:href=\"#DejaVuSans-6c\" x=\"92.871094\"/>\n      </g>\n     </g>\n    </g>\n    <g id=\"xtick_22\">\n     <g id=\"line2d_22\">\n      <g>\n       <use xlink:href=\"#m8d8fe993f1\" x=\"229.012796\" y=\"224.64\" style=\"stroke: #000000; stroke-width: 0.6\"/>\n      </g>\n     </g>\n    </g>\n    <g id=\"xtick_23\">\n     <g id=\"line2d_23\">\n      <g>\n       <use xlink:href=\"#m8d8fe993f1\" x=\"239.401985\" y=\"224.64\" style=\"stroke: #000000; stroke-width: 0.6\"/>\n      </g>\n     </g>\n    </g>\n    <g id=\"xtick_24\">\n     <g id=\"line2d_24\">\n      <g>\n       <use xlink:href=\"#m8d8fe993f1\" x=\"249.456039\" y=\"224.64\" style=\"stroke: #000000; stroke-width: 0.6\"/>\n      </g>\n     </g>\n    </g>\n    <g id=\"xtick_25\">\n     <g id=\"line2d_25\">\n      <g>\n       <use xlink:href=\"#m8d8fe993f1\" x=\"259.845228\" y=\"224.64\" style=\"stroke: #000000; stroke-width: 0.6\"/>\n      </g>\n     </g>\n    </g>\n    <g id=\"xtick_26\">\n     <g id=\"line2d_26\">\n      <g>\n       <use xlink:href=\"#m8d8fe993f1\" x=\"269.899282\" y=\"224.64\" style=\"stroke: #000000; stroke-width: 0.6\"/>\n      </g>\n     </g>\n    </g>\n    <g id=\"xtick_27\">\n     <g id=\"line2d_27\">\n      <g>\n       <use xlink:href=\"#m8d8fe993f1\" x=\"290.67766\" y=\"224.64\" style=\"stroke: #000000; stroke-width: 0.6\"/>\n      </g>\n     </g>\n    </g>\n    <g id=\"xtick_28\">\n     <g id=\"line2d_28\">\n      <g>\n       <use xlink:href=\"#m8d8fe993f1\" x=\"300.061444\" y=\"224.64\" style=\"stroke: #000000; stroke-width: 0.6\"/>\n      </g>\n     </g>\n    </g>\n    <g id=\"xtick_29\">\n     <g id=\"line2d_29\">\n      <g>\n       <use xlink:href=\"#m8d8fe993f1\" x=\"310.450633\" y=\"224.64\" style=\"stroke: #000000; stroke-width: 0.6\"/>\n      </g>\n     </g>\n    </g>\n    <g id=\"xtick_30\">\n     <g id=\"line2d_30\">\n      <g>\n       <use xlink:href=\"#m8d8fe993f1\" x=\"320.504687\" y=\"224.64\" style=\"stroke: #000000; stroke-width: 0.6\"/>\n      </g>\n     </g>\n    </g>\n    <g id=\"xtick_31\">\n     <g id=\"line2d_31\">\n      <g>\n       <use xlink:href=\"#m8d8fe993f1\" x=\"330.893877\" y=\"224.64\" style=\"stroke: #000000; stroke-width: 0.6\"/>\n      </g>\n     </g>\n    </g>\n    <g id=\"xtick_32\">\n     <g id=\"line2d_32\">\n      <g>\n       <use xlink:href=\"#m8d8fe993f1\" x=\"340.947931\" y=\"224.64\" style=\"stroke: #000000; stroke-width: 0.6\"/>\n      </g>\n     </g>\n     <g id=\"text_6\">\n      <!-- Jul -->\n      <g transform=\"translate(334.915118 237.638438)scale(0.1 -0.1)\">\n       <use xlink:href=\"#DejaVuSans-4a\"/>\n       <use xlink:href=\"#DejaVuSans-75\" x=\"29.492188\"/>\n       <use xlink:href=\"#DejaVuSans-6c\" x=\"92.871094\"/>\n      </g>\n     </g>\n    </g>\n    <g id=\"xtick_33\">\n     <g id=\"line2d_33\">\n      <g>\n       <use xlink:href=\"#m8d8fe993f1\" x=\"351.33712\" y=\"224.64\" style=\"stroke: #000000; stroke-width: 0.6\"/>\n      </g>\n     </g>\n    </g>\n    <g id=\"xtick_34\">\n     <g id=\"line2d_34\">\n      <g>\n       <use xlink:href=\"#m8d8fe993f1\" x=\"361.726309\" y=\"224.64\" style=\"stroke: #000000; stroke-width: 0.6\"/>\n      </g>\n     </g>\n    </g>\n   </g>\n   <g id=\"matplotlib.axis_2\">\n    <g id=\"ytick_1\">\n     <g id=\"line2d_35\">\n      <defs>\n       <path id=\"m9ca3855fed\" d=\"M 0 0 \nL -3.5 0 \n\" style=\"stroke: #000000; stroke-width: 0.8\"/>\n      </defs>\n      <g>\n       <use xlink:href=\"#m9ca3855fed\" x=\"35.304688\" y=\"188.591923\" style=\"stroke: #000000; stroke-width: 0.8\"/>\n      </g>\n     </g>\n     <g id=\"text_7\">\n      <!-- −40 -->\n      <g transform=\"translate(7.2 192.391142)scale(0.1 -0.1)\">\n       <defs>\n        <path id=\"DejaVuSans-2212\" d=\"M 678 2272 \nL 4684 2272 \nL 4684 1741 \nL 678 1741 \nL 678 2272 \nz\n\" transform=\"scale(0.015625)\"/>\n        <path id=\"DejaVuSans-34\" d=\"M 2419 4116 \nL 825 1625 \nL 2419 1625 \nL 2419 4116 \nz\nM 2253 4666 \nL 3047 4666 \nL 3047 1625 \nL 3713 1625 \nL 3713 1100 \nL 3047 1100 \nL 3047 0 \nL 2419 0 \nL 2419 1100 \nL 313 1100 \nL 313 1709 \nL 2253 4666 \nz\n\" transform=\"scale(0.015625)\"/>\n       </defs>\n       <use xlink:href=\"#DejaVuSans-2212\"/>\n       <use xlink:href=\"#DejaVuSans-34\" x=\"83.789062\"/>\n       <use xlink:href=\"#DejaVuSans-30\" x=\"147.412109\"/>\n      </g>\n     </g>\n    </g>\n    <g id=\"ytick_2\">\n     <g id=\"line2d_36\">\n      <g>\n       <use xlink:href=\"#m9ca3855fed\" x=\"35.304688\" y=\"146.309929\" style=\"stroke: #000000; stroke-width: 0.8\"/>\n      </g>\n     </g>\n     <g id=\"text_8\">\n      <!-- −30 -->\n      <g transform=\"translate(7.2 150.109147)scale(0.1 -0.1)\">\n       <defs>\n        <path id=\"DejaVuSans-33\" d=\"M 2597 2516 \nQ 3050 2419 3304 2112 \nQ 3559 1806 3559 1356 \nQ 3559 666 3084 287 \nQ 2609 -91 1734 -91 \nQ 1441 -91 1130 -33 \nQ 819 25 488 141 \nL 488 750 \nQ 750 597 1062 519 \nQ 1375 441 1716 441 \nQ 2309 441 2620 675 \nQ 2931 909 2931 1356 \nQ 2931 1769 2642 2001 \nQ 2353 2234 1838 2234 \nL 1294 2234 \nL 1294 2753 \nL 1863 2753 \nQ 2328 2753 2575 2939 \nQ 2822 3125 2822 3475 \nQ 2822 3834 2567 4026 \nQ 2313 4219 1838 4219 \nQ 1578 4219 1281 4162 \nQ 984 4106 628 3988 \nL 628 4550 \nQ 988 4650 1302 4700 \nQ 1616 4750 1894 4750 \nQ 2613 4750 3031 4423 \nQ 3450 4097 3450 3541 \nQ 3450 3153 3228 2886 \nQ 3006 2619 2597 2516 \nz\n\" transform=\"scale(0.015625)\"/>\n       </defs>\n       <use xlink:href=\"#DejaVuSans-2212\"/>\n       <use xlink:href=\"#DejaVuSans-33\" x=\"83.789062\"/>\n       <use xlink:href=\"#DejaVuSans-30\" x=\"147.412109\"/>\n      </g>\n     </g>\n    </g>\n    <g id=\"ytick_3\">\n     <g id=\"line2d_37\">\n      <g>\n       <use xlink:href=\"#m9ca3855fed\" x=\"35.304688\" y=\"104.027934\" style=\"stroke: #000000; stroke-width: 0.8\"/>\n      </g>\n     </g>\n     <g id=\"text_9\">\n      <!-- −20 -->\n      <g transform=\"translate(7.2 107.827153)scale(0.1 -0.1)\">\n       <use xlink:href=\"#DejaVuSans-2212\"/>\n       <use xlink:href=\"#DejaVuSans-32\" x=\"83.789062\"/>\n       <use xlink:href=\"#DejaVuSans-30\" x=\"147.412109\"/>\n      </g>\n     </g>\n    </g>\n    <g id=\"ytick_4\">\n     <g id=\"line2d_38\">\n      <g>\n       <use xlink:href=\"#m9ca3855fed\" x=\"35.304688\" y=\"61.74594\" style=\"stroke: #000000; stroke-width: 0.8\"/>\n      </g>\n     </g>\n     <g id=\"text_10\">\n      <!-- −10 -->\n      <g transform=\"translate(7.2 65.545159)scale(0.1 -0.1)\">\n       <use xlink:href=\"#DejaVuSans-2212\"/>\n       <use xlink:href=\"#DejaVuSans-31\" x=\"83.789062\"/>\n       <use xlink:href=\"#DejaVuSans-30\" x=\"147.412109\"/>\n      </g>\n     </g>\n    </g>\n    <g id=\"ytick_5\">\n     <g id=\"line2d_39\">\n      <g>\n       <use xlink:href=\"#m9ca3855fed\" x=\"35.304688\" y=\"19.463946\" style=\"stroke: #000000; stroke-width: 0.8\"/>\n      </g>\n     </g>\n     <g id=\"text_11\">\n      <!-- 0 -->\n      <g transform=\"translate(21.942188 23.263165)scale(0.1 -0.1)\">\n       <use xlink:href=\"#DejaVuSans-30\"/>\n      </g>\n     </g>\n    </g>\n   </g>\n   <g id=\"line2d_40\">\n    <path d=\"M 35.304688 20.085981 \nL 35.974958 17.083636 \nL 36.310093 22.07938 \nL 36.645228 29.418077 \nL 37.650633 35.319129 \nL 37.985769 28.378727 \nL 38.320904 28.490868 \nL 38.656039 29.265702 \nL 38.991174 36.95944 \nL 39.326309 36.148577 \nL 39.661444 39.205303 \nL 39.996579 36.590297 \nL 40.66685 34.730804 \nL 41.001985 31.444273 \nL 41.33712 29.517372 \nL 41.672255 38.68044 \nL 42.342525 27.675221 \nL 42.67766 36.513778 \nL 43.012796 39.199332 \nL 43.347931 38.729024 \nL 43.683066 45.119951 \nL 44.018201 48.272254 \nL 44.353336 49.679029 \nL 44.688471 52.575893 \nL 45.358742 40.798009 \nL 45.693877 42.076826 \nL 46.029012 39.535014 \nL 46.364147 43.539178 \nL 46.699282 39.739853 \nL 47.704688 48.091793 \nL 48.039823 48.456305 \nL 48.374958 48.114629 \nL 48.710093 49.69785 \nL 49.045228 47.413342 \nL 49.380363 46.995883 \nL 49.715498 46.037278 \nL 50.050633 43.707799 \nL 50.385769 43.665913 \nL 50.720904 42.064391 \nL 51.056039 43.582726 \nL 51.391174 54.242695 \nL 51.726309 58.032376 \nL 52.061444 56.675859 \nL 52.396579 54.509623 \nL 52.731715 53.774751 \nL 53.06685 54.204499 \nL 53.401985 57.303125 \nL 53.73712 53.488233 \nL 54.072255 56.536714 \nL 54.40739 57.377884 \nL 54.742525 61.897384 \nL 55.07766 64.305533 \nL 55.412796 61.448806 \nL 55.747931 63.614033 \nL 56.083066 70.270793 \nL 56.753336 65.58823 \nL 57.423606 57.727896 \nL 57.758742 61.488821 \nL 58.429012 55.355897 \nL 58.764147 62.265096 \nL 59.099282 66.441837 \nL 59.434417 73.365802 \nL 59.769552 73.084584 \nL 60.104687 67.880078 \nL 60.439823 69.467436 \nL 60.774958 70.277064 \nL 61.110093 68.249449 \nL 61.445228 67.906994 \nL 61.780363 68.209657 \nL 62.785769 62.068492 \nL 63.120904 65.108185 \nL 63.456039 61.665653 \nL 63.791174 68.310542 \nL 64.126309 68.119897 \nL 64.461444 69.582505 \nL 64.796579 77.845612 \nL 65.131715 83.286628 \nL 65.46685 86.358281 \nL 65.801985 87.300607 \nL 66.13712 94.025033 \nL 66.472255 95.343131 \nL 66.80739 94.399231 \nL 67.142525 100.53319 \nL 67.47766 98.746466 \nL 67.812796 98.272715 \nL 68.147931 102.79625 \nL 68.483066 89.071663 \nL 68.818201 87.06036 \nL 69.153336 86.971467 \nL 69.488471 88.715133 \nL 69.823606 84.515233 \nL 70.493877 89.584395 \nL 71.164147 79.656409 \nL 71.499282 82.793275 \nL 71.834417 87.162212 \nL 72.169552 93.841223 \nL 72.504687 85.15919 \nL 72.839823 95.684983 \nL 73.174958 94.952115 \nL 73.510093 93.445862 \nL 73.845228 92.523153 \nL 74.180363 92.791303 \nL 74.515498 97.614227 \nL 74.850633 104.890683 \nL 75.185769 102.499952 \nL 75.856039 99.422407 \nL 76.191174 99.807451 \nL 76.526309 93.957258 \nL 76.861444 95.91471 \nL 77.196579 96.983874 \nL 77.531715 96.280588 \nL 77.86685 97.166139 \nL 78.201985 97.64029 \nL 78.53712 92.536945 \nL 78.872255 94.580083 \nL 79.20739 93.763798 \nL 79.542525 96.300123 \nL 79.87766 96.695559 \nL 80.212796 106.898273 \nL 80.547931 108.509449 \nL 80.883066 103.16557 \nL 81.553336 108.750581 \nL 81.888471 110.866024 \nL 82.223606 116.604028 \nL 82.558742 115.532395 \nL 82.893877 111.480928 \nL 83.229012 111.511952 \nL 83.564147 112.415979 \nL 83.899282 116.473624 \nL 84.234417 116.803528 \nL 84.569552 114.859744 \nL 84.904687 114.850136 \nL 85.239823 113.049355 \nL 85.574958 112.527626 \nL 85.910093 112.445932 \nL 86.245228 106.469575 \nL 86.580363 109.987446 \nL 86.915498 105.688728 \nL 87.250633 106.496587 \nL 87.585769 105.495616 \nL 88.256039 109.074032 \nL 88.591174 103.965535 \nL 88.926309 110.652839 \nL 89.261444 111.316397 \nL 89.596579 110.571937 \nL 89.931715 105.745517 \nL 90.26685 112.528009 \nL 90.601985 109.952207 \nL 90.93712 112.444812 \nL 91.272255 110.384971 \nL 91.60739 104.22359 \nL 91.942525 105.899083 \nL 92.27766 105.670979 \nL 92.612796 101.104783 \nL 92.947931 98.253882 \nL 93.283066 91.278853 \nL 93.618201 101.112084 \nL 93.953336 97.419634 \nL 94.288471 105.748822 \nL 94.623606 104.962044 \nL 94.958742 102.553908 \nL 95.293877 105.455535 \nL 95.629012 95.610246 \nL 96.299282 85.46653 \nL 96.634417 85.629869 \nL 96.969552 85.220327 \nL 97.304688 94.389278 \nL 97.639823 91.759844 \nL 97.974958 94.497402 \nL 98.310093 98.235756 \nL 98.645228 97.724943 \nL 98.980363 98.740842 \nL 99.315498 102.249059 \nL 99.650633 102.948128 \nL 99.985769 107.430067 \nL 100.320904 103.712124 \nL 100.656039 106.858032 \nL 100.991174 103.442374 \nL 101.326309 102.375171 \nL 101.661444 107.350156 \nL 101.996579 114.641927 \nL 102.331715 112.057071 \nL 102.66685 112.190174 \nL 103.001985 113.943494 \nL 103.33712 112.474305 \nL 104.00739 126.961612 \nL 104.342525 126.119165 \nL 104.67766 121.474447 \nL 105.012796 109.494436 \nL 105.347931 106.580722 \nL 105.683066 109.446514 \nL 106.018201 106.450593 \nL 106.353336 108.393098 \nL 106.688471 103.067233 \nL 107.023606 104.403203 \nL 107.358742 102.270077 \nL 108.029012 114.882417 \nL 108.364147 107.758118 \nL 108.699282 113.417991 \nL 109.034417 116.518906 \nL 109.369552 111.948628 \nL 109.704688 109.859294 \nL 110.039823 118.945518 \nL 110.374958 116.690635 \nL 110.710093 121.523268 \nL 111.380363 111.554842 \nL 112.050633 107.21042 \nL 112.385769 107.404996 \nL 112.720904 102.427985 \nL 113.056039 103.368307 \nL 113.391174 97.22263 \nL 113.726309 98.672846 \nL 114.061444 96.296264 \nL 114.396579 90.641459 \nL 114.731715 88.641523 \nL 115.401985 91.712431 \nL 115.73712 90.335 \nL 116.072255 90.963069 \nL 116.40739 86.336295 \nL 116.742525 85.63857 \nL 117.07766 92.46665 \nL 117.412796 88.153694 \nL 117.747931 93.600909 \nL 118.083066 85.538661 \nL 118.418201 90.39652 \nL 119.088471 79.796216 \nL 119.423606 83.770572 \nL 119.758742 80.38416 \nL 120.093877 78.633514 \nL 120.429012 79.256299 \nL 120.764147 79.403697 \nL 121.099282 77.991184 \nL 121.434417 72.301876 \nL 121.769552 73.937791 \nL 122.104687 70.800645 \nL 122.439823 73.369372 \nL 122.774958 71.979032 \nL 123.110093 73.79684 \nL 123.445228 80.304571 \nL 123.780363 77.370406 \nL 124.115498 77.593932 \nL 124.450633 81.077516 \nL 124.785769 82.97514 \nL 125.120904 86.753353 \nL 125.456039 80.091102 \nL 125.791174 87.315048 \nL 126.126309 84.601039 \nL 126.461444 85.955407 \nL 127.131715 90.887251 \nL 127.46685 91.384663 \nL 127.801985 100.78145 \nL 128.13712 100.156651 \nL 128.472255 98.337238 \nL 128.80739 103.975173 \nL 129.142525 103.176228 \nL 129.47766 108.389732 \nL 129.812796 108.089417 \nL 130.147931 108.28258 \nL 130.483066 111.600462 \nL 130.818201 107.130351 \nL 131.153336 107.634307 \nL 131.488471 108.859352 \nL 131.823606 103.776138 \nL 132.158742 101.774564 \nL 132.493877 100.809823 \nL 133.164147 116.605281 \nL 133.499282 118.264443 \nL 133.834417 122.721237 \nL 134.169552 117.772133 \nL 134.504687 120.666031 \nL 134.839823 121.633729 \nL 135.174958 125.400871 \nL 135.510093 121.447666 \nL 135.845228 112.337462 \nL 136.180363 115.395921 \nL 137.185769 130.589367 \nL 137.520904 132.59293 \nL 137.856039 121.548941 \nL 138.191174 125.120125 \nL 138.526309 123.367461 \nL 138.861444 120.988608 \nL 139.531715 129.384506 \nL 139.86685 124.578132 \nL 140.201985 115.490515 \nL 140.53712 117.780512 \nL 140.872255 113.661171 \nL 141.20739 111.010204 \nL 141.87766 108.859572 \nL 142.547931 108.864279 \nL 142.883066 104.824215 \nL 143.218201 105.481809 \nL 143.553336 112.072907 \nL 144.223606 114.703868 \nL 144.558742 113.866506 \nL 144.893877 107.465948 \nL 145.229012 107.038558 \nL 145.564147 97.492557 \nL 145.899282 97.571976 \nL 146.234417 91.211287 \nL 146.904687 83.9185 \nL 147.239823 84.078582 \nL 147.574958 75.857573 \nL 147.910093 72.880522 \nL 148.245228 73.587976 \nL 148.580363 78.388762 \nL 149.250633 73.312115 \nL 149.585769 67.894426 \nL 149.920904 71.389524 \nL 150.256039 68.031401 \nL 150.591174 66.998197 \nL 151.261444 69.607198 \nL 151.596579 74.638464 \nL 151.931715 74.430479 \nL 152.26685 76.140373 \nL 152.93712 88.226507 \nL 153.272255 88.997543 \nL 153.60739 95.373531 \nL 153.942525 90.84162 \nL 154.27766 98.259689 \nL 154.947931 103.617583 \nL 155.283066 110.269167 \nL 155.953336 104.82917 \nL 156.288471 104.996349 \nL 156.623606 101.927142 \nL 157.293877 88.160341 \nL 157.629012 91.904905 \nL 157.964147 92.096662 \nL 158.299282 95.774178 \nL 158.634417 90.9973 \nL 158.969552 88.976257 \nL 159.304688 100.221863 \nL 159.639823 100.04455 \nL 159.974958 88.482372 \nL 160.310093 91.926562 \nL 160.645228 98.211921 \nL 160.980363 90.354967 \nL 161.315498 89.080455 \nL 161.650633 92.408585 \nL 161.985769 91.311979 \nL 162.991174 85.667493 \nL 163.326309 86.539986 \nL 163.661444 89.73713 \nL 163.996579 91.450153 \nL 164.331715 96.469668 \nL 164.66685 97.645666 \nL 165.001985 100.985398 \nL 165.33712 109.562726 \nL 165.672255 107.360375 \nL 166.00739 109.939654 \nL 167.012796 127.200405 \nL 167.347931 125.109917 \nL 167.683066 125.95974 \nL 168.018201 119.602894 \nL 168.353336 104.522877 \nL 168.688471 98.960504 \nL 169.023606 97.46889 \nL 169.358742 93.32203 \nL 169.693877 96.239407 \nL 170.029012 100.338794 \nL 170.364147 96.849191 \nL 170.699282 103.260153 \nL 171.034417 96.797012 \nL 171.369552 103.735439 \nL 171.704688 107.347437 \nL 172.039823 104.761354 \nL 172.374958 106.235472 \nL 172.710093 98.857408 \nL 173.045228 107.751535 \nL 173.380363 107.934933 \nL 173.715498 101.856949 \nL 174.385769 96.841712 \nL 174.720904 100.885819 \nL 175.056039 107.667995 \nL 175.391174 107.847332 \nL 175.726309 113.377181 \nL 176.061444 110.329415 \nL 176.396579 110.70668 \nL 177.06685 101.77979 \nL 177.401985 103.488239 \nL 177.73712 101.376132 \nL 178.072255 108.23115 \nL 178.40739 103.226271 \nL 178.742525 104.963021 \nL 179.412796 112.245522 \nL 179.747931 115.225403 \nL 180.083066 117.090666 \nL 180.418201 121.178347 \nL 180.753336 122.187423 \nL 181.088471 130.928971 \nL 181.423606 126.943852 \nL 182.093877 131.729447 \nL 182.429012 129.355716 \nL 182.764147 128.862785 \nL 183.099282 130.88272 \nL 183.434417 132.009627 \nL 183.769552 128.952196 \nL 184.104687 128.743244 \nL 184.439823 125.758965 \nL 184.774958 127.096699 \nL 185.110093 129.651298 \nL 185.445228 133.63049 \nL 185.780363 135.667919 \nL 186.115498 134.905533 \nL 186.450633 132.579767 \nL 186.785769 133.671592 \nL 187.120904 133.916795 \nL 187.456039 136.710223 \nL 187.791174 142.540473 \nL 188.126309 140.473309 \nL 188.461444 149.028595 \nL 188.796579 146.306591 \nL 189.131715 153.952475 \nL 189.46685 154.88289 \nL 189.801985 150.077148 \nL 190.13712 141.954786 \nL 190.472255 141.302281 \nL 190.80739 143.653897 \nL 191.142525 148.702564 \nL 191.47766 146.798005 \nL 191.812796 148.97463 \nL 192.147931 154.840651 \nL 192.483066 154.134303 \nL 192.818201 154.620807 \nL 193.153336 163.229784 \nL 193.488471 159.137435 \nL 193.823606 157.470886 \nL 194.493877 145.834177 \nL 194.829012 144.339255 \nL 195.164147 136.852723 \nL 195.499282 136.60075 \nL 195.834417 144.851409 \nL 196.169552 135.49093 \nL 196.504687 137.865166 \nL 196.839823 138.221403 \nL 197.174958 140.683732 \nL 197.510093 142.269829 \nL 198.180363 152.790233 \nL 198.515498 153.754576 \nL 198.850633 157.452304 \nL 199.520904 178.760181 \nL 199.856039 181.758724 \nL 200.191174 175.52577 \nL 200.526309 175.890096 \nL 200.861444 169.674722 \nL 201.196579 170.72353 \nL 201.531715 168.207068 \nL 201.86685 163.853268 \nL 202.53712 160.437655 \nL 203.20739 166.562921 \nL 203.542525 171.809491 \nL 203.87766 172.857371 \nL 204.212796 170.917889 \nL 204.547931 176.696837 \nL 204.883066 174.467371 \nL 205.218201 176.058502 \nL 205.553336 172.891032 \nL 205.888471 175.559634 \nL 206.223606 179.488452 \nL 206.558742 179.445647 \nL 206.893877 171.883465 \nL 207.229012 172.5288 \nL 207.899282 165.220246 \nL 208.234417 173.841381 \nL 208.569552 167.812522 \nL 208.904687 165.559379 \nL 209.239823 173.121069 \nL 209.574958 176.812358 \nL 209.910093 175.199743 \nL 210.245228 179.860714 \nL 210.580363 178.609356 \nL 211.585769 164.877012 \nL 211.920904 160.837793 \nL 212.591174 165.705927 \nL 213.261444 156.623817 \nL 213.596579 151.876338 \nL 213.931715 154.658161 \nL 214.26685 161.81814 \nL 214.601985 164.539238 \nL 214.93712 164.401933 \nL 215.272255 163.425059 \nL 215.60739 165.530538 \nL 215.942525 164.839452 \nL 216.27766 165.839344 \nL 216.612796 165.763146 \nL 216.947931 167.679838 \nL 217.283066 165.360116 \nL 217.618201 158.218263 \nL 218.288471 170.300611 \nL 218.623606 174.553861 \nL 218.958742 181.133508 \nL 219.293877 180.173014 \nL 219.629012 181.709706 \nL 220.299282 166.531921 \nL 220.634417 163.1052 \nL 220.969552 169.688529 \nL 221.304688 168.434167 \nL 221.639823 176.589415 \nL 222.310093 182.882976 \nL 222.645228 179.204791 \nL 222.980363 178.173896 \nL 223.315498 182.846809 \nL 223.650633 183.439675 \nL 223.985769 183.605944 \nL 224.320904 186.685937 \nL 224.656039 188.043026 \nL 224.991174 193.821591 \nL 225.326309 193.053377 \nL 225.661444 189.306576 \nL 225.996579 197.523173 \nL 226.331715 200.788014 \nL 226.66685 208.420396 \nL 227.001985 200.263304 \nL 227.33712 200.92468 \nL 227.672255 199.944148 \nL 228.00739 207.851752 \nL 228.342525 202.184765 \nL 228.67766 203.626955 \nL 229.347931 214.756364 \nL 229.683066 213.628403 \nL 230.018201 211.118332 \nL 230.353336 204.17388 \nL 230.688471 202.362746 \nL 231.023606 201.337019 \nL 231.358742 197.225978 \nL 231.693877 199.218504 \nL 232.029012 197.866282 \nL 232.364147 200.086124 \nL 232.699282 200.942242 \nL 233.034417 195.315089 \nL 233.369552 195.398718 \nL 233.704688 193.451873 \nL 234.039823 200.287694 \nL 234.710093 192.720708 \nL 235.380363 198.008632 \nL 235.715498 197.146766 \nL 236.050633 189.121634 \nL 236.385769 189.465252 \nL 236.720904 184.598422 \nL 237.056039 189.308989 \nL 237.391174 188.633197 \nL 237.726309 184.812731 \nL 238.061444 175.939816 \nL 238.396579 178.603869 \nL 238.731715 178.382519 \nL 239.06685 177.758844 \nL 239.401985 179.712782 \nL 239.73712 178.167937 \nL 240.40739 165.564441 \nL 241.07766 169.653048 \nL 241.412796 169.631837 \nL 241.747931 166.733922 \nL 242.083066 167.173374 \nL 242.418201 162.132664 \nL 242.753336 160.143133 \nL 243.088471 160.974692 \nL 243.423606 167.575117 \nL 243.758742 167.29166 \nL 244.093877 170.010926 \nL 244.429012 170.541074 \nL 244.764147 173.034944 \nL 245.434417 180.472111 \nL 245.769552 179.126185 \nL 246.104687 176.454998 \nL 246.439823 170.395468 \nL 246.774958 171.37692 \nL 247.110093 177.519804 \nL 247.445228 175.754387 \nL 248.115498 181.870795 \nL 248.450633 189.277163 \nL 248.785769 181.721973 \nL 249.120904 180.283487 \nL 249.456039 181.891473 \nL 249.791174 179.720104 \nL 250.126309 184.700224 \nL 250.461444 186.359518 \nL 250.796579 186.643723 \nL 251.131715 185.753955 \nL 251.46685 194.008606 \nL 251.801985 191.774433 \nL 252.80739 197.039377 \nL 253.142525 195.389353 \nL 253.47766 196.011068 \nL 254.147931 192.997166 \nL 254.483066 195.349994 \nL 254.818201 201.336387 \nL 255.153336 204.435217 \nL 255.488471 193.827575 \nL 255.823606 188.880747 \nL 256.158742 192.72771 \nL 256.829012 184.312486 \nL 257.164147 188.87398 \nL 257.499282 187.345985 \nL 257.834417 189.962312 \nL 258.169552 189.598178 \nL 259.174958 208.850445 \nL 259.845228 202.11624 \nL 260.515498 205.592835 \nL 260.850633 203.44788 \nL 261.185769 200.4111 \nL 261.520904 201.746657 \nL 261.856039 201.683695 \nL 262.191174 202.910122 \nL 262.861444 191.989481 \nL 263.196579 191.477195 \nL 263.86685 191.13836 \nL 264.201985 193.811895 \nL 264.53712 200.312598 \nL 264.872255 198.168448 \nL 265.20739 202.772074 \nL 265.542525 192.830753 \nL 265.87766 187.146166 \nL 266.212796 187.025184 \nL 266.547931 183.420787 \nL 266.883066 181.56396 \nL 267.218201 176.328225 \nL 267.553336 174.788119 \nL 267.888471 177.071875 \nL 268.223606 174.214351 \nL 268.558742 169.61949 \nL 268.893877 170.743961 \nL 269.229012 178.77394 \nL 269.564147 178.4594 \nL 269.899282 184.23929 \nL 270.234417 181.315199 \nL 270.569552 188.386418 \nL 270.904687 188.894512 \nL 271.239823 179.179351 \nL 271.574958 181.855935 \nL 271.910093 181.600333 \nL 272.245228 178.230747 \nL 272.580363 188.589352 \nL 272.915498 187.257327 \nL 273.250633 180.510462 \nL 273.585769 190.535538 \nL 273.920904 194.626011 \nL 274.256039 192.769915 \nL 274.591174 182.9512 \nL 274.926309 178.962169 \nL 275.261444 179.667043 \nL 275.596579 180.862436 \nL 275.931715 183.064074 \nL 276.26685 181.470558 \nL 276.601985 182.267491 \nL 276.93712 179.849374 \nL 277.272255 173.698478 \nL 277.60739 172.687428 \nL 277.942525 173.511368 \nL 278.27766 178.953112 \nL 278.612796 179.26597 \nL 278.947931 182.061708 \nL 279.283066 183.18053 \nL 279.618201 183.727153 \nL 279.953336 187.146849 \nL 280.288471 181.653327 \nL 280.623606 178.391702 \nL 280.958742 178.503695 \nL 281.293877 178.748998 \nL 281.964147 182.122261 \nL 282.299282 178.420209 \nL 282.634417 182.33717 \nL 283.304688 177.974506 \nL 283.639823 173.327665 \nL 283.974958 171.803058 \nL 284.310093 173.31646 \nL 284.645228 174.279284 \nL 284.980363 177.436057 \nL 285.315498 181.880701 \nL 285.650633 179.033606 \nL 286.320904 187.077569 \nL 286.991174 177.20031 \nL 287.326309 175.661626 \nL 287.661444 179.437652 \nL 287.996579 179.406951 \nL 288.331715 178.069689 \nL 289.001985 184.031096 \nL 289.33712 185.358623 \nL 289.672255 177.585357 \nL 290.00739 176.030628 \nL 290.342525 175.978199 \nL 290.67766 173.999304 \nL 291.012796 169.981774 \nL 291.347931 170.802384 \nL 292.018201 179.589027 \nL 292.688471 181.134346 \nL 293.023606 176.746014 \nL 293.358742 177.328216 \nL 294.029012 169.349278 \nL 294.364147 174.616469 \nL 294.699282 191.006239 \nL 295.034417 184.098937 \nL 295.369552 183.971093 \nL 295.704688 187.711235 \nL 296.039823 193.716742 \nL 296.374958 193.390002 \nL 296.710093 198.612471 \nL 297.045228 198.336906 \nL 297.380363 193.259254 \nL 297.715498 193.304832 \nL 298.050633 184.545736 \nL 298.385769 187.554381 \nL 298.720904 178.687352 \nL 299.056039 181.488814 \nL 299.391174 181.719854 \nL 299.726309 185.265177 \nL 300.061444 190.041011 \nL 300.396579 190.307335 \nL 300.731715 187.594281 \nL 301.401985 175.640169 \nL 301.73712 174.633631 \nL 302.40739 182.194412 \nL 302.742525 177.932565 \nL 303.07766 181.894531 \nL 303.412796 187.231472 \nL 303.747931 184.91843 \nL 304.083066 189.62181 \nL 304.418201 185.681662 \nL 304.753336 189.601052 \nL 305.088471 189.313824 \nL 305.423606 189.447879 \nL 305.758742 184.614615 \nL 306.093877 187.235182 \nL 306.429012 188.626177 \nL 306.764147 183.362521 \nL 307.099282 189.26441 \nL 307.434417 193.09658 \nL 307.769552 184.008261 \nL 308.104688 180.554175 \nL 308.439823 178.900174 \nL 308.774958 176.495285 \nL 309.110093 175.473895 \nL 309.445228 171.389359 \nL 309.780363 172.274569 \nL 310.115498 175.398074 \nL 310.450633 173.633458 \nL 310.785769 170.554613 \nL 311.120904 173.732137 \nL 312.126309 160.471636 \nL 312.461444 158.494923 \nL 313.131715 144.016932 \nL 313.46685 143.18448 \nL 313.801985 147.725822 \nL 314.13712 147.574402 \nL 314.472255 150.639209 \nL 314.80739 160.262247 \nL 315.142525 159.945935 \nL 315.47766 156.049858 \nL 315.812796 156.143985 \nL 316.147931 153.754858 \nL 316.483066 156.784086 \nL 316.818201 156.552136 \nL 317.153336 154.590383 \nL 317.488471 155.804082 \nL 317.823606 160.606193 \nL 318.158742 163.248814 \nL 318.493877 162.949806 \nL 318.829012 161.015338 \nL 319.164147 161.10244 \nL 319.499282 155.894914 \nL 320.169552 160.738233 \nL 320.504687 159.366989 \nL 320.839823 154.938187 \nL 321.174958 155.201109 \nL 321.510093 149.713393 \nL 321.845228 147.936226 \nL 322.180363 149.824763 \nL 322.515498 148.548284 \nL 322.850633 149.17257 \nL 323.520904 163.653435 \nL 323.856039 159.291226 \nL 324.191174 156.626079 \nL 324.526309 152.361427 \nL 324.861444 152.618682 \nL 325.196579 159.115628 \nL 325.531715 160.129122 \nL 325.86685 165.786288 \nL 326.201985 159.99122 \nL 326.53712 167.399959 \nL 326.872255 167.916987 \nL 327.20739 168.882468 \nL 327.542525 164.545382 \nL 327.87766 168.049995 \nL 328.212796 168.625795 \nL 328.547931 165.536392 \nL 328.883066 163.904403 \nL 329.218201 169.428171 \nL 329.553336 171.778202 \nL 329.888471 176.584456 \nL 330.223606 172.709161 \nL 330.558742 177.983028 \nL 330.893877 176.941705 \nL 331.229012 172.762229 \nL 331.564147 164.571098 \nL 331.899282 163.585542 \nL 332.234417 161.650542 \nL 332.569552 152.576984 \nL 332.904687 152.754846 \nL 333.239823 148.640112 \nL 333.574958 140.962513 \nL 333.910093 139.556432 \nL 334.245228 134.371061 \nL 334.580363 135.151742 \nL 334.915498 133.918102 \nL 335.250633 130.395674 \nL 335.585769 135.227612 \nL 335.920904 130.627429 \nL 336.256039 131.569214 \nL 336.591174 134.966083 \nL 336.926309 133.931963 \nL 337.261444 131.10089 \nL 337.596579 125.500948 \nL 337.931715 117.754554 \nL 338.26685 107.178561 \nL 338.601985 109.938701 \nL 338.93712 101.308602 \nL 339.272255 98.489789 \nL 339.60739 103.498289 \nL 339.942525 104.537092 \nL 340.27766 101.911933 \nL 340.612796 100.760639 \nL 340.947931 102.698991 \nL 341.283066 106.779435 \nL 342.288471 112.253465 \nL 342.623606 111.755055 \nL 342.958742 109.007937 \nL 343.293877 109.416442 \nL 343.629012 105.944136 \nL 343.964147 114.099247 \nL 344.299282 115.976798 \nL 344.634417 115.374024 \nL 344.969552 113.723146 \nL 345.304688 109.906966 \nL 345.974958 120.226217 \nL 346.645228 127.714038 \nL 346.980363 133.718797 \nL 347.315498 126.13243 \nL 347.650633 121.830807 \nL 347.985769 121.853346 \nL 348.320904 124.155093 \nL 348.656039 131.263955 \nL 348.991174 127.82807 \nL 349.326309 127.70735 \nL 349.661444 134.555567 \nL 349.996579 145.141226 \nL 350.331715 138.005237 \nL 350.66685 142.272493 \nL 351.001985 138.934608 \nL 351.33712 130.971281 \nL 351.672255 129.08181 \nL 352.00739 117.409578 \nL 352.342525 115.423384 \nL 352.67766 121.013694 \nL 353.012796 116.837442 \nL 353.347931 116.896572 \nL 353.683066 119.963597 \nL 354.018201 117.879629 \nL 354.353336 118.216068 \nL 354.688471 126.152081 \nL 355.023606 124.399127 \nL 355.358742 121.07677 \nL 355.693877 124.206155 \nL 356.029012 121.346777 \nL 356.699282 110.626001 \nL 357.034417 109.245198 \nL 357.369552 108.846188 \nL 357.704688 111.539965 \nL 358.039823 106.96716 \nL 358.374958 106.861701 \nL 358.710093 106.281303 \nL 359.045228 101.823444 \nL 359.380363 103.961375 \nL 359.715498 101.595001 \nL 360.050633 102.917547 \nL 360.385769 101.846793 \nL 360.720904 93.889192 \nL 361.056039 95.853337 \nL 361.391174 97.035068 \nL 361.726309 96.319754 \nL 362.061444 109.160431 \nL 362.396579 97.816404 \nL 362.731715 94.549032 \nL 363.06685 94.903183 \nL 363.401985 98.050625 \nL 363.73712 98.301362 \nL 364.072255 99.356422 \nL 364.40739 96.958529 \nL 364.742525 103.085725 \nL 365.07766 103.682239 \nL 365.412796 107.918917 \nL 366.083066 110.607056 \nL 366.418201 110.496877 \nL 367.758742 100.039944 \nL 368.429012 108.813317 \nL 368.764147 100.342029 \nL 369.099282 96.307421 \nL 369.769552 83.268508 \nL 370.104688 83.190722 \nL 370.104688 83.190722 \n\" clip-path=\"url(#pae67872a78)\" style=\"fill: none; stroke: #1f77b4; stroke-width: 1.5; stroke-linecap: square\"/>\n   </g>\n   <g id=\"patch_3\">\n    <path d=\"M 35.304688 224.64 \nL 35.304688 7.2 \n\" style=\"fill: none; stroke: #000000; stroke-width: 0.8; stroke-linejoin: miter; stroke-linecap: square\"/>\n   </g>\n   <g id=\"patch_4\">\n    <path d=\"M 370.104688 224.64 \nL 370.104688 7.2 \n\" style=\"fill: none; stroke: #000000; stroke-width: 0.8; stroke-linejoin: miter; stroke-linecap: square\"/>\n   </g>\n   <g id=\"patch_5\">\n    <path d=\"M 35.304688 224.64 \nL 370.104688 224.64 \n\" style=\"fill: none; stroke: #000000; stroke-width: 0.8; stroke-linejoin: miter; stroke-linecap: square\"/>\n   </g>\n   <g id=\"patch_6\">\n    <path d=\"M 35.304688 7.2 \nL 370.104688 7.2 \n\" style=\"fill: none; stroke: #000000; stroke-width: 0.8; stroke-linejoin: miter; stroke-linecap: square\"/>\n   </g>\n  </g>\n </g>\n <defs>\n  <clipPath id=\"pae67872a78\">\n   <rect x=\"35.304688\" y=\"7.2\" width=\"334.8\" height=\"217.44\"/>\n  </clipPath>\n </defs>\n</svg>\n",
      "text/plain": [
       "<Figure size 432x288 with 1 Axes>"
      ]
     },
     "metadata": {
      "needs_background": "light"
     },
     "output_type": "display_data"
    }
   ],
   "source": [
    "ts = pd.Series(np.random.randn(1000), index=pd.date_range('1/1/2000', periods=1000))\n",
    "print(ts.index)\n",
    "ts = ts.cumsum()\n",
    "ts.plot()"
   ]
  },
  {
   "cell_type": "code",
   "execution_count": 461,
   "metadata": {},
   "outputs": [
    {
     "data": {
      "text/plain": [
       "<matplotlib.legend.Legend at 0x16c4a6eebb0>"
      ]
     },
     "execution_count": 461,
     "metadata": {},
     "output_type": "execute_result"
    },
    {
     "data": {
      "text/plain": [
       "<Figure size 432x288 with 0 Axes>"
      ]
     },
     "metadata": {},
     "output_type": "display_data"
    },
    {
     "data": {
      "image/png": "[encoded data removed]",
      "image/svg+xml": "<?xml version=\"1.0\" encoding=\"utf-8\" standalone=\"no\"?>\n<!DOCTYPE svg PUBLIC \"-//W3C//DTD SVG 1.1//EN\"\n  \"http://www.w3.org/Graphics/SVG/1.1/DTD/svg11.dtd\">\n<svg xmlns:xlink=\"http://www.w3.org/1999/xlink\" width=\"377.304688pt\" height=\"259.715937pt\" viewBox=\"0 0 377.304688 259.715937\" xmlns=\"http://www.w3.org/2000/svg\" version=\"1.1\">\n <metadata>\n  <rdf:RDF xmlns:dc=\"http://purl.org/dc/elements/1.1/\" xmlns:cc=\"http://creativecommons.org/ns#\" xmlns:rdf=\"http://www.w3.org/1999/02/22-rdf-syntax-ns#\">\n   <cc:Work>\n    <dc:type rdf:resource=\"http://purl.org/dc/dcmitype/StillImage\"/>\n    <dc:date>2022-06-18T12:00:42.670447</dc:date>\n    <dc:format>image/svg+xml</dc:format>\n    <dc:creator>\n     <cc:Agent>\n      <dc:title>Matplotlib v3.5.1, https://matplotlib.org/</dc:title>\n     </cc:Agent>\n    </dc:creator>\n   </cc:Work>\n  </rdf:RDF>\n </metadata>\n <defs>\n  <style type=\"text/css\">*{stroke-linejoin: round; stroke-linecap: butt}</style>\n </defs>\n <g id=\"figure_1\">\n  <g id=\"patch_1\">\n   <path d=\"M 0 259.715937 \nL 377.304688 259.715937 \nL 377.304688 0 \nL 0 0 \nL 0 259.715937 \nz\n\" style=\"fill: none\"/>\n  </g>\n  <g id=\"axes_1\">\n   <g id=\"patch_2\">\n    <path d=\"M 35.304688 224.64 \nL 370.104688 224.64 \nL 370.104688 7.2 \nL 35.304688 7.2 \nz\n\" style=\"fill: #ffffff\"/>\n   </g>\n   <g id=\"matplotlib.axis_1\">\n    <g id=\"xtick_1\">\n     <g id=\"line2d_1\">\n      <defs>\n       <path id=\"mff82a96720\" d=\"M 0 0 \nL 0 3.5 \n\" style=\"stroke: #000000; stroke-width: 0.8\"/>\n      </defs>\n      <g>\n       <use xlink:href=\"#mff82a96720\" x=\"35.304688\" y=\"224.64\" style=\"stroke: #000000; stroke-width: 0.8\"/>\n      </g>\n     </g>\n     <g id=\"text_1\">\n      <!-- Jan -->\n      <g transform=\"translate(27.596875 239.238438)scale(0.1 -0.1)\">\n       <defs>\n        <path id=\"DejaVuSans-4a\" d=\"M 628 4666 \nL 1259 4666 \nL 1259 325 \nQ 1259 -519 939 -900 \nQ 619 -1281 -91 -1281 \nL -331 -1281 \nL -331 -750 \nL -134 -750 \nQ 284 -750 456 -515 \nQ 628 -281 628 325 \nL 628 4666 \nz\n\" transform=\"scale(0.015625)\"/>\n        <path id=\"DejaVuSans-61\" d=\"M 2194 1759 \nQ 1497 1759 1228 1600 \nQ 959 1441 959 1056 \nQ 959 750 1161 570 \nQ 1363 391 1709 391 \nQ 2188 391 2477 730 \nQ 2766 1069 2766 1631 \nL 2766 1759 \nL 2194 1759 \nz\nM 3341 1997 \nL 3341 0 \nL 2766 0 \nL 2766 531 \nQ 2569 213 2275 61 \nQ 1981 -91 1556 -91 \nQ 1019 -91 701 211 \nQ 384 513 384 1019 \nQ 384 1609 779 1909 \nQ 1175 2209 1959 2209 \nL 2766 2209 \nL 2766 2266 \nQ 2766 2663 2505 2880 \nQ 2244 3097 1772 3097 \nQ 1472 3097 1187 3025 \nQ 903 2953 641 2809 \nL 641 3341 \nQ 956 3463 1253 3523 \nQ 1550 3584 1831 3584 \nQ 2591 3584 2966 3190 \nQ 3341 2797 3341 1997 \nz\n\" transform=\"scale(0.015625)\"/>\n        <path id=\"DejaVuSans-6e\" d=\"M 3513 2113 \nL 3513 0 \nL 2938 0 \nL 2938 2094 \nQ 2938 2591 2744 2837 \nQ 2550 3084 2163 3084 \nQ 1697 3084 1428 2787 \nQ 1159 2491 1159 1978 \nL 1159 0 \nL 581 0 \nL 581 3500 \nL 1159 3500 \nL 1159 2956 \nQ 1366 3272 1645 3428 \nQ 1925 3584 2291 3584 \nQ 2894 3584 3203 3211 \nQ 3513 2838 3513 2113 \nz\n\" transform=\"scale(0.015625)\"/>\n       </defs>\n       <use xlink:href=\"#DejaVuSans-4a\"/>\n       <use xlink:href=\"#DejaVuSans-61\" x=\"29.492188\"/>\n       <use xlink:href=\"#DejaVuSans-6e\" x=\"90.771484\"/>\n      </g>\n      <!-- 2000 -->\n      <g transform=\"translate(22.579687 250.43625)scale(0.1 -0.1)\">\n       <defs>\n        <path id=\"DejaVuSans-32\" d=\"M 1228 531 \nL 3431 531 \nL 3431 0 \nL 469 0 \nL 469 531 \nQ 828 903 1448 1529 \nQ 2069 2156 2228 2338 \nQ 2531 2678 2651 2914 \nQ 2772 3150 2772 3378 \nQ 2772 3750 2511 3984 \nQ 2250 4219 1831 4219 \nQ 1534 4219 1204 4116 \nQ 875 4013 500 3803 \nL 500 4441 \nQ 881 4594 1212 4672 \nQ 1544 4750 1819 4750 \nQ 2544 4750 2975 4387 \nQ 3406 4025 3406 3419 \nQ 3406 3131 3298 2873 \nQ 3191 2616 2906 2266 \nQ 2828 2175 2409 1742 \nQ 1991 1309 1228 531 \nz\n\" transform=\"scale(0.015625)\"/>\n        <path id=\"DejaVuSans-30\" d=\"M 2034 4250 \nQ 1547 4250 1301 3770 \nQ 1056 3291 1056 2328 \nQ 1056 1369 1301 889 \nQ 1547 409 2034 409 \nQ 2525 409 2770 889 \nQ 3016 1369 3016 2328 \nQ 3016 3291 2770 3770 \nQ 2525 4250 2034 4250 \nz\nM 2034 4750 \nQ 2819 4750 3233 4129 \nQ 3647 3509 3647 2328 \nQ 3647 1150 3233 529 \nQ 2819 -91 2034 -91 \nQ 1250 -91 836 529 \nQ 422 1150 422 2328 \nQ 422 3509 836 4129 \nQ 1250 4750 2034 4750 \nz\n\" transform=\"scale(0.015625)\"/>\n       </defs>\n       <use xlink:href=\"#DejaVuSans-32\"/>\n       <use xlink:href=\"#DejaVuSans-30\" x=\"63.623047\"/>\n       <use xlink:href=\"#DejaVuSans-30\" x=\"127.246094\"/>\n       <use xlink:href=\"#DejaVuSans-30\" x=\"190.869141\"/>\n      </g>\n     </g>\n    </g>\n    <g id=\"xtick_2\">\n     <g id=\"line2d_2\">\n      <g>\n       <use xlink:href=\"#mff82a96720\" x=\"157.964147\" y=\"224.64\" style=\"stroke: #000000; stroke-width: 0.8\"/>\n      </g>\n     </g>\n     <g id=\"text_2\">\n      <!-- Jan -->\n      <g transform=\"translate(150.256334 239.238438)scale(0.1 -0.1)\">\n       <use xlink:href=\"#DejaVuSans-4a\"/>\n       <use xlink:href=\"#DejaVuSans-61\" x=\"29.492188\"/>\n       <use xlink:href=\"#DejaVuSans-6e\" x=\"90.771484\"/>\n      </g>\n      <!-- 2001 -->\n      <g transform=\"translate(145.239147 250.43625)scale(0.1 -0.1)\">\n       <defs>\n        <path id=\"DejaVuSans-31\" d=\"M 794 531 \nL 1825 531 \nL 1825 4091 \nL 703 3866 \nL 703 4441 \nL 1819 4666 \nL 2450 4666 \nL 2450 531 \nL 3481 531 \nL 3481 0 \nL 794 0 \nL 794 531 \nz\n\" transform=\"scale(0.015625)\"/>\n       </defs>\n       <use xlink:href=\"#DejaVuSans-32\"/>\n       <use xlink:href=\"#DejaVuSans-30\" x=\"63.623047\"/>\n       <use xlink:href=\"#DejaVuSans-30\" x=\"127.246094\"/>\n       <use xlink:href=\"#DejaVuSans-31\" x=\"190.869141\"/>\n      </g>\n     </g>\n    </g>\n    <g id=\"xtick_3\">\n     <g id=\"line2d_3\">\n      <g>\n       <use xlink:href=\"#mff82a96720\" x=\"280.288471\" y=\"224.64\" style=\"stroke: #000000; stroke-width: 0.8\"/>\n      </g>\n     </g>\n     <g id=\"text_3\">\n      <!-- Jan -->\n      <g transform=\"translate(272.580659 239.238438)scale(0.1 -0.1)\">\n       <use xlink:href=\"#DejaVuSans-4a\"/>\n       <use xlink:href=\"#DejaVuSans-61\" x=\"29.492188\"/>\n       <use xlink:href=\"#DejaVuSans-6e\" x=\"90.771484\"/>\n      </g>\n      <!-- 2002 -->\n      <g transform=\"translate(267.563471 250.43625)scale(0.1 -0.1)\">\n       <use xlink:href=\"#DejaVuSans-32\"/>\n       <use xlink:href=\"#DejaVuSans-30\" x=\"63.623047\"/>\n       <use xlink:href=\"#DejaVuSans-30\" x=\"127.246094\"/>\n       <use xlink:href=\"#DejaVuSans-32\" x=\"190.869141\"/>\n      </g>\n     </g>\n    </g>\n    <g id=\"xtick_4\">\n     <g id=\"line2d_4\">\n      <g>\n       <use xlink:href=\"#mff82a96720\" x=\"370.104688\" y=\"224.64\" style=\"stroke: #000000; stroke-width: 0.8\"/>\n      </g>\n     </g>\n    </g>\n    <g id=\"xtick_5\">\n     <g id=\"line2d_5\">\n      <defs>\n       <path id=\"m9b2674fbd9\" d=\"M 0 0 \nL 0 2 \n\" style=\"stroke: #000000; stroke-width: 0.6\"/>\n      </defs>\n      <g>\n       <use xlink:href=\"#m9b2674fbd9\" x=\"45.693877\" y=\"224.64\" style=\"stroke: #000000; stroke-width: 0.6\"/>\n      </g>\n     </g>\n    </g>\n    <g id=\"xtick_6\">\n     <g id=\"line2d_6\">\n      <g>\n       <use xlink:href=\"#m9b2674fbd9\" x=\"55.412796\" y=\"224.64\" style=\"stroke: #000000; stroke-width: 0.6\"/>\n      </g>\n     </g>\n    </g>\n    <g id=\"xtick_7\">\n     <g id=\"line2d_7\">\n      <g>\n       <use xlink:href=\"#m9b2674fbd9\" x=\"65.801985\" y=\"224.64\" style=\"stroke: #000000; stroke-width: 0.6\"/>\n      </g>\n     </g>\n    </g>\n    <g id=\"xtick_8\">\n     <g id=\"line2d_8\">\n      <g>\n       <use xlink:href=\"#m9b2674fbd9\" x=\"75.856039\" y=\"224.64\" style=\"stroke: #000000; stroke-width: 0.6\"/>\n      </g>\n     </g>\n    </g>\n    <g id=\"xtick_9\">\n     <g id=\"line2d_9\">\n      <g>\n       <use xlink:href=\"#m9b2674fbd9\" x=\"86.245228\" y=\"224.64\" style=\"stroke: #000000; stroke-width: 0.6\"/>\n      </g>\n     </g>\n    </g>\n    <g id=\"xtick_10\">\n     <g id=\"line2d_10\">\n      <g>\n       <use xlink:href=\"#m9b2674fbd9\" x=\"96.299282\" y=\"224.64\" style=\"stroke: #000000; stroke-width: 0.6\"/>\n      </g>\n     </g>\n     <g id=\"text_4\">\n      <!-- Jul -->\n      <g transform=\"translate(90.26647 237.638438)scale(0.1 -0.1)\">\n       <defs>\n        <path id=\"DejaVuSans-75\" d=\"M 544 1381 \nL 544 3500 \nL 1119 3500 \nL 1119 1403 \nQ 1119 906 1312 657 \nQ 1506 409 1894 409 \nQ 2359 409 2629 706 \nQ 2900 1003 2900 1516 \nL 2900 3500 \nL 3475 3500 \nL 3475 0 \nL 2900 0 \nL 2900 538 \nQ 2691 219 2414 64 \nQ 2138 -91 1772 -91 \nQ 1169 -91 856 284 \nQ 544 659 544 1381 \nz\nM 1991 3584 \nL 1991 3584 \nz\n\" transform=\"scale(0.015625)\"/>\n        <path id=\"DejaVuSans-6c\" d=\"M 603 4863 \nL 1178 4863 \nL 1178 0 \nL 603 0 \nL 603 4863 \nz\n\" transform=\"scale(0.015625)\"/>\n       </defs>\n       <use xlink:href=\"#DejaVuSans-4a\"/>\n       <use xlink:href=\"#DejaVuSans-75\" x=\"29.492188\"/>\n       <use xlink:href=\"#DejaVuSans-6c\" x=\"92.871094\"/>\n      </g>\n     </g>\n    </g>\n    <g id=\"xtick_11\">\n     <g id=\"line2d_11\">\n      <g>\n       <use xlink:href=\"#m9b2674fbd9\" x=\"106.688471\" y=\"224.64\" style=\"stroke: #000000; stroke-width: 0.6\"/>\n      </g>\n     </g>\n    </g>\n    <g id=\"xtick_12\">\n     <g id=\"line2d_12\">\n      <g>\n       <use xlink:href=\"#m9b2674fbd9\" x=\"117.07766\" y=\"224.64\" style=\"stroke: #000000; stroke-width: 0.6\"/>\n      </g>\n     </g>\n    </g>\n    <g id=\"xtick_13\">\n     <g id=\"line2d_13\">\n      <g>\n       <use xlink:href=\"#m9b2674fbd9\" x=\"127.131715\" y=\"224.64\" style=\"stroke: #000000; stroke-width: 0.6\"/>\n      </g>\n     </g>\n    </g>\n    <g id=\"xtick_14\">\n     <g id=\"line2d_14\">\n      <g>\n       <use xlink:href=\"#m9b2674fbd9\" x=\"137.520904\" y=\"224.64\" style=\"stroke: #000000; stroke-width: 0.6\"/>\n      </g>\n     </g>\n    </g>\n    <g id=\"xtick_15\">\n     <g id=\"line2d_15\">\n      <g>\n       <use xlink:href=\"#m9b2674fbd9\" x=\"147.574958\" y=\"224.64\" style=\"stroke: #000000; stroke-width: 0.6\"/>\n      </g>\n     </g>\n    </g>\n    <g id=\"xtick_16\">\n     <g id=\"line2d_16\">\n      <g>\n       <use xlink:href=\"#m9b2674fbd9\" x=\"168.353336\" y=\"224.64\" style=\"stroke: #000000; stroke-width: 0.6\"/>\n      </g>\n     </g>\n    </g>\n    <g id=\"xtick_17\">\n     <g id=\"line2d_17\">\n      <g>\n       <use xlink:href=\"#m9b2674fbd9\" x=\"177.73712\" y=\"224.64\" style=\"stroke: #000000; stroke-width: 0.6\"/>\n      </g>\n     </g>\n    </g>\n    <g id=\"xtick_18\">\n     <g id=\"line2d_18\">\n      <g>\n       <use xlink:href=\"#m9b2674fbd9\" x=\"188.126309\" y=\"224.64\" style=\"stroke: #000000; stroke-width: 0.6\"/>\n      </g>\n     </g>\n    </g>\n    <g id=\"xtick_19\">\n     <g id=\"line2d_19\">\n      <g>\n       <use xlink:href=\"#m9b2674fbd9\" x=\"198.180363\" y=\"224.64\" style=\"stroke: #000000; stroke-width: 0.6\"/>\n      </g>\n     </g>\n    </g>\n    <g id=\"xtick_20\">\n     <g id=\"line2d_20\">\n      <g>\n       <use xlink:href=\"#m9b2674fbd9\" x=\"208.569552\" y=\"224.64\" style=\"stroke: #000000; stroke-width: 0.6\"/>\n      </g>\n     </g>\n    </g>\n    <g id=\"xtick_21\">\n     <g id=\"line2d_21\">\n      <g>\n       <use xlink:href=\"#m9b2674fbd9\" x=\"218.623606\" y=\"224.64\" style=\"stroke: #000000; stroke-width: 0.6\"/>\n      </g>\n     </g>\n     <g id=\"text_5\">\n      <!-- Jul -->\n      <g transform=\"translate(212.590794 237.638438)scale(0.1 -0.1)\">\n       <use xlink:href=\"#DejaVuSans-4a\"/>\n       <use xlink:href=\"#DejaVuSans-75\" x=\"29.492188\"/>\n       <use xlink:href=\"#DejaVuSans-6c\" x=\"92.871094\"/>\n      </g>\n     </g>\n    </g>\n    <g id=\"xtick_22\">\n     <g id=\"line2d_22\">\n      <g>\n       <use xlink:href=\"#m9b2674fbd9\" x=\"229.012796\" y=\"224.64\" style=\"stroke: #000000; stroke-width: 0.6\"/>\n      </g>\n     </g>\n    </g>\n    <g id=\"xtick_23\">\n     <g id=\"line2d_23\">\n      <g>\n       <use xlink:href=\"#m9b2674fbd9\" x=\"239.401985\" y=\"224.64\" style=\"stroke: #000000; stroke-width: 0.6\"/>\n      </g>\n     </g>\n    </g>\n    <g id=\"xtick_24\">\n     <g id=\"line2d_24\">\n      <g>\n       <use xlink:href=\"#m9b2674fbd9\" x=\"249.456039\" y=\"224.64\" style=\"stroke: #000000; stroke-width: 0.6\"/>\n      </g>\n     </g>\n    </g>\n    <g id=\"xtick_25\">\n     <g id=\"line2d_25\">\n      <g>\n       <use xlink:href=\"#m9b2674fbd9\" x=\"259.845228\" y=\"224.64\" style=\"stroke: #000000; stroke-width: 0.6\"/>\n      </g>\n     </g>\n    </g>\n    <g id=\"xtick_26\">\n     <g id=\"line2d_26\">\n      <g>\n       <use xlink:href=\"#m9b2674fbd9\" x=\"269.899282\" y=\"224.64\" style=\"stroke: #000000; stroke-width: 0.6\"/>\n      </g>\n     </g>\n    </g>\n    <g id=\"xtick_27\">\n     <g id=\"line2d_27\">\n      <g>\n       <use xlink:href=\"#m9b2674fbd9\" x=\"290.67766\" y=\"224.64\" style=\"stroke: #000000; stroke-width: 0.6\"/>\n      </g>\n     </g>\n    </g>\n    <g id=\"xtick_28\">\n     <g id=\"line2d_28\">\n      <g>\n       <use xlink:href=\"#m9b2674fbd9\" x=\"300.061444\" y=\"224.64\" style=\"stroke: #000000; stroke-width: 0.6\"/>\n      </g>\n     </g>\n    </g>\n    <g id=\"xtick_29\">\n     <g id=\"line2d_29\">\n      <g>\n       <use xlink:href=\"#m9b2674fbd9\" x=\"310.450633\" y=\"224.64\" style=\"stroke: #000000; stroke-width: 0.6\"/>\n      </g>\n     </g>\n    </g>\n    <g id=\"xtick_30\">\n     <g id=\"line2d_30\">\n      <g>\n       <use xlink:href=\"#m9b2674fbd9\" x=\"320.504687\" y=\"224.64\" style=\"stroke: #000000; stroke-width: 0.6\"/>\n      </g>\n     </g>\n    </g>\n    <g id=\"xtick_31\">\n     <g id=\"line2d_31\">\n      <g>\n       <use xlink:href=\"#m9b2674fbd9\" x=\"330.893877\" y=\"224.64\" style=\"stroke: #000000; stroke-width: 0.6\"/>\n      </g>\n     </g>\n    </g>\n    <g id=\"xtick_32\">\n     <g id=\"line2d_32\">\n      <g>\n       <use xlink:href=\"#m9b2674fbd9\" x=\"340.947931\" y=\"224.64\" style=\"stroke: #000000; stroke-width: 0.6\"/>\n      </g>\n     </g>\n     <g id=\"text_6\">\n      <!-- Jul -->\n      <g transform=\"translate(334.915118 237.638438)scale(0.1 -0.1)\">\n       <use xlink:href=\"#DejaVuSans-4a\"/>\n       <use xlink:href=\"#DejaVuSans-75\" x=\"29.492188\"/>\n       <use xlink:href=\"#DejaVuSans-6c\" x=\"92.871094\"/>\n      </g>\n     </g>\n    </g>\n    <g id=\"xtick_33\">\n     <g id=\"line2d_33\">\n      <g>\n       <use xlink:href=\"#m9b2674fbd9\" x=\"351.33712\" y=\"224.64\" style=\"stroke: #000000; stroke-width: 0.6\"/>\n      </g>\n     </g>\n    </g>\n    <g id=\"xtick_34\">\n     <g id=\"line2d_34\">\n      <g>\n       <use xlink:href=\"#m9b2674fbd9\" x=\"361.726309\" y=\"224.64\" style=\"stroke: #000000; stroke-width: 0.6\"/>\n      </g>\n     </g>\n    </g>\n   </g>\n   <g id=\"matplotlib.axis_2\">\n    <g id=\"ytick_1\">\n     <g id=\"line2d_35\">\n      <defs>\n       <path id=\"m8e4720a2d7\" d=\"M 0 0 \nL -3.5 0 \n\" style=\"stroke: #000000; stroke-width: 0.8\"/>\n      </defs>\n      <g>\n       <use xlink:href=\"#m8e4720a2d7\" x=\"35.304688\" y=\"202.618293\" style=\"stroke: #000000; stroke-width: 0.8\"/>\n      </g>\n     </g>\n     <g id=\"text_7\">\n      <!-- −20 -->\n      <g transform=\"translate(7.2 206.417511)scale(0.1 -0.1)\">\n       <defs>\n        <path id=\"DejaVuSans-2212\" d=\"M 678 2272 \nL 4684 2272 \nL 4684 1741 \nL 678 1741 \nL 678 2272 \nz\n\" transform=\"scale(0.015625)\"/>\n       </defs>\n       <use xlink:href=\"#DejaVuSans-2212\"/>\n       <use xlink:href=\"#DejaVuSans-32\" x=\"83.789062\"/>\n       <use xlink:href=\"#DejaVuSans-30\" x=\"147.412109\"/>\n      </g>\n     </g>\n    </g>\n    <g id=\"ytick_2\">\n     <g id=\"line2d_36\">\n      <g>\n       <use xlink:href=\"#m8e4720a2d7\" x=\"35.304688\" y=\"173.274176\" style=\"stroke: #000000; stroke-width: 0.8\"/>\n      </g>\n     </g>\n     <g id=\"text_8\">\n      <!-- 0 -->\n      <g transform=\"translate(21.942188 177.073395)scale(0.1 -0.1)\">\n       <use xlink:href=\"#DejaVuSans-30\"/>\n      </g>\n     </g>\n    </g>\n    <g id=\"ytick_3\">\n     <g id=\"line2d_37\">\n      <g>\n       <use xlink:href=\"#m8e4720a2d7\" x=\"35.304688\" y=\"143.93006\" style=\"stroke: #000000; stroke-width: 0.8\"/>\n      </g>\n     </g>\n     <g id=\"text_9\">\n      <!-- 20 -->\n      <g transform=\"translate(15.579688 147.729279)scale(0.1 -0.1)\">\n       <use xlink:href=\"#DejaVuSans-32\"/>\n       <use xlink:href=\"#DejaVuSans-30\" x=\"63.623047\"/>\n      </g>\n     </g>\n    </g>\n    <g id=\"ytick_4\">\n     <g id=\"line2d_38\">\n      <g>\n       <use xlink:href=\"#m8e4720a2d7\" x=\"35.304688\" y=\"114.585944\" style=\"stroke: #000000; stroke-width: 0.8\"/>\n      </g>\n     </g>\n     <g id=\"text_10\">\n      <!-- 40 -->\n      <g transform=\"translate(15.579688 118.385162)scale(0.1 -0.1)\">\n       <defs>\n        <path id=\"DejaVuSans-34\" d=\"M 2419 4116 \nL 825 1625 \nL 2419 1625 \nL 2419 4116 \nz\nM 2253 4666 \nL 3047 4666 \nL 3047 1625 \nL 3713 1625 \nL 3713 1100 \nL 3047 1100 \nL 3047 0 \nL 2419 0 \nL 2419 1100 \nL 313 1100 \nL 313 1709 \nL 2253 4666 \nz\n\" transform=\"scale(0.015625)\"/>\n       </defs>\n       <use xlink:href=\"#DejaVuSans-34\"/>\n       <use xlink:href=\"#DejaVuSans-30\" x=\"63.623047\"/>\n      </g>\n     </g>\n    </g>\n    <g id=\"ytick_5\">\n     <g id=\"line2d_39\">\n      <g>\n       <use xlink:href=\"#m8e4720a2d7\" x=\"35.304688\" y=\"85.241827\" style=\"stroke: #000000; stroke-width: 0.8\"/>\n      </g>\n     </g>\n     <g id=\"text_11\">\n      <!-- 60 -->\n      <g transform=\"translate(15.579688 89.041046)scale(0.1 -0.1)\">\n       <defs>\n        <path id=\"DejaVuSans-36\" d=\"M 2113 2584 \nQ 1688 2584 1439 2293 \nQ 1191 2003 1191 1497 \nQ 1191 994 1439 701 \nQ 1688 409 2113 409 \nQ 2538 409 2786 701 \nQ 3034 994 3034 1497 \nQ 3034 2003 2786 2293 \nQ 2538 2584 2113 2584 \nz\nM 3366 4563 \nL 3366 3988 \nQ 3128 4100 2886 4159 \nQ 2644 4219 2406 4219 \nQ 1781 4219 1451 3797 \nQ 1122 3375 1075 2522 \nQ 1259 2794 1537 2939 \nQ 1816 3084 2150 3084 \nQ 2853 3084 3261 2657 \nQ 3669 2231 3669 1497 \nQ 3669 778 3244 343 \nQ 2819 -91 2113 -91 \nQ 1303 -91 875 529 \nQ 447 1150 447 2328 \nQ 447 3434 972 4092 \nQ 1497 4750 2381 4750 \nQ 2619 4750 2861 4703 \nQ 3103 4656 3366 4563 \nz\n\" transform=\"scale(0.015625)\"/>\n       </defs>\n       <use xlink:href=\"#DejaVuSans-36\"/>\n       <use xlink:href=\"#DejaVuSans-30\" x=\"63.623047\"/>\n      </g>\n     </g>\n    </g>\n    <g id=\"ytick_6\">\n     <g id=\"line2d_40\">\n      <g>\n       <use xlink:href=\"#m8e4720a2d7\" x=\"35.304688\" y=\"55.897711\" style=\"stroke: #000000; stroke-width: 0.8\"/>\n      </g>\n     </g>\n     <g id=\"text_12\">\n      <!-- 80 -->\n      <g transform=\"translate(15.579688 59.69693)scale(0.1 -0.1)\">\n       <defs>\n        <path id=\"DejaVuSans-38\" d=\"M 2034 2216 \nQ 1584 2216 1326 1975 \nQ 1069 1734 1069 1313 \nQ 1069 891 1326 650 \nQ 1584 409 2034 409 \nQ 2484 409 2743 651 \nQ 3003 894 3003 1313 \nQ 3003 1734 2745 1975 \nQ 2488 2216 2034 2216 \nz\nM 1403 2484 \nQ 997 2584 770 2862 \nQ 544 3141 544 3541 \nQ 544 4100 942 4425 \nQ 1341 4750 2034 4750 \nQ 2731 4750 3128 4425 \nQ 3525 4100 3525 3541 \nQ 3525 3141 3298 2862 \nQ 3072 2584 2669 2484 \nQ 3125 2378 3379 2068 \nQ 3634 1759 3634 1313 \nQ 3634 634 3220 271 \nQ 2806 -91 2034 -91 \nQ 1263 -91 848 271 \nQ 434 634 434 1313 \nQ 434 1759 690 2068 \nQ 947 2378 1403 2484 \nz\nM 1172 3481 \nQ 1172 3119 1398 2916 \nQ 1625 2713 2034 2713 \nQ 2441 2713 2670 2916 \nQ 2900 3119 2900 3481 \nQ 2900 3844 2670 4047 \nQ 2441 4250 2034 4250 \nQ 1625 4250 1398 4047 \nQ 1172 3844 1172 3481 \nz\n\" transform=\"scale(0.015625)\"/>\n       </defs>\n       <use xlink:href=\"#DejaVuSans-38\"/>\n       <use xlink:href=\"#DejaVuSans-30\" x=\"63.623047\"/>\n      </g>\n     </g>\n    </g>\n    <g id=\"ytick_7\">\n     <g id=\"line2d_41\">\n      <g>\n       <use xlink:href=\"#m8e4720a2d7\" x=\"35.304688\" y=\"26.553595\" style=\"stroke: #000000; stroke-width: 0.8\"/>\n      </g>\n     </g>\n     <g id=\"text_13\">\n      <!-- 100 -->\n      <g transform=\"translate(9.217188 30.352814)scale(0.1 -0.1)\">\n       <use xlink:href=\"#DejaVuSans-31\"/>\n       <use xlink:href=\"#DejaVuSans-30\" x=\"63.623047\"/>\n       <use xlink:href=\"#DejaVuSans-30\" x=\"127.246094\"/>\n      </g>\n     </g>\n    </g>\n   </g>\n   <g id=\"line2d_42\">\n    <path d=\"M 35.304688 172.182166 \nL 35.639823 172.024353 \nL 35.974958 171.992323 \nL 36.310093 169.026571 \nL 36.645228 169.929641 \nL 36.980363 167.602838 \nL 37.315498 170.234425 \nL 37.650633 170.144866 \nL 37.985769 169.432134 \nL 38.320904 169.161724 \nL 38.656039 169.36476 \nL 39.326309 169.376231 \nL 39.661444 168.946451 \nL 39.996579 166.488131 \nL 40.331715 166.829048 \nL 40.66685 169.014285 \nL 41.001985 166.102694 \nL 41.33712 167.642109 \nL 41.672255 167.1448 \nL 42.00739 167.484848 \nL 42.67766 170.965144 \nL 43.012796 167.854292 \nL 43.347931 169.210165 \nL 43.683066 169.285099 \nL 44.018201 167.793822 \nL 44.353336 169.226821 \nL 44.688471 170.122064 \nL 45.023606 167.08184 \nL 45.358742 167.34208 \nL 45.693877 167.294082 \nL 46.029012 168.348003 \nL 47.034417 163.531602 \nL 47.369552 164.80069 \nL 47.704688 163.241778 \nL 48.039823 162.221031 \nL 48.374958 161.834291 \nL 48.710093 163.9077 \nL 49.045228 162.948471 \nL 49.380363 163.079751 \nL 49.715498 161.508099 \nL 50.050633 162.586529 \nL 50.385769 161.921105 \nL 50.720904 164.153901 \nL 51.056039 164.258275 \nL 51.391174 165.680947 \nL 51.726309 165.257239 \nL 52.061444 162.986782 \nL 52.396579 162.962269 \nL 52.731715 160.939195 \nL 53.06685 160.591348 \nL 53.401985 159.974975 \nL 53.73712 161.336131 \nL 54.072255 162.050989 \nL 54.40739 160.681317 \nL 54.742525 159.950502 \nL 55.07766 160.953093 \nL 55.412796 160.303788 \nL 55.747931 160.170627 \nL 56.083066 157.889406 \nL 56.418201 158.36496 \nL 56.753336 157.701587 \nL 57.088471 159.639375 \nL 57.423606 158.167107 \nL 57.758742 157.73919 \nL 58.093877 159.564316 \nL 58.429012 157.394898 \nL 58.764147 154.188213 \nL 59.099282 154.383916 \nL 59.434417 154.841138 \nL 60.104687 155.350283 \nL 60.439823 155.009124 \nL 60.774958 157.573644 \nL 61.110093 157.398957 \nL 61.445228 156.49121 \nL 61.780363 158.163909 \nL 62.115498 158.299345 \nL 62.450633 158.925659 \nL 63.120904 152.584882 \nL 63.456039 152.180579 \nL 63.791174 150.596059 \nL 64.126309 150.774462 \nL 64.461444 150.010027 \nL 64.796579 151.588867 \nL 65.131715 152.454082 \nL 65.46685 150.624039 \nL 65.801985 150.759107 \nL 66.13712 151.721137 \nL 66.80739 150.025488 \nL 67.142525 150.247186 \nL 67.47766 150.285523 \nL 67.812796 149.418867 \nL 68.147931 146.14452 \nL 68.483066 149.61709 \nL 68.818201 150.84767 \nL 69.488471 154.647031 \nL 69.823606 154.236741 \nL 70.829012 151.526689 \nL 71.164147 151.087415 \nL 71.499282 149.406707 \nL 71.834417 149.906483 \nL 72.169552 148.616257 \nL 72.504687 150.690215 \nL 72.839823 151.400546 \nL 73.174958 151.216887 \nL 73.510093 151.565391 \nL 74.180363 148.384846 \nL 74.515498 148.730341 \nL 74.850633 147.018132 \nL 75.185769 149.215353 \nL 75.520904 150.292794 \nL 75.856039 150.546804 \nL 76.191174 150.206238 \nL 76.526309 149.207384 \nL 76.861444 150.31019 \nL 77.196579 150.056679 \nL 77.531715 150.920973 \nL 77.86685 151.311958 \nL 78.53712 153.466066 \nL 78.872255 153.608761 \nL 79.20739 151.425692 \nL 79.542525 152.573031 \nL 79.87766 151.465881 \nL 80.212796 151.712216 \nL 80.547931 147.490189 \nL 80.883066 147.390425 \nL 81.553336 148.041004 \nL 81.888471 147.296244 \nL 82.223606 150.585928 \nL 82.558742 149.529742 \nL 82.893877 149.008606 \nL 83.564147 145.406414 \nL 83.899282 145.454261 \nL 84.234417 144.866443 \nL 84.569552 145.774388 \nL 84.904687 144.940489 \nL 85.239823 145.750792 \nL 85.574958 144.110298 \nL 85.910093 144.321152 \nL 86.580363 142.245573 \nL 86.915498 143.330689 \nL 87.250633 147.446338 \nL 87.585769 146.802314 \nL 87.920904 149.330504 \nL 88.256039 149.582846 \nL 88.591174 148.968133 \nL 88.926309 148.619779 \nL 89.261444 145.230362 \nL 89.596579 146.244193 \nL 89.931715 145.300437 \nL 90.26685 146.256507 \nL 90.601985 143.553592 \nL 91.272255 141.9137 \nL 91.60739 139.790427 \nL 91.942525 141.941237 \nL 92.27766 140.446989 \nL 92.612796 140.713019 \nL 92.947931 140.53588 \nL 93.283066 140.983476 \nL 93.618201 137.854027 \nL 93.953336 136.593934 \nL 94.288471 139.079508 \nL 94.623606 139.045334 \nL 94.958742 136.683078 \nL 95.293877 135.87801 \nL 95.629012 137.061337 \nL 95.964147 136.429749 \nL 96.299282 138.016899 \nL 96.634417 137.321681 \nL 96.969552 139.230587 \nL 97.304688 137.667048 \nL 97.639823 140.45294 \nL 97.974958 137.757831 \nL 98.645228 134.372211 \nL 98.980363 133.55629 \nL 99.315498 132.118116 \nL 99.650633 131.866511 \nL 100.656039 135.42718 \nL 100.991174 135.278577 \nL 101.326309 133.742262 \nL 101.996579 135.568172 \nL 102.331715 135.875611 \nL 102.66685 138.200487 \nL 103.33712 140.863102 \nL 103.672255 140.956753 \nL 104.00739 140.919976 \nL 104.342525 142.899833 \nL 104.67766 140.843678 \nL 105.012796 140.647918 \nL 105.347931 138.805067 \nL 105.683066 137.81704 \nL 106.353336 134.644273 \nL 106.688471 134.953857 \nL 107.023606 134.97061 \nL 107.693877 131.449243 \nL 108.029012 130.892972 \nL 108.364147 129.330711 \nL 108.699282 130.225478 \nL 109.034417 129.703237 \nL 109.369552 131.985919 \nL 109.704688 130.435411 \nL 110.039823 127.979796 \nL 110.374958 128.554655 \nL 110.710093 130.227412 \nL 111.045228 130.378992 \nL 111.380363 129.163785 \nL 111.715498 126.932766 \nL 112.050633 127.094571 \nL 112.385769 126.117071 \nL 113.056039 123.418965 \nL 113.391174 125.598619 \nL 114.061444 127.595902 \nL 114.396579 127.809195 \nL 114.731715 129.985274 \nL 115.06685 128.657598 \nL 115.401985 126.798108 \nL 115.73712 127.18555 \nL 116.072255 125.514156 \nL 116.742525 128.635658 \nL 117.07766 128.953272 \nL 117.412796 128.363467 \nL 117.747931 130.762084 \nL 118.083066 128.831563 \nL 118.418201 129.659186 \nL 118.753336 131.496896 \nL 119.088471 131.094892 \nL 119.423606 132.786596 \nL 119.758742 130.059798 \nL 120.093877 131.291591 \nL 120.429012 129.718573 \nL 120.764147 129.806104 \nL 121.099282 131.187154 \nL 121.769552 129.953377 \nL 122.104687 129.93281 \nL 122.439823 130.268152 \nL 122.774958 130.002267 \nL 123.110093 130.324587 \nL 123.780363 134.50343 \nL 124.115498 132.310003 \nL 124.450633 130.984083 \nL 124.785769 132.264131 \nL 125.120904 132.064564 \nL 125.456039 131.105962 \nL 125.791174 130.495821 \nL 126.126309 131.592289 \nL 126.796579 135.903278 \nL 127.131715 134.161257 \nL 127.46685 133.834574 \nL 127.801985 134.610383 \nL 128.13712 134.492395 \nL 128.472255 132.81711 \nL 128.80739 132.33876 \nL 129.142525 132.828855 \nL 129.47766 132.438311 \nL 129.812796 131.462014 \nL 130.147931 131.014741 \nL 130.818201 126.326616 \nL 131.153336 125.667764 \nL 131.823606 125.717389 \nL 132.158742 125.911534 \nL 132.493877 126.583953 \nL 132.829012 128.263875 \nL 133.164147 128.815387 \nL 133.499282 130.169389 \nL 133.834417 127.960319 \nL 134.169552 127.818347 \nL 134.504687 126.152044 \nL 134.839823 126.945865 \nL 135.174958 126.171093 \nL 135.510093 126.280991 \nL 135.845228 125.830149 \nL 136.180363 126.074904 \nL 136.515498 126.979223 \nL 136.850633 126.331094 \nL 137.185769 128.341312 \nL 137.520904 124.786409 \nL 137.856039 125.736039 \nL 138.526309 120.521609 \nL 138.861444 123.871828 \nL 139.531715 118.9598 \nL 139.86685 118.476958 \nL 140.53712 115.514787 \nL 140.872255 117.277559 \nL 141.20739 117.58359 \nL 141.542525 117.309503 \nL 141.87766 116.212247 \nL 142.212796 116.10142 \nL 142.547931 114.954081 \nL 142.883066 113.038666 \nL 143.218201 111.976858 \nL 143.553336 112.665729 \nL 144.223606 111.657075 \nL 144.558742 107.382649 \nL 144.893877 106.393558 \nL 145.229012 104.875267 \nL 145.564147 104.770729 \nL 145.899282 107.707416 \nL 146.234417 108.158753 \nL 146.569552 106.319221 \nL 146.904687 106.453992 \nL 147.239823 108.053993 \nL 147.574958 106.441894 \nL 147.910093 106.865205 \nL 148.245228 106.359053 \nL 148.580363 110.177749 \nL 148.915498 107.869791 \nL 149.250633 107.340724 \nL 149.585769 106.164163 \nL 149.920904 105.730617 \nL 150.256039 104.738938 \nL 150.591174 104.751644 \nL 150.926309 103.293315 \nL 151.261444 102.893463 \nL 151.596579 104.13558 \nL 152.26685 102.861178 \nL 152.601985 105.413666 \nL 153.272255 104.799834 \nL 153.60739 104.573158 \nL 153.942525 104.731627 \nL 154.27766 103.709889 \nL 154.612796 104.827449 \nL 154.947931 104.718081 \nL 155.283066 101.100059 \nL 155.618201 101.844329 \nL 155.953336 100.211595 \nL 156.288471 102.075711 \nL 156.623606 101.976544 \nL 156.958742 99.923348 \nL 157.293877 102.762867 \nL 157.629012 103.047704 \nL 157.964147 104.451187 \nL 158.299282 104.884382 \nL 158.634417 105.972622 \nL 159.304688 109.075723 \nL 159.974958 105.700374 \nL 160.310093 104.923342 \nL 160.645228 103.219083 \nL 160.980363 104.291443 \nL 161.315498 103.160629 \nL 161.650633 104.768204 \nL 162.320904 103.882994 \nL 162.656039 104.791183 \nL 162.991174 104.730064 \nL 163.661444 101.331991 \nL 164.331715 105.467504 \nL 164.66685 105.83915 \nL 165.001985 108.578094 \nL 165.33712 109.55544 \nL 165.672255 108.130749 \nL 166.00739 110.586779 \nL 166.342525 111.858713 \nL 166.67766 113.846018 \nL 167.012796 114.039451 \nL 167.347931 111.778412 \nL 167.683066 110.844197 \nL 168.018201 110.644784 \nL 168.688471 107.917756 \nL 169.023606 110.789428 \nL 169.358742 111.336347 \nL 169.693877 109.941453 \nL 170.029012 110.06162 \nL 170.364147 109.142202 \nL 170.699282 106.117904 \nL 171.034417 105.714715 \nL 171.369552 105.95106 \nL 171.704688 108.298074 \nL 172.039823 109.107613 \nL 172.374958 108.324771 \nL 172.710093 110.008503 \nL 173.045228 110.930283 \nL 173.380363 107.998738 \nL 173.715498 108.197802 \nL 174.050633 106.922129 \nL 174.385769 107.480158 \nL 174.720904 105.772847 \nL 175.056039 108.57741 \nL 175.391174 105.124132 \nL 175.726309 103.288014 \nL 176.061444 106.050666 \nL 176.396579 103.431876 \nL 176.731715 104.383616 \nL 177.401985 103.792038 \nL 177.73712 104.023534 \nL 178.072255 103.830911 \nL 178.40739 103.37451 \nL 178.742525 103.999495 \nL 179.07766 105.27106 \nL 179.747931 103.955492 \nL 180.083066 102.516673 \nL 180.753336 103.758638 \nL 181.088471 104.27639 \nL 181.423606 103.526042 \nL 181.758742 103.067925 \nL 182.429012 106.204078 \nL 182.764147 104.882227 \nL 183.099282 104.762388 \nL 183.434417 105.173094 \nL 183.769552 98.84662 \nL 184.104687 97.097585 \nL 184.439823 99.244515 \nL 184.774958 98.848421 \nL 185.110093 99.049591 \nL 185.445228 102.061207 \nL 185.780363 100.81661 \nL 186.450633 102.221867 \nL 186.785769 100.781538 \nL 187.120904 101.77883 \nL 187.456039 101.465735 \nL 187.791174 99.732217 \nL 188.126309 101.043698 \nL 188.461444 99.161458 \nL 188.796579 98.892006 \nL 189.131715 96.90888 \nL 189.46685 95.779841 \nL 189.801985 95.645958 \nL 190.13712 96.725933 \nL 190.472255 94.779158 \nL 191.812796 97.695789 \nL 192.147931 98.116834 \nL 192.483066 95.666749 \nL 192.818201 95.852467 \nL 193.153336 94.954781 \nL 193.488471 94.405936 \nL 193.823606 93.561231 \nL 194.158742 94.388269 \nL 194.493877 91.706939 \nL 194.829012 90.137366 \nL 195.164147 90.163851 \nL 195.499282 93.017437 \nL 195.834417 92.404043 \nL 196.504687 90.602013 \nL 196.839823 90.560608 \nL 197.174958 93.140048 \nL 197.510093 92.175696 \nL 197.845228 95.488675 \nL 198.180363 95.506355 \nL 198.515498 93.347197 \nL 198.850633 95.609893 \nL 199.185769 96.095399 \nL 199.520904 97.793347 \nL 200.191174 95.881218 \nL 200.526309 97.246839 \nL 200.861444 96.039312 \nL 201.196579 95.568323 \nL 201.86685 97.550415 \nL 202.201985 97.284075 \nL 202.872255 101.887559 \nL 203.20739 101.37071 \nL 203.542525 98.360599 \nL 203.87766 98.594825 \nL 204.212796 99.397847 \nL 204.547931 101.194194 \nL 204.883066 103.980112 \nL 205.553336 100.582798 \nL 205.888471 102.39646 \nL 206.558742 101.486544 \nL 206.893877 102.815863 \nL 207.229012 102.683215 \nL 207.564147 101.379233 \nL 207.899282 101.166524 \nL 208.234417 100.219146 \nL 208.569552 103.299024 \nL 208.904687 102.199627 \nL 209.239823 102.926016 \nL 209.574958 102.324616 \nL 209.910093 101.486213 \nL 210.245228 103.255169 \nL 210.580363 103.156673 \nL 210.915498 102.33687 \nL 211.585769 101.743653 \nL 211.920904 100.532884 \nL 212.256039 102.131516 \nL 212.591174 99.393413 \nL 212.926309 99.92481 \nL 213.261444 101.387786 \nL 213.596579 99.981688 \nL 213.931715 99.119077 \nL 214.601985 100.002776 \nL 214.93712 101.083669 \nL 215.272255 101.568898 \nL 215.60739 99.110549 \nL 215.942525 99.217012 \nL 216.27766 96.698173 \nL 216.612796 93.099786 \nL 216.947931 92.798685 \nL 217.283066 88.345079 \nL 217.618201 86.535942 \nL 217.953336 85.367743 \nL 218.623606 80.497922 \nL 218.958742 79.914556 \nL 219.293877 79.894628 \nL 219.629012 81.199026 \nL 219.964147 83.980937 \nL 220.299282 83.538483 \nL 220.634417 84.379787 \nL 220.969552 84.401992 \nL 221.304688 83.356906 \nL 221.639823 85.669506 \nL 221.974958 86.836799 \nL 222.980363 82.723866 \nL 223.315498 85.331451 \nL 223.650633 86.559532 \nL 224.320904 86.077545 \nL 224.656039 86.922297 \nL 224.991174 86.044946 \nL 225.326309 86.130037 \nL 226.331715 91.760735 \nL 226.66685 90.243599 \nL 227.001985 92.046208 \nL 227.672255 90.785072 \nL 228.00739 92.705552 \nL 228.342525 93.614529 \nL 228.67766 92.720795 \nL 229.012796 92.886939 \nL 229.347931 92.612213 \nL 229.683066 91.652441 \nL 230.018201 94.479234 \nL 230.353336 94.405449 \nL 230.688471 95.095432 \nL 231.023606 93.919575 \nL 231.358742 94.892896 \nL 231.693877 94.703895 \nL 232.364147 95.892437 \nL 232.699282 95.001652 \nL 233.034417 93.225001 \nL 233.369552 94.734734 \nL 233.704688 95.055889 \nL 234.039823 90.613209 \nL 234.374958 90.411864 \nL 234.710093 90.896911 \nL 235.715498 95.631764 \nL 236.050633 94.722495 \nL 236.385769 92.789888 \nL 236.720904 94.210474 \nL 237.056039 94.870746 \nL 237.391174 94.079229 \nL 237.726309 95.460615 \nL 238.061444 95.741225 \nL 238.396579 96.213403 \nL 238.731715 97.475553 \nL 239.06685 99.630667 \nL 239.401985 98.333685 \nL 239.73712 100.75808 \nL 240.072255 100.13914 \nL 240.40739 101.635885 \nL 240.742525 102.048786 \nL 241.07766 101.616577 \nL 241.412796 102.37265 \nL 241.747931 99.401686 \nL 242.083066 99.571146 \nL 242.753336 104.33178 \nL 243.088471 104.908521 \nL 243.423606 106.649827 \nL 243.758742 107.119249 \nL 244.093877 106.21381 \nL 244.429012 104.450136 \nL 244.764147 103.87924 \nL 245.099282 101.108887 \nL 245.434417 101.45526 \nL 245.769552 98.708884 \nL 246.439823 99.001828 \nL 246.774958 99.060239 \nL 247.110093 99.514079 \nL 247.445228 99.555497 \nL 248.115498 102.299085 \nL 248.450633 101.747448 \nL 248.785769 98.844905 \nL 249.120904 99.203978 \nL 249.456039 98.698421 \nL 249.791174 99.561461 \nL 250.461444 102.886677 \nL 250.796579 102.782313 \nL 251.131715 101.149476 \nL 251.46685 101.609178 \nL 251.801985 100.69077 \nL 252.13712 98.98306 \nL 252.472255 97.993779 \nL 253.142525 100.937839 \nL 253.47766 100.136445 \nL 253.812796 98.676667 \nL 254.147931 100.464772 \nL 254.483066 99.361007 \nL 254.818201 94.869141 \nL 255.153336 94.121301 \nL 255.488471 93.972321 \nL 255.823606 94.913268 \nL 256.158742 96.711332 \nL 256.493877 93.97673 \nL 256.829012 93.645095 \nL 257.164147 94.042693 \nL 257.499282 93.640341 \nL 257.834417 92.811832 \nL 258.504687 90.647429 \nL 258.839823 90.59264 \nL 259.174958 90.31708 \nL 259.510093 90.734354 \nL 260.180363 85.178169 \nL 260.515498 83.746248 \nL 260.850633 87.251014 \nL 261.185769 85.874154 \nL 261.856039 84.383795 \nL 262.191174 84.1471 \nL 262.526309 85.076683 \nL 262.861444 85.230348 \nL 263.196579 86.452955 \nL 263.531715 85.949007 \nL 263.86685 84.917749 \nL 264.201985 83.180419 \nL 264.872255 81.440747 \nL 265.20739 79.669759 \nL 265.542525 80.111314 \nL 265.87766 81.741929 \nL 266.212796 84.748782 \nL 266.883066 79.854363 \nL 267.553336 78.301075 \nL 268.223606 82.462348 \nL 268.558742 81.56639 \nL 269.229012 80.417056 \nL 269.564147 81.211253 \nL 269.899282 79.435365 \nL 270.234417 76.829507 \nL 270.569552 78.02044 \nL 270.904687 78.592494 \nL 271.239823 80.339786 \nL 271.574958 78.542343 \nL 271.910093 81.180822 \nL 272.245228 79.452901 \nL 272.580363 79.488 \nL 272.915498 80.794498 \nL 273.250633 79.384826 \nL 273.585769 78.932235 \nL 273.920904 79.783086 \nL 274.256039 77.919709 \nL 274.591174 81.469282 \nL 274.926309 80.251612 \nL 275.261444 79.85339 \nL 275.596579 81.000946 \nL 275.931715 78.613681 \nL 276.26685 78.265862 \nL 276.601985 78.855128 \nL 276.93712 80.750342 \nL 277.272255 78.886544 \nL 277.60739 76.380805 \nL 277.942525 76.649801 \nL 278.27766 77.584335 \nL 278.612796 76.002162 \nL 278.947931 75.205567 \nL 279.618201 72.14277 \nL 279.953336 71.410621 \nL 280.288471 71.561495 \nL 280.623606 68.904688 \nL 280.958742 69.048135 \nL 281.629012 63.751786 \nL 281.964147 63.66299 \nL 282.299282 62.635292 \nL 282.634417 64.299299 \nL 282.969552 64.224836 \nL 283.304688 65.485166 \nL 283.639823 64.261944 \nL 283.974958 60.770454 \nL 284.310093 60.729699 \nL 284.980363 57.481947 \nL 285.315498 57.091392 \nL 285.650633 53.715614 \nL 285.985769 52.202828 \nL 286.320904 52.559731 \nL 286.656039 54.741025 \nL 286.991174 53.793366 \nL 287.326309 53.921309 \nL 287.661444 54.356366 \nL 287.996579 53.134579 \nL 288.331715 52.436472 \nL 288.66685 54.033812 \nL 289.33712 52.719879 \nL 289.672255 55.5155 \nL 290.00739 55.484492 \nL 290.342525 55.940502 \nL 290.67766 54.265197 \nL 291.012796 55.417692 \nL 291.347931 55.588627 \nL 291.683066 57.489446 \nL 292.018201 56.532651 \nL 292.353336 56.222194 \nL 292.688471 58.771472 \nL 293.023606 58.800426 \nL 293.693877 59.664167 \nL 294.364147 54.423959 \nL 294.699282 54.488246 \nL 295.034417 54.123317 \nL 295.369552 50.993747 \nL 295.704688 53.151751 \nL 296.039823 53.533765 \nL 296.374958 51.566561 \nL 296.710093 55.005538 \nL 297.045228 53.089954 \nL 297.380363 53.078168 \nL 297.715498 53.617205 \nL 298.385769 56.196001 \nL 298.720904 55.45495 \nL 299.391174 59.911799 \nL 299.726309 59.650651 \nL 300.061444 59.670143 \nL 300.396579 59.002931 \nL 300.731715 61.579909 \nL 301.06685 61.401247 \nL 301.401985 62.186652 \nL 301.73712 62.433916 \nL 302.072255 63.500019 \nL 302.742525 60.399628 \nL 303.07766 59.473026 \nL 303.412796 59.311591 \nL 303.747931 58.687399 \nL 304.083066 59.447927 \nL 304.418201 58.595789 \nL 305.088471 53.791008 \nL 305.423606 52.236808 \nL 305.758742 51.531936 \nL 306.093877 51.116262 \nL 306.429012 50.494324 \nL 306.764147 51.249934 \nL 308.104688 47.604584 \nL 308.439823 47.609821 \nL 308.774958 47.34003 \nL 309.110093 46.105416 \nL 309.445228 43.098245 \nL 309.780363 42.592491 \nL 310.115498 42.725626 \nL 310.450633 41.678401 \nL 310.785769 41.424356 \nL 311.120904 40.140109 \nL 311.791174 43.644089 \nL 312.126309 43.817325 \nL 312.461444 43.635429 \nL 312.796579 42.7633 \nL 313.131715 43.253161 \nL 313.46685 42.760689 \nL 313.801985 42.527143 \nL 314.13712 44.15669 \nL 314.472255 43.285062 \nL 315.142525 40.465086 \nL 315.47766 39.339432 \nL 315.812796 36.562209 \nL 316.147931 38.370318 \nL 316.483066 38.701492 \nL 316.818201 38.442426 \nL 317.153336 39.280931 \nL 317.488471 38.583954 \nL 317.823606 39.403718 \nL 318.158742 39.444277 \nL 318.493877 42.765104 \nL 318.829012 42.039182 \nL 319.164147 40.682107 \nL 319.499282 38.540765 \nL 319.834417 38.291541 \nL 320.169552 37.755865 \nL 320.504687 34.354035 \nL 320.839823 34.926534 \nL 321.174958 38.425832 \nL 321.510093 37.312309 \nL 321.845228 38.862092 \nL 322.515498 43.983962 \nL 322.850633 42.81548 \nL 323.185769 41.184488 \nL 323.520904 40.740095 \nL 323.856039 42.024597 \nL 324.526309 42.325467 \nL 324.861444 43.4418 \nL 325.196579 45.042901 \nL 325.531715 44.527251 \nL 325.86685 44.224397 \nL 326.201985 45.179684 \nL 326.53712 44.147422 \nL 326.872255 46.53803 \nL 327.20739 46.44862 \nL 327.542525 42.717588 \nL 327.87766 42.619348 \nL 328.212796 40.273013 \nL 328.547931 38.867773 \nL 328.883066 41.52304 \nL 329.218201 42.944945 \nL 329.553336 43.541737 \nL 330.223606 39.684237 \nL 330.558742 38.188946 \nL 330.893877 39.417467 \nL 331.229012 36.903009 \nL 331.564147 35.513577 \nL 331.899282 37.395118 \nL 332.234417 36.568251 \nL 332.569552 35.205152 \nL 332.904687 36.442532 \nL 333.239823 38.124277 \nL 333.574958 38.216974 \nL 334.245228 34.967689 \nL 334.580363 31.734556 \nL 334.915498 32.107851 \nL 335.585769 35.150758 \nL 335.920904 32.319355 \nL 336.256039 32.157225 \nL 336.591174 30.612356 \nL 336.926309 32.377083 \nL 337.261444 33.472922 \nL 337.596579 33.745583 \nL 338.601985 31.123119 \nL 338.93712 29.787014 \nL 339.272255 33.357648 \nL 339.942525 31.606772 \nL 340.27766 31.6873 \nL 340.612796 30.596089 \nL 340.947931 28.89569 \nL 341.283066 30.546845 \nL 341.618201 31.15605 \nL 341.953336 32.973149 \nL 342.288471 36.790374 \nL 342.623606 35.596903 \nL 342.958742 34.99482 \nL 343.293877 33.083637 \nL 343.629012 32.74189 \nL 343.964147 32.902939 \nL 344.299282 30.913131 \nL 344.634417 31.963328 \nL 344.969552 34.728468 \nL 345.304688 33.071937 \nL 345.639823 30.760965 \nL 345.974958 31.359335 \nL 346.310093 28.663306 \nL 346.645228 27.814882 \nL 346.980363 28.571902 \nL 347.315498 28.843587 \nL 347.650633 28.132592 \nL 348.320904 29.935032 \nL 348.656039 31.082669 \nL 349.326309 28.229942 \nL 349.661444 29.583687 \nL 350.331715 27.800583 \nL 350.66685 25.228918 \nL 351.001985 25.859637 \nL 351.33712 25.181748 \nL 351.672255 23.340984 \nL 352.00739 23.759293 \nL 352.67766 20.564457 \nL 353.012796 22.174473 \nL 353.347931 21.591076 \nL 353.683066 21.282115 \nL 354.018201 22.927295 \nL 354.353336 22.068702 \nL 355.023606 19.590502 \nL 355.693877 17.897745 \nL 356.029012 18.363492 \nL 356.364147 17.596561 \nL 356.699282 18.679752 \nL 357.034417 18.51152 \nL 357.369552 18.84366 \nL 357.704688 17.083636 \nL 358.039823 18.45104 \nL 358.374958 18.204124 \nL 358.710093 21.943672 \nL 359.045228 20.060189 \nL 359.380363 19.643675 \nL 359.715498 19.626229 \nL 360.050633 21.035917 \nL 360.385769 20.919914 \nL 360.720904 19.955309 \nL 361.391174 24.045884 \nL 361.726309 24.442897 \nL 362.061444 22.3262 \nL 362.396579 22.390831 \nL 362.731715 23.248674 \nL 363.06685 20.897855 \nL 363.401985 21.73488 \nL 363.73712 24.464825 \nL 364.40739 25.244767 \nL 364.742525 24.792653 \nL 365.07766 26.751009 \nL 365.412796 27.606545 \nL 365.747931 30.461708 \nL 366.083066 30.349189 \nL 366.418201 31.77361 \nL 366.753336 31.220407 \nL 367.088471 32.549141 \nL 367.423606 31.094649 \nL 367.758742 31.865499 \nL 368.093877 30.447345 \nL 368.764147 32.161388 \nL 369.099282 29.864252 \nL 369.434417 30.509923 \nL 369.769552 31.905518 \nL 370.104688 31.391582 \nL 370.104688 31.391582 \n\" clip-path=\"url(#pf420befb06)\" style=\"fill: none; stroke: #1f77b4; stroke-width: 1.5; stroke-linecap: square\"/>\n   </g>\n   <g id=\"line2d_43\">\n    <path d=\"M 35.304688 173.552232 \nL 35.639823 172.939711 \nL 35.974958 171.506031 \nL 36.310093 171.305172 \nL 36.645228 170.265532 \nL 37.315498 172.555199 \nL 37.650633 170.889076 \nL 38.320904 170.318901 \nL 38.656039 171.142501 \nL 38.991174 168.565576 \nL 39.326309 172.850437 \nL 39.661444 173.614956 \nL 39.996579 175.350861 \nL 40.331715 173.440687 \nL 40.66685 173.156432 \nL 41.001985 173.321247 \nL 41.33712 173.920276 \nL 41.672255 171.39604 \nL 42.00739 173.002099 \nL 42.342525 173.628907 \nL 42.67766 171.843333 \nL 43.012796 170.661493 \nL 43.683066 172.854946 \nL 44.018201 173.595524 \nL 44.353336 172.859916 \nL 44.688471 171.69657 \nL 45.023606 167.72425 \nL 45.358742 167.961863 \nL 45.693877 165.270401 \nL 46.029012 163.891672 \nL 46.364147 163.595245 \nL 46.699282 165.420272 \nL 47.034417 162.712315 \nL 47.369552 162.010345 \nL 47.704688 162.075001 \nL 48.039823 160.559424 \nL 48.374958 162.932533 \nL 48.710093 160.575363 \nL 49.045228 161.550722 \nL 49.380363 160.055202 \nL 49.715498 156.403017 \nL 50.050633 155.922522 \nL 50.385769 157.80075 \nL 50.720904 157.420862 \nL 51.056039 158.537017 \nL 51.391174 157.322361 \nL 51.726309 158.169096 \nL 52.061444 156.564942 \nL 52.396579 155.952852 \nL 52.731715 156.646331 \nL 53.06685 158.937237 \nL 53.401985 157.528279 \nL 53.73712 158.249124 \nL 54.072255 156.798119 \nL 54.40739 158.470938 \nL 54.742525 159.127826 \nL 55.07766 157.730988 \nL 55.747931 160.93884 \nL 56.083066 159.994894 \nL 56.418201 160.911313 \nL 56.753336 160.038271 \nL 57.088471 160.521987 \nL 57.423606 160.302746 \nL 57.758742 159.506861 \nL 58.093877 160.880603 \nL 58.429012 161.538661 \nL 58.764147 159.612654 \nL 59.099282 160.96484 \nL 59.434417 159.397277 \nL 59.769552 159.037386 \nL 60.104687 158.307201 \nL 60.439823 160.323939 \nL 60.774958 161.425968 \nL 61.110093 159.250009 \nL 61.445228 162.852955 \nL 62.115498 161.18254 \nL 62.450633 161.847049 \nL 62.785769 161.669935 \nL 63.120904 160.996258 \nL 63.456039 159.350094 \nL 63.791174 156.332526 \nL 64.126309 155.140891 \nL 64.461444 155.493554 \nL 65.131715 157.711534 \nL 65.801985 161.033003 \nL 66.13712 161.359196 \nL 66.472255 158.171161 \nL 66.80739 160.204529 \nL 67.142525 160.738137 \nL 67.47766 161.681718 \nL 67.812796 161.274123 \nL 68.147931 161.819865 \nL 68.483066 160.403179 \nL 68.818201 162.009469 \nL 69.153336 159.390608 \nL 69.823606 155.990208 \nL 70.158742 153.760445 \nL 70.493877 154.736439 \nL 70.829012 156.171292 \nL 71.164147 158.341439 \nL 71.499282 156.946874 \nL 71.834417 156.826402 \nL 72.169552 158.256545 \nL 72.504687 157.429275 \nL 72.839823 155.399134 \nL 73.510093 158.709558 \nL 74.180363 156.247658 \nL 74.515498 155.936944 \nL 74.850633 156.126888 \nL 75.185769 154.588333 \nL 75.520904 154.304376 \nL 75.856039 154.327664 \nL 76.191174 156.369839 \nL 76.526309 155.414589 \nL 77.196579 158.12909 \nL 77.531715 158.41511 \nL 77.86685 162.215571 \nL 78.201985 162.6545 \nL 78.53712 161.616925 \nL 79.20739 163.697855 \nL 79.87766 163.12262 \nL 80.212796 165.508857 \nL 80.547931 166.396612 \nL 80.883066 164.052373 \nL 81.553336 167.18202 \nL 81.888471 169.117562 \nL 82.558742 168.281515 \nL 82.893877 166.783337 \nL 83.229012 168.334425 \nL 83.564147 168.350328 \nL 83.899282 166.451222 \nL 84.234417 167.756112 \nL 84.569552 167.388022 \nL 84.904687 168.485396 \nL 85.239823 168.159784 \nL 85.574958 166.750496 \nL 85.910093 167.223077 \nL 86.245228 169.430496 \nL 86.580363 168.126577 \nL 86.915498 167.661293 \nL 87.250633 166.522615 \nL 87.585769 165.863668 \nL 87.920904 164.722131 \nL 88.256039 162.499467 \nL 88.591174 163.208932 \nL 88.926309 164.710182 \nL 89.261444 162.833428 \nL 89.596579 163.586453 \nL 89.931715 163.795459 \nL 90.26685 164.326383 \nL 90.93712 158.194465 \nL 91.272255 160.260001 \nL 91.942525 159.955551 \nL 92.27766 160.205356 \nL 92.612796 160.071794 \nL 92.947931 158.116756 \nL 93.283066 158.733964 \nL 93.618201 156.980642 \nL 93.953336 155.985059 \nL 94.958742 151.765981 \nL 95.293877 149.789796 \nL 95.629012 148.519988 \nL 95.964147 149.240113 \nL 96.299282 148.683956 \nL 96.634417 147.543083 \nL 96.969552 147.256836 \nL 97.304688 146.336399 \nL 97.639823 146.633775 \nL 97.974958 146.25031 \nL 98.310093 145.536603 \nL 98.645228 147.78668 \nL 98.980363 148.85429 \nL 99.315498 149.452879 \nL 99.650633 149.63558 \nL 99.985769 149.440685 \nL 100.320904 149.002891 \nL 100.656039 150.964532 \nL 100.991174 149.194145 \nL 101.326309 148.995549 \nL 101.661444 148.241092 \nL 101.996579 147.834625 \nL 102.331715 147.69576 \nL 102.66685 146.344143 \nL 103.001985 147.598429 \nL 103.33712 147.220439 \nL 103.672255 147.351097 \nL 104.00739 146.667287 \nL 104.67766 144.612699 \nL 105.012796 144.140006 \nL 105.347931 142.249608 \nL 105.683066 141.885746 \nL 106.018201 144.122788 \nL 106.353336 142.961801 \nL 106.688471 143.852172 \nL 107.023606 142.772776 \nL 107.358742 146.040417 \nL 107.693877 146.121105 \nL 108.029012 148.671271 \nL 108.364147 149.651706 \nL 108.699282 147.796817 \nL 109.034417 150.597348 \nL 109.369552 151.876206 \nL 109.704688 151.391611 \nL 110.039823 147.908874 \nL 110.710093 152.624462 \nL 111.045228 151.670617 \nL 111.380363 148.531446 \nL 111.715498 146.919232 \nL 112.050633 149.139452 \nL 112.385769 148.382815 \nL 112.720904 148.320572 \nL 113.056039 147.074414 \nL 113.391174 144.84388 \nL 113.726309 146.600315 \nL 114.061444 147.2144 \nL 114.396579 146.767389 \nL 114.731715 147.02529 \nL 115.06685 147.819599 \nL 115.401985 150.028398 \nL 116.072255 151.965131 \nL 116.40739 151.656313 \nL 116.742525 151.839954 \nL 117.07766 149.861479 \nL 117.412796 149.091625 \nL 117.747931 149.099083 \nL 118.083066 149.425682 \nL 118.418201 149.460842 \nL 118.753336 150.637377 \nL 119.088471 151.274612 \nL 119.423606 151.114944 \nL 119.758742 152.298474 \nL 120.093877 154.731288 \nL 120.429012 153.482037 \nL 120.764147 155.545378 \nL 121.099282 154.956045 \nL 121.434417 155.697124 \nL 121.769552 158.486338 \nL 122.104687 158.545896 \nL 122.439823 158.758144 \nL 122.774958 160.893582 \nL 123.110093 161.878619 \nL 123.445228 162.432235 \nL 123.780363 161.129873 \nL 124.450633 164.783569 \nL 124.785769 164.16739 \nL 125.120904 164.66891 \nL 125.791174 166.716345 \nL 126.126309 166.006641 \nL 126.461444 164.132497 \nL 126.796579 164.450152 \nL 127.131715 163.985733 \nL 127.46685 162.099989 \nL 127.801985 164.071304 \nL 128.13712 166.99079 \nL 128.472255 165.403974 \nL 128.80739 163.18001 \nL 129.142525 160.139343 \nL 129.47766 160.275841 \nL 129.812796 162.996194 \nL 130.147931 159.407563 \nL 130.483066 160.98154 \nL 130.818201 158.762707 \nL 131.488471 157.576673 \nL 131.823606 154.619075 \nL 132.158742 153.162609 \nL 132.493877 154.155523 \nL 132.829012 156.220194 \nL 133.164147 153.534135 \nL 133.499282 152.745967 \nL 133.834417 154.735971 \nL 134.169552 155.682827 \nL 134.504687 156.064994 \nL 134.839823 155.981558 \nL 135.174958 157.155456 \nL 135.510093 155.379389 \nL 135.845228 156.060498 \nL 136.180363 156.074073 \nL 136.515498 155.38771 \nL 136.850633 153.01246 \nL 137.185769 153.652551 \nL 137.856039 148.454789 \nL 138.191174 150.916402 \nL 138.526309 150.94168 \nL 138.861444 150.551279 \nL 139.196579 147.723445 \nL 139.531715 146.26677 \nL 139.86685 148.379849 \nL 140.53712 148.773654 \nL 141.20739 147.901571 \nL 141.542525 147.988312 \nL 141.87766 147.044754 \nL 142.212796 148.333351 \nL 142.547931 148.1295 \nL 142.883066 148.520977 \nL 143.218201 149.642545 \nL 143.553336 150.215125 \nL 143.888471 149.40659 \nL 144.223606 149.455372 \nL 144.558742 151.259333 \nL 145.229012 146.047538 \nL 145.564147 147.428236 \nL 146.234417 143.341553 \nL 146.569552 143.854486 \nL 146.904687 144.046619 \nL 147.239823 144.968158 \nL 147.574958 144.416919 \nL 147.910093 146.383544 \nL 148.245228 145.425791 \nL 148.580363 146.339975 \nL 148.915498 148.205538 \nL 149.250633 146.870989 \nL 149.585769 147.80193 \nL 149.920904 147.62145 \nL 150.256039 148.281199 \nL 150.591174 147.429231 \nL 150.926309 145.61946 \nL 151.596579 148.79138 \nL 151.931715 146.952876 \nL 152.26685 145.847159 \nL 152.601985 143.757461 \nL 152.93712 145.946075 \nL 153.272255 146.421985 \nL 153.60739 148.792865 \nL 153.942525 146.072273 \nL 154.612796 146.711783 \nL 154.947931 148.265703 \nL 155.283066 146.77648 \nL 155.618201 146.413316 \nL 156.288471 141.966265 \nL 156.623606 142.34307 \nL 156.958742 144.728032 \nL 157.293877 144.928343 \nL 157.629012 144.696343 \nL 157.964147 144.855085 \nL 158.299282 144.783912 \nL 158.634417 143.233263 \nL 158.969552 144.762698 \nL 159.304688 144.097272 \nL 159.639823 144.09853 \nL 159.974958 145.401112 \nL 160.310093 143.947769 \nL 160.645228 145.847867 \nL 160.980363 145.455509 \nL 161.315498 144.528556 \nL 161.650633 145.895409 \nL 161.985769 147.950198 \nL 162.656039 147.089931 \nL 162.991174 146.313677 \nL 163.326309 151.642331 \nL 163.661444 151.145561 \nL 163.996579 151.732536 \nL 164.331715 152.906508 \nL 164.66685 153.289314 \nL 165.001985 152.771557 \nL 165.33712 155.265409 \nL 165.672255 155.438874 \nL 166.00739 155.089249 \nL 166.342525 155.195386 \nL 166.67766 156.316837 \nL 167.012796 154.830403 \nL 167.347931 155.012769 \nL 167.683066 156.755759 \nL 168.353336 156.115642 \nL 169.358742 150.502232 \nL 169.693877 149.938345 \nL 170.029012 152.374533 \nL 170.364147 157.436219 \nL 170.699282 158.22543 \nL 171.034417 155.981651 \nL 171.369552 157.377056 \nL 171.704688 155.175998 \nL 172.039823 155.529352 \nL 172.374958 153.970543 \nL 172.710093 155.705256 \nL 173.380363 156.931177 \nL 173.715498 156.69799 \nL 174.050633 158.320396 \nL 174.720904 153.308965 \nL 175.056039 154.610333 \nL 175.391174 153.984382 \nL 175.726309 154.463216 \nL 176.061444 158.69872 \nL 176.396579 159.328761 \nL 176.731715 157.539525 \nL 177.06685 159.712679 \nL 177.401985 159.957062 \nL 178.072255 155.261801 \nL 179.412796 161.176766 \nL 179.747931 161.627231 \nL 180.083066 157.93755 \nL 180.418201 159.080181 \nL 180.753336 157.271299 \nL 181.088471 157.518555 \nL 181.423606 153.901981 \nL 181.758742 154.052367 \nL 182.093877 155.257899 \nL 182.429012 157.79756 \nL 182.764147 158.235266 \nL 183.099282 159.089233 \nL 184.439823 151.87878 \nL 184.774958 152.370524 \nL 185.110093 153.319237 \nL 185.445228 155.072332 \nL 185.780363 154.913292 \nL 186.115498 158.166692 \nL 186.450633 158.130297 \nL 186.785769 157.340766 \nL 187.120904 158.100705 \nL 187.456039 160.015929 \nL 187.791174 163.616763 \nL 188.126309 164.468347 \nL 188.461444 165.732221 \nL 188.796579 163.412044 \nL 189.46685 166.253135 \nL 189.801985 166.402406 \nL 190.13712 170.03762 \nL 190.472255 167.968555 \nL 190.80739 167.946019 \nL 191.142525 168.070733 \nL 191.47766 167.726064 \nL 191.812796 169.978331 \nL 192.147931 168.482533 \nL 192.483066 169.927683 \nL 192.818201 169.90686 \nL 193.153336 170.058403 \nL 193.488471 167.798712 \nL 193.823606 168.825823 \nL 194.158742 168.501891 \nL 194.493877 166.922262 \nL 194.829012 166.951479 \nL 195.164147 168.516933 \nL 195.499282 167.689931 \nL 195.834417 170.572324 \nL 196.169552 169.928472 \nL 196.504687 170.836614 \nL 196.839823 171.01457 \nL 197.174958 171.513792 \nL 197.510093 169.758985 \nL 197.845228 171.321559 \nL 198.180363 172.170557 \nL 198.515498 171.69442 \nL 198.850633 172.048365 \nL 199.185769 171.069551 \nL 199.520904 172.446586 \nL 199.856039 171.084212 \nL 200.191174 169.109679 \nL 200.526309 171.056948 \nL 200.861444 169.167697 \nL 201.196579 168.25654 \nL 201.531715 169.47885 \nL 201.86685 168.878431 \nL 202.201985 166.141843 \nL 202.53712 166.154277 \nL 203.20739 164.859172 \nL 203.542525 165.376908 \nL 203.87766 162.227037 \nL 204.212796 163.898126 \nL 204.547931 161.483478 \nL 204.883066 161.705435 \nL 205.218201 160.369603 \nL 205.553336 160.226 \nL 205.888471 157.887045 \nL 206.223606 159.217987 \nL 206.558742 159.556025 \nL 206.893877 160.053299 \nL 207.229012 157.614764 \nL 207.564147 156.951758 \nL 207.899282 158.212343 \nL 208.234417 156.694192 \nL 208.569552 159.185354 \nL 208.904687 159.716185 \nL 209.239823 161.871818 \nL 209.574958 161.169049 \nL 209.910093 161.183623 \nL 210.245228 163.017894 \nL 210.580363 161.734972 \nL 210.915498 161.126607 \nL 211.250633 157.113419 \nL 211.585769 155.810416 \nL 211.920904 156.931615 \nL 212.591174 152.553562 \nL 212.926309 153.173414 \nL 213.261444 150.432451 \nL 213.596579 150.226386 \nL 213.931715 150.688778 \nL 214.26685 146.855257 \nL 214.601985 147.955318 \nL 214.93712 149.546347 \nL 215.272255 150.534364 \nL 215.60739 149.850213 \nL 216.27766 152.68429 \nL 216.612796 150.650219 \nL 216.947931 149.673235 \nL 217.283066 152.86294 \nL 217.618201 154.057113 \nL 218.288471 151.521719 \nL 218.623606 153.991291 \nL 218.958742 151.27119 \nL 219.293877 149.567456 \nL 219.629012 149.457269 \nL 219.964147 150.819726 \nL 220.299282 151.456382 \nL 220.634417 151.516044 \nL 220.969552 153.560228 \nL 221.304688 154.482743 \nL 221.639823 153.597399 \nL 221.974958 153.888003 \nL 222.310093 152.058567 \nL 222.645228 152.656869 \nL 222.980363 150.92205 \nL 223.315498 151.144228 \nL 223.985769 152.023073 \nL 224.320904 151.879992 \nL 224.656039 152.045952 \nL 224.991174 150.294361 \nL 225.326309 150.618444 \nL 225.661444 154.475385 \nL 225.996579 154.921372 \nL 226.331715 153.394623 \nL 226.66685 152.927704 \nL 227.001985 153.421955 \nL 227.33712 155.184406 \nL 227.672255 152.260368 \nL 228.00739 151.044644 \nL 228.342525 151.764517 \nL 228.67766 149.07313 \nL 229.347931 147.802242 \nL 229.683066 151.394984 \nL 230.018201 152.479333 \nL 230.353336 154.38039 \nL 231.023606 153.906708 \nL 231.358742 154.695849 \nL 231.693877 154.632225 \nL 232.029012 154.778581 \nL 232.364147 156.020539 \nL 232.699282 156.023553 \nL 233.369552 158.641218 \nL 233.704688 157.548859 \nL 234.039823 157.262731 \nL 234.374958 159.710099 \nL 234.710093 160.608195 \nL 235.045228 159.719939 \nL 235.380363 164.084773 \nL 235.715498 165.296196 \nL 236.050633 164.628097 \nL 236.385769 168.203547 \nL 236.720904 170.424426 \nL 237.056039 170.042204 \nL 237.391174 167.016193 \nL 237.726309 167.349744 \nL 238.061444 169.007766 \nL 238.396579 167.716376 \nL 238.731715 167.835057 \nL 239.06685 166.848052 \nL 239.401985 165.257612 \nL 239.73712 165.307615 \nL 240.072255 165.73159 \nL 240.40739 165.254471 \nL 240.742525 166.206373 \nL 241.07766 168.946332 \nL 241.412796 168.046526 \nL 241.747931 167.843481 \nL 242.083066 165.240114 \nL 242.418201 166.342014 \nL 242.753336 166.800844 \nL 243.088471 166.398647 \nL 243.423606 164.969602 \nL 243.758742 164.828515 \nL 244.093877 165.60434 \nL 244.429012 165.521282 \nL 245.434417 169.951367 \nL 245.769552 168.837965 \nL 246.104687 168.214023 \nL 246.439823 166.698909 \nL 246.774958 169.841114 \nL 247.110093 170.269348 \nL 247.445228 168.929305 \nL 247.780363 170.614295 \nL 248.115498 168.338998 \nL 248.450633 167.813844 \nL 248.785769 166.735717 \nL 249.456039 167.596756 \nL 249.791174 170.001537 \nL 250.126309 169.695116 \nL 250.461444 169.068478 \nL 250.796579 169.10749 \nL 251.131715 169.385617 \nL 251.46685 168.479971 \nL 251.801985 170.0425 \nL 252.13712 170.908801 \nL 252.472255 168.868056 \nL 252.80739 168.956968 \nL 253.142525 171.06417 \nL 253.47766 170.575717 \nL 253.812796 171.559371 \nL 254.147931 171.894276 \nL 254.483066 173.143346 \nL 254.818201 170.871794 \nL 255.153336 169.685955 \nL 255.488471 169.221651 \nL 255.823606 169.544968 \nL 256.158742 170.109108 \nL 256.493877 171.725637 \nL 256.829012 171.224545 \nL 257.164147 173.45534 \nL 257.499282 172.776198 \nL 257.834417 169.840454 \nL 258.169552 167.952407 \nL 258.504687 169.932494 \nL 258.839823 167.37502 \nL 259.174958 168.307212 \nL 259.510093 167.664849 \nL 259.845228 166.029343 \nL 260.180363 166.01787 \nL 260.515498 165.744542 \nL 260.850633 165.717041 \nL 261.185769 166.821749 \nL 261.856039 168.043587 \nL 262.191174 167.935551 \nL 262.526309 166.960252 \nL 262.861444 165.494015 \nL 263.196579 163.492841 \nL 263.531715 162.919952 \nL 263.86685 163.90592 \nL 264.201985 166.911314 \nL 264.53712 168.168351 \nL 265.20739 169.550134 \nL 265.542525 171.84998 \nL 266.212796 171.964198 \nL 266.547931 173.194844 \nL 266.883066 175.715843 \nL 267.218201 172.939399 \nL 267.553336 176.5333 \nL 268.558742 174.933914 \nL 268.893877 175.054898 \nL 269.229012 176.05709 \nL 269.564147 175.692079 \nL 269.899282 173.715909 \nL 270.234417 177.708587 \nL 270.569552 178.597899 \nL 270.904687 178.873622 \nL 271.239823 178.708365 \nL 271.574958 176.453671 \nL 271.910093 176.667116 \nL 272.580363 180.138777 \nL 272.915498 179.405494 \nL 273.250633 178.308861 \nL 273.920904 174.848742 \nL 274.591174 174.913157 \nL 274.926309 175.357281 \nL 275.596579 178.502594 \nL 275.931715 178.404036 \nL 276.26685 177.461497 \nL 276.93712 173.495453 \nL 277.272255 174.298114 \nL 277.942525 173.466283 \nL 278.27766 173.445476 \nL 278.612796 173.570778 \nL 278.947931 173.309694 \nL 279.283066 172.886984 \nL 279.618201 173.031379 \nL 279.953336 172.178381 \nL 280.288471 172.024311 \nL 280.623606 170.640183 \nL 280.958742 170.439428 \nL 281.293877 172.237004 \nL 281.964147 174.152459 \nL 282.299282 173.502765 \nL 282.634417 174.768314 \nL 282.969552 174.784354 \nL 283.304688 173.270158 \nL 283.974958 168.493307 \nL 284.310093 167.729492 \nL 284.980363 165.450435 \nL 285.315498 164.708192 \nL 285.650633 165.534999 \nL 285.985769 161.061176 \nL 286.320904 162.001806 \nL 287.661444 156.372907 \nL 287.996579 157.521526 \nL 288.331715 157.209973 \nL 288.66685 156.467596 \nL 289.001985 159.908566 \nL 289.33712 160.440186 \nL 289.672255 161.925939 \nL 290.00739 160.776487 \nL 290.342525 157.617225 \nL 290.67766 156.770388 \nL 291.012796 158.776997 \nL 291.347931 157.002515 \nL 292.018201 149.995195 \nL 292.688471 148.327442 \nL 293.023606 146.769739 \nL 293.358742 147.217303 \nL 293.693877 149.733974 \nL 294.364147 145.129659 \nL 294.699282 145.811801 \nL 295.034417 145.15615 \nL 295.369552 141.759743 \nL 295.704688 143.13786 \nL 296.039823 143.375924 \nL 296.374958 141.924464 \nL 297.045228 144.052105 \nL 297.380363 143.008976 \nL 298.050633 145.220429 \nL 298.720904 143.783707 \nL 299.056039 144.426268 \nL 299.391174 144.41945 \nL 299.726309 146.050134 \nL 300.061444 142.249531 \nL 300.396579 141.21218 \nL 300.731715 140.634489 \nL 301.06685 141.332823 \nL 301.401985 140.086886 \nL 301.73712 137.199701 \nL 302.072255 140.585504 \nL 302.40739 145.566083 \nL 302.742525 144.834867 \nL 303.07766 144.385984 \nL 303.412796 145.594494 \nL 303.747931 143.576827 \nL 304.083066 144.91495 \nL 304.753336 146.181617 \nL 305.088471 142.285913 \nL 305.423606 142.18694 \nL 305.758742 140.325969 \nL 306.093877 142.886961 \nL 306.429012 142.095218 \nL 306.764147 143.053092 \nL 307.099282 141.601795 \nL 307.434417 141.983297 \nL 307.769552 146.736445 \nL 308.104688 149.524858 \nL 308.439823 149.599954 \nL 308.774958 149.394742 \nL 309.110093 151.389785 \nL 309.780363 151.944743 \nL 310.115498 153.115572 \nL 310.450633 152.764904 \nL 311.120904 156.113642 \nL 311.456039 159.019117 \nL 311.791174 160.891674 \nL 312.126309 161.209028 \nL 312.461444 159.296197 \nL 312.796579 159.404639 \nL 313.131715 157.774052 \nL 313.46685 161.126557 \nL 313.801985 161.45223 \nL 314.472255 167.19752 \nL 315.142525 165.163109 \nL 315.47766 166.099909 \nL 316.147931 163.5219 \nL 316.483066 163.681228 \nL 316.818201 165.37646 \nL 317.153336 164.011437 \nL 317.488471 166.224529 \nL 318.158742 166.701275 \nL 318.829012 164.602319 \nL 319.164147 166.04145 \nL 319.499282 164.483939 \nL 319.834417 161.836579 \nL 320.169552 161.858196 \nL 320.504687 160.628853 \nL 320.839823 161.764491 \nL 321.174958 163.824018 \nL 321.510093 163.804502 \nL 321.845228 161.28068 \nL 322.850633 167.091195 \nL 323.185769 162.791722 \nL 323.520904 164.890068 \nL 323.856039 163.651289 \nL 324.191174 165.386775 \nL 324.526309 165.560108 \nL 324.861444 164.915374 \nL 325.196579 161.089171 \nL 325.531715 160.904403 \nL 325.86685 161.376452 \nL 326.201985 161.434771 \nL 326.53712 159.797995 \nL 326.872255 161.890909 \nL 327.20739 160.576901 \nL 327.542525 160.198088 \nL 327.87766 161.058951 \nL 328.212796 159.67678 \nL 328.547931 159.046309 \nL 329.218201 159.091303 \nL 329.553336 161.028809 \nL 329.888471 161.498342 \nL 330.223606 159.565769 \nL 330.558742 160.324753 \nL 330.893877 160.759548 \nL 331.229012 159.194037 \nL 331.564147 156.338239 \nL 331.899282 155.735848 \nL 332.234417 155.817553 \nL 332.569552 153.887692 \nL 332.904687 153.617177 \nL 333.239823 152.97898 \nL 333.574958 154.985903 \nL 333.910093 155.802625 \nL 334.245228 155.43806 \nL 334.580363 155.244115 \nL 334.915498 155.588131 \nL 335.250633 155.278482 \nL 335.585769 156.637941 \nL 336.591174 162.382343 \nL 336.926309 163.388636 \nL 337.261444 163.628038 \nL 337.596579 161.238669 \nL 337.931715 161.359894 \nL 338.26685 161.272159 \nL 338.601985 161.046802 \nL 338.93712 160.221574 \nL 339.272255 163.241547 \nL 339.60739 164.173613 \nL 339.942525 164.382555 \nL 340.27766 162.551769 \nL 340.612796 161.945703 \nL 340.947931 163.604697 \nL 341.283066 160.579545 \nL 341.953336 158.510313 \nL 342.288471 160.250681 \nL 342.958742 157.438461 \nL 343.293877 157.90385 \nL 343.629012 158.798642 \nL 344.299282 155.572535 \nL 344.634417 157.22748 \nL 344.969552 159.750316 \nL 345.304688 159.963165 \nL 345.639823 158.862548 \nL 345.974958 158.946469 \nL 346.980363 161.736591 \nL 347.315498 161.010358 \nL 347.650633 161.410611 \nL 347.985769 160.167061 \nL 348.320904 160.576019 \nL 348.656039 159.149611 \nL 348.991174 159.575293 \nL 349.326309 161.218407 \nL 349.661444 159.478267 \nL 349.996579 159.722526 \nL 350.331715 160.179414 \nL 350.66685 159.871325 \nL 351.672255 163.956096 \nL 352.00739 162.493012 \nL 352.342525 163.89853 \nL 353.012796 165.267324 \nL 353.347931 164.091771 \nL 353.683066 163.881454 \nL 354.018201 162.133321 \nL 354.353336 164.417592 \nL 354.688471 164.843226 \nL 355.023606 164.669449 \nL 355.358742 164.336088 \nL 355.693877 165.447826 \nL 356.029012 164.506466 \nL 356.364147 165.349943 \nL 356.699282 164.081384 \nL 357.034417 163.833828 \nL 357.369552 162.323808 \nL 357.704688 159.88927 \nL 358.039823 158.304296 \nL 358.374958 158.729188 \nL 358.710093 158.943813 \nL 359.380363 159.762379 \nL 359.715498 160.316393 \nL 360.050633 159.627214 \nL 360.385769 159.541795 \nL 360.720904 160.028796 \nL 361.056039 159.765166 \nL 361.391174 160.839399 \nL 361.726309 160.248602 \nL 362.061444 159.400787 \nL 362.396579 159.963841 \nL 363.06685 158.637076 \nL 363.73712 164.038074 \nL 364.072255 163.794019 \nL 364.40739 164.080141 \nL 364.742525 163.55836 \nL 365.07766 164.789114 \nL 365.412796 163.776057 \nL 365.747931 165.710411 \nL 366.083066 164.18002 \nL 366.418201 164.532139 \nL 366.753336 163.814568 \nL 367.088471 164.044499 \nL 367.423606 165.115608 \nL 367.758742 165.205165 \nL 368.429012 166.676425 \nL 368.764147 166.484169 \nL 369.099282 168.823358 \nL 369.434417 168.544925 \nL 369.769552 168.002591 \nL 370.104688 168.722517 \nL 370.104688 168.722517 \n\" clip-path=\"url(#pf420befb06)\" style=\"fill: none; stroke: #ff7f0e; stroke-width: 1.5; stroke-linecap: square\"/>\n   </g>\n   <g id=\"line2d_44\">\n    <path d=\"M 35.304688 174.648785 \nL 35.974958 176.484632 \nL 36.310093 174.957549 \nL 36.645228 172.662101 \nL 36.980363 172.782241 \nL 37.315498 172.075946 \nL 37.985769 176.432134 \nL 38.320904 175.217347 \nL 38.656039 177.158745 \nL 39.661444 174.951708 \nL 39.996579 174.830117 \nL 40.331715 173.353948 \nL 40.66685 174.513948 \nL 41.001985 172.466531 \nL 41.33712 172.13309 \nL 41.672255 171.255332 \nL 42.00739 169.196462 \nL 42.342525 169.833083 \nL 42.67766 169.677394 \nL 43.012796 172.41944 \nL 43.347931 170.716867 \nL 43.683066 169.780169 \nL 44.018201 169.244388 \nL 44.353336 168.191124 \nL 44.688471 169.51091 \nL 45.023606 169.071668 \nL 45.358742 171.137908 \nL 45.693877 169.045803 \nL 46.029012 168.890471 \nL 46.364147 169.047634 \nL 47.034417 170.318813 \nL 47.369552 170.936843 \nL 47.704688 172.940404 \nL 48.039823 172.439464 \nL 48.374958 174.13515 \nL 48.710093 174.710678 \nL 49.045228 176.369264 \nL 49.380363 174.662655 \nL 50.050633 175.585829 \nL 50.720904 172.066739 \nL 51.391174 170.982516 \nL 52.061444 170.896077 \nL 52.396579 170.235921 \nL 52.731715 169.957973 \nL 53.06685 168.678594 \nL 53.73712 168.225449 \nL 54.072255 168.239956 \nL 54.40739 167.28043 \nL 55.07766 169.400536 \nL 55.412796 169.28983 \nL 55.747931 170.563722 \nL 56.083066 169.598343 \nL 56.418201 172.014161 \nL 56.753336 170.785859 \nL 57.088471 171.519292 \nL 57.423606 170.062526 \nL 57.758742 170.531109 \nL 58.093877 171.467503 \nL 58.429012 170.151143 \nL 58.764147 170.5224 \nL 59.099282 170.388883 \nL 59.434417 170.094371 \nL 59.769552 171.389119 \nL 60.104687 169.058658 \nL 60.439823 169.526677 \nL 60.774958 167.27433 \nL 61.110093 169.86395 \nL 61.445228 171.108395 \nL 61.780363 170.672424 \nL 62.115498 172.124806 \nL 62.450633 171.151591 \nL 63.120904 166.97932 \nL 63.456039 166.631505 \nL 63.791174 163.466961 \nL 64.126309 165.068959 \nL 64.461444 165.616396 \nL 65.131715 163.828036 \nL 65.801985 164.646747 \nL 66.13712 162.093108 \nL 66.472255 160.962571 \nL 66.80739 158.039858 \nL 67.47766 160.16 \nL 67.812796 160.332892 \nL 68.483066 163.564387 \nL 68.818201 163.658841 \nL 69.153336 165.331167 \nL 69.488471 163.499894 \nL 70.158742 165.804787 \nL 70.493877 164.627248 \nL 70.829012 165.850813 \nL 71.164147 168.065823 \nL 71.499282 167.920242 \nL 71.834417 166.767349 \nL 72.169552 167.857629 \nL 72.504687 166.77578 \nL 72.839823 166.966429 \nL 73.174958 164.945958 \nL 73.510093 167.17534 \nL 73.845228 166.534468 \nL 74.180363 167.86659 \nL 74.850633 165.763873 \nL 75.185769 169.087535 \nL 75.856039 165.584237 \nL 76.191174 165.86489 \nL 76.526309 164.240397 \nL 76.861444 166.749553 \nL 77.196579 166.207883 \nL 77.531715 164.330857 \nL 77.86685 164.768736 \nL 78.201985 164.224633 \nL 78.53712 162.689829 \nL 79.20739 164.601523 \nL 79.542525 163.797613 \nL 79.87766 164.052227 \nL 80.212796 166.636907 \nL 80.547931 166.352441 \nL 80.883066 165.35467 \nL 81.218201 163.5214 \nL 81.553336 162.899369 \nL 81.888471 162.856637 \nL 82.223606 162.113912 \nL 82.558742 159.603221 \nL 82.893877 159.514226 \nL 83.229012 159.954478 \nL 83.564147 158.198809 \nL 83.899282 159.195458 \nL 84.234417 157.150141 \nL 84.569552 157.762845 \nL 84.904687 157.502764 \nL 85.239823 157.469671 \nL 85.574958 158.36486 \nL 85.910093 160.08158 \nL 86.245228 160.930805 \nL 86.580363 159.979218 \nL 86.915498 157.364785 \nL 87.250633 158.790058 \nL 87.585769 157.249041 \nL 87.920904 156.257179 \nL 88.256039 156.115331 \nL 88.591174 158.173913 \nL 88.926309 161.058016 \nL 89.261444 157.996746 \nL 89.596579 158.368569 \nL 89.931715 161.216662 \nL 90.26685 159.91729 \nL 90.601985 156.710088 \nL 90.93712 157.379776 \nL 91.272255 155.290789 \nL 91.60739 154.078919 \nL 91.942525 157.31903 \nL 92.27766 157.467679 \nL 92.612796 159.303926 \nL 93.283066 157.04602 \nL 93.618201 156.884316 \nL 93.953336 157.413137 \nL 94.288471 155.800631 \nL 94.623606 155.255048 \nL 94.958742 155.793467 \nL 95.293877 154.954573 \nL 95.629012 157.348061 \nL 95.964147 155.13679 \nL 96.299282 156.621227 \nL 96.634417 157.529384 \nL 96.969552 159.374401 \nL 97.304688 160.012452 \nL 97.639823 159.887433 \nL 97.974958 158.805292 \nL 98.310093 158.465574 \nL 98.645228 159.594033 \nL 98.980363 157.9044 \nL 99.650633 155.904893 \nL 99.985769 154.330451 \nL 100.320904 154.849632 \nL 100.656039 154.514648 \nL 100.991174 155.848463 \nL 101.326309 154.257053 \nL 101.661444 152.022591 \nL 101.996579 150.611299 \nL 102.331715 151.981732 \nL 102.66685 152.284201 \nL 103.001985 154.183341 \nL 103.33712 152.298189 \nL 103.672255 152.149294 \nL 104.00739 152.291874 \nL 104.342525 151.391838 \nL 104.67766 152.813875 \nL 105.012796 151.979616 \nL 105.347931 150.610514 \nL 105.683066 152.236301 \nL 106.018201 150.221413 \nL 106.353336 150.151246 \nL 106.688471 150.740413 \nL 107.023606 150.088778 \nL 107.358742 150.544476 \nL 107.693877 150.090044 \nL 108.029012 150.333022 \nL 108.699282 145.117221 \nL 109.034417 144.700013 \nL 109.704688 146.94166 \nL 110.039823 147.978035 \nL 110.374958 148.470381 \nL 110.710093 148.63784 \nL 111.380363 149.502508 \nL 111.715498 150.881363 \nL 112.050633 148.77062 \nL 112.385769 152.363898 \nL 113.056039 149.4655 \nL 113.391174 149.148232 \nL 113.726309 147.578199 \nL 114.061444 150.242163 \nL 114.731715 145.943298 \nL 115.06685 146.377052 \nL 115.401985 146.172072 \nL 116.40739 142.126903 \nL 116.742525 143.049342 \nL 117.07766 140.907062 \nL 118.083066 146.379152 \nL 119.088471 149.687484 \nL 119.423606 148.383168 \nL 119.758742 149.788674 \nL 120.093877 150.689801 \nL 120.429012 152.50038 \nL 120.764147 153.080448 \nL 121.099282 152.629366 \nL 121.769552 153.758592 \nL 122.439823 157.472729 \nL 122.774958 156.62973 \nL 123.110093 156.183552 \nL 123.445228 157.879379 \nL 123.780363 155.862937 \nL 124.115498 159.52933 \nL 124.450633 160.118428 \nL 124.785769 157.946828 \nL 125.120904 158.071529 \nL 125.791174 157.874106 \nL 126.126309 160.774199 \nL 126.461444 160.406171 \nL 126.796579 160.695686 \nL 127.131715 159.470543 \nL 127.46685 161.156861 \nL 127.801985 161.303726 \nL 128.13712 162.297396 \nL 128.472255 164.337622 \nL 128.80739 163.175822 \nL 129.142525 163.567686 \nL 129.47766 163.592673 \nL 129.812796 161.56593 \nL 130.147931 160.85769 \nL 130.483066 160.783462 \nL 130.818201 160.003223 \nL 131.153336 160.107994 \nL 131.488471 160.374357 \nL 132.158742 157.969741 \nL 132.493877 158.105215 \nL 132.829012 157.980026 \nL 133.164147 161.270487 \nL 133.499282 160.605451 \nL 133.834417 159.169131 \nL 134.169552 159.526807 \nL 134.504687 160.956088 \nL 134.839823 161.570107 \nL 135.174958 162.539351 \nL 135.510093 162.469369 \nL 136.850633 159.669345 \nL 137.185769 159.490846 \nL 137.520904 158.123199 \nL 138.191174 163.162646 \nL 138.526309 162.389783 \nL 138.861444 162.394625 \nL 139.196579 161.38168 \nL 139.86685 160.342092 \nL 140.201985 161.267794 \nL 140.53712 160.91857 \nL 141.20739 165.608379 \nL 141.542525 166.349609 \nL 141.87766 167.45152 \nL 142.212796 167.005515 \nL 142.547931 168.059524 \nL 143.218201 165.165493 \nL 143.553336 161.241748 \nL 143.888471 159.639218 \nL 144.223606 160.920388 \nL 144.558742 161.513293 \nL 144.893877 161.227799 \nL 145.229012 161.517263 \nL 145.564147 159.504543 \nL 145.899282 158.563516 \nL 146.234417 156.848405 \nL 146.569552 159.866115 \nL 146.904687 159.345435 \nL 147.239823 162.1585 \nL 147.574958 162.580266 \nL 147.910093 165.102515 \nL 148.245228 165.988991 \nL 148.580363 165.150658 \nL 148.915498 163.658111 \nL 149.250633 164.092301 \nL 149.585769 163.99628 \nL 149.920904 161.300481 \nL 150.256039 160.954156 \nL 150.591174 158.01796 \nL 150.926309 157.271193 \nL 151.596579 157.876189 \nL 151.931715 157.824141 \nL 152.26685 157.07791 \nL 152.601985 157.329373 \nL 152.93712 159.747169 \nL 153.272255 163.283983 \nL 153.60739 163.720026 \nL 153.942525 165.15412 \nL 154.27766 163.24511 \nL 154.947931 163.804608 \nL 155.283066 165.95035 \nL 155.618201 165.633654 \nL 155.953336 167.738451 \nL 156.288471 168.040025 \nL 156.623606 169.805498 \nL 156.958742 168.795976 \nL 157.293877 167.159348 \nL 157.629012 168.592904 \nL 157.964147 167.312331 \nL 158.299282 167.338226 \nL 158.634417 167.976337 \nL 158.969552 166.75343 \nL 159.304688 167.780988 \nL 159.639823 169.880374 \nL 159.974958 170.252889 \nL 160.310093 170.825884 \nL 160.645228 171.074925 \nL 161.315498 174.439862 \nL 161.650633 174.224564 \nL 161.985769 173.441604 \nL 162.656039 171.226465 \nL 162.991174 168.605957 \nL 163.326309 167.432919 \nL 163.661444 165.659031 \nL 164.331715 165.961608 \nL 164.66685 165.35085 \nL 165.001985 165.915127 \nL 165.33712 164.964311 \nL 165.672255 165.163881 \nL 166.00739 165.052337 \nL 166.342525 165.131458 \nL 166.67766 164.04277 \nL 167.012796 163.709989 \nL 167.347931 160.816582 \nL 167.683066 160.689028 \nL 168.018201 162.257774 \nL 168.353336 159.805479 \nL 169.358742 164.767929 \nL 169.693877 164.512114 \nL 170.029012 164.019672 \nL 170.364147 164.312109 \nL 170.699282 162.289677 \nL 171.034417 162.164855 \nL 171.704688 165.78609 \nL 172.374958 169.680805 \nL 172.710093 168.998627 \nL 173.045228 172.479806 \nL 173.380363 173.782547 \nL 173.715498 171.372255 \nL 174.050633 171.358956 \nL 174.385769 172.772651 \nL 175.056039 172.516853 \nL 175.391174 172.050669 \nL 175.726309 175.531483 \nL 176.061444 171.9981 \nL 176.396579 175.532356 \nL 176.731715 175.004451 \nL 177.06685 175.530276 \nL 177.401985 177.399497 \nL 177.73712 178.440664 \nL 178.072255 178.302951 \nL 178.40739 180.970775 \nL 178.742525 178.222912 \nL 179.07766 180.465883 \nL 179.412796 179.153118 \nL 179.747931 178.733897 \nL 180.083066 180.024508 \nL 180.418201 180.847032 \nL 180.753336 180.096307 \nL 181.758742 179.021941 \nL 182.429012 182.135916 \nL 182.764147 182.501182 \nL 183.099282 182.492562 \nL 183.434417 180.773914 \nL 184.104687 179.679614 \nL 184.439823 178.129456 \nL 184.774958 181.793493 \nL 185.445228 185.973454 \nL 185.780363 187.847834 \nL 186.450633 190.342918 \nL 186.785769 192.248651 \nL 187.120904 190.974359 \nL 187.456039 194.037134 \nL 187.791174 194.102559 \nL 188.126309 193.521978 \nL 188.796579 192.06759 \nL 189.131715 193.563603 \nL 189.46685 193.556204 \nL 189.801985 192.337112 \nL 190.13712 193.500633 \nL 190.472255 193.349358 \nL 190.80739 192.545567 \nL 191.142525 191.412002 \nL 191.47766 193.195327 \nL 191.812796 191.944224 \nL 192.147931 192.651274 \nL 192.483066 192.277719 \nL 192.818201 190.559807 \nL 193.153336 191.8857 \nL 193.488471 191.592448 \nL 193.823606 189.089714 \nL 194.158742 189.060156 \nL 194.493877 189.432604 \nL 194.829012 186.958415 \nL 195.164147 189.248161 \nL 195.499282 188.5527 \nL 195.834417 185.635599 \nL 196.169552 188.16791 \nL 196.504687 184.994033 \nL 196.839823 187.106006 \nL 197.174958 187.354987 \nL 197.510093 185.268611 \nL 197.845228 185.941357 \nL 198.180363 183.434662 \nL 198.515498 182.111639 \nL 198.850633 182.488899 \nL 199.185769 179.001446 \nL 199.520904 179.252038 \nL 199.856039 178.063627 \nL 200.191174 178.582652 \nL 200.526309 178.789911 \nL 200.861444 178.429739 \nL 201.196579 176.991863 \nL 201.531715 178.425657 \nL 201.86685 178.002334 \nL 202.201985 176.020958 \nL 202.53712 176.544285 \nL 203.542525 180.001632 \nL 203.87766 179.599369 \nL 204.212796 180.077716 \nL 204.547931 182.085144 \nL 204.883066 181.088231 \nL 205.218201 179.585286 \nL 205.553336 181.29006 \nL 205.888471 180.230595 \nL 206.223606 181.522427 \nL 206.558742 181.756326 \nL 206.893877 181.849206 \nL 207.229012 181.422016 \nL 207.564147 183.757585 \nL 208.234417 181.603714 \nL 208.569552 181.586071 \nL 209.239823 180.513178 \nL 209.574958 181.851938 \nL 209.910093 180.416973 \nL 210.245228 176.179483 \nL 210.580363 176.445897 \nL 210.915498 180.224382 \nL 211.585769 175.3452 \nL 211.920904 175.269355 \nL 212.591174 172.539168 \nL 212.926309 172.084885 \nL 213.261444 171.978887 \nL 213.596579 171.543681 \nL 213.931715 170.745653 \nL 214.26685 170.487411 \nL 214.601985 173.540238 \nL 214.93712 174.119094 \nL 215.272255 173.636325 \nL 215.60739 171.968613 \nL 215.942525 173.35771 \nL 216.27766 172.727573 \nL 216.612796 172.506598 \nL 216.947931 172.95528 \nL 217.283066 173.702336 \nL 217.618201 174.059453 \nL 217.953336 173.121573 \nL 218.288471 172.625167 \nL 218.623606 171.344214 \nL 218.958742 168.995405 \nL 219.293877 171.677451 \nL 219.629012 172.364025 \nL 219.964147 172.591841 \nL 220.299282 170.507222 \nL 220.969552 169.3968 \nL 221.639823 171.806235 \nL 221.974958 171.739541 \nL 222.310093 173.970927 \nL 222.645228 173.363964 \nL 222.980363 174.551597 \nL 223.315498 176.337113 \nL 224.656039 168.411529 \nL 224.991174 168.682864 \nL 225.326309 167.573628 \nL 225.661444 167.71852 \nL 226.331715 170.521106 \nL 226.66685 171.537065 \nL 227.001985 174.573177 \nL 227.33712 173.294465 \nL 227.672255 172.559829 \nL 228.00739 171.223777 \nL 228.67766 172.19341 \nL 229.012796 174.181699 \nL 229.347931 172.657751 \nL 229.683066 172.499657 \nL 230.018201 173.119336 \nL 230.353336 174.209749 \nL 230.688471 173.803089 \nL 231.023606 173.59558 \nL 231.358742 172.151203 \nL 232.029012 175.201092 \nL 232.699282 171.861497 \nL 233.034417 170.983136 \nL 233.369552 170.754235 \nL 233.704688 171.074684 \nL 234.039823 167.90804 \nL 234.374958 167.206476 \nL 234.710093 168.040205 \nL 235.045228 166.217435 \nL 235.380363 165.752419 \nL 235.715498 167.388893 \nL 236.050633 167.032149 \nL 236.385769 166.969261 \nL 236.720904 167.137948 \nL 237.056039 167.906981 \nL 237.391174 168.032428 \nL 237.726309 168.701236 \nL 238.061444 169.851193 \nL 238.396579 171.740428 \nL 238.731715 174.299494 \nL 239.06685 174.726506 \nL 239.401985 172.315361 \nL 240.072255 170.464706 \nL 240.40739 172.040643 \nL 240.742525 174.531614 \nL 241.07766 175.121443 \nL 241.412796 178.035476 \nL 241.747931 179.150118 \nL 242.083066 181.481361 \nL 242.418201 180.464278 \nL 242.753336 181.953399 \nL 243.088471 184.414915 \nL 243.423606 181.429593 \nL 243.758742 182.48123 \nL 244.093877 182.722332 \nL 244.764147 182.657397 \nL 245.099282 180.282031 \nL 245.434417 181.382783 \nL 245.769552 179.753144 \nL 246.104687 180.804026 \nL 246.439823 180.219732 \nL 246.774958 181.433536 \nL 247.110093 180.677071 \nL 247.445228 181.336697 \nL 247.780363 179.651987 \nL 248.115498 180.265542 \nL 248.450633 179.425008 \nL 248.785769 180.872585 \nL 249.120904 182.821041 \nL 249.456039 185.535351 \nL 250.126309 187.956451 \nL 250.461444 187.98771 \nL 250.796579 187.154863 \nL 251.46685 184.505 \nL 251.801985 184.837495 \nL 252.13712 185.819033 \nL 252.472255 183.988169 \nL 252.80739 184.756295 \nL 253.142525 187.56359 \nL 253.47766 186.763622 \nL 253.812796 186.896745 \nL 254.147931 183.689515 \nL 254.483066 183.369849 \nL 254.818201 184.280432 \nL 255.153336 184.672437 \nL 256.158742 186.97293 \nL 256.493877 186.67032 \nL 256.829012 186.943843 \nL 257.499282 184.55531 \nL 257.834417 183.783285 \nL 258.504687 187.205267 \nL 258.839823 185.70644 \nL 259.174958 185.119061 \nL 259.510093 185.829335 \nL 260.180363 186.092174 \nL 260.515498 184.487904 \nL 260.850633 186.304401 \nL 261.185769 185.987326 \nL 261.520904 185.481419 \nL 261.856039 186.26682 \nL 262.526309 190.308033 \nL 262.861444 189.113513 \nL 263.196579 189.872836 \nL 263.531715 187.943264 \nL 263.86685 188.412553 \nL 264.201985 187.994262 \nL 264.53712 188.144712 \nL 264.872255 188.587781 \nL 265.20739 190.945586 \nL 265.87766 192.667998 \nL 266.212796 192.358796 \nL 266.547931 192.274478 \nL 266.883066 193.308759 \nL 267.553336 193.957969 \nL 267.888471 194.559444 \nL 268.223606 194.738743 \nL 268.558742 191.156195 \nL 268.893877 191.255103 \nL 269.229012 191.541811 \nL 269.564147 191.460123 \nL 269.899282 190.955896 \nL 270.234417 189.438806 \nL 270.569552 189.700706 \nL 270.904687 190.1375 \nL 271.239823 193.673858 \nL 271.574958 193.373382 \nL 271.910093 196.697487 \nL 272.245228 197.479018 \nL 272.580363 197.454873 \nL 272.915498 199.611473 \nL 273.585769 196.5827 \nL 273.920904 196.191143 \nL 274.256039 199.650642 \nL 274.591174 200.162076 \nL 274.926309 201.013464 \nL 275.261444 200.831866 \nL 275.596579 202.01374 \nL 275.931715 203.706631 \nL 276.601985 201.013682 \nL 276.93712 204.306365 \nL 277.272255 206.281181 \nL 277.60739 204.936631 \nL 277.942525 209.20188 \nL 278.27766 210.924034 \nL 278.612796 209.368963 \nL 278.947931 209.473729 \nL 279.283066 208.595086 \nL 279.618201 206.612702 \nL 279.953336 208.012674 \nL 280.958742 203.040718 \nL 281.293877 201.984302 \nL 281.964147 197.836577 \nL 282.299282 197.310488 \nL 282.969552 198.408135 \nL 283.304688 201.484759 \nL 283.639823 202.283102 \nL 283.974958 200.59475 \nL 284.310093 200.497981 \nL 284.645228 198.129342 \nL 284.980363 197.863554 \nL 285.315498 197.086411 \nL 285.650633 197.470089 \nL 285.985769 196.878145 \nL 286.320904 193.4634 \nL 286.656039 192.227664 \nL 286.991174 193.638027 \nL 287.326309 194.159127 \nL 287.661444 192.957655 \nL 287.996579 189.98108 \nL 288.331715 189.506571 \nL 288.66685 190.220957 \nL 289.001985 189.803317 \nL 289.33712 191.174789 \nL 289.672255 190.357286 \nL 290.00739 192.585066 \nL 290.342525 191.525689 \nL 291.012796 190.673618 \nL 291.347931 192.531613 \nL 292.018201 190.392811 \nL 292.353336 190.264815 \nL 292.688471 189.588052 \nL 293.023606 191.288279 \nL 293.358742 190.156147 \nL 294.364147 184.463358 \nL 294.699282 185.812945 \nL 295.034417 183.461948 \nL 295.369552 182.579647 \nL 295.704688 182.519679 \nL 296.039823 184.976679 \nL 296.374958 185.032899 \nL 296.710093 183.068055 \nL 297.380363 183.177887 \nL 297.715498 185.982628 \nL 298.050633 185.281795 \nL 298.385769 186.479075 \nL 298.720904 188.184347 \nL 299.391174 192.540268 \nL 299.726309 192.079393 \nL 300.061444 191.04367 \nL 300.396579 193.077517 \nL 300.731715 191.739017 \nL 301.06685 191.28559 \nL 301.401985 189.236812 \nL 301.73712 190.323444 \nL 302.072255 187.902292 \nL 302.40739 186.559333 \nL 302.742525 186.553947 \nL 303.07766 185.905006 \nL 303.747931 189.298984 \nL 304.083066 187.821041 \nL 304.418201 188.561791 \nL 304.753336 188.663895 \nL 305.088471 188.23415 \nL 305.758742 184.554694 \nL 306.093877 185.161398 \nL 306.429012 187.327437 \nL 306.764147 186.000457 \nL 307.099282 187.560373 \nL 307.434417 186.690023 \nL 307.769552 187.417601 \nL 308.104688 188.816571 \nL 308.439823 188.667198 \nL 308.774958 187.564621 \nL 309.110093 187.455563 \nL 309.445228 188.155704 \nL 309.780363 188.526484 \nL 310.115498 188.303072 \nL 310.450633 189.548646 \nL 310.785769 188.84954 \nL 311.120904 187.229894 \nL 311.456039 184.374424 \nL 311.791174 182.626217 \nL 312.126309 186.633336 \nL 312.461444 183.044118 \nL 313.131715 181.45808 \nL 313.46685 182.21849 \nL 313.801985 180.602021 \nL 314.13712 180.080395 \nL 314.80739 181.98175 \nL 315.142525 184.268679 \nL 315.47766 184.545723 \nL 315.812796 183.13691 \nL 316.147931 182.525866 \nL 316.483066 181.374168 \nL 316.818201 182.965693 \nL 317.153336 181.820188 \nL 317.488471 184.9864 \nL 317.823606 186.630474 \nL 318.158742 189.769056 \nL 318.493877 189.875402 \nL 318.829012 189.742525 \nL 319.499282 188.935942 \nL 319.834417 190.570038 \nL 320.169552 188.504727 \nL 320.504687 189.106896 \nL 320.839823 190.318857 \nL 321.174958 193.906957 \nL 321.510093 192.923857 \nL 321.845228 193.498923 \nL 322.180363 196.544114 \nL 322.515498 196.633198 \nL 322.850633 195.91888 \nL 323.185769 194.018659 \nL 323.520904 194.855541 \nL 323.856039 196.96322 \nL 324.191174 197.449828 \nL 324.526309 199.766894 \nL 324.861444 198.931706 \nL 325.196579 196.365426 \nL 325.86685 195.57969 \nL 326.201985 194.326278 \nL 326.53712 196.40047 \nL 327.20739 194.46735 \nL 327.542525 196.378193 \nL 327.87766 196.954584 \nL 328.212796 195.966573 \nL 328.547931 195.456307 \nL 328.883066 196.572444 \nL 329.218201 196.846387 \nL 329.553336 196.245941 \nL 329.888471 198.962846 \nL 330.223606 197.45313 \nL 330.558742 196.960394 \nL 330.893877 194.69554 \nL 331.229012 194.696615 \nL 331.564147 193.621643 \nL 331.899282 193.534638 \nL 332.234417 192.483755 \nL 332.569552 193.470297 \nL 333.239823 198.089837 \nL 333.910093 195.708167 \nL 334.580363 194.072248 \nL 334.915498 197.173894 \nL 335.250633 197.121161 \nL 335.585769 198.28192 \nL 335.920904 197.608276 \nL 336.256039 198.117096 \nL 336.591174 193.446062 \nL 336.926309 192.722967 \nL 337.261444 193.820517 \nL 337.596579 192.505451 \nL 337.931715 191.674626 \nL 338.26685 191.405879 \nL 338.601985 191.488635 \nL 338.93712 194.38063 \nL 339.60739 197.808074 \nL 339.942525 197.338282 \nL 340.27766 197.309155 \nL 340.612796 195.15407 \nL 340.947931 196.327972 \nL 341.283066 197.908356 \nL 341.618201 197.790208 \nL 341.953336 201.206003 \nL 342.288471 201.180542 \nL 342.958742 204.243124 \nL 343.293877 204.858884 \nL 343.629012 205.775949 \nL 343.964147 204.148978 \nL 344.634417 202.991726 \nL 345.974958 206.785832 \nL 346.310093 205.162993 \nL 346.645228 205.999999 \nL 347.315498 206.699011 \nL 347.650633 208.088276 \nL 347.985769 210.298843 \nL 348.320904 211.235848 \nL 348.656039 208.099773 \nL 348.991174 207.645635 \nL 349.326309 207.777002 \nL 349.661444 207.087532 \nL 350.331715 202.102703 \nL 350.66685 200.751682 \nL 351.001985 201.076957 \nL 351.33712 200.312091 \nL 351.672255 200.99002 \nL 352.00739 198.810933 \nL 352.342525 198.857513 \nL 352.67766 203.516579 \nL 353.683066 204.979758 \nL 354.018201 202.30418 \nL 354.353336 203.683691 \nL 354.688471 204.404616 \nL 355.023606 204.467137 \nL 355.358742 204.644807 \nL 355.693877 206.197576 \nL 356.029012 205.359524 \nL 356.364147 203.532096 \nL 356.699282 204.819435 \nL 357.034417 204.203374 \nL 357.369552 206.262365 \nL 357.704688 206.074247 \nL 358.039823 209.030959 \nL 358.374958 208.256123 \nL 358.710093 209.350999 \nL 359.045228 207.88641 \nL 359.380363 209.970369 \nL 360.050633 211.286782 \nL 360.385769 210.40377 \nL 360.720904 207.977135 \nL 361.056039 209.226518 \nL 361.391174 205.435296 \nL 361.726309 206.205005 \nL 362.061444 207.54521 \nL 362.396579 209.561337 \nL 362.731715 208.537038 \nL 363.06685 209.039958 \nL 363.401985 210.223107 \nL 363.73712 208.817054 \nL 364.072255 209.169463 \nL 364.40739 209.783617 \nL 364.742525 206.306369 \nL 365.07766 206.616129 \nL 365.747931 205.429874 \nL 366.083066 206.811154 \nL 366.753336 211.001 \nL 367.088471 211.806748 \nL 367.423606 210.827057 \nL 367.758742 210.707873 \nL 368.429012 214.756364 \nL 369.434417 212.113781 \nL 370.104688 210.317446 \nL 370.104688 210.317446 \n\" clip-path=\"url(#pf420befb06)\" style=\"fill: none; stroke: #2ca02c; stroke-width: 1.5; stroke-linecap: square\"/>\n   </g>\n   <g id=\"line2d_45\">\n    <path d=\"M 35.304688 174.218238 \nL 35.639823 174.931256 \nL 35.974958 174.627454 \nL 36.310093 173.922285 \nL 36.645228 174.382307 \nL 36.980363 175.045124 \nL 37.315498 176.036751 \nL 37.650633 176.353133 \nL 37.985769 174.592593 \nL 38.320904 171.835402 \nL 38.656039 171.706185 \nL 38.991174 170.850116 \nL 39.326309 171.772109 \nL 39.661444 169.397056 \nL 39.996579 170.149006 \nL 40.331715 171.948907 \nL 40.66685 172.585948 \nL 41.001985 171.956947 \nL 41.672255 171.626528 \nL 42.00739 172.754433 \nL 42.342525 171.012856 \nL 42.67766 171.202412 \nL 43.012796 172.462099 \nL 43.347931 170.947236 \nL 43.683066 170.307234 \nL 44.018201 170.930228 \nL 44.353336 172.421168 \nL 44.688471 171.871659 \nL 45.023606 173.544719 \nL 45.358742 171.587611 \nL 45.693877 173.312026 \nL 46.029012 172.523512 \nL 46.364147 172.711239 \nL 46.699282 173.537443 \nL 47.034417 172.544286 \nL 47.369552 172.332081 \nL 47.704688 169.0378 \nL 48.039823 168.069016 \nL 48.374958 168.104769 \nL 48.710093 167.921784 \nL 49.045228 169.103698 \nL 49.380363 167.074819 \nL 49.715498 168.572448 \nL 50.050633 168.171801 \nL 50.385769 169.651725 \nL 50.720904 168.742355 \nL 51.056039 169.826204 \nL 51.391174 170.53356 \nL 51.726309 169.659965 \nL 52.061444 170.502524 \nL 52.396579 172.582043 \nL 52.731715 169.054573 \nL 53.06685 169.946211 \nL 53.401985 170.254833 \nL 53.73712 165.579457 \nL 54.072255 165.603834 \nL 54.40739 165.076796 \nL 54.742525 162.932252 \nL 55.07766 163.795589 \nL 55.412796 163.746261 \nL 55.747931 165.889728 \nL 56.083066 164.107367 \nL 56.418201 163.668684 \nL 57.088471 161.210916 \nL 57.423606 163.950083 \nL 57.758742 161.96093 \nL 58.764147 164.097223 \nL 59.099282 163.554872 \nL 59.434417 163.620923 \nL 60.104687 162.279708 \nL 60.439823 162.048029 \nL 60.774958 158.180993 \nL 61.110093 157.744028 \nL 61.445228 157.549827 \nL 61.780363 159.806827 \nL 62.115498 157.316809 \nL 62.450633 157.259268 \nL 62.785769 157.855152 \nL 63.120904 159.029072 \nL 63.456039 158.422616 \nL 63.791174 158.796965 \nL 64.126309 160.011523 \nL 64.461444 160.149598 \nL 64.796579 160.013037 \nL 65.131715 161.372478 \nL 65.46685 160.808017 \nL 65.801985 161.154406 \nL 66.13712 162.496345 \nL 66.472255 161.509926 \nL 66.80739 162.600171 \nL 67.142525 162.405798 \nL 67.47766 163.291535 \nL 67.812796 162.626417 \nL 68.147931 162.519431 \nL 68.483066 163.604158 \nL 68.818201 163.233491 \nL 69.488471 161.843548 \nL 69.823606 162.882778 \nL 71.164147 159.436501 \nL 71.499282 159.847018 \nL 72.169552 158.272203 \nL 72.839823 159.319774 \nL 73.174958 159.285487 \nL 73.510093 159.115208 \nL 73.845228 161.450879 \nL 74.180363 161.529226 \nL 74.515498 164.433943 \nL 74.850633 164.851085 \nL 75.185769 164.790575 \nL 75.856039 162.430587 \nL 76.191174 164.256498 \nL 76.526309 164.581266 \nL 76.861444 165.575378 \nL 77.196579 164.985614 \nL 77.86685 167.557065 \nL 78.201985 166.936229 \nL 78.53712 166.807704 \nL 78.872255 166.249233 \nL 79.20739 167.207665 \nL 79.542525 169.417386 \nL 80.547931 161.503803 \nL 81.553336 163.583005 \nL 81.888471 163.03032 \nL 82.223606 162.175332 \nL 82.558742 162.16443 \nL 82.893877 161.718541 \nL 83.229012 162.071356 \nL 83.564147 161.113888 \nL 83.899282 161.570917 \nL 84.234417 162.63603 \nL 84.569552 158.481851 \nL 84.904687 159.743936 \nL 85.239823 160.275314 \nL 85.574958 161.314696 \nL 85.910093 163.486798 \nL 86.245228 164.353456 \nL 86.580363 161.533763 \nL 86.915498 162.682437 \nL 87.250633 162.794865 \nL 87.585769 162.356252 \nL 87.920904 163.809262 \nL 88.256039 162.677628 \nL 88.591174 163.351948 \nL 88.926309 163.547499 \nL 89.261444 163.564185 \nL 89.596579 165.424313 \nL 89.931715 165.508723 \nL 90.601985 161.553971 \nL 90.93712 161.655503 \nL 91.272255 162.579213 \nL 91.60739 163.005914 \nL 92.27766 164.538369 \nL 92.612796 165.588813 \nL 93.283066 170.278205 \nL 93.618201 168.970775 \nL 93.953336 170.21617 \nL 94.288471 170.871234 \nL 94.623606 171.916219 \nL 94.958742 170.122791 \nL 95.629012 167.762307 \nL 96.299282 172.476337 \nL 96.634417 174.033946 \nL 96.969552 173.188637 \nL 97.304688 172.952677 \nL 97.639823 173.102012 \nL 97.974958 172.05306 \nL 98.645228 168.409353 \nL 98.980363 166.296854 \nL 99.315498 166.547844 \nL 99.650633 170.772202 \nL 99.985769 172.402956 \nL 100.320904 172.704994 \nL 100.991174 170.766486 \nL 101.661444 167.365871 \nL 101.996579 167.519798 \nL 102.331715 164.437561 \nL 102.66685 167.15276 \nL 103.001985 168.037571 \nL 103.33712 168.423433 \nL 103.672255 166.243919 \nL 104.00739 166.810005 \nL 104.342525 165.237084 \nL 105.012796 167.529148 \nL 105.347931 169.982666 \nL 105.683066 170.718868 \nL 106.018201 169.791052 \nL 106.353336 168.154442 \nL 106.688471 165.691498 \nL 107.023606 166.599112 \nL 107.358742 166.40389 \nL 107.693877 168.471956 \nL 108.029012 167.054652 \nL 108.364147 167.237721 \nL 108.699282 167.85446 \nL 109.034417 167.282192 \nL 109.369552 167.099874 \nL 109.704688 170.665251 \nL 110.710093 168.185551 \nL 111.380363 170.187291 \nL 111.715498 170.459378 \nL 112.050633 170.33272 \nL 112.720904 170.922108 \nL 113.056039 170.511157 \nL 113.391174 172.077212 \nL 113.726309 171.023748 \nL 114.061444 170.677241 \nL 114.396579 170.778159 \nL 114.731715 172.039144 \nL 115.06685 169.405719 \nL 115.401985 168.273314 \nL 115.73712 168.064612 \nL 116.072255 168.723231 \nL 116.40739 168.599357 \nL 116.742525 169.626343 \nL 117.412796 170.82475 \nL 117.747931 174.000153 \nL 118.083066 175.357619 \nL 119.088471 177.137247 \nL 119.423606 177.178002 \nL 119.758742 178.262983 \nL 120.429012 173.440447 \nL 120.764147 173.528106 \nL 121.099282 174.086378 \nL 121.434417 172.054905 \nL 122.104687 170.166947 \nL 122.439823 166.477595 \nL 122.774958 165.280632 \nL 123.110093 166.328021 \nL 123.445228 168.370525 \nL 123.780363 169.60253 \nL 124.115498 170.095675 \nL 124.450633 169.621636 \nL 124.785769 168.22134 \nL 125.120904 169.17044 \nL 125.456039 167.288217 \nL 125.791174 167.413858 \nL 126.126309 168.435011 \nL 126.461444 168.619153 \nL 126.796579 169.448335 \nL 127.131715 168.050627 \nL 127.46685 167.471617 \nL 127.801985 167.43773 \nL 128.13712 167.691621 \nL 128.472255 166.304098 \nL 129.142525 166.724843 \nL 129.812796 164.15237 \nL 130.147931 161.250337 \nL 130.483066 160.478355 \nL 130.818201 160.974592 \nL 131.153336 160.710772 \nL 131.488471 161.827749 \nL 131.823606 161.318968 \nL 132.158742 158.81101 \nL 132.493877 159.426686 \nL 132.829012 160.540516 \nL 133.164147 165.733543 \nL 133.499282 165.844773 \nL 133.834417 164.751277 \nL 134.169552 162.285112 \nL 134.504687 164.441684 \nL 134.839823 167.995372 \nL 135.174958 167.424855 \nL 135.845228 169.300291 \nL 136.180363 171.01976 \nL 136.515498 170.281817 \nL 136.850633 171.837319 \nL 137.185769 171.20262 \nL 137.856039 167.492591 \nL 138.191174 165.751973 \nL 138.526309 164.861135 \nL 138.861444 165.051716 \nL 139.196579 167.706221 \nL 139.531715 168.433242 \nL 139.86685 170.993191 \nL 140.201985 168.064618 \nL 140.53712 168.325983 \nL 140.872255 170.125768 \nL 141.542525 169.476329 \nL 141.87766 168.732029 \nL 142.212796 168.519908 \nL 142.547931 167.627249 \nL 142.883066 167.643076 \nL 143.553336 172.011398 \nL 143.888471 170.908766 \nL 144.223606 168.401997 \nL 144.558742 167.890864 \nL 144.893877 166.083871 \nL 145.229012 166.131588 \nL 145.564147 165.32913 \nL 146.234417 168.787058 \nL 146.569552 169.403374 \nL 146.904687 166.490149 \nL 147.239823 165.730601 \nL 147.574958 166.394898 \nL 147.910093 162.716492 \nL 148.245228 163.319584 \nL 148.580363 165.186977 \nL 148.915498 165.583871 \nL 149.920904 170.992342 \nL 150.256039 170.568099 \nL 150.926309 171.099827 \nL 151.596579 169.860862 \nL 151.931715 171.795946 \nL 152.601985 170.800861 \nL 152.93712 172.384751 \nL 153.272255 171.04502 \nL 153.60739 171.942795 \nL 153.942525 173.271882 \nL 154.27766 173.65609 \nL 154.612796 175.065728 \nL 154.947931 175.077622 \nL 155.283066 173.829098 \nL 155.618201 173.549423 \nL 155.953336 171.649886 \nL 156.288471 170.872535 \nL 156.623606 168.531579 \nL 157.293877 169.894426 \nL 157.629012 169.045492 \nL 157.964147 169.799162 \nL 158.299282 170.166626 \nL 158.634417 169.348304 \nL 158.969552 169.819535 \nL 159.974958 167.266238 \nL 160.645228 166.260162 \nL 161.315498 169.824622 \nL 161.650633 169.699059 \nL 162.320904 166.049737 \nL 162.656039 162.916133 \nL 162.991174 163.143109 \nL 163.326309 160.201454 \nL 163.661444 160.173087 \nL 163.996579 160.91793 \nL 164.331715 161.299497 \nL 164.66685 163.327845 \nL 165.33712 164.416256 \nL 166.00739 167.178356 \nL 166.67766 165.280019 \nL 167.012796 166.091961 \nL 167.347931 164.61794 \nL 167.683066 164.900052 \nL 168.018201 168.360956 \nL 168.353336 166.779511 \nL 168.688471 164.320132 \nL 169.358742 165.988579 \nL 169.693877 165.909907 \nL 170.029012 167.33349 \nL 170.364147 169.607905 \nL 170.699282 169.13435 \nL 171.034417 168.945564 \nL 171.369552 169.46596 \nL 171.704688 169.324123 \nL 172.039823 168.388374 \nL 172.374958 167.035365 \nL 173.045228 162.664279 \nL 173.380363 163.08074 \nL 173.715498 161.294492 \nL 174.050633 163.105311 \nL 174.385769 162.743692 \nL 174.720904 163.185093 \nL 175.056039 159.720791 \nL 175.391174 162.879833 \nL 175.726309 162.641443 \nL 176.061444 164.222694 \nL 176.396579 163.298542 \nL 176.731715 163.339193 \nL 177.06685 163.692259 \nL 177.401985 164.8113 \nL 177.73712 163.994582 \nL 178.072255 164.954914 \nL 178.40739 164.15935 \nL 178.742525 161.426559 \nL 179.07766 161.604379 \nL 179.412796 160.689385 \nL 179.747931 160.201982 \nL 180.083066 158.852393 \nL 180.418201 160.671685 \nL 180.753336 159.603345 \nL 181.088471 159.613885 \nL 181.423606 160.005651 \nL 181.758742 159.738738 \nL 182.093877 157.860676 \nL 182.429012 157.762604 \nL 182.764147 158.15677 \nL 183.099282 157.462698 \nL 183.434417 153.896634 \nL 183.769552 154.077356 \nL 184.104687 153.604724 \nL 184.439823 152.052987 \nL 184.774958 153.486268 \nL 185.110093 153.823491 \nL 185.445228 152.431674 \nL 186.115498 152.159508 \nL 186.450633 153.730169 \nL 186.785769 153.738092 \nL 187.120904 150.66259 \nL 187.456039 150.966229 \nL 187.791174 151.994401 \nL 188.126309 149.994491 \nL 188.461444 150.980781 \nL 188.796579 152.981457 \nL 189.131715 152.064184 \nL 189.46685 151.920495 \nL 190.13712 153.202941 \nL 190.472255 153.19599 \nL 190.80739 154.664076 \nL 191.142525 155.542458 \nL 191.47766 152.053974 \nL 192.147931 151.731835 \nL 192.483066 150.444816 \nL 192.818201 150.727421 \nL 193.153336 150.254843 \nL 193.488471 150.780848 \nL 193.823606 149.955507 \nL 194.158742 147.48344 \nL 194.493877 148.534165 \nL 194.829012 149.102398 \nL 195.499282 151.610161 \nL 195.834417 148.00429 \nL 196.504687 149.680886 \nL 196.839823 150.554867 \nL 197.174958 149.105435 \nL 197.510093 148.20157 \nL 197.845228 150.220847 \nL 198.180363 150.608637 \nL 198.515498 150.381808 \nL 198.850633 148.441462 \nL 199.185769 148.028512 \nL 199.520904 147.862364 \nL 199.856039 148.987923 \nL 200.191174 148.496711 \nL 200.526309 149.277813 \nL 200.861444 150.442022 \nL 201.196579 150.227413 \nL 202.53712 142.950582 \nL 202.872255 143.5599 \nL 203.20739 143.273146 \nL 204.212796 138.526728 \nL 204.547931 139.322469 \nL 204.883066 138.400062 \nL 205.218201 139.202797 \nL 205.553336 138.109081 \nL 205.888471 135.950384 \nL 206.223606 135.000002 \nL 206.893877 130.103681 \nL 207.229012 129.877857 \nL 207.564147 131.309891 \nL 207.899282 131.852005 \nL 208.234417 130.306053 \nL 208.569552 129.471585 \nL 208.904687 130.317674 \nL 209.239823 133.442541 \nL 209.574958 132.977529 \nL 209.910093 134.469589 \nL 210.245228 134.517038 \nL 210.580363 135.174358 \nL 210.915498 132.910043 \nL 211.250633 134.221775 \nL 211.585769 133.902457 \nL 211.920904 136.329144 \nL 212.256039 136.177204 \nL 212.591174 139.169848 \nL 212.926309 140.15865 \nL 213.261444 138.143106 \nL 213.596579 140.03392 \nL 213.931715 143.011026 \nL 214.26685 143.114104 \nL 214.601985 144.030419 \nL 214.93712 144.082769 \nL 215.272255 144.5548 \nL 215.60739 144.482164 \nL 215.942525 147.877392 \nL 216.27766 147.706559 \nL 216.612796 149.200206 \nL 216.947931 146.612001 \nL 217.618201 148.191919 \nL 217.953336 149.496858 \nL 218.288471 147.274447 \nL 218.623606 149.489206 \nL 218.958742 150.777777 \nL 219.293877 149.119331 \nL 219.964147 147.706692 \nL 220.299282 147.999491 \nL 220.634417 147.049112 \nL 220.969552 147.751649 \nL 221.304688 146.168061 \nL 221.639823 146.931106 \nL 222.310093 143.199477 \nL 222.645228 144.609593 \nL 222.980363 141.650656 \nL 223.315498 140.905893 \nL 223.650633 143.599892 \nL 223.985769 143.007954 \nL 224.320904 142.880974 \nL 224.656039 141.867303 \nL 224.991174 144.001084 \nL 225.326309 147.051481 \nL 225.661444 147.501242 \nL 225.996579 145.940072 \nL 226.331715 145.116306 \nL 226.66685 145.559227 \nL 227.001985 147.027889 \nL 227.33712 147.539484 \nL 227.672255 148.760304 \nL 228.00739 145.863607 \nL 228.342525 147.53236 \nL 228.67766 148.567917 \nL 229.012796 148.289024 \nL 229.347931 149.839011 \nL 229.683066 148.276707 \nL 230.018201 148.400552 \nL 230.353336 146.558505 \nL 230.688471 146.770474 \nL 231.023606 147.511872 \nL 231.693877 145.592055 \nL 232.029012 143.825176 \nL 232.364147 144.082122 \nL 232.699282 147.370461 \nL 233.034417 147.305103 \nL 233.704688 143.713219 \nL 234.039823 144.288645 \nL 234.374958 143.981607 \nL 234.710093 142.406074 \nL 235.045228 142.028663 \nL 235.380363 143.178936 \nL 236.050633 147.566647 \nL 236.385769 147.86571 \nL 237.391174 141.306919 \nL 237.726309 142.389066 \nL 238.061444 141.003311 \nL 238.731715 139.47251 \nL 239.401985 137.570402 \nL 239.73712 135.673435 \nL 240.072255 136.350102 \nL 240.742525 140.299226 \nL 241.07766 138.346604 \nL 241.412796 139.161892 \nL 241.747931 137.452757 \nL 242.083066 138.408785 \nL 242.418201 138.771783 \nL 243.088471 140.901465 \nL 244.093877 145.06554 \nL 244.429012 141.777579 \nL 244.764147 142.479711 \nL 245.099282 142.603506 \nL 245.434417 140.364042 \nL 245.769552 139.385137 \nL 246.104687 138.752999 \nL 246.439823 140.584592 \nL 246.774958 141.315444 \nL 247.445228 143.454196 \nL 247.780363 144.353271 \nL 248.115498 144.006709 \nL 248.450633 143.946233 \nL 248.785769 144.178127 \nL 249.120904 141.829775 \nL 249.456039 141.980785 \nL 249.791174 141.354534 \nL 250.126309 141.30188 \nL 250.461444 142.36178 \nL 250.796579 141.001368 \nL 251.131715 141.5135 \nL 251.46685 140.83571 \nL 251.801985 141.93194 \nL 252.13712 142.379271 \nL 252.472255 142.213213 \nL 252.80739 141.385224 \nL 253.142525 142.271537 \nL 253.47766 142.693265 \nL 253.812796 140.55999 \nL 254.147931 143.028211 \nL 254.818201 145.595599 \nL 255.153336 141.589132 \nL 255.488471 140.861506 \nL 255.823606 140.671649 \nL 256.158742 139.789718 \nL 256.493877 137.392413 \nL 256.829012 138.587115 \nL 257.164147 136.928027 \nL 257.834417 134.592926 \nL 258.169552 136.105626 \nL 258.504687 136.576954 \nL 258.839823 137.404198 \nL 259.174958 139.198863 \nL 259.510093 140.044972 \nL 259.845228 137.787952 \nL 260.180363 138.2481 \nL 260.515498 135.521153 \nL 260.850633 139.100284 \nL 261.185769 137.054249 \nL 261.520904 137.931252 \nL 261.856039 139.323051 \nL 262.191174 139.539717 \nL 262.526309 138.530928 \nL 262.861444 135.477529 \nL 263.196579 135.351651 \nL 263.86685 136.002905 \nL 264.201985 136.193387 \nL 264.53712 133.529609 \nL 264.872255 133.979783 \nL 265.20739 135.784322 \nL 265.542525 136.407229 \nL 265.87766 137.62276 \nL 266.212796 134.827347 \nL 266.547931 136.443432 \nL 266.883066 136.648509 \nL 267.553336 132.369459 \nL 267.888471 132.67194 \nL 268.223606 131.251102 \nL 268.558742 131.93201 \nL 269.229012 134.261564 \nL 269.564147 134.294086 \nL 269.899282 135.20329 \nL 270.234417 134.168974 \nL 270.569552 131.762528 \nL 270.904687 130.495596 \nL 271.239823 130.396952 \nL 271.574958 128.364013 \nL 272.245228 127.26117 \nL 272.580363 127.468927 \nL 272.915498 128.48907 \nL 273.250633 128.153328 \nL 273.585769 130.033668 \nL 273.920904 128.922732 \nL 274.256039 128.596378 \nL 274.591174 127.816638 \nL 274.926309 126.228808 \nL 275.261444 127.69368 \nL 275.596579 126.974333 \nL 275.931715 128.763921 \nL 276.26685 126.078353 \nL 276.601985 126.220559 \nL 276.93712 124.096867 \nL 277.60739 125.248374 \nL 277.942525 126.3471 \nL 278.27766 125.845906 \nL 278.612796 127.02426 \nL 278.947931 125.089309 \nL 279.283066 124.929978 \nL 279.618201 124.475768 \nL 280.288471 121.1025 \nL 280.623606 123.91678 \nL 280.958742 122.310095 \nL 281.293877 121.964323 \nL 281.629012 122.563912 \nL 281.964147 120.243567 \nL 282.299282 121.769751 \nL 282.634417 122.400309 \nL 282.969552 121.547738 \nL 283.304688 121.53709 \nL 283.639823 123.955922 \nL 284.310093 122.214444 \nL 284.645228 122.383388 \nL 284.980363 122.417393 \nL 285.315498 123.255721 \nL 285.650633 120.898615 \nL 285.985769 122.721977 \nL 286.320904 121.585223 \nL 286.656039 121.316885 \nL 286.991174 119.922773 \nL 287.326309 119.709471 \nL 287.661444 122.831148 \nL 287.996579 122.676874 \nL 288.331715 122.988849 \nL 288.66685 123.013384 \nL 289.001985 124.504489 \nL 289.33712 123.826692 \nL 289.672255 125.445243 \nL 290.00739 125.059083 \nL 290.342525 123.264008 \nL 291.012796 120.614463 \nL 291.347931 123.352427 \nL 291.683066 121.19541 \nL 292.018201 121.289096 \nL 292.353336 124.132013 \nL 292.688471 124.219825 \nL 293.023606 124.51357 \nL 293.693877 123.306756 \nL 294.029012 124.493602 \nL 294.699282 121.757734 \nL 295.034417 122.097521 \nL 295.369552 125.148138 \nL 295.704688 126.004158 \nL 296.039823 125.521588 \nL 296.374958 121.935522 \nL 296.710093 123.04861 \nL 297.045228 123.199636 \nL 297.380363 126.589481 \nL 297.715498 127.546465 \nL 298.050633 124.686468 \nL 298.385769 123.293482 \nL 298.720904 124.067499 \nL 299.056039 122.808685 \nL 299.391174 123.868565 \nL 299.726309 124.230288 \nL 300.061444 123.925578 \nL 300.731715 119.690648 \nL 301.06685 122.959847 \nL 301.401985 123.318442 \nL 301.73712 125.660908 \nL 302.072255 126.456944 \nL 302.40739 126.323789 \nL 302.742525 127.141403 \nL 303.07766 125.566711 \nL 303.412796 125.533588 \nL 304.083066 123.966832 \nL 304.418201 125.335106 \nL 304.753336 124.71951 \nL 305.088471 125.522751 \nL 305.423606 124.416764 \nL 305.758742 124.227316 \nL 306.093877 123.168429 \nL 306.429012 123.811843 \nL 306.764147 125.921764 \nL 307.099282 123.976016 \nL 307.434417 123.244166 \nL 308.104688 126.468271 \nL 308.439823 126.101464 \nL 308.774958 126.443711 \nL 309.110093 129.825872 \nL 309.445228 130.122648 \nL 309.780363 128.690379 \nL 310.115498 129.162254 \nL 310.450633 130.029812 \nL 310.785769 131.5001 \nL 311.456039 127.573465 \nL 311.791174 128.600787 \nL 312.126309 128.72447 \nL 312.461444 128.572375 \nL 312.796579 130.026144 \nL 313.131715 129.491545 \nL 313.46685 132.77438 \nL 313.801985 129.693363 \nL 314.13712 128.50246 \nL 314.472255 130.218208 \nL 314.80739 132.532978 \nL 315.142525 133.535008 \nL 315.47766 133.73253 \nL 315.812796 134.095904 \nL 316.147931 135.582667 \nL 317.153336 133.689566 \nL 317.488471 133.086135 \nL 317.823606 135.102204 \nL 318.158742 134.386063 \nL 318.493877 133.376468 \nL 318.829012 135.675888 \nL 319.164147 136.751548 \nL 319.499282 136.673637 \nL 319.834417 135.843789 \nL 320.169552 136.759335 \nL 320.504687 135.395647 \nL 320.839823 135.212406 \nL 321.174958 135.222953 \nL 321.510093 136.358181 \nL 321.845228 134.898704 \nL 322.180363 134.577522 \nL 322.515498 135.375228 \nL 322.850633 135.376363 \nL 323.185769 136.194404 \nL 323.520904 135.867723 \nL 324.191174 139.367732 \nL 324.526309 141.438428 \nL 325.196579 142.562911 \nL 325.531715 142.727591 \nL 325.86685 142.653636 \nL 326.201985 142.711425 \nL 326.53712 142.308331 \nL 326.872255 143.674477 \nL 327.20739 145.986523 \nL 327.87766 143.543479 \nL 328.212796 140.593373 \nL 328.547931 141.659086 \nL 329.218201 140.169294 \nL 329.888471 142.727842 \nL 330.223606 143.561895 \nL 330.558742 145.264486 \nL 330.893877 144.998106 \nL 331.229012 145.85895 \nL 331.564147 145.505542 \nL 332.234417 143.193202 \nL 332.569552 142.602954 \nL 332.904687 142.340823 \nL 333.239823 142.295432 \nL 333.574958 143.335544 \nL 333.910093 139.73104 \nL 334.245228 141.925361 \nL 334.580363 141.811224 \nL 334.915498 143.253621 \nL 335.250633 143.482941 \nL 335.920904 141.932076 \nL 336.256039 141.889921 \nL 336.591174 140.961541 \nL 336.926309 138.143531 \nL 337.261444 138.781053 \nL 337.596579 134.435556 \nL 337.931715 134.376334 \nL 338.26685 133.829315 \nL 338.601985 134.800439 \nL 338.93712 134.216412 \nL 339.272255 132.369759 \nL 339.60739 132.512014 \nL 339.942525 132.251876 \nL 340.27766 131.7817 \nL 340.612796 134.987622 \nL 340.947931 133.904186 \nL 341.283066 134.590196 \nL 341.618201 136.486975 \nL 341.953336 137.096241 \nL 342.288471 134.350661 \nL 342.623606 135.943873 \nL 342.958742 133.161375 \nL 343.293877 133.757522 \nL 343.629012 136.569374 \nL 343.964147 136.535491 \nL 344.299282 136.6376 \nL 344.634417 134.647573 \nL 344.969552 134.973298 \nL 345.304688 134.45515 \nL 345.974958 136.136549 \nL 346.310093 135.453087 \nL 346.645228 134.397499 \nL 346.980363 134.44599 \nL 347.315498 133.667556 \nL 347.650633 135.256287 \nL 347.985769 134.966349 \nL 348.320904 134.369362 \nL 348.991174 133.882236 \nL 349.326309 131.460523 \nL 349.661444 133.45101 \nL 349.996579 133.089932 \nL 350.331715 131.939252 \nL 350.66685 132.870748 \nL 352.00739 125.228307 \nL 352.342525 125.054368 \nL 352.67766 126.893362 \nL 353.012796 122.074929 \nL 353.347931 123.36092 \nL 353.683066 122.579565 \nL 354.018201 123.688596 \nL 354.353336 121.992706 \nL 355.023606 123.81098 \nL 355.358742 123.800814 \nL 355.693877 125.460244 \nL 356.029012 122.59041 \nL 356.699282 125.347902 \nL 357.034417 124.794975 \nL 357.369552 127.10642 \nL 357.704688 130.799868 \nL 358.039823 130.353735 \nL 358.374958 130.415817 \nL 358.710093 131.039671 \nL 359.380363 135.327351 \nL 359.715498 135.104709 \nL 360.385769 136.067809 \nL 360.720904 135.516828 \nL 361.056039 134.504273 \nL 361.391174 134.614226 \nL 361.726309 133.949034 \nL 362.061444 134.823452 \nL 362.396579 135.276772 \nL 363.06685 138.706542 \nL 363.401985 137.70612 \nL 363.73712 141.099301 \nL 364.072255 142.079403 \nL 364.40739 140.842563 \nL 364.742525 140.668838 \nL 365.747931 138.957 \nL 366.083066 141.348923 \nL 366.753336 136.726895 \nL 367.088471 139.218746 \nL 367.423606 139.644233 \nL 367.758742 140.378297 \nL 368.429012 144.79712 \nL 368.764147 145.702915 \nL 369.099282 142.010464 \nL 369.434417 141.458585 \nL 369.769552 141.329927 \nL 370.104688 142.037921 \nL 370.104688 142.037921 \n\" clip-path=\"url(#pf420befb06)\" style=\"fill: none; stroke: #d62728; stroke-width: 1.5; stroke-linecap: square\"/>\n   </g>\n   <g id=\"patch_3\">\n    <path d=\"M 35.304688 224.64 \nL 35.304688 7.2 \n\" style=\"fill: none; stroke: #000000; stroke-width: 0.8; stroke-linejoin: miter; stroke-linecap: square\"/>\n   </g>\n   <g id=\"patch_4\">\n    <path d=\"M 370.104688 224.64 \nL 370.104688 7.2 \n\" style=\"fill: none; stroke: #000000; stroke-width: 0.8; stroke-linejoin: miter; stroke-linecap: square\"/>\n   </g>\n   <g id=\"patch_5\">\n    <path d=\"M 35.304688 224.64 \nL 370.104688 224.64 \n\" style=\"fill: none; stroke: #000000; stroke-width: 0.8; stroke-linejoin: miter; stroke-linecap: square\"/>\n   </g>\n   <g id=\"patch_6\">\n    <path d=\"M 35.304688 7.2 \nL 370.104688 7.2 \n\" style=\"fill: none; stroke: #000000; stroke-width: 0.8; stroke-linejoin: miter; stroke-linecap: square\"/>\n   </g>\n   <g id=\"legend_1\">\n    <g id=\"patch_7\">\n     <path d=\"M 42.304688 73.9125 \nL 82.004688 73.9125 \nQ 84.004688 73.9125 84.004688 71.9125 \nL 84.004688 14.2 \nQ 84.004688 12.2 82.004688 12.2 \nL 42.304688 12.2 \nQ 40.304688 12.2 40.304688 14.2 \nL 40.304688 71.9125 \nQ 40.304688 73.9125 42.304688 73.9125 \nz\n\" style=\"fill: #ffffff; opacity: 0.8; stroke: #cccccc; stroke-linejoin: miter\"/>\n    </g>\n    <g id=\"line2d_46\">\n     <path d=\"M 44.304688 20.298437 \nL 54.304688 20.298437 \nL 64.304688 20.298437 \n\" style=\"fill: none; stroke: #1f77b4; stroke-width: 1.5; stroke-linecap: square\"/>\n    </g>\n    <g id=\"text_14\">\n     <!-- A -->\n     <g transform=\"translate(72.304688 23.798437)scale(0.1 -0.1)\">\n      <defs>\n       <path id=\"DejaVuSans-41\" d=\"M 2188 4044 \nL 1331 1722 \nL 3047 1722 \nL 2188 4044 \nz\nM 1831 4666 \nL 2547 4666 \nL 4325 0 \nL 3669 0 \nL 3244 1197 \nL 1141 1197 \nL 716 0 \nL 50 0 \nL 1831 4666 \nz\n\" transform=\"scale(0.015625)\"/>\n      </defs>\n      <use xlink:href=\"#DejaVuSans-41\"/>\n     </g>\n    </g>\n    <g id=\"line2d_47\">\n     <path d=\"M 44.304688 34.976562 \nL 54.304688 34.976562 \nL 64.304688 34.976562 \n\" style=\"fill: none; stroke: #ff7f0e; stroke-width: 1.5; stroke-linecap: square\"/>\n    </g>\n    <g id=\"text_15\">\n     <!-- B -->\n     <g transform=\"translate(72.304688 38.476562)scale(0.1 -0.1)\">\n      <defs>\n       <path id=\"DejaVuSans-42\" d=\"M 1259 2228 \nL 1259 519 \nL 2272 519 \nQ 2781 519 3026 730 \nQ 3272 941 3272 1375 \nQ 3272 1813 3026 2020 \nQ 2781 2228 2272 2228 \nL 1259 2228 \nz\nM 1259 4147 \nL 1259 2741 \nL 2194 2741 \nQ 2656 2741 2882 2914 \nQ 3109 3088 3109 3444 \nQ 3109 3797 2882 3972 \nQ 2656 4147 2194 4147 \nL 1259 4147 \nz\nM 628 4666 \nL 2241 4666 \nQ 2963 4666 3353 4366 \nQ 3744 4066 3744 3513 \nQ 3744 3084 3544 2831 \nQ 3344 2578 2956 2516 \nQ 3422 2416 3680 2098 \nQ 3938 1781 3938 1306 \nQ 3938 681 3513 340 \nQ 3088 0 2303 0 \nL 628 0 \nL 628 4666 \nz\n\" transform=\"scale(0.015625)\"/>\n      </defs>\n      <use xlink:href=\"#DejaVuSans-42\"/>\n     </g>\n    </g>\n    <g id=\"line2d_48\">\n     <path d=\"M 44.304688 49.654687 \nL 54.304688 49.654687 \nL 64.304688 49.654687 \n\" style=\"fill: none; stroke: #2ca02c; stroke-width: 1.5; stroke-linecap: square\"/>\n    </g>\n    <g id=\"text_16\">\n     <!-- C -->\n     <g transform=\"translate(72.304688 53.154687)scale(0.1 -0.1)\">\n      <defs>\n       <path id=\"DejaVuSans-43\" d=\"M 4122 4306 \nL 4122 3641 \nQ 3803 3938 3442 4084 \nQ 3081 4231 2675 4231 \nQ 1875 4231 1450 3742 \nQ 1025 3253 1025 2328 \nQ 1025 1406 1450 917 \nQ 1875 428 2675 428 \nQ 3081 428 3442 575 \nQ 3803 722 4122 1019 \nL 4122 359 \nQ 3791 134 3420 21 \nQ 3050 -91 2638 -91 \nQ 1578 -91 968 557 \nQ 359 1206 359 2328 \nQ 359 3453 968 4101 \nQ 1578 4750 2638 4750 \nQ 3056 4750 3426 4639 \nQ 3797 4528 4122 4306 \nz\n\" transform=\"scale(0.015625)\"/>\n      </defs>\n      <use xlink:href=\"#DejaVuSans-43\"/>\n     </g>\n    </g>\n    <g id=\"line2d_49\">\n     <path d=\"M 44.304688 64.332812 \nL 54.304688 64.332812 \nL 64.304688 64.332812 \n\" style=\"fill: none; stroke: #d62728; stroke-width: 1.5; stroke-linecap: square\"/>\n    </g>\n    <g id=\"text_17\">\n     <!-- D -->\n     <g transform=\"translate(72.304688 67.832812)scale(0.1 -0.1)\">\n      <defs>\n       <path id=\"DejaVuSans-44\" d=\"M 1259 4147 \nL 1259 519 \nL 2022 519 \nQ 2988 519 3436 956 \nQ 3884 1394 3884 2338 \nQ 3884 3275 3436 3711 \nQ 2988 4147 2022 4147 \nL 1259 4147 \nz\nM 628 4666 \nL 1925 4666 \nQ 3281 4666 3915 4102 \nQ 4550 3538 4550 2338 \nQ 4550 1131 3912 565 \nQ 3275 0 1925 0 \nL 628 0 \nL 628 4666 \nz\n\" transform=\"scale(0.015625)\"/>\n      </defs>\n      <use xlink:href=\"#DejaVuSans-44\"/>\n     </g>\n    </g>\n   </g>\n  </g>\n </g>\n <defs>\n  <clipPath id=\"pf420befb06\">\n   <rect x=\"35.304688\" y=\"7.2\" width=\"334.8\" height=\"217.44\"/>\n  </clipPath>\n </defs>\n</svg>\n",
      "text/plain": [
       "<Figure size 432x288 with 1 Axes>"
      ]
     },
     "metadata": {
      "needs_background": "light"
     },
     "output_type": "display_data"
    }
   ],
   "source": [
    "df = pd.DataFrame(np.random.randn(1000, 4), index=ts.index, columns=['A', 'B', 'C', 'D'])\n",
    "df = df.cumsum()\n",
    "plt.figure(); df.plot(); plt.legend(loc='best')"
   ]
  },
  {
   "cell_type": "markdown",
   "metadata": {},
   "source": [
    "### 12. 데이터 입/출력 (Getting Data In/Out)"
   ]
  },
  {
   "cell_type": "code",
   "execution_count": 471,
   "metadata": {},
   "outputs": [
    {
     "name": "stdout",
     "output_type": "stream",
     "text": [
      "                    A         B          C          D\n",
      "2000-01-01   0.744279 -0.189514  -0.936889  -0.643442\n",
      "2000-01-02   0.851839  0.227961  -1.570064  -1.129412\n",
      "2000-01-03   0.873670  1.205111  -2.188142  -0.922351\n",
      "2000-01-04   2.895030  1.342010  -1.147332  -0.441730\n",
      "2000-01-05   2.279527  2.050595   0.417171  -0.755266\n",
      "...               ...       ...        ...        ...\n",
      "2002-09-22  96.177910  4.627849 -27.625414  18.791679\n",
      "2002-09-23  97.743563  3.033534 -27.040498  21.308335\n",
      "2002-09-24  97.303494  3.223305 -26.471817  21.684477\n",
      "2002-09-25  96.352302  3.592942 -25.938290  21.772166\n",
      "2002-09-26  96.702584  3.102264 -25.247494  21.289621\n",
      "\n",
      "[1000 rows x 4 columns]\n"
     ]
    }
   ],
   "source": [
    "#df.reset_index(drop=False, inplace=False)\n",
    "print(df)"
   ]
  },
  {
   "cell_type": "code",
   "execution_count": 463,
   "metadata": {},
   "outputs": [
    {
     "data": {
      "text/html": [
       "<div>\n",
       "<style scoped>\n",
       "    .dataframe tbody tr th:only-of-type {\n",
       "        vertical-align: middle;\n",
       "    }\n",
       "\n",
       "    .dataframe tbody tr th {\n",
       "        vertical-align: top;\n",
       "    }\n",
       "\n",
       "    .dataframe thead th {\n",
       "        text-align: right;\n",
       "    }\n",
       "</style>\n",
       "<table border=\"1\" class=\"dataframe\">\n",
       "  <thead>\n",
       "    <tr style=\"text-align: right;\">\n",
       "      <th></th>\n",
       "      <th>Unnamed: 0</th>\n",
       "      <th>A</th>\n",
       "      <th>B</th>\n",
       "      <th>C</th>\n",
       "      <th>D</th>\n",
       "    </tr>\n",
       "  </thead>\n",
       "  <tbody>\n",
       "    <tr>\n",
       "      <th>0</th>\n",
       "      <td>2000-01-01</td>\n",
       "      <td>0.744279</td>\n",
       "      <td>-0.189514</td>\n",
       "      <td>-0.936889</td>\n",
       "      <td>-0.643442</td>\n",
       "    </tr>\n",
       "    <tr>\n",
       "      <th>1</th>\n",
       "      <td>2000-01-02</td>\n",
       "      <td>0.851839</td>\n",
       "      <td>0.227961</td>\n",
       "      <td>-1.570064</td>\n",
       "      <td>-1.129412</td>\n",
       "    </tr>\n",
       "    <tr>\n",
       "      <th>2</th>\n",
       "      <td>2000-01-03</td>\n",
       "      <td>0.873670</td>\n",
       "      <td>1.205111</td>\n",
       "      <td>-2.188142</td>\n",
       "      <td>-0.922351</td>\n",
       "    </tr>\n",
       "    <tr>\n",
       "      <th>3</th>\n",
       "      <td>2000-01-04</td>\n",
       "      <td>2.895030</td>\n",
       "      <td>1.342010</td>\n",
       "      <td>-1.147332</td>\n",
       "      <td>-0.441730</td>\n",
       "    </tr>\n",
       "    <tr>\n",
       "      <th>4</th>\n",
       "      <td>2000-01-05</td>\n",
       "      <td>2.279527</td>\n",
       "      <td>2.050595</td>\n",
       "      <td>0.417171</td>\n",
       "      <td>-0.755266</td>\n",
       "    </tr>\n",
       "    <tr>\n",
       "      <th>...</th>\n",
       "      <td>...</td>\n",
       "      <td>...</td>\n",
       "      <td>...</td>\n",
       "      <td>...</td>\n",
       "      <td>...</td>\n",
       "    </tr>\n",
       "    <tr>\n",
       "      <th>995</th>\n",
       "      <td>2002-09-22</td>\n",
       "      <td>96.177910</td>\n",
       "      <td>4.627849</td>\n",
       "      <td>-27.625414</td>\n",
       "      <td>18.791679</td>\n",
       "    </tr>\n",
       "    <tr>\n",
       "      <th>996</th>\n",
       "      <td>2002-09-23</td>\n",
       "      <td>97.743563</td>\n",
       "      <td>3.033534</td>\n",
       "      <td>-27.040498</td>\n",
       "      <td>21.308335</td>\n",
       "    </tr>\n",
       "    <tr>\n",
       "      <th>997</th>\n",
       "      <td>2002-09-24</td>\n",
       "      <td>97.303494</td>\n",
       "      <td>3.223305</td>\n",
       "      <td>-26.471817</td>\n",
       "      <td>21.684477</td>\n",
       "    </tr>\n",
       "    <tr>\n",
       "      <th>998</th>\n",
       "      <td>2002-09-25</td>\n",
       "      <td>96.352302</td>\n",
       "      <td>3.592942</td>\n",
       "      <td>-25.938290</td>\n",
       "      <td>21.772166</td>\n",
       "    </tr>\n",
       "    <tr>\n",
       "      <th>999</th>\n",
       "      <td>2002-09-26</td>\n",
       "      <td>96.702584</td>\n",
       "      <td>3.102264</td>\n",
       "      <td>-25.247494</td>\n",
       "      <td>21.289621</td>\n",
       "    </tr>\n",
       "  </tbody>\n",
       "</table>\n",
       "<p>1000 rows × 5 columns</p>\n",
       "</div>"
      ],
      "text/plain": [
       "     Unnamed: 0          A         B          C          D\n",
       "0    2000-01-01   0.744279 -0.189514  -0.936889  -0.643442\n",
       "1    2000-01-02   0.851839  0.227961  -1.570064  -1.129412\n",
       "2    2000-01-03   0.873670  1.205111  -2.188142  -0.922351\n",
       "3    2000-01-04   2.895030  1.342010  -1.147332  -0.441730\n",
       "4    2000-01-05   2.279527  2.050595   0.417171  -0.755266\n",
       "..          ...        ...       ...        ...        ...\n",
       "995  2002-09-22  96.177910  4.627849 -27.625414  18.791679\n",
       "996  2002-09-23  97.743563  3.033534 -27.040498  21.308335\n",
       "997  2002-09-24  97.303494  3.223305 -26.471817  21.684477\n",
       "998  2002-09-25  96.352302  3.592942 -25.938290  21.772166\n",
       "999  2002-09-26  96.702584  3.102264 -25.247494  21.289621\n",
       "\n",
       "[1000 rows x 5 columns]"
      ]
     },
     "execution_count": 463,
     "metadata": {},
     "output_type": "execute_result"
    }
   ],
   "source": [
    "pd.read_csv('foo.csv')"
   ]
  },
  {
   "cell_type": "code",
   "execution_count": 464,
   "metadata": {},
   "outputs": [
    {
     "data": {
      "text/html": [
       "<div>\n",
       "<style scoped>\n",
       "    .dataframe tbody tr th:only-of-type {\n",
       "        vertical-align: middle;\n",
       "    }\n",
       "\n",
       "    .dataframe tbody tr th {\n",
       "        vertical-align: top;\n",
       "    }\n",
       "\n",
       "    .dataframe thead th {\n",
       "        text-align: right;\n",
       "    }\n",
       "</style>\n",
       "<table border=\"1\" class=\"dataframe\">\n",
       "  <thead>\n",
       "    <tr style=\"text-align: right;\">\n",
       "      <th></th>\n",
       "      <th>A</th>\n",
       "      <th>B</th>\n",
       "      <th>C</th>\n",
       "      <th>D</th>\n",
       "    </tr>\n",
       "  </thead>\n",
       "  <tbody>\n",
       "    <tr>\n",
       "      <th>2000-01-01</th>\n",
       "      <td>0.744279</td>\n",
       "      <td>-0.189514</td>\n",
       "      <td>-0.936889</td>\n",
       "      <td>-0.643442</td>\n",
       "    </tr>\n",
       "    <tr>\n",
       "      <th>2000-01-02</th>\n",
       "      <td>0.851839</td>\n",
       "      <td>0.227961</td>\n",
       "      <td>-1.570064</td>\n",
       "      <td>-1.129412</td>\n",
       "    </tr>\n",
       "    <tr>\n",
       "      <th>2000-01-03</th>\n",
       "      <td>0.873670</td>\n",
       "      <td>1.205111</td>\n",
       "      <td>-2.188142</td>\n",
       "      <td>-0.922351</td>\n",
       "    </tr>\n",
       "    <tr>\n",
       "      <th>2000-01-04</th>\n",
       "      <td>2.895030</td>\n",
       "      <td>1.342010</td>\n",
       "      <td>-1.147332</td>\n",
       "      <td>-0.441730</td>\n",
       "    </tr>\n",
       "    <tr>\n",
       "      <th>2000-01-05</th>\n",
       "      <td>2.279527</td>\n",
       "      <td>2.050595</td>\n",
       "      <td>0.417171</td>\n",
       "      <td>-0.755266</td>\n",
       "    </tr>\n",
       "    <tr>\n",
       "      <th>...</th>\n",
       "      <td>...</td>\n",
       "      <td>...</td>\n",
       "      <td>...</td>\n",
       "      <td>...</td>\n",
       "    </tr>\n",
       "    <tr>\n",
       "      <th>2002-09-22</th>\n",
       "      <td>96.177910</td>\n",
       "      <td>4.627849</td>\n",
       "      <td>-27.625414</td>\n",
       "      <td>18.791679</td>\n",
       "    </tr>\n",
       "    <tr>\n",
       "      <th>2002-09-23</th>\n",
       "      <td>97.743563</td>\n",
       "      <td>3.033534</td>\n",
       "      <td>-27.040498</td>\n",
       "      <td>21.308335</td>\n",
       "    </tr>\n",
       "    <tr>\n",
       "      <th>2002-09-24</th>\n",
       "      <td>97.303494</td>\n",
       "      <td>3.223305</td>\n",
       "      <td>-26.471817</td>\n",
       "      <td>21.684477</td>\n",
       "    </tr>\n",
       "    <tr>\n",
       "      <th>2002-09-25</th>\n",
       "      <td>96.352302</td>\n",
       "      <td>3.592942</td>\n",
       "      <td>-25.938290</td>\n",
       "      <td>21.772166</td>\n",
       "    </tr>\n",
       "    <tr>\n",
       "      <th>2002-09-26</th>\n",
       "      <td>96.702584</td>\n",
       "      <td>3.102264</td>\n",
       "      <td>-25.247494</td>\n",
       "      <td>21.289621</td>\n",
       "    </tr>\n",
       "  </tbody>\n",
       "</table>\n",
       "<p>1000 rows × 4 columns</p>\n",
       "</div>"
      ],
      "text/plain": [
       "                    A         B          C          D\n",
       "2000-01-01   0.744279 -0.189514  -0.936889  -0.643442\n",
       "2000-01-02   0.851839  0.227961  -1.570064  -1.129412\n",
       "2000-01-03   0.873670  1.205111  -2.188142  -0.922351\n",
       "2000-01-04   2.895030  1.342010  -1.147332  -0.441730\n",
       "2000-01-05   2.279527  2.050595   0.417171  -0.755266\n",
       "...               ...       ...        ...        ...\n",
       "2002-09-22  96.177910  4.627849 -27.625414  18.791679\n",
       "2002-09-23  97.743563  3.033534 -27.040498  21.308335\n",
       "2002-09-24  97.303494  3.223305 -26.471817  21.684477\n",
       "2002-09-25  96.352302  3.592942 -25.938290  21.772166\n",
       "2002-09-26  96.702584  3.102264 -25.247494  21.289621\n",
       "\n",
       "[1000 rows x 4 columns]"
      ]
     },
     "execution_count": 464,
     "metadata": {},
     "output_type": "execute_result"
    }
   ],
   "source": [
    "df.to_hdf('foo.h5', 'df')\n",
    "pd.read_hdf('foo.h5', 'df')"
   ]
  },
  {
   "cell_type": "code",
   "execution_count": 465,
   "metadata": {},
   "outputs": [],
   "source": [
    "df.to_excel('foo.xlsx', sheet_name='Sheet1')"
   ]
  },
  {
   "cell_type": "code",
   "execution_count": 466,
   "metadata": {},
   "outputs": [
    {
     "data": {
      "text/html": [
       "<div>\n",
       "<style scoped>\n",
       "    .dataframe tbody tr th:only-of-type {\n",
       "        vertical-align: middle;\n",
       "    }\n",
       "\n",
       "    .dataframe tbody tr th {\n",
       "        vertical-align: top;\n",
       "    }\n",
       "\n",
       "    .dataframe thead th {\n",
       "        text-align: right;\n",
       "    }\n",
       "</style>\n",
       "<table border=\"1\" class=\"dataframe\">\n",
       "  <thead>\n",
       "    <tr style=\"text-align: right;\">\n",
       "      <th></th>\n",
       "      <th>Unnamed: 0</th>\n",
       "      <th>A</th>\n",
       "      <th>B</th>\n",
       "      <th>C</th>\n",
       "      <th>D</th>\n",
       "    </tr>\n",
       "  </thead>\n",
       "  <tbody>\n",
       "    <tr>\n",
       "      <th>0</th>\n",
       "      <td>2000-01-01</td>\n",
       "      <td>0.744279</td>\n",
       "      <td>-0.189514</td>\n",
       "      <td>-0.936889</td>\n",
       "      <td>-0.643442</td>\n",
       "    </tr>\n",
       "    <tr>\n",
       "      <th>1</th>\n",
       "      <td>2000-01-02</td>\n",
       "      <td>0.851839</td>\n",
       "      <td>0.227961</td>\n",
       "      <td>-1.570064</td>\n",
       "      <td>-1.129412</td>\n",
       "    </tr>\n",
       "    <tr>\n",
       "      <th>2</th>\n",
       "      <td>2000-01-03</td>\n",
       "      <td>0.873670</td>\n",
       "      <td>1.205111</td>\n",
       "      <td>-2.188142</td>\n",
       "      <td>-0.922351</td>\n",
       "    </tr>\n",
       "    <tr>\n",
       "      <th>3</th>\n",
       "      <td>2000-01-04</td>\n",
       "      <td>2.895030</td>\n",
       "      <td>1.342010</td>\n",
       "      <td>-1.147332</td>\n",
       "      <td>-0.441730</td>\n",
       "    </tr>\n",
       "    <tr>\n",
       "      <th>4</th>\n",
       "      <td>2000-01-05</td>\n",
       "      <td>2.279527</td>\n",
       "      <td>2.050595</td>\n",
       "      <td>0.417171</td>\n",
       "      <td>-0.755266</td>\n",
       "    </tr>\n",
       "    <tr>\n",
       "      <th>...</th>\n",
       "      <td>...</td>\n",
       "      <td>...</td>\n",
       "      <td>...</td>\n",
       "      <td>...</td>\n",
       "      <td>...</td>\n",
       "    </tr>\n",
       "    <tr>\n",
       "      <th>995</th>\n",
       "      <td>2002-09-22</td>\n",
       "      <td>96.177910</td>\n",
       "      <td>4.627849</td>\n",
       "      <td>-27.625414</td>\n",
       "      <td>18.791679</td>\n",
       "    </tr>\n",
       "    <tr>\n",
       "      <th>996</th>\n",
       "      <td>2002-09-23</td>\n",
       "      <td>97.743563</td>\n",
       "      <td>3.033534</td>\n",
       "      <td>-27.040498</td>\n",
       "      <td>21.308335</td>\n",
       "    </tr>\n",
       "    <tr>\n",
       "      <th>997</th>\n",
       "      <td>2002-09-24</td>\n",
       "      <td>97.303494</td>\n",
       "      <td>3.223305</td>\n",
       "      <td>-26.471817</td>\n",
       "      <td>21.684477</td>\n",
       "    </tr>\n",
       "    <tr>\n",
       "      <th>998</th>\n",
       "      <td>2002-09-25</td>\n",
       "      <td>96.352302</td>\n",
       "      <td>3.592942</td>\n",
       "      <td>-25.938290</td>\n",
       "      <td>21.772166</td>\n",
       "    </tr>\n",
       "    <tr>\n",
       "      <th>999</th>\n",
       "      <td>2002-09-26</td>\n",
       "      <td>96.702584</td>\n",
       "      <td>3.102264</td>\n",
       "      <td>-25.247494</td>\n",
       "      <td>21.289621</td>\n",
       "    </tr>\n",
       "  </tbody>\n",
       "</table>\n",
       "<p>1000 rows × 5 columns</p>\n",
       "</div>"
      ],
      "text/plain": [
       "    Unnamed: 0          A         B          C          D\n",
       "0   2000-01-01   0.744279 -0.189514  -0.936889  -0.643442\n",
       "1   2000-01-02   0.851839  0.227961  -1.570064  -1.129412\n",
       "2   2000-01-03   0.873670  1.205111  -2.188142  -0.922351\n",
       "3   2000-01-04   2.895030  1.342010  -1.147332  -0.441730\n",
       "4   2000-01-05   2.279527  2.050595   0.417171  -0.755266\n",
       "..         ...        ...       ...        ...        ...\n",
       "995 2002-09-22  96.177910  4.627849 -27.625414  18.791679\n",
       "996 2002-09-23  97.743563  3.033534 -27.040498  21.308335\n",
       "997 2002-09-24  97.303494  3.223305 -26.471817  21.684477\n",
       "998 2002-09-25  96.352302  3.592942 -25.938290  21.772166\n",
       "999 2002-09-26  96.702584  3.102264 -25.247494  21.289621\n",
       "\n",
       "[1000 rows x 5 columns]"
      ]
     },
     "execution_count": 466,
     "metadata": {},
     "output_type": "execute_result"
    }
   ],
   "source": [
    "pd.read_excel('foo.xlsx', 'Sheet1', index_col=None, na_values=['NA'])"
   ]
  },
  {
   "cell_type": "code",
   "execution_count": null,
   "metadata": {},
   "outputs": [],
   "source": []
  }
 ],
 "metadata": {
  "interpreter": {
   "hash": "c8aa1ea3e156bda037fa3e6423dab0ca647e35b6e88545446200f40693df29f6"
  },
  "kernelspec": {
   "display_name": "Python 3.9.12 ('base')",
   "language": "python",
   "name": "python3"
  },
  "language_info": {
   "codemirror_mode": {
    "name": "ipython",
    "version": 3
   },
   "file_extension": ".py",
   "mimetype": "text/x-python",
   "name": "python",
   "nbconvert_exporter": "python",
   "pygments_lexer": "ipython3",
   "version": "3.9.12"
  },
  "orig_nbformat": 4
 },
 "nbformat": 4,
 "nbformat_minor": 2
}
