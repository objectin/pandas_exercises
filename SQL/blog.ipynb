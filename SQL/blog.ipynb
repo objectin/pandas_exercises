{
 "cells": [
  {
   "cell_type": "code",
   "execution_count": 40,
   "metadata": {},
   "outputs": [
    {
     "data": {
      "text/plain": [
       "<sqlite3.Cursor at 0x22d501eda40>"
      ]
     },
     "execution_count": 40,
     "metadata": {},
     "output_type": "execute_result"
    }
   ],
   "source": [
    "import sqlite3\n",
    "c = sqlite3.connect('blog.db')\n",
    "c.cursor()"
   ]
  },
  {
   "cell_type": "code",
   "execution_count": 41,
   "metadata": {},
   "outputs": [],
   "source": [
    "#c.execute('''CREATE TABLE blog (id integer PRIMARY KEY, subject text, content text, date text)''')"
   ]
  },
  {
   "cell_type": "code",
   "execution_count": 42,
   "metadata": {},
   "outputs": [],
   "source": [
    "#c.execute(\"INSERT INTO blog VALUES (1, '첫 번째 블로그', '첫 번째 블로그입니다.', '20190827')\")\n",
    "#c.execute(\"INSERT INTO blog VALUES (2, '두 번째 블로그', '두 번째 블로그입니다.', '20190827')\")"
   ]
  },
  {
   "cell_type": "code",
   "execution_count": 43,
   "metadata": {},
   "outputs": [],
   "source": [
    "_id = 3\n",
    "subject = \"세 번째 블로그\"\n",
    "content = \"세 번째 블로그입니다.\"\n",
    "date = \"20190827\"\n",
    "#c.execute(\"INSERT INTO blog VALUES (%d, '%s', '%s', %s)\" % (_id, subject, content, date))"
   ]
  },
  {
   "cell_type": "code",
   "execution_count": 44,
   "metadata": {},
   "outputs": [],
   "source": [
    "_id = 4\n",
    "subject = '네 번째 블로그'\n",
    "content = '네 번째 블로그입니다.'\n",
    "date = '20190827'\n",
    "#c.execute('INSERT INTO blog VALUES (?, ?, ?, ?)', (_id, subject, content, date))"
   ]
  },
  {
   "cell_type": "code",
   "execution_count": null,
   "metadata": {},
   "outputs": [],
   "source": []
  },
  {
   "cell_type": "code",
   "execution_count": 45,
   "metadata": {},
   "outputs": [
    {
     "name": "stdout",
     "output_type": "stream",
     "text": [
      "[(1, '첫 번째 블로그', '첫 번째 블로그입니다.', '20190827'),\n",
      " (2, '두 번째 블로그', '두 번째 블로그입니다.', '20190827'),\n",
      " (3, '세 번째 블로그', '세 번째 블로그입니다.', '20190827'),\n",
      " (4, '네 번째 블로그', '네 번째 블로그입니다.', '20190827')]\n"
     ]
    }
   ],
   "source": [
    "all = c.execute('Select * From blog')\n",
    "from pprint import pprint\n",
    "pprint(all.fetchall())\n",
    "c.commit()\n",
    "c.close()"
   ]
  },
  {
   "cell_type": "code",
   "execution_count": null,
   "metadata": {},
   "outputs": [],
   "source": []
  }
 ],
 "metadata": {
  "kernelspec": {
   "display_name": "Python 3.9.12 ('base')",
   "language": "python",
   "name": "python3"
  },
  "language_info": {
   "codemirror_mode": {
    "name": "ipython",
    "version": 3
   },
   "file_extension": ".py",
   "mimetype": "text/x-python",
   "name": "python",
   "nbconvert_exporter": "python",
   "pygments_lexer": "ipython3",
   "version": "3.9.12"
  },
  "orig_nbformat": 4,
  "vscode": {
   "interpreter": {
    "hash": "c8aa1ea3e156bda037fa3e6423dab0ca647e35b6e88545446200f40693df29f6"
   }
  }
 },
 "nbformat": 4,
 "nbformat_minor": 2
}
